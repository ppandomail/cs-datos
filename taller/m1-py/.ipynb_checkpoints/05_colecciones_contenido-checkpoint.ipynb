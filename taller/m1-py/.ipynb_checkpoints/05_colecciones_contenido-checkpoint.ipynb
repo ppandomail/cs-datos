{
 "cells": [
  {
   "cell_type": "markdown",
   "id": "05b5c441-81c1-4661-aa7b-88f1be7e2fd2",
   "metadata": {},
   "source": [
    "# Colecciones\n",
    "---"
   ]
  },
  {
   "cell_type": "code",
   "execution_count": 121,
   "id": "f70cd2ae-4bf8-447e-aad3-e5454f80f9ea",
   "metadata": {},
   "outputs": [],
   "source": [
    "lista = [1, 3, 5, 2, 4]\n",
    "tupla = (1, 3, 5, 2, 4)     # inmutable\n",
    "rango = range(6)            \n",
    "dicc  = {'a' : 4, 'o' : 3}  # clave-valor\n",
    "conj  = {1, 3, 5, 2, 4}     # sin duplicados"
   ]
  },
  {
   "cell_type": "markdown",
   "id": "9620803b-329d-4fdf-885c-9809bb891862",
   "metadata": {},
   "source": [
    "## Listas\n",
    "---"
   ]
  },
  {
   "cell_type": "code",
   "execution_count": 122,
   "id": "9bea7a47-9e97-45cd-9cd5-996b5c44f905",
   "metadata": {},
   "outputs": [],
   "source": [
    "lista_vacia = []"
   ]
  },
  {
   "cell_type": "code",
   "execution_count": 123,
   "id": "59ed6a31-57d6-4ebb-a1ce-1fd0b1f37675",
   "metadata": {},
   "outputs": [],
   "source": [
    "lista_nombres = ['Rojo', 'Verde', 'Amarillo']"
   ]
  },
  {
   "cell_type": "code",
   "execution_count": 124,
   "id": "31e94fb8-01f3-44eb-be47-8be5cb643f07",
   "metadata": {},
   "outputs": [],
   "source": [
    "lista_num = [1, 3, 2, 4]"
   ]
  },
  {
   "cell_type": "code",
   "execution_count": 125,
   "id": "3e5dd5a2-f23a-4e4d-9676-32bb95eb3ed6",
   "metadata": {},
   "outputs": [],
   "source": [
    "lista_multi = [1, [3, 2], 4]"
   ]
  },
  {
   "cell_type": "markdown",
   "id": "96b9c979-cd54-414f-9a9c-d9d52fbf0994",
   "metadata": {},
   "source": [
    "### Operaciones con listas\n",
    "---"
   ]
  },
  {
   "cell_type": "code",
   "execution_count": 126,
   "id": "ffc0f5f4-a8bb-40f6-9583-8bdcdd1eab86",
   "metadata": {},
   "outputs": [
    {
     "data": {
      "text/plain": [
       "3"
      ]
     },
     "execution_count": 126,
     "metadata": {},
     "output_type": "execute_result"
    }
   ],
   "source": [
    "# longitud de la lista\n",
    "len(lista_nombres)"
   ]
  },
  {
   "cell_type": "code",
   "execution_count": 127,
   "id": "97a817eb-b349-43fa-a11a-b4a476493e26",
   "metadata": {},
   "outputs": [
    {
     "data": {
      "text/plain": [
       "True"
      ]
     },
     "execution_count": 127,
     "metadata": {},
     "output_type": "execute_result"
    }
   ],
   "source": [
    "# test de pertenencia a la lista (in, not in)\n",
    "'Rojo' in lista_nombres"
   ]
  },
  {
   "cell_type": "code",
   "execution_count": 128,
   "id": "80adf8a0-5a00-4ea3-a847-881af2117ce9",
   "metadata": {},
   "outputs": [
    {
     "data": {
      "text/plain": [
       "['Rojo', 'Verde', 'Amarillo', 'Azul']"
      ]
     },
     "execution_count": 128,
     "metadata": {},
     "output_type": "execute_result"
    }
   ],
   "source": [
    "lista_nombres.append('Azul')\n",
    "lista_nombres"
   ]
  },
  {
   "cell_type": "code",
   "execution_count": 129,
   "id": "cefed509-7265-44f5-a9c5-5d25e6c19046",
   "metadata": {},
   "outputs": [
    {
     "data": {
      "text/plain": [
       "['Rojo', 'Negro', 'Verde', 'Amarillo', 'Azul']"
      ]
     },
     "execution_count": 129,
     "metadata": {},
     "output_type": "execute_result"
    }
   ],
   "source": [
    "lista_nombres.insert(1, 'Negro')\n",
    "lista_nombres"
   ]
  },
  {
   "cell_type": "code",
   "execution_count": 130,
   "id": "73845843-d3a2-4518-99b2-169af0d831dc",
   "metadata": {},
   "outputs": [
    {
     "data": {
      "text/plain": [
       "'Verde'"
      ]
     },
     "execution_count": 130,
     "metadata": {},
     "output_type": "execute_result"
    }
   ],
   "source": [
    "lista_nombres[2]"
   ]
  },
  {
   "cell_type": "code",
   "execution_count": 131,
   "id": "aafe4489-159d-40b4-9598-9984cb029293",
   "metadata": {},
   "outputs": [
    {
     "data": {
      "text/plain": [
       "2"
      ]
     },
     "execution_count": 131,
     "metadata": {},
     "output_type": "execute_result"
    }
   ],
   "source": [
    "lista_nombres.index('Verde')"
   ]
  },
  {
   "cell_type": "code",
   "execution_count": 132,
   "id": "c49738dd-a973-4477-91b1-03ebc5358590",
   "metadata": {},
   "outputs": [
    {
     "data": {
      "text/plain": [
       "['Negro', 'Verde']"
      ]
     },
     "execution_count": 132,
     "metadata": {},
     "output_type": "execute_result"
    }
   ],
   "source": [
    "lista_nombres[1:3]"
   ]
  },
  {
   "cell_type": "code",
   "execution_count": 133,
   "id": "e0e56956-7590-4d68-869b-9526638f0d0f",
   "metadata": {},
   "outputs": [
    {
     "data": {
      "text/plain": [
       "['Negro', 'Verde', 'Amarillo', 'Azul']"
      ]
     },
     "execution_count": 133,
     "metadata": {},
     "output_type": "execute_result"
    }
   ],
   "source": [
    "lista_nombres[1:]"
   ]
  },
  {
   "cell_type": "code",
   "execution_count": 134,
   "id": "a4c64856-3649-46d5-bb07-aee58cc61096",
   "metadata": {},
   "outputs": [
    {
     "data": {
      "text/plain": [
       "['Rojo', 'Negro']"
      ]
     },
     "execution_count": 134,
     "metadata": {},
     "output_type": "execute_result"
    }
   ],
   "source": [
    "lista_nombres[:2]"
   ]
  },
  {
   "cell_type": "code",
   "execution_count": 135,
   "id": "2a2228b6-d50a-4b6c-85a1-c43450437d0c",
   "metadata": {},
   "outputs": [
    {
     "data": {
      "text/plain": [
       "['Rojo',\n",
       " 'Negro',\n",
       " 'Verde',\n",
       " 'Amarillo',\n",
       " 'Azul',\n",
       " 'Rojo',\n",
       " 'Negro',\n",
       " 'Verde',\n",
       " 'Amarillo',\n",
       " 'Azul']"
      ]
     },
     "execution_count": 135,
     "metadata": {},
     "output_type": "execute_result"
    }
   ],
   "source": [
    "# replicación: lista * n \n",
    "lista_nombres * 2"
   ]
  },
  {
   "cell_type": "code",
   "execution_count": 136,
   "id": "6b91044a-6f76-42d2-a80c-9f451d514b5c",
   "metadata": {},
   "outputs": [
    {
     "data": {
      "text/plain": [
       "['Rojo', 'Verde', 'Amarillo', 'Azul']"
      ]
     },
     "execution_count": 136,
     "metadata": {},
     "output_type": "execute_result"
    }
   ],
   "source": [
    "# borrado por valor\n",
    "lista_nombres.remove('Negro')\n",
    "lista_nombres"
   ]
  },
  {
   "cell_type": "code",
   "execution_count": 137,
   "id": "fa7c375e-2dd9-4176-8fd0-9288344fefd4",
   "metadata": {},
   "outputs": [
    {
     "data": {
      "text/plain": [
       "['Rojo', 'Verde', 'Azul']"
      ]
     },
     "execution_count": 137,
     "metadata": {},
     "output_type": "execute_result"
    }
   ],
   "source": [
    "# borrado por posición\n",
    "del lista_nombres[2]\n",
    "lista_nombres"
   ]
  },
  {
   "cell_type": "code",
   "execution_count": 138,
   "id": "c99534c2-4595-4455-b29a-1cda82882068",
   "metadata": {},
   "outputs": [
    {
     "data": {
      "text/plain": [
       "['Azul', 'Rojo', 'Verde']"
      ]
     },
     "execution_count": 138,
     "metadata": {},
     "output_type": "execute_result"
    }
   ],
   "source": [
    "# ordenar\n",
    "lista_nombres.sort()\n",
    "lista_nombres"
   ]
  },
  {
   "cell_type": "code",
   "execution_count": 139,
   "id": "c71fcd7f-fccb-4f27-9fb4-a8834a195e42",
   "metadata": {},
   "outputs": [
    {
     "data": {
      "text/plain": [
       "['Verde', 'Rojo', 'Azul']"
      ]
     },
     "execution_count": 139,
     "metadata": {},
     "output_type": "execute_result"
    }
   ],
   "source": [
    "# ordenar inverso\n",
    "lista_nombres.sort(reverse=True)\n",
    "lista_nombres"
   ]
  },
  {
   "cell_type": "code",
   "execution_count": 110,
   "id": "7a36dfe5-0fae-4c78-b61b-52cc4e070bca",
   "metadata": {},
   "outputs": [
    {
     "data": {
      "text/plain": [
       "[]"
      ]
     },
     "execution_count": 110,
     "metadata": {},
     "output_type": "execute_result"
    }
   ],
   "source": [
    "lista_nombres.clear()\n",
    "lista_nombres"
   ]
  },
  {
   "cell_type": "code",
   "execution_count": 111,
   "id": "95fedc02-f517-46d6-a161-8f3678869ed5",
   "metadata": {},
   "outputs": [
    {
     "data": {
      "text/plain": [
       "[1, 4]"
      ]
     },
     "execution_count": 111,
     "metadata": {},
     "output_type": "execute_result"
    }
   ],
   "source": [
    "lista_multi.remove([3, 2])\n",
    "lista_multi"
   ]
  },
  {
   "cell_type": "code",
   "execution_count": 112,
   "id": "d0403d89-5d4d-4477-a5ee-213c10f4c53c",
   "metadata": {},
   "outputs": [
    {
     "data": {
      "text/plain": [
       "[7, [3], 8]"
      ]
     },
     "execution_count": 112,
     "metadata": {},
     "output_type": "execute_result"
    }
   ],
   "source": [
    "lista_multi2 = [7, [3, 2], 8]\n",
    "lista_multi2[1].remove(2)\n",
    "lista_multi2"
   ]
  }
 ],
 "metadata": {
  "kernelspec": {
   "display_name": "Python [conda env:base] *",
   "language": "python",
   "name": "conda-base-py"
  },
  "language_info": {
   "codemirror_mode": {
    "name": "ipython",
    "version": 3
   },
   "file_extension": ".py",
   "mimetype": "text/x-python",
   "name": "python",
   "nbconvert_exporter": "python",
   "pygments_lexer": "ipython3",
   "version": "3.12.7"
  }
 },
 "nbformat": 4,
 "nbformat_minor": 5
}
