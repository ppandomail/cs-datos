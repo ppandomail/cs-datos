{
 "cells": [
  {
   "cell_type": "markdown",
   "id": "ae4f22fb-aa04-4bd3-8804-17fc0ad4a046",
   "metadata": {},
   "source": [
    "# Funciones - Ejercicios\n",
    "---"
   ]
  },
  {
   "cell_type": "markdown",
   "id": "27f58ba8-69ea-420c-b0e4-e5c868387588",
   "metadata": {},
   "source": [
    "Escribir una función que muestre por pantalla el saludo ¡Hola amigo! cada vez que se la invoque"
   ]
  },
  {
   "cell_type": "code",
   "execution_count": 5,
   "id": "8d40a9b8-3d3d-4205-943a-42f65e41bafb",
   "metadata": {},
   "outputs": [
    {
     "name": "stdout",
     "output_type": "stream",
     "text": [
      "¡Hola amigo!\n",
      "¡Hola amigo!\n",
      "¡Hola amigo!\n"
     ]
    }
   ],
   "source": [
    "def saludo():\n",
    "    print('¡Hola amigo!')\n",
    "\n",
    "saludo()\n",
    "saludo()\n",
    "saludo()"
   ]
  },
  {
   "cell_type": "markdown",
   "id": "e119eea5-3671-4f8b-a9dd-22cdec8a819d",
   "metadata": {},
   "source": [
    "Escribir una función a la que se le pase una cadena \\<nombre> y muestre por pantalla el saludo ¡hola \\<nombre>!"
   ]
  },
  {
   "cell_type": "code",
   "execution_count": 6,
   "id": "554d9ec6-2410-46f5-8b90-cd23d8961b2a",
   "metadata": {},
   "outputs": [
    {
     "name": "stdout",
     "output_type": "stream",
     "text": [
      "¡hola Pablo!\n",
      "¡hola Ana!\n",
      "¡hola Maria!\n"
     ]
    }
   ],
   "source": [
    "def saludo(nombre):\n",
    "    print(f'¡hola {nombre}!')\n",
    "\n",
    "saludo('Pablo')\n",
    "saludo('Ana')\n",
    "saludo('Maria')"
   ]
  },
  {
   "cell_type": "markdown",
   "id": "8f600101-0bf2-40b7-9438-959f6438d943",
   "metadata": {},
   "source": [
    "Escribir una función que reciba un número entero positivo y devuelva su factorial"
   ]
  },
  {
   "cell_type": "code",
   "execution_count": 7,
   "id": "be02b8e3-f636-464e-9070-2ca6079ae845",
   "metadata": {},
   "outputs": [
    {
     "name": "stdout",
     "output_type": "stream",
     "text": [
      "1\n",
      "1\n",
      "2\n",
      "6\n",
      "24\n",
      "120\n"
     ]
    }
   ],
   "source": [
    "def factorial(numero):\n",
    "    factorial = 1\n",
    "    for i in range(1, numero):\n",
    "        factorial += factorial * i\n",
    "    return factorial\n",
    "\n",
    "print(factorial(0))\n",
    "print(factorial(1))\n",
    "print(factorial(2))\n",
    "print(factorial(3))\n",
    "print(factorial(4))\n",
    "print(factorial(5))"
   ]
  },
  {
   "cell_type": "markdown",
   "id": "f41ff885-bb74-4312-b834-b1d1bb9f97ad",
   "metadata": {},
   "source": [
    "Escribir una función que calcule el total de una factura tras aplicarle el IVA. La función debe recibir la cantidad sin IVA y el porcentaje de IVA a aplicar, y devolver el total de la factura. Si se invoca la función sin pasarle el porcentaje de IVA, deberá\n",
    "aplicar un 21%"
   ]
  },
  {
   "cell_type": "code",
   "execution_count": 8,
   "id": "f0369b2f-e143-4e35-b465-bd55e76e2ba8",
   "metadata": {},
   "outputs": [
    {
     "name": "stdout",
     "output_type": "stream",
     "text": [
      "105.0\n",
      "121.0\n"
     ]
    }
   ],
   "source": [
    "def calcular_iva(cantidad_sin_iva, porcentaje_iva=21):\n",
    "    return cantidad_sin_iva + cantidad_sin_iva * porcentaje_iva / 100\n",
    "\n",
    "print(calcular_iva(100, 5))\n",
    "print(calcular_iva(100))"
   ]
  },
  {
   "cell_type": "markdown",
   "id": "11bbd858-a22e-44af-bd13-72c358543b1b",
   "metadata": {},
   "source": [
    "Escribir una función que calcule el área de un círculo y otra que calcule el volumen de un cilindro usando la primera función"
   ]
  },
  {
   "cell_type": "code",
   "execution_count": 10,
   "id": "7c6e377f-194d-4cc2-8167-6b4346632059",
   "metadata": {},
   "outputs": [
    {
     "name": "stdout",
     "output_type": "stream",
     "text": [
      "31415.93\n",
      "628318.6\n"
     ]
    }
   ],
   "source": [
    "import math\n",
    "\n",
    "def calcular_area_circulo(radio):\n",
    "    return round(math.pi * pow(radio, 2), 2)\n",
    "\n",
    "def calcular_volumen_cilindro(altura, radio):\n",
    "    return round(altura * calcular_area_circulo(radio), 2) \n",
    "\n",
    "print(calcular_area_circulo(100))\n",
    "print(calcular_volumen_cilindro(20, 100))"
   ]
  },
  {
   "cell_type": "markdown",
   "id": "f21138c9-5abc-47de-ab6b-4bda5587b669",
   "metadata": {},
   "source": [
    "Escribir una función que reciba una muestra de números en una lista y devuelva su media"
   ]
  },
  {
   "cell_type": "code",
   "execution_count": 11,
   "id": "cc136523-528c-4426-9d9a-7b50ca8bc595",
   "metadata": {},
   "outputs": [
    {
     "name": "stdout",
     "output_type": "stream",
     "text": [
      "5.5\n",
      "7.0\n"
     ]
    }
   ],
   "source": [
    "def calcular_media(lista):\n",
    "    acum = 0\n",
    "    for valor in lista:\n",
    "        acum += valor\n",
    "    return acum/len(lista)\n",
    "\n",
    "print(calcular_media([1, 2, 3, 4, 5, 6, 7, 8, 9, 10]))\n",
    "print(calcular_media([11, 6, 7, 7, 4]))"
   ]
  },
  {
   "cell_type": "markdown",
   "id": "6a600fbe-7a8b-49a4-9e1d-3455e4cecae4",
   "metadata": {},
   "source": [
    "Escribir una función que reciba una muestra de números en una lista y devuelva otra lista con sus cuadrados"
   ]
  },
  {
   "cell_type": "code",
   "execution_count": 12,
   "id": "8145c151-9a6b-4474-9677-5d9ec0d1c23f",
   "metadata": {},
   "outputs": [
    {
     "name": "stdout",
     "output_type": "stream",
     "text": [
      "[1, 4, 9, 16, 25]\n"
     ]
    }
   ],
   "source": [
    "def calcular_cuadrados(lista):\n",
    "    cuadrados = []\n",
    "    for valor in lista:\n",
    "        cuadrados.append(pow(valor, 2))\n",
    "    return cuadrados\n",
    "\n",
    "print(calcular_cuadrados([1, 2, 3, 4, 5]))"
   ]
  },
  {
   "cell_type": "markdown",
   "id": "24a0d01a-5ac6-4403-a766-837b133e4780",
   "metadata": {},
   "source": [
    "Escribir una función que reciba una muestra de números en una lista y devuelva un diccionario con su media, varianza y desviación típica"
   ]
  },
  {
   "cell_type": "code",
   "execution_count": 13,
   "id": "4bd4f96c-5669-4e47-9a6b-3844c9c8ae68",
   "metadata": {},
   "outputs": [
    {
     "name": "stdout",
     "output_type": "stream",
     "text": [
      "{'media': 26.0, 'varianza': 2.5, 'desviacion': 1.83}\n",
      "{'media': 129.9, 'varianza': 7.889999999999999, 'desviacion': 2.96}\n"
     ]
    }
   ],
   "source": [
    "from math import sqrt\n",
    "\n",
    "def generar_diccionario(lista):\n",
    "    dicc = {}\n",
    "\n",
    "    acum = 0\n",
    "    for valor in lista:\n",
    "        acum += valor\n",
    "    media = acum / len(lista)\n",
    "    dicc['media'] = media\n",
    "\n",
    "    acum = 0\n",
    "    for valor in lista:\n",
    "        acum += pow(valor - media, 2)\n",
    "    varianza = acum / len(lista)\n",
    "    dicc['varianza'] = varianza\n",
    "\n",
    "    desviacion = round(sqrt(acum / (len(lista) - 1)), 2)\n",
    "    dicc['desviacion'] = desviacion\n",
    "\n",
    "    return dicc\n",
    "\n",
    "print(generar_diccionario([24, 28, 25, 27]))\n",
    "print(generar_diccionario([135, 131, 129, 133, 127, 128, 130, 132, 129, 125]))"
   ]
  },
  {
   "cell_type": "markdown",
   "id": "18da4d2c-229e-4b36-8849-a781b702caa1",
   "metadata": {},
   "source": [
    "Escribir una función que calcule el máximo común divisor de dos números y otra que calcule el mínimo común múltiplo"
   ]
  },
  {
   "cell_type": "code",
   "execution_count": 14,
   "id": "9d5af698-cc98-433f-9786-d121adc2b0b3",
   "metadata": {},
   "outputs": [
    {
     "name": "stdout",
     "output_type": "stream",
     "text": [
      "El Mínimo Común Múltiplo (MCM) de 24 y 36 es: 72\n",
      "El Máximo Común Divisor (MCD) de 24 y 36 es: 12\n"
     ]
    }
   ],
   "source": [
    "import math\n",
    "\n",
    "def calcular_mcm(num1, num2):\n",
    "    return abs(num1 * num2) // math.gcd(num1, num2)\n",
    "\n",
    "def calcular_mcd(num1, num2):\n",
    "    return math.gcd(num1, num2)\n",
    "\n",
    "# Definir los números para los cuales deseas calcular el MCM y el MCD\n",
    "numero1 = 24\n",
    "numero2 = 36\n",
    "\n",
    "# Calcular el MCM y el MCD\n",
    "mcm = calcular_mcm(numero1, numero2)\n",
    "mcd = calcular_mcd(numero1, numero2)\n",
    "\n",
    "# Imprimir los resultados\n",
    "print(f\"El Mínimo Común Múltiplo (MCM) de {numero1} y {numero2} es: {mcm}\")\n",
    "print(f\"El Máximo Común Divisor (MCD) de {numero1} y {numero2} es: {mcd}\")"
   ]
  },
  {
   "cell_type": "markdown",
   "id": "290e398e-959c-4a19-9958-fef43790db99",
   "metadata": {},
   "source": [
    "Escribir una función que convierta un número decimal en binario y otra que convierta un número binario en decimal"
   ]
  },
  {
   "cell_type": "code",
   "execution_count": 15,
   "id": "39b3638d-e30a-457a-ae44-fcd0b830073f",
   "metadata": {},
   "outputs": [
    {
     "name": "stdout",
     "output_type": "stream",
     "text": [
      "101\n",
      "100011\n",
      "101011100011101\n",
      "5\n",
      "35\n",
      "22301\n"
     ]
    }
   ],
   "source": [
    "def decimal_a_binario(decimal):\n",
    "    binario = 0\n",
    "    multiplicador = 1\n",
    "    while decimal != 0:\n",
    "        binario += decimal % 2 * multiplicador\n",
    "        decimal //= 2\n",
    "        multiplicador *= 10\n",
    "    return binario\n",
    "\n",
    "def binario_a_decimal(binario):\n",
    "\tdecimal = 0 \n",
    "\tfor posicion, digito_string in enumerate(binario[::-1]):\n",
    "\t\tdecimal += int(digito_string) * 2 ** posicion\n",
    "\treturn decimal\n",
    "\n",
    "\n",
    "print(decimal_a_binario(5))\n",
    "print(decimal_a_binario(35))\n",
    "print(decimal_a_binario(22301))\n",
    "\n",
    "print(binario_a_decimal('101'))\n",
    "print(binario_a_decimal('100011'))\n",
    "print(binario_a_decimal('101011100011101'))"
   ]
  },
  {
   "cell_type": "markdown",
   "id": "e318b9af-fbd1-4e1c-b0a8-1bf3a8ed7e78",
   "metadata": {},
   "source": [
    "Escribir un programa que reciba una cadena de caracteres y devuelva un diccionario con cada palabra que contiene y su frecuencia. Escribir otra función que reciba el diccionario generado con la función anterior y devuelva una tupla con la palabra más repetida y su frecuencia"
   ]
  },
  {
   "cell_type": "code",
   "execution_count": 16,
   "id": "bc7e0c3a-8867-49c2-aa77-9b88521dd3d0",
   "metadata": {},
   "outputs": [
    {
     "name": "stdout",
     "output_type": "stream",
     "text": [
      "{'Mi': 1, 'nombre': 2, 'es': 2, 'Pablo': 1, 'y': 1, 'el': 1, 'de': 1, 'ella': 1, 'Ana': 1}\n",
      "nombre\n"
     ]
    }
   ],
   "source": [
    "def generar_diccionario_frecuencia(frase):\n",
    "    dicc = {}\n",
    "    for palabra in frase.split():\n",
    "        dicc[palabra] = (dicc[palabra] + 1) if palabra in dicc else 1\n",
    "    return dicc\n",
    "\n",
    "def palabra_mas_repetida(dicc):\n",
    "    max = 0\n",
    "    for palabra, frec in dicc.items():\n",
    "        if frec > max:\n",
    "            max = frec\n",
    "            palabra_max = palabra\n",
    "    return palabra_max\n",
    "\n",
    "\n",
    "dicc = generar_diccionario_frecuencia('Mi nombre es Pablo y el nombre de ella es Ana')\n",
    "print(dicc)\n",
    "print(palabra_mas_repetida(dicc))"
   ]
  }
 ],
 "metadata": {
  "kernelspec": {
   "display_name": "Python [conda env:base] *",
   "language": "python",
   "name": "conda-base-py"
  },
  "language_info": {
   "codemirror_mode": {
    "name": "ipython",
    "version": 3
   },
   "file_extension": ".py",
   "mimetype": "text/x-python",
   "name": "python",
   "nbconvert_exporter": "python",
   "pygments_lexer": "ipython3",
   "version": "3.12.7"
  }
 },
 "nbformat": 4,
 "nbformat_minor": 5
}
