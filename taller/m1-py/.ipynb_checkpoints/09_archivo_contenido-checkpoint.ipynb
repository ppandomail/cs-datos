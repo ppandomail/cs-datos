{
 "cells": [
  {
   "cell_type": "markdown",
   "id": "9da98d1f-8a32-4e60-9a92-604f48bf09bf",
   "metadata": {},
   "source": [
    "# Archivos\n",
    "---"
   ]
  },
  {
   "cell_type": "code",
   "execution_count": 10,
   "id": "59665f1b-1cf3-4d56-9224-e606176c33e6",
   "metadata": {},
   "outputs": [],
   "source": [
    "from io import open"
   ]
  },
  {
   "cell_type": "markdown",
   "id": "75ac66db-3bc1-4092-bc06-0563b3c939f5",
   "metadata": {},
   "source": [
    "## Escritura\n",
    "---"
   ]
  },
  {
   "cell_type": "code",
   "execution_count": 11,
   "id": "807c2cae-918c-4b6e-b906-2010f3feee74",
   "metadata": {},
   "outputs": [],
   "source": [
    "# Si el archivo no existe, el método open lo crea\n",
    "# 'w': escritura -> reemplaza\n",
    "# 'a': append    -> agrega\n",
    "fw = open('data/datos.txt', 'a')    \n",
    "fw.write('Hola mundo \\ncruel')\n",
    "fw.close()"
   ]
  },
  {
   "cell_type": "markdown",
   "id": "59835987-28f7-49b2-a21e-03ed7258573f",
   "metadata": {},
   "source": [
    "## Lectura\n",
    "---"
   ]
  },
  {
   "cell_type": "code",
   "execution_count": 12,
   "id": "b7d87896-aa0e-4803-a0d1-760541fec9f6",
   "metadata": {},
   "outputs": [
    {
     "name": "stdout",
     "output_type": "stream",
     "text": [
      "Hola mundo \n",
      "cruelHola mundo \n",
      "cruelHola mundo \n",
      "cruelHola mundo \n",
      "cruelHola mundo \n",
      "cruel\n",
      "['Hola mundo \\n', 'cruelHola mundo \\n', 'cruelHola mundo \\n', 'cruelHola mundo \\n', 'cruelHola mundo \\n', 'cruel']\n",
      "Hola mundo \n"
     ]
    }
   ],
   "source": [
    "# 'r': lectura\n",
    "fr = open('data/datos.txt', 'r')\n",
    "lista = fr.readlines()      # devuelve lista de lineas\n",
    "fr.seek(0)                  # se cambia posición del puntero al caracter en posición 0\n",
    "texto = fr.read()           # devuelve todo el contenido del archivo\n",
    "print(texto)\n",
    "print(lista)\n",
    "fr.seek(0)                  \n",
    "print(fr.read(11))          # lee hasta el caracter en posición 11\n",
    "fr.close()"
   ]
  }
 ],
 "metadata": {
  "kernelspec": {
   "display_name": "Python [conda env:base] *",
   "language": "python",
   "name": "conda-base-py"
  },
  "language_info": {
   "codemirror_mode": {
    "name": "ipython",
    "version": 3
   },
   "file_extension": ".py",
   "mimetype": "text/x-python",
   "name": "python",
   "nbconvert_exporter": "python",
   "pygments_lexer": "ipython3",
   "version": "3.12.7"
  }
 },
 "nbformat": 4,
 "nbformat_minor": 5
}
