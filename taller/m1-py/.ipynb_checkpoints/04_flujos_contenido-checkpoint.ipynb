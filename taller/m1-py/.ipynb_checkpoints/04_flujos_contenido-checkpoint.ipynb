{
 "cells": [
  {
   "cell_type": "markdown",
   "id": "a5dd6e20-d081-4cf0-abc2-71a0ec9c6ca1",
   "metadata": {},
   "source": [
    "# Flujos\n",
    "---"
   ]
  },
  {
   "cell_type": "markdown",
   "id": "cccd0dc1-ab65-472a-9d89-7e69441649e4",
   "metadata": {},
   "source": [
    "## Condicionales (if)\n",
    "---"
   ]
  },
  {
   "cell_type": "code",
   "execution_count": 69,
   "id": "fa7f453d-67e2-4f35-a182-1937d7004594",
   "metadata": {},
   "outputs": [
    {
     "name": "stdout",
     "output_type": "stream",
     "text": [
      "Es 0\n"
     ]
    }
   ],
   "source": [
    "i = 0\n",
    "if i == 0:\n",
    "  print(\"Es 0\")\n",
    "else:\n",
    "  print(\"No es 0\")"
   ]
  },
  {
   "cell_type": "markdown",
   "id": "1e4fb440-fa7b-4d8b-8876-d24717463ed6",
   "metadata": {},
   "source": [
    "## Bucles\n",
    "---"
   ]
  },
  {
   "cell_type": "markdown",
   "id": "234eae1f-3ac8-4ecb-abc9-136486c0ff60",
   "metadata": {},
   "source": [
    "### while\n",
    "---"
   ]
  },
  {
   "cell_type": "code",
   "execution_count": 70,
   "id": "d9cff09a-f235-431d-a979-3d42227448ed",
   "metadata": {},
   "outputs": [
    {
     "name": "stdout",
     "output_type": "stream",
     "text": [
      "0\n",
      "1\n",
      "2\n"
     ]
    }
   ],
   "source": [
    "while i < 3:\n",
    "  print(i)\n",
    "  i += 1"
   ]
  },
  {
   "cell_type": "markdown",
   "id": "fa624219-fe29-48f3-99d2-0b9e78f92181",
   "metadata": {},
   "source": [
    "### for\n",
    "---"
   ]
  },
  {
   "cell_type": "code",
   "execution_count": 71,
   "id": "856f31aa-6db6-4656-b044-57a1dd11728b",
   "metadata": {},
   "outputs": [
    {
     "name": "stdout",
     "output_type": "stream",
     "text": [
      "p\n",
      "y\n",
      "t\n",
      "h\n",
      "o\n",
      "n\n"
     ]
    }
   ],
   "source": [
    "palabra = 'python'\n",
    "for letra in palabra:\n",
    "  print(letra)"
   ]
  }
 ],
 "metadata": {
  "kernelspec": {
   "display_name": "Python [conda env:base] *",
   "language": "python",
   "name": "conda-base-py"
  },
  "language_info": {
   "codemirror_mode": {
    "name": "ipython",
    "version": 3
   },
   "file_extension": ".py",
   "mimetype": "text/x-python",
   "name": "python",
   "nbconvert_exporter": "python",
   "pygments_lexer": "ipython3",
   "version": "3.12.7"
  }
 },
 "nbformat": 4,
 "nbformat_minor": 5
}
