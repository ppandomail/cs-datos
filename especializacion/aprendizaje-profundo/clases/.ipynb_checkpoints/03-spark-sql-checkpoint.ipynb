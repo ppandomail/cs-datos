{
 "cells": [
  {
   "cell_type": "markdown",
   "id": "cd7ec1ba-7b40-4b27-90f2-14167879e922",
   "metadata": {},
   "source": [
    "# Spark SQL\n",
    "---"
   ]
  },
  {
   "cell_type": "markdown",
   "id": "65f7500e-453e-4adc-843d-53cad178b7d5",
   "metadata": {},
   "source": [
    "* Es una interface (módulo) que permite usar Spark con datos estructurados, es decir, con datos datos que tienen un esquema\n",
    "* Permite el uso del lenguaje SQL para realizar tareas de selección, filtrado, agrupación y joins\n",
    "* Es posible cargar datos de diferentes formatos: JSON, Hive, Parquet, ODBC, JDBC, etc.\n",
    "* Permite una fácil integración entre SQL y Python/Scala/Java"
   ]
  },
  {
   "cell_type": "markdown",
   "id": "f5413fb8-a4f8-4b92-84b3-1242d579d4ff",
   "metadata": {},
   "source": [
    "## DataFrames"
   ]
  },
  {
   "cell_type": "markdown",
   "id": "3efb3b86-899c-49bb-a485-3dfd25a370c4",
   "metadata": {},
   "source": [
    "* Trabaja con una abstracción de las RDD, los DataFrames\n",
    "* Es una RDD con esquema, es decir, tuplas de datos con nombres y tipo de datoa de cada campo\n",
    "* Son distribuidos\n",
    "* Se crean mediante el sqlContext"
   ]
  },
  {
   "cell_type": "markdown",
   "id": "dbf031ce-1b11-4b46-9035-28a5cbbca4fa",
   "metadata": {},
   "source": [
    "# Pyspark SQL\n",
    "---"
   ]
  },
  {
   "cell_type": "code",
   "execution_count": 11,
   "id": "da371d5b-f99f-415c-9f5f-5047ea17fd86",
   "metadata": {},
   "outputs": [],
   "source": [
    "import os\n",
    "os.environ['JAVA_HOME'] = '/Library/Java/JavaVirtualMachines/openjdk-17.jdk/Contents/Home'"
   ]
  },
  {
   "cell_type": "code",
   "execution_count": 12,
   "id": "f2c3836f-5979-41b0-8243-1e9a0ba86ece",
   "metadata": {},
   "outputs": [],
   "source": [
    "from pyspark.sql import SparkSession"
   ]
  },
  {
   "cell_type": "code",
   "execution_count": 13,
   "id": "d6949002-24e5-4436-8013-8bf88bbba6c4",
   "metadata": {},
   "outputs": [],
   "source": [
    "from IPython.core.display import HTML"
   ]
  },
  {
   "cell_type": "code",
   "execution_count": 14,
   "id": "a2a028e7-1294-43fe-80b0-330ee6aaa793",
   "metadata": {},
   "outputs": [
    {
     "data": {
      "text/html": [
       "<style>pre { white-space: pre !important; }</style>"
      ],
      "text/plain": [
       "<IPython.core.display.HTML object>"
      ]
     },
     "metadata": {},
     "output_type": "display_data"
    }
   ],
   "source": [
    "display(HTML(\"<style>pre { white-space: pre !important; }</style>\"))"
   ]
  },
  {
   "cell_type": "code",
   "execution_count": 15,
   "id": "560a1956-2812-4ed5-bfb6-91c2e64de5fe",
   "metadata": {},
   "outputs": [],
   "source": [
    "spark = SparkSession.builder.master(\"local[*]\").getOrCreate()"
   ]
  },
  {
   "cell_type": "code",
   "execution_count": 16,
   "id": "3a6fe1a0-d2ae-4af3-bc7b-deae73b07251",
   "metadata": {},
   "outputs": [],
   "source": [
    "causas = spark.read.format('csv').option('header', 'true').option('inferSchema', 'true').load('causas.csv')"
   ]
  },
  {
   "cell_type": "code",
   "execution_count": 17,
   "id": "c201ad6e-2b0a-4aaf-af52-e6bbe0519bea",
   "metadata": {},
   "outputs": [
    {
     "name": "stdout",
     "output_type": "stream",
     "text": [
      "root\n",
      " |-- provincia_id: integer (nullable = true)\n",
      " |-- provincia_nombre: string (nullable = true)\n",
      " |-- causa_id: string (nullable = true)\n",
      " |-- caso_id_ministerio_publico: string (nullable = true)\n",
      " |-- circunscripcion_id: string (nullable = true)\n",
      " |-- circunscripcion_descripcion: string (nullable = true)\n",
      " |-- unidad_id: string (nullable = true)\n",
      " |-- unidad_descripcion: string (nullable = true)\n",
      " |-- caso_fecha_inicio: date (nullable = true)\n",
      " |-- causa_fecha_hecho: string (nullable = true)\n",
      " |-- delito_codigo: string (nullable = true)\n",
      " |-- delito_descripcion: string (nullable = true)\n",
      " |-- delito_tentativa: string (nullable = true)\n",
      " |-- delito_estadistico: string (nullable = true)\n",
      " |-- fecha_envio: date (nullable = true)\n",
      "\n"
     ]
    }
   ],
   "source": [
    "causas.printSchema()"
   ]
  },
  {
   "cell_type": "code",
   "execution_count": 18,
   "id": "e31c3c7b-ef6f-4916-8b1c-4f2b8f77a161",
   "metadata": {},
   "outputs": [
    {
     "name": "stdout",
     "output_type": "stream",
     "text": [
      "+------------+--------------------+--------+--------------------------+------------------+---------------------------+---------+------------------+-----------------+-----------------+-------------+--------------------+----------------+------------------+-----------+\n",
      "|provincia_id|    provincia_nombre|causa_id|caso_id_ministerio_publico|circunscripcion_id|circunscripcion_descripcion|unidad_id|unidad_descripcion|caso_fecha_inicio|causa_fecha_hecho|delito_codigo|  delito_descripcion|delito_tentativa|delito_estadistico|fecha_envio|\n",
      "+------------+--------------------+--------+--------------------------+------------------+---------------------------+---------+------------------+-----------------+-----------------+-------------+--------------------+----------------+------------------+-----------+\n",
      "|           2|Ciudad Autónoma d...|  436677|                MPF 135432|              CABA|                       CABA|      965|        JUZGADO 18|       2017-02-03|       2016-12-03|         1008|            Amenazas|              NO|          Amenazas| 2018-11-05|\n",
      "|           2|Ciudad Autónoma d...|  437280|                MPF 136364|              CABA|                       CABA|      966|        JUZGADO 11|       2017-02-13|       2016-12-03|         1008|            Amenazas|              NO|          Amenazas| 2018-11-05|\n",
      "|           2|Ciudad Autónoma d...|  444973|                MPF 146674|              CABA|                       CABA|      963|        JUZGADO 16|       2017-05-15|       2017-01-28|          449|Hostigar, maltrat...|              NO|     Contravención| 2018-11-05|\n",
      "|           2|Ciudad Autónoma d...|  462719|                MPF 157733|              CABA|                       CABA|      964|        JUZGADO 17|       2017-12-20|       2017-08-17|         1056|Acoso Sexual en e...|              NO|    Sin clasificar| 2018-11-05|\n",
      "|           2|Ciudad Autónoma d...|  456231|                MPF 163948|              CABA|                       CABA|     1467|        JUZGADO 29|       2017-09-28|       2017-09-02|         1008|            Amenazas|              NO|          Amenazas| 2018-11-05|\n",
      "|           2|Ciudad Autónoma d...|  462381|                MPF 172114|              CABA|                       CABA|      966|        JUZGADO 11|       2017-12-19|       2017-10-17|         1008|            Amenazas|              NO|          Amenazas| 2018-11-05|\n",
      "|           2|Ciudad Autónoma d...|  349944|               MPF00001925|              CABA|                       CABA|      134|        JUZGADO 10|       2017-08-07|       2012-07-04|          403|Amenazas - CP (p/...|              NO|          Amenazas| 2018-11-05|\n",
      "|           2|Ciudad Autónoma d...|  349944|               MPF00001925|              CABA|                       CABA|      134|        JUZGADO 10|       2017-08-07|       2012-07-04|          404|Daños - CP (p/ L ...|              NO|             Daños| 2018-11-05|\n",
      "|           2|Ciudad Autónoma d...|  331208|               MPF00003105|              CABA|                       CABA|        6|         JUZGADO 4|       2017-02-01|       2012-07-05|          403|Amenazas - CP (p/...|              NO|          Amenazas| 2018-11-05|\n",
      "|           2|Ciudad Autónoma d...|  331208|               MPF00003105|              CABA|                       CABA|        6|         JUZGADO 4|       2017-02-01|       2012-07-05|          449|Hostigar, maltrat...|              NO|     Contravención| 2018-11-05|\n",
      "+------------+--------------------+--------+--------------------------+------------------+---------------------------+---------+------------------+-----------------+-----------------+-------------+--------------------+----------------+------------------+-----------+\n",
      "only showing top 10 rows\n"
     ]
    }
   ],
   "source": [
    "causas.show(10) # default: 20 filas"
   ]
  },
  {
   "cell_type": "code",
   "execution_count": 19,
   "id": "db8c478a-d36c-4e1c-9296-9a73ec8eba5e",
   "metadata": {},
   "outputs": [
    {
     "data": {
      "text/plain": [
       "[Row(provincia_id=2, provincia_nombre='Ciudad Autónoma de Buenos Aires', causa_id='436677', caso_id_ministerio_publico='MPF 135432', circunscripcion_id='CABA', circunscripcion_descripcion='CABA', unidad_id='965', unidad_descripcion='JUZGADO 18', caso_fecha_inicio=datetime.date(2017, 2, 3), causa_fecha_hecho='2016-12-03', delito_codigo='1008', delito_descripcion='Amenazas', delito_tentativa='NO', delito_estadistico='Amenazas', fecha_envio=datetime.date(2018, 11, 5)),\n",
       " Row(provincia_id=2, provincia_nombre='Ciudad Autónoma de Buenos Aires', causa_id='437280', caso_id_ministerio_publico='MPF 136364', circunscripcion_id='CABA', circunscripcion_descripcion='CABA', unidad_id='966', unidad_descripcion='JUZGADO 11', caso_fecha_inicio=datetime.date(2017, 2, 13), causa_fecha_hecho='2016-12-03', delito_codigo='1008', delito_descripcion='Amenazas', delito_tentativa='NO', delito_estadistico='Amenazas', fecha_envio=datetime.date(2018, 11, 5)),\n",
       " Row(provincia_id=2, provincia_nombre='Ciudad Autónoma de Buenos Aires', causa_id='444973', caso_id_ministerio_publico='MPF 146674', circunscripcion_id='CABA', circunscripcion_descripcion='CABA', unidad_id='963', unidad_descripcion='JUZGADO 16', caso_fecha_inicio=datetime.date(2017, 5, 15), causa_fecha_hecho='2017-01-28', delito_codigo='449', delito_descripcion='Hostigar, maltratar, intimidar (Art. 52 según TC Ley 5666 y modif.)', delito_tentativa='NO', delito_estadistico='Contravención', fecha_envio=datetime.date(2018, 11, 5)),\n",
       " Row(provincia_id=2, provincia_nombre='Ciudad Autónoma de Buenos Aires', causa_id='462719', caso_id_ministerio_publico='MPF 157733', circunscripcion_id='CABA', circunscripcion_descripcion='CABA', unidad_id='964', unidad_descripcion='JUZGADO 17', caso_fecha_inicio=datetime.date(2017, 12, 20), causa_fecha_hecho='2017-08-17', delito_codigo='1056', delito_descripcion='Acoso Sexual en espacio público (Art. 65 bis según TC Ley 5666 y modif.)', delito_tentativa='NO', delito_estadistico='Sin clasificar', fecha_envio=datetime.date(2018, 11, 5)),\n",
       " Row(provincia_id=2, provincia_nombre='Ciudad Autónoma de Buenos Aires', causa_id='456231', caso_id_ministerio_publico='MPF 163948', circunscripcion_id='CABA', circunscripcion_descripcion='CABA', unidad_id='1467', unidad_descripcion='JUZGADO 29', caso_fecha_inicio=datetime.date(2017, 9, 28), causa_fecha_hecho='2017-09-02', delito_codigo='1008', delito_descripcion='Amenazas', delito_tentativa='NO', delito_estadistico='Amenazas', fecha_envio=datetime.date(2018, 11, 5))]"
      ]
     },
     "execution_count": 19,
     "metadata": {},
     "output_type": "execute_result"
    }
   ],
   "source": [
    "causas.take(5)"
   ]
  },
  {
   "cell_type": "code",
   "execution_count": 36,
   "id": "cf9c886e-bd40-4c1a-90cc-568c23e58903",
   "metadata": {},
   "outputs": [
    {
     "name": "stdout",
     "output_type": "stream",
     "text": [
      "+-------+-----------------+----------------+-----------------+--------------------------+------------------+---------------------------+------------------+--------------------+-----------------+------------------+--------------------+----------------+--------------------+\n",
      "|summary|     provincia_id|provincia_nombre|         causa_id|caso_id_ministerio_publico|circunscripcion_id|circunscripcion_descripcion|         unidad_id|  unidad_descripcion|causa_fecha_hecho|     delito_codigo|  delito_descripcion|delito_tentativa|  delito_estadistico|\n",
      "+-------+-----------------+----------------+-----------------+--------------------------+------------------+---------------------------+------------------+--------------------+-----------------+------------------+--------------------+----------------+--------------------+\n",
      "|  count|             1000|            1000|             1000|                       862|              1000|                       1000|              1000|                 707|              463|               919|                 919|             783|                1000|\n",
      "|   mean|             36.4|            NULL|3533256.949074074|        185702.42361111112|2.8703271028037385|                       NULL|447.22962962962964|                NULL|             NULL|1545.6265432098764|                NULL|            NULL|                NULL|\n",
      "| stddev|29.29071432973162|            NULL|4580606.571063286|        370.04056817593204|  1.85264353830226|                       NULL| 468.6289568993883|                NULL|             NULL|2221.2894481361527|                NULL|            NULL|                NULL|\n",
      "|    min|                2|          Chubut|         10000569|                    185023|                 1|                       CABA|              1021|CR - Oficina Judi...|       2012-07-04|                 1|   (NO ESPECIFICADO)|              NO| Abandono de persona|\n",
      "|    max|               94|Tierra del Fuego|     PXT-19589/19|                        sd|              CABA|                    Tercera|                na|      secrejujuzcyf3|              s/d|            OFICIO|violación de domi...|              SI|Violación de medi...|\n",
      "+-------+-----------------+----------------+-----------------+--------------------------+------------------+---------------------------+------------------+--------------------+-----------------+------------------+--------------------+----------------+--------------------+\n",
      "\n"
     ]
    }
   ],
   "source": [
    "causas.describe().show()"
   ]
  },
  {
   "cell_type": "code",
   "execution_count": 21,
   "id": "0daf9c9c-ed1e-46f9-b347-ed9c5f328bf2",
   "metadata": {},
   "outputs": [
    {
     "name": "stdout",
     "output_type": "stream",
     "text": [
      "+-------+-----------------+\n",
      "|summary|     provincia_id|\n",
      "+-------+-----------------+\n",
      "|  count|             1000|\n",
      "|   mean|             36.4|\n",
      "| stddev|29.29071432973162|\n",
      "|    min|                2|\n",
      "|    max|               94|\n",
      "+-------+-----------------+\n",
      "\n"
     ]
    }
   ],
   "source": [
    "causas.describe(['provincia_id']).show()"
   ]
  },
  {
   "cell_type": "code",
   "execution_count": 22,
   "id": "ae5f43f9-21b9-4d53-a2d6-c66a69082859",
   "metadata": {},
   "outputs": [
    {
     "name": "stdout",
     "output_type": "stream",
     "text": [
      "+-------+-----------------+------------------+\n",
      "|summary|     provincia_id|circunscripcion_id|\n",
      "+-------+-----------------+------------------+\n",
      "|  count|             1000|              1000|\n",
      "|   mean|             36.4|2.8703271028037385|\n",
      "| stddev|29.29071432973162|  1.85264353830226|\n",
      "|    min|                2|                 1|\n",
      "|    max|               94|              CABA|\n",
      "+-------+-----------------+------------------+\n",
      "\n"
     ]
    }
   ],
   "source": [
    "causas.describe(['provincia_id', 'circunscripcion_id']).show()"
   ]
  },
  {
   "cell_type": "code",
   "execution_count": 23,
   "id": "50a55a95-136b-4bfa-a3ec-32dc44a3ce51",
   "metadata": {},
   "outputs": [],
   "source": [
    "causas.createOrReplaceTempView('causas')"
   ]
  },
  {
   "cell_type": "code",
   "execution_count": 24,
   "id": "15680c03-19d7-4c24-b032-ab407dafe05a",
   "metadata": {},
   "outputs": [
    {
     "name": "stdout",
     "output_type": "stream",
     "text": [
      "+------------+--------------------+--------+--------------------------+------------------+---------------------------+---------+------------------+-----------------+-----------------+-------------+--------------------+----------------+------------------+-----------+\n",
      "|provincia_id|    provincia_nombre|causa_id|caso_id_ministerio_publico|circunscripcion_id|circunscripcion_descripcion|unidad_id|unidad_descripcion|caso_fecha_inicio|causa_fecha_hecho|delito_codigo|  delito_descripcion|delito_tentativa|delito_estadistico|fecha_envio|\n",
      "+------------+--------------------+--------+--------------------------+------------------+---------------------------+---------+------------------+-----------------+-----------------+-------------+--------------------+----------------+------------------+-----------+\n",
      "|           2|Ciudad Autónoma d...|  436677|                MPF 135432|              CABA|                       CABA|      965|        JUZGADO 18|       2017-02-03|       2016-12-03|         1008|            Amenazas|              NO|          Amenazas| 2018-11-05|\n",
      "|           2|Ciudad Autónoma d...|  437280|                MPF 136364|              CABA|                       CABA|      966|        JUZGADO 11|       2017-02-13|       2016-12-03|         1008|            Amenazas|              NO|          Amenazas| 2018-11-05|\n",
      "|           2|Ciudad Autónoma d...|  444973|                MPF 146674|              CABA|                       CABA|      963|        JUZGADO 16|       2017-05-15|       2017-01-28|          449|Hostigar, maltrat...|              NO|     Contravención| 2018-11-05|\n",
      "|           2|Ciudad Autónoma d...|  462719|                MPF 157733|              CABA|                       CABA|      964|        JUZGADO 17|       2017-12-20|       2017-08-17|         1056|Acoso Sexual en e...|              NO|    Sin clasificar| 2018-11-05|\n",
      "|           2|Ciudad Autónoma d...|  456231|                MPF 163948|              CABA|                       CABA|     1467|        JUZGADO 29|       2017-09-28|       2017-09-02|         1008|            Amenazas|              NO|          Amenazas| 2018-11-05|\n",
      "+------------+--------------------+--------+--------------------------+------------------+---------------------------+---------+------------------+-----------------+-----------------+-------------+--------------------+----------------+------------------+-----------+\n",
      "only showing top 5 rows\n"
     ]
    }
   ],
   "source": [
    "spark.sql('SELECT * FROM causas').show(5)"
   ]
  },
  {
   "cell_type": "code",
   "execution_count": 25,
   "id": "894bc477-d25f-408a-b828-e459e7df5e9d",
   "metadata": {},
   "outputs": [
    {
     "name": "stdout",
     "output_type": "stream",
     "text": [
      "+-------------------------+\n",
      "|delito_descripcion       |\n",
      "+-------------------------+\n",
      "|Amenazas                 |\n",
      "|Amenazas - CP (p/ L 2303)|\n",
      "+-------------------------+\n",
      "\n"
     ]
    }
   ],
   "source": [
    "spark.sql(\"SELECT delito_descripcion FROM causas WHERE unidad_descripcion LIKE '%18%'\").show(truncate=False)"
   ]
  },
  {
   "cell_type": "code",
   "execution_count": 26,
   "id": "43c562e0-2ddf-4436-bc64-558a48de0e62",
   "metadata": {},
   "outputs": [
    {
     "name": "stdout",
     "output_type": "stream",
     "text": [
      "+------------+--------------------+--------+--------------------------+------------------+---------------------------+---------+------------------+-----------------+-----------------+-------------+--------------------+----------------+------------------+-----------+\n",
      "|provincia_id|    provincia_nombre|causa_id|caso_id_ministerio_publico|circunscripcion_id|circunscripcion_descripcion|unidad_id|unidad_descripcion|caso_fecha_inicio|causa_fecha_hecho|delito_codigo|  delito_descripcion|delito_tentativa|delito_estadistico|fecha_envio|\n",
      "+------------+--------------------+--------+--------------------------+------------------+---------------------------+---------+------------------+-----------------+-----------------+-------------+--------------------+----------------+------------------+-----------+\n",
      "|           2|Ciudad Autónoma d...|  436677|                MPF 135432|              CABA|                       CABA|      965|        JUZGADO 18|       2017-02-03|       2016-12-03|         1008|            Amenazas|              NO|          Amenazas| 2018-11-05|\n",
      "|           2|Ciudad Autónoma d...|  437280|                MPF 136364|              CABA|                       CABA|      966|        JUZGADO 11|       2017-02-13|       2016-12-03|         1008|            Amenazas|              NO|          Amenazas| 2018-11-05|\n",
      "|           2|Ciudad Autónoma d...|  444973|                MPF 146674|              CABA|                       CABA|      963|        JUZGADO 16|       2017-05-15|       2017-01-28|          449|Hostigar, maltrat...|              NO|     Contravención| 2018-11-05|\n",
      "|           2|Ciudad Autónoma d...|  462719|                MPF 157733|              CABA|                       CABA|      964|        JUZGADO 17|       2017-12-20|       2017-08-17|         1056|Acoso Sexual en e...|              NO|    Sin clasificar| 2018-11-05|\n",
      "|           2|Ciudad Autónoma d...|  456231|                MPF 163948|              CABA|                       CABA|     1467|        JUZGADO 29|       2017-09-28|       2017-09-02|         1008|            Amenazas|              NO|          Amenazas| 2018-11-05|\n",
      "+------------+--------------------+--------+--------------------------+------------------+---------------------------+---------+------------------+-----------------+-----------------+-------------+--------------------+----------------+------------------+-----------+\n",
      "only showing top 5 rows\n"
     ]
    }
   ],
   "source": [
    "causas.select('*').show(5)"
   ]
  },
  {
   "cell_type": "code",
   "execution_count": 27,
   "id": "faec7031-0f4d-4d61-85c2-911e71b5afdd",
   "metadata": {},
   "outputs": [
    {
     "name": "stdout",
     "output_type": "stream",
     "text": [
      "+----------------+---------+\n",
      "|provincia_nombre| causa_id|\n",
      "+----------------+---------+\n",
      "|          Chubut|265/13555|\n",
      "|          Chubut|265/13559|\n",
      "|          Chubut|265/13556|\n",
      "|          Chubut|265/13556|\n",
      "|          Chubut|265/13557|\n",
      "+----------------+---------+\n",
      "only showing top 5 rows\n"
     ]
    }
   ],
   "source": [
    "causas.select('provincia_nombre', 'causa_id').orderBy(causas.provincia_nombre.asc()).show(5)"
   ]
  },
  {
   "cell_type": "code",
   "execution_count": 28,
   "id": "e2fa9d31-a1bf-4802-a66c-f2c9c89b6814",
   "metadata": {},
   "outputs": [
    {
     "name": "stdout",
     "output_type": "stream",
     "text": [
      "+------------+--------------------+--------+--------------------------+------------------+---------------------------+---------+------------------+-----------------+-----------------+-------------+--------------------+----------------+------------------+-----------+\n",
      "|provincia_id|    provincia_nombre|causa_id|caso_id_ministerio_publico|circunscripcion_id|circunscripcion_descripcion|unidad_id|unidad_descripcion|caso_fecha_inicio|causa_fecha_hecho|delito_codigo|  delito_descripcion|delito_tentativa|delito_estadistico|fecha_envio|\n",
      "+------------+--------------------+--------+--------------------------+------------------+---------------------------+---------+------------------+-----------------+-----------------+-------------+--------------------+----------------+------------------+-----------+\n",
      "|           2|Ciudad Autónoma d...|  436677|                MPF 135432|              CABA|                       CABA|      965|        JUZGADO 18|       2017-02-03|       2016-12-03|         1008|            Amenazas|              NO|          Amenazas| 2018-11-05|\n",
      "|           2|Ciudad Autónoma d...|  437280|                MPF 136364|              CABA|                       CABA|      966|        JUZGADO 11|       2017-02-13|       2016-12-03|         1008|            Amenazas|              NO|          Amenazas| 2018-11-05|\n",
      "|           2|Ciudad Autónoma d...|  456231|                MPF 163948|              CABA|                       CABA|     1467|        JUZGADO 29|       2017-09-28|       2017-09-02|         1008|            Amenazas|              NO|          Amenazas| 2018-11-05|\n",
      "|           2|Ciudad Autónoma d...|  462381|                MPF 172114|              CABA|                       CABA|      966|        JUZGADO 11|       2017-12-19|       2017-10-17|         1008|            Amenazas|              NO|          Amenazas| 2018-11-05|\n",
      "|           2|Ciudad Autónoma d...|  349944|               MPF00001925|              CABA|                       CABA|      134|        JUZGADO 10|       2017-08-07|       2012-07-04|          403|Amenazas - CP (p/...|              NO|          Amenazas| 2018-11-05|\n",
      "+------------+--------------------+--------+--------------------------+------------------+---------------------------+---------+------------------+-----------------+-----------------+-------------+--------------------+----------------+------------------+-----------+\n",
      "only showing top 5 rows\n"
     ]
    }
   ],
   "source": [
    "causas.filter(causas.delito_descripcion.like('%Amenazas%')).show(5)"
   ]
  },
  {
   "cell_type": "code",
   "execution_count": 29,
   "id": "019d254b-5e46-41ea-9d1f-10186f63e4ef",
   "metadata": {},
   "outputs": [
    {
     "name": "stdout",
     "output_type": "stream",
     "text": [
      "+------------+--------------------+--------+--------------------------+------------------+---------------------------+---------+------------------+-----------------+-----------------+-------------+--------------------+----------------+------------------+-----------+\n",
      "|provincia_id|    provincia_nombre|causa_id|caso_id_ministerio_publico|circunscripcion_id|circunscripcion_descripcion|unidad_id|unidad_descripcion|caso_fecha_inicio|causa_fecha_hecho|delito_codigo|  delito_descripcion|delito_tentativa|delito_estadistico|fecha_envio|\n",
      "+------------+--------------------+--------+--------------------------+------------------+---------------------------+---------+------------------+-----------------+-----------------+-------------+--------------------+----------------+------------------+-----------+\n",
      "|           2|Ciudad Autónoma d...|  436677|                MPF 135432|              CABA|                       CABA|      965|        JUZGADO 18|       2017-02-03|       2016-12-03|         1008|            Amenazas|              NO|          Amenazas| 2018-11-05|\n",
      "|           2|Ciudad Autónoma d...|  437280|                MPF 136364|              CABA|                       CABA|      966|        JUZGADO 11|       2017-02-13|       2016-12-03|         1008|            Amenazas|              NO|          Amenazas| 2018-11-05|\n",
      "|           2|Ciudad Autónoma d...|  456231|                MPF 163948|              CABA|                       CABA|     1467|        JUZGADO 29|       2017-09-28|       2017-09-02|         1008|            Amenazas|              NO|          Amenazas| 2018-11-05|\n",
      "|           2|Ciudad Autónoma d...|  462381|                MPF 172114|              CABA|                       CABA|      966|        JUZGADO 11|       2017-12-19|       2017-10-17|         1008|            Amenazas|              NO|          Amenazas| 2018-11-05|\n",
      "|           2|Ciudad Autónoma d...|  349944|               MPF00001925|              CABA|                       CABA|      134|        JUZGADO 10|       2017-08-07|       2012-07-04|          403|Amenazas - CP (p/...|              NO|          Amenazas| 2018-11-05|\n",
      "+------------+--------------------+--------+--------------------------+------------------+---------------------------+---------+------------------+-----------------+-----------------+-------------+--------------------+----------------+------------------+-----------+\n",
      "only showing top 5 rows\n"
     ]
    }
   ],
   "source": [
    "causas.select('*').where(causas.delito_descripcion.like('%Amenazas%')).show(5)"
   ]
  },
  {
   "cell_type": "code",
   "execution_count": 30,
   "id": "d14f2259-98ba-4138-bf83-fcd72295c7f3",
   "metadata": {},
   "outputs": [],
   "source": [
    "causas2 = causas.withColumn('nueva_columna', causas.delito_descripcion.endswith('as'))"
   ]
  },
  {
   "cell_type": "code",
   "execution_count": 31,
   "id": "436765b6-6c6d-4016-b313-6ad979324d2c",
   "metadata": {},
   "outputs": [
    {
     "name": "stdout",
     "output_type": "stream",
     "text": [
      "+------------+--------------------+--------+--------------------------+------------------+---------------------------+---------+------------------+-----------------+-----------------+-------------+--------------------+----------------+------------------+-----------+-------------+\n",
      "|provincia_id|    provincia_nombre|causa_id|caso_id_ministerio_publico|circunscripcion_id|circunscripcion_descripcion|unidad_id|unidad_descripcion|caso_fecha_inicio|causa_fecha_hecho|delito_codigo|  delito_descripcion|delito_tentativa|delito_estadistico|fecha_envio|nueva_columna|\n",
      "+------------+--------------------+--------+--------------------------+------------------+---------------------------+---------+------------------+-----------------+-----------------+-------------+--------------------+----------------+------------------+-----------+-------------+\n",
      "|           2|Ciudad Autónoma d...|  436677|                MPF 135432|              CABA|                       CABA|      965|        JUZGADO 18|       2017-02-03|       2016-12-03|         1008|            Amenazas|              NO|          Amenazas| 2018-11-05|         true|\n",
      "|           2|Ciudad Autónoma d...|  437280|                MPF 136364|              CABA|                       CABA|      966|        JUZGADO 11|       2017-02-13|       2016-12-03|         1008|            Amenazas|              NO|          Amenazas| 2018-11-05|         true|\n",
      "|           2|Ciudad Autónoma d...|  444973|                MPF 146674|              CABA|                       CABA|      963|        JUZGADO 16|       2017-05-15|       2017-01-28|          449|Hostigar, maltrat...|              NO|     Contravención| 2018-11-05|        false|\n",
      "|           2|Ciudad Autónoma d...|  462719|                MPF 157733|              CABA|                       CABA|      964|        JUZGADO 17|       2017-12-20|       2017-08-17|         1056|Acoso Sexual en e...|              NO|    Sin clasificar| 2018-11-05|        false|\n",
      "|           2|Ciudad Autónoma d...|  456231|                MPF 163948|              CABA|                       CABA|     1467|        JUZGADO 29|       2017-09-28|       2017-09-02|         1008|            Amenazas|              NO|          Amenazas| 2018-11-05|         true|\n",
      "+------------+--------------------+--------+--------------------------+------------------+---------------------------+---------+------------------+-----------------+-----------------+-------------+--------------------+----------------+------------------+-----------+-------------+\n",
      "only showing top 5 rows\n"
     ]
    }
   ],
   "source": [
    "causas2.show(5)"
   ]
  },
  {
   "cell_type": "code",
   "execution_count": 32,
   "id": "52993c27-249b-42d0-a999-908f30779708",
   "metadata": {},
   "outputs": [],
   "source": [
    "from pyspark.sql.functions import col"
   ]
  },
  {
   "cell_type": "code",
   "execution_count": 33,
   "id": "4e306413-83b0-4220-a31b-1bc175388e6c",
   "metadata": {},
   "outputs": [],
   "source": [
    "consulta = causas.select('*').where(col('delito_descripcion') == 'Amenazas')"
   ]
  },
  {
   "cell_type": "code",
   "execution_count": 35,
   "id": "47a6740a-95b0-4d25-95e7-24ecd13c0cf6",
   "metadata": {},
   "outputs": [],
   "source": [
    "consulta.write.save('salida_prueba', format = 'json')"
   ]
  }
 ],
 "metadata": {
  "kernelspec": {
   "display_name": "Python [conda env:base] *",
   "language": "python",
   "name": "conda-base-py"
  },
  "language_info": {
   "codemirror_mode": {
    "name": "ipython",
    "version": 3
   },
   "file_extension": ".py",
   "mimetype": "text/x-python",
   "name": "python",
   "nbconvert_exporter": "python",
   "pygments_lexer": "ipython3",
   "version": "3.12.7"
  }
 },
 "nbformat": 4,
 "nbformat_minor": 5
}
