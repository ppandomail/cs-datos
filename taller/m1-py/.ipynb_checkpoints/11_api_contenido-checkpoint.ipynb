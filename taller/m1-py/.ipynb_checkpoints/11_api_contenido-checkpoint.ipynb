{
 "cells": [
  {
   "cell_type": "markdown",
   "id": "024c1df9-6c4b-4a58-8669-bdfd8fd2990d",
   "metadata": {},
   "source": [
    "# API\n",
    "---"
   ]
  },
  {
   "cell_type": "code",
   "execution_count": null,
   "id": "20f31f3b-77b8-4bfa-828e-4321ecd465a4",
   "metadata": {},
   "outputs": [],
   "source": []
  }
 ],
 "metadata": {
  "kernelspec": {
   "display_name": "Python [conda env:base] *",
   "language": "python",
   "name": "conda-base-py"
  },
  "language_info": {
   "codemirror_mode": {
    "name": "ipython",
    "version": 3
   },
   "file_extension": ".py",
   "mimetype": "text/x-python",
   "name": "python",
   "nbconvert_exporter": "python",
   "pygments_lexer": "ipython3",
   "version": "3.12.7"
  }
 },
 "nbformat": 4,
 "nbformat_minor": 5
}
