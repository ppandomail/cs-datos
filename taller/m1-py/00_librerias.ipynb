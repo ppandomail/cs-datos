{
 "cells": [
  {
   "cell_type": "markdown",
   "id": "b213abcb-a1e7-45e0-93d8-c47a96592f09",
   "metadata": {},
   "source": [
    "# Librerias"
   ]
  },
  {
   "cell_type": "markdown",
   "id": "d44a4b3c-8fac-445e-9b7c-59de1a62250a",
   "metadata": {},
   "source": [
    "## Con instalación"
   ]
  },
  {
   "cell_type": "markdown",
   "id": "ff8b7ed9-e73d-43f4-b13a-ffcebf1e9d90",
   "metadata": {},
   "source": [
    "* Repo: [https://pypi.org/](https://pypi.org/)\n",
    "* pip install \\<nombre-libreria>"
   ]
  },
  {
   "cell_type": "markdown",
   "id": "c110a8f7-ad16-43db-afbf-8b5b43927bf6",
   "metadata": {},
   "source": [
    "### faker"
   ]
  },
  {
   "cell_type": "markdown",
   "id": "6fc67928-c2bf-43d6-88e2-f8aa89e7259b",
   "metadata": {},
   "source": [
    "* Generador de datos falsos/sintéticos"
   ]
  },
  {
   "cell_type": "code",
   "execution_count": 47,
   "id": "a3675861-186c-4b78-9eac-7aeca0656ec9",
   "metadata": {},
   "outputs": [],
   "source": [
    "from faker import Faker"
   ]
  },
  {
   "cell_type": "code",
   "execution_count": 48,
   "id": "d9ff719a-52d6-4a3f-b2cd-4c87dbbbc2e3",
   "metadata": {},
   "outputs": [],
   "source": [
    "fake = Faker()"
   ]
  },
  {
   "cell_type": "code",
   "execution_count": 49,
   "id": "acac8ee5-81a7-4300-9086-4d827cb91a10",
   "metadata": {},
   "outputs": [
    {
     "data": {
      "text/plain": [
       "'Dominique Jackson'"
      ]
     },
     "execution_count": 49,
     "metadata": {},
     "output_type": "execute_result"
    }
   ],
   "source": [
    "fake.name()"
   ]
  },
  {
   "cell_type": "code",
   "execution_count": 50,
   "id": "a1129e15-2704-4757-abef-e811fe449b78",
   "metadata": {},
   "outputs": [
    {
     "data": {
      "text/plain": [
       "'30179 Perez Terrace\\nBrittanyfort, NJ 56958'"
      ]
     },
     "execution_count": 50,
     "metadata": {},
     "output_type": "execute_result"
    }
   ],
   "source": [
    "fake.address()"
   ]
  },
  {
   "cell_type": "code",
   "execution_count": 51,
   "id": "ff6aaf06-ce6f-4b8c-9c6a-6a3c4e66f4a1",
   "metadata": {},
   "outputs": [
    {
     "data": {
      "text/plain": [
       "'Write yourself admit politics sing. Treatment Congress call moment. Relate amount chance rest left person old ready.'"
      ]
     },
     "execution_count": 51,
     "metadata": {},
     "output_type": "execute_result"
    }
   ],
   "source": [
    "fake.text()"
   ]
  },
  {
   "cell_type": "code",
   "execution_count": 52,
   "id": "2930a979-e0d8-41ee-a8d0-dbaca71fad1e",
   "metadata": {},
   "outputs": [],
   "source": [
    "fake = Faker('pt_BR')"
   ]
  },
  {
   "cell_type": "code",
   "execution_count": 53,
   "id": "7a037fb5-2db1-4529-9324-aa5be7711e85",
   "metadata": {},
   "outputs": [
    {
     "data": {
      "text/plain": [
       "'Zoe Martins'"
      ]
     },
     "execution_count": 53,
     "metadata": {},
     "output_type": "execute_result"
    }
   ],
   "source": [
    "fake.name()"
   ]
  },
  {
   "cell_type": "code",
   "execution_count": 54,
   "id": "ef59a38f-3af3-45dd-9162-e754a16f0fd1",
   "metadata": {},
   "outputs": [
    {
     "data": {
      "text/plain": [
       "'Favela Moreira, 7\\nCaiçaras\\n37871165 Sales / GO'"
      ]
     },
     "execution_count": 54,
     "metadata": {},
     "output_type": "execute_result"
    }
   ],
   "source": [
    "fake.address()"
   ]
  },
  {
   "cell_type": "code",
   "execution_count": 55,
   "id": "05263ac2-34dd-493a-ab8e-923afaa8369d",
   "metadata": {},
   "outputs": [
    {
     "data": {
      "text/plain": [
       "'Quos nesciunt reprehenderit quo voluptatum. Esse alias sint tempore.\\nQuaerat hic numquam at et. Quas hic molestias iure omnis aliquid id. In consequatur ipsum ex.'"
      ]
     },
     "execution_count": 55,
     "metadata": {},
     "output_type": "execute_result"
    }
   ],
   "source": [
    "fake.text()"
   ]
  },
  {
   "cell_type": "code",
   "execution_count": 56,
   "id": "41ceca6c-25bb-41b0-9cb0-9de37a0bfe04",
   "metadata": {},
   "outputs": [],
   "source": [
    "fake = Faker('es_AR')"
   ]
  },
  {
   "cell_type": "code",
   "execution_count": 57,
   "id": "8fedcce3-f468-4af5-9645-d9c92988e328",
   "metadata": {},
   "outputs": [
    {
     "data": {
      "text/plain": [
       "'Calle Malvinas Argentinas N° 38 Piso 4 Dto. 2\\nCórdoba 5000, Córdoba'"
      ]
     },
     "execution_count": 57,
     "metadata": {},
     "output_type": "execute_result"
    }
   ],
   "source": [
    "fake.address()"
   ]
  },
  {
   "cell_type": "markdown",
   "id": "b0c7667e-2ac7-4b34-b463-16fdc0031b36",
   "metadata": {},
   "source": [
    "### Librerías para ML y Data Science"
   ]
  },
  {
   "cell_type": "markdown",
   "id": "cb0201bf-0e45-40a2-9a01-cad61b69c380",
   "metadata": {},
   "source": [
    "|                  |                                                                    |\n",
    "| --               | --                                                                 |\n",
    "| **scipy**        | funciones matemáticas y estadísticas para aplicaciones científicas |\n",
    "| **scikit-learn** | algoritmos de ML                                                   |\n",
    "| **tensorflow**   | algoritmos de ML y aprendizaje profundo                            |\n",
    "| **keras**        | entrenar redes neuronales                                          |\n",
    "| **nltk**         | funciones para PNL                                                 |\n",
    "| **pandas**       | funciones para análisis de datos                                   | \n",
    "| **numpy**        | funciones matemáticas avanzadas                                    |\n",
    "| **matplotlib**   | análisis y representación básica de gráfica de datos               |\n",
    "| **plotly**       | graficación interactiva                                            |\n"
   ]
  }
 ],
 "metadata": {
  "kernelspec": {
   "display_name": "Python [conda env:base] *",
   "language": "python",
   "name": "conda-base-py"
  },
  "language_info": {
   "codemirror_mode": {
    "name": "ipython",
    "version": 3
   },
   "file_extension": ".py",
   "mimetype": "text/x-python",
   "name": "python",
   "nbconvert_exporter": "python",
   "pygments_lexer": "ipython3",
   "version": "3.12.7"
  }
 },
 "nbformat": 4,
 "nbformat_minor": 5
}
