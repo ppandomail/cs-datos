{
 "cells": [
  {
   "cell_type": "markdown",
   "id": "9d183f40-918c-44ef-af92-1574d2aadf5e",
   "metadata": {},
   "source": [
    "# Numpy"
   ]
  },
  {
   "cell_type": "markdown",
   "id": "0b4456df-f540-44e7-a7b6-f02ceb53e9f8",
   "metadata": {},
   "source": [
    "* Numeric Python\n",
    "* Paquete fundamental para cómputo científico en Python\n",
    "* Sirve para crear y utilizar vectores y matrices (ndarray)\n",
    "* Realizar cálculos estadísticos y matemáticos\n",
    "* Provee un tipo de datos **array**, similar a las listas, muy eficiente para hacer cálculos\n",
    "* Los arrays de NumPy deben ser homogéneos (valores del mismo tipo)"
   ]
  },
  {
   "cell_type": "markdown",
   "id": "b75ef52c-062f-465f-aef3-b913f1037684",
   "metadata": {},
   "source": [
    "## Instalación"
   ]
  },
  {
   "cell_type": "markdown",
   "id": "3bf2a982-46ab-444d-9662-fc807289d884",
   "metadata": {},
   "source": [
    "pip install numpy"
   ]
  },
  {
   "cell_type": "markdown",
   "id": "2e924417-286b-43c4-b736-c3ce97eb4034",
   "metadata": {},
   "source": [
    "## Creación de ndarray"
   ]
  },
  {
   "cell_type": "code",
   "execution_count": 1,
   "id": "093b15b2-3cff-416a-a11b-4e9f79fe2bf8",
   "metadata": {},
   "outputs": [],
   "source": [
    "import numpy as np"
   ]
  },
  {
   "cell_type": "code",
   "execution_count": 2,
   "id": "9a87d9bd-5b38-459d-8aaa-9b0c03d3f828",
   "metadata": {},
   "outputs": [
    {
     "data": {
      "text/plain": [
       "array([ 2,  3,  5,  7, 11, 13, 17, 19, 23, 29])"
      ]
     },
     "execution_count": 2,
     "metadata": {},
     "output_type": "execute_result"
    }
   ],
   "source": [
    "numeros_primos = [2, 3, 5, 7, 11, 13, 17, 19, 23, 29]\n",
    "\n",
    "array_primos = np.array(numeros_primos)\n",
    "array_primos"
   ]
  },
  {
   "cell_type": "code",
   "execution_count": 3,
   "id": "0d27e7d8-9b14-4c82-afa3-087b9128fc41",
   "metadata": {},
   "outputs": [
    {
     "data": {
      "text/plain": [
       "array([0., 0., 0., 0., 0., 0., 0., 0., 0., 0.])"
      ]
     },
     "execution_count": 3,
     "metadata": {},
     "output_type": "execute_result"
    }
   ],
   "source": [
    "array_zeros = np.zeros(10)\n",
    "array_zeros"
   ]
  },
  {
   "cell_type": "code",
   "execution_count": 4,
   "id": "ecc4ece6-6d42-4500-8d57-84319432378b",
   "metadata": {},
   "outputs": [
    {
     "data": {
      "text/plain": [
       "array([1., 1., 1., 1., 1., 1., 1., 1., 1., 1.])"
      ]
     },
     "execution_count": 4,
     "metadata": {},
     "output_type": "execute_result"
    }
   ],
   "source": [
    "array_unos = np.ones(10)\n",
    "array_unos"
   ]
  },
  {
   "cell_type": "code",
   "execution_count": 5,
   "id": "3181d08f-defb-4d0f-992a-7f6aff61a2f8",
   "metadata": {},
   "outputs": [
    {
     "data": {
      "text/plain": [
       "array([0, 1, 2, 3, 4, 5, 6, 7, 8, 9])"
      ]
     },
     "execution_count": 5,
     "metadata": {},
     "output_type": "execute_result"
    }
   ],
   "source": [
    "array_numeros = np.arange(10)\n",
    "array_numeros"
   ]
  },
  {
   "cell_type": "code",
   "execution_count": 6,
   "id": "fc56aaeb-6693-43e3-bb8b-e84bbd95da13",
   "metadata": {},
   "outputs": [
    {
     "data": {
      "text/plain": [
       "array([ 0,  2,  4,  6,  8, 10, 12, 14, 16, 18])"
      ]
     },
     "execution_count": 6,
     "metadata": {},
     "output_type": "execute_result"
    }
   ],
   "source": [
    "array_pares = np.arange(0, 20, 2)\n",
    "array_pares"
   ]
  },
  {
   "cell_type": "markdown",
   "id": "caba7cb0-26e0-472f-bb6a-854966e8d713",
   "metadata": {},
   "source": [
    "## Operaciones aritméticas"
   ]
  },
  {
   "cell_type": "code",
   "execution_count": 7,
   "id": "7b01d9ff-b183-4289-a683-1a24e95e9c99",
   "metadata": {},
   "outputs": [
    {
     "data": {
      "text/plain": [
       "array([ 1,  3,  5,  7,  9, 11, 13, 15, 17, 19])"
      ]
     },
     "execution_count": 7,
     "metadata": {},
     "output_type": "execute_result"
    }
   ],
   "source": [
    "# operaciones sobre np arrat 1-dimension y 2-dimension\n",
    "array_impares = array_pares + 1\n",
    "array_impares"
   ]
  },
  {
   "cell_type": "code",
   "execution_count": 8,
   "id": "af5dda4c-438a-47df-b79b-8b09af1c17a3",
   "metadata": {},
   "outputs": [
    {
     "data": {
      "text/plain": [
       "array([ 100,  300,  500,  700,  900, 1100, 1300, 1500, 1700, 1900])"
      ]
     },
     "execution_count": 8,
     "metadata": {},
     "output_type": "execute_result"
    }
   ],
   "source": [
    "# multiplicar por 100\n",
    "array_impares * 100"
   ]
  },
  {
   "cell_type": "code",
   "execution_count": 9,
   "id": "e3d7dc85-432f-4bf5-82cc-0156148d3af2",
   "metadata": {},
   "outputs": [
    {
     "data": {
      "text/plain": [
       "array([1, 1, 1, 1, 1, 1, 1, 1, 1, 1])"
      ]
     },
     "execution_count": 9,
     "metadata": {},
     "output_type": "execute_result"
    }
   ],
   "source": [
    "# restar entre arrays\n",
    "array_impares - array_pares"
   ]
  },
  {
   "cell_type": "markdown",
   "id": "6dace42c-9f20-4726-b6c0-94c50909130c",
   "metadata": {},
   "source": [
    "## Ejemplo: IMC"
   ]
  },
  {
   "cell_type": "code",
   "execution_count": 10,
   "id": "6b068775-e00e-4f7c-b4a8-a573948e1c21",
   "metadata": {},
   "outputs": [
    {
     "data": {
      "text/plain": [
       "array([21.85171573, 20.97505669, 21.75028214, 24.7473475 , 21.44127836,\n",
       "       28.95790289, 26.24690738])"
      ]
     },
     "execution_count": 10,
     "metadata": {},
     "output_type": "execute_result"
    }
   ],
   "source": [
    "# altura en metros de personas\n",
    "alturas = [1.73, 1.68, 1.71, 1.89, 1.79, 1.76, 1.67]\n",
    "# peso en Kg de personas\n",
    "pesos = [65.4, 59.2, 63.6, 88.4, 68.7, 89.7, 73.2]\n",
    "\n",
    "array_alturas = np.array(alturas)\n",
    "array_pesos = np.array(pesos)\n",
    "\n",
    "# IMC = Peso / (Altura ** 2)\n",
    "\n",
    "imc = array_pesos / (array_alturas ** 2)\n",
    "imc"
   ]
  },
  {
   "cell_type": "markdown",
   "id": "6510777b-cccf-4311-b8ee-d7a036c5da2c",
   "metadata": {},
   "source": [
    "## Selección de elementos (slices)"
   ]
  },
  {
   "cell_type": "code",
   "execution_count": 11,
   "id": "4bbbeff1-1cab-4e92-9861-a1c614ebfed4",
   "metadata": {},
   "outputs": [
    {
     "data": {
      "text/plain": [
       "array([ True,  True,  True,  True,  True, False,  True])"
      ]
     },
     "execution_count": 11,
     "metadata": {},
     "output_type": "execute_result"
    }
   ],
   "source": [
    "imc < 28"
   ]
  },
  {
   "cell_type": "code",
   "execution_count": 12,
   "id": "1a4c1a02-a701-4386-9ef1-327e7a3a27b9",
   "metadata": {},
   "outputs": [
    {
     "data": {
      "text/plain": [
       "array([21.85171573, 20.97505669, 21.75028214, 24.7473475 , 21.44127836,\n",
       "       26.24690738])"
      ]
     },
     "execution_count": 12,
     "metadata": {},
     "output_type": "execute_result"
    }
   ],
   "source": [
    "# subsetting / slicing numpy arrays\n",
    "imc[imc < 28]"
   ]
  },
  {
   "cell_type": "markdown",
   "id": "2f255474-f29e-4ab9-b2bc-dea2095ca196",
   "metadata": {},
   "source": [
    "## Arrays NumPy de dos dimensiones (2D)"
   ]
  },
  {
   "cell_type": "code",
   "execution_count": 13,
   "id": "302866a7-a85a-4075-9cb1-4ab53ac3f1d0",
   "metadata": {},
   "outputs": [
    {
     "data": {
      "text/plain": [
       "(7,)"
      ]
     },
     "execution_count": 13,
     "metadata": {},
     "output_type": "execute_result"
    }
   ],
   "source": [
    "# dimensiones de un array: (filas, columnas)\n",
    "imc.shape  "
   ]
  },
  {
   "cell_type": "code",
   "execution_count": 14,
   "id": "ea7fb058-af1c-4594-bff3-d05a1c5073f7",
   "metadata": {},
   "outputs": [
    {
     "data": {
      "text/plain": [
       "1"
      ]
     },
     "execution_count": 14,
     "metadata": {},
     "output_type": "execute_result"
    }
   ],
   "source": [
    "imc.ndim"
   ]
  },
  {
   "cell_type": "code",
   "execution_count": 15,
   "id": "015c67d8-3d88-40d4-a19e-30d9481adc9d",
   "metadata": {},
   "outputs": [
    {
     "data": {
      "text/plain": [
       "array([[ 1.73,  1.68,  1.71,  1.89,  1.79,  1.76,  1.67],\n",
       "       [65.4 , 59.2 , 63.6 , 88.4 , 68.7 , 89.7 , 73.2 ]])"
      ]
     },
     "execution_count": 15,
     "metadata": {},
     "output_type": "execute_result"
    }
   ],
   "source": [
    "# 2D np array\n",
    "numpy_2d = np.array([alturas, pesos])\n",
    "numpy_2d"
   ]
  },
  {
   "cell_type": "code",
   "execution_count": 16,
   "id": "ebdcc011-9d32-467d-b74c-be253fcac5d6",
   "metadata": {},
   "outputs": [
    {
     "data": {
      "text/plain": [
       "(2, 7)"
      ]
     },
     "execution_count": 16,
     "metadata": {},
     "output_type": "execute_result"
    }
   ],
   "source": [
    "numpy_2d.shape"
   ]
  },
  {
   "cell_type": "code",
   "execution_count": 17,
   "id": "b89fc2fd-d33a-4778-aa00-f35efa1940cc",
   "metadata": {},
   "outputs": [
    {
     "data": {
      "text/plain": [
       "2"
      ]
     },
     "execution_count": 17,
     "metadata": {},
     "output_type": "execute_result"
    }
   ],
   "source": [
    "numpy_2d.ndim"
   ]
  },
  {
   "cell_type": "code",
   "execution_count": 18,
   "id": "69f2392a-d778-410e-8dd5-0254dc105f3f",
   "metadata": {},
   "outputs": [
    {
     "data": {
      "text/plain": [
       "1.71"
      ]
     },
     "execution_count": 18,
     "metadata": {},
     "output_type": "execute_result"
    }
   ],
   "source": [
    "# seleccionar un elemento\n",
    "numpy_2d[0, 2]"
   ]
  },
  {
   "cell_type": "code",
   "execution_count": 19,
   "id": "d0ebead6-6943-4f03-9d69-e6f91369b088",
   "metadata": {},
   "outputs": [
    {
     "data": {
      "text/plain": [
       "array([65.4, 59.2, 63.6, 88.4, 68.7, 89.7, 73.2])"
      ]
     },
     "execution_count": 19,
     "metadata": {},
     "output_type": "execute_result"
    }
   ],
   "source": [
    "# seleccionar varios elementos por fila (solamente los pesos)\n",
    "numpy_2d[1, :]"
   ]
  },
  {
   "cell_type": "code",
   "execution_count": 20,
   "id": "f4390145-336e-48eb-9bcc-d9fe8cc97fd5",
   "metadata": {},
   "outputs": [
    {
     "data": {
      "text/plain": [
       "array([ 1.68, 59.2 ])"
      ]
     },
     "execution_count": 20,
     "metadata": {},
     "output_type": "execute_result"
    }
   ],
   "source": [
    "# seleccionar varios elementos por columna (altura y peso de la columna 1)\n",
    "numpy_2d[:, 1]"
   ]
  },
  {
   "cell_type": "code",
   "execution_count": 21,
   "id": "ebbfde48-1b67-4438-879e-3d4f591057a1",
   "metadata": {},
   "outputs": [
    {
     "data": {
      "text/plain": [
       "array([1.68, 1.67])"
      ]
     },
     "execution_count": 21,
     "metadata": {},
     "output_type": "execute_result"
    }
   ],
   "source": [
    "# utilizar filter: menores de 1.70\n",
    "numpy_2d[numpy_2d < 1.70]"
   ]
  },
  {
   "cell_type": "code",
   "execution_count": 22,
   "id": "ed8d03cc-0d85-45d2-b3e5-ad0a3beb7cc1",
   "metadata": {},
   "outputs": [
    {
     "data": {
      "text/plain": [
       "array([[ 0,  2,  4,  6,  8],\n",
       "       [10, 12, 14, 16, 18]])"
      ]
     },
     "execution_count": 22,
     "metadata": {},
     "output_type": "execute_result"
    }
   ],
   "source": [
    "# otra forma de tener un 2D NumPy Array\n",
    "A = np.arange(0, 20, 2).reshape(2, 5)\n",
    "A"
   ]
  },
  {
   "cell_type": "code",
   "execution_count": 23,
   "id": "8a895ca5-8fa0-43f6-b699-1ecc8d1c9bf8",
   "metadata": {},
   "outputs": [
    {
     "data": {
      "text/plain": [
       "array([ 0,  2,  4,  6,  8, 10, 12, 14, 16, 18])"
      ]
     },
     "execution_count": 23,
     "metadata": {},
     "output_type": "execute_result"
    }
   ],
   "source": [
    "# aplanar A (convierte a vector)\n",
    "A.flatten()"
   ]
  },
  {
   "cell_type": "markdown",
   "id": "03b77d52-4cf0-485c-86c1-334b40f3e605",
   "metadata": {},
   "source": [
    "## Transposiciones\n",
    "\n",
    "* Suponer que en lugar de tener los datos como hasta ahora (altura = 1er fila, peso = 2da fila; invididuos = columnas), se quiere tener los datos de esta manera:\n",
    "\n",
    "* 1 individuo por fila\n",
    "* 1er columna = altura\n",
    "* 2da columna = peso"
   ]
  },
  {
   "cell_type": "code",
   "execution_count": 24,
   "id": "92e60c27-c662-4cfa-b578-c43312dc2de6",
   "metadata": {},
   "outputs": [
    {
     "data": {
      "text/plain": [
       "array([[ 1.73, 65.4 ],\n",
       "       [ 1.68, 59.2 ],\n",
       "       [ 1.71, 63.6 ],\n",
       "       [ 1.89, 88.4 ],\n",
       "       [ 1.79, 68.7 ],\n",
       "       [ 1.76, 89.7 ],\n",
       "       [ 1.67, 73.2 ]])"
      ]
     },
     "execution_count": 24,
     "metadata": {},
     "output_type": "execute_result"
    }
   ],
   "source": [
    "np.transpose(numpy_2d)"
   ]
  },
  {
   "cell_type": "markdown",
   "id": "85a5b82f-c217-42e5-9963-62c3c3dc5370",
   "metadata": {},
   "source": [
    "## Métodos asociados a estadística"
   ]
  },
  {
   "cell_type": "code",
   "execution_count": 25,
   "id": "0d498157-bed8-4c81-9e0c-51a4b9bd7955",
   "metadata": {},
   "outputs": [],
   "source": [
    "dataset_veloc_autos = [99, 86, 87, 88, 111, 86, 103, 87, 94, 78, 77, 85, 86]\n",
    "speed = np.array(dataset_veloc_autos)"
   ]
  },
  {
   "cell_type": "code",
   "execution_count": 26,
   "id": "f658c8ad-773f-4eb9-ac17-bacdedbacdda",
   "metadata": {},
   "outputs": [
    {
     "data": {
      "text/plain": [
       "1167"
      ]
     },
     "execution_count": 26,
     "metadata": {},
     "output_type": "execute_result"
    }
   ],
   "source": [
    "# suma\n",
    "speed.sum()"
   ]
  },
  {
   "cell_type": "code",
   "execution_count": 27,
   "id": "ef9f1051-2f6c-4fb0-90f5-1ec48b62a48c",
   "metadata": {},
   "outputs": [
    {
     "data": {
      "text/plain": [
       "89.76923076923077"
      ]
     },
     "execution_count": 27,
     "metadata": {},
     "output_type": "execute_result"
    }
   ],
   "source": [
    "# media: valor promedio\n",
    "speed.mean()"
   ]
  },
  {
   "cell_type": "code",
   "execution_count": 28,
   "id": "82986311-f424-42ab-8c93-e0c2e654ec75",
   "metadata": {},
   "outputs": [
    {
     "data": {
      "text/plain": [
       "77"
      ]
     },
     "execution_count": 28,
     "metadata": {},
     "output_type": "execute_result"
    }
   ],
   "source": [
    "# mínimo\n",
    "speed.min()"
   ]
  },
  {
   "cell_type": "code",
   "execution_count": 29,
   "id": "c7f98868-508f-40c2-b363-88e49006c9eb",
   "metadata": {},
   "outputs": [
    {
     "data": {
      "text/plain": [
       "111"
      ]
     },
     "execution_count": 29,
     "metadata": {},
     "output_type": "execute_result"
    }
   ],
   "source": [
    "# máximo\n",
    "speed.max()"
   ]
  },
  {
   "cell_type": "code",
   "execution_count": 30,
   "id": "b91275e1-2c4c-4711-839b-6ec06c177080",
   "metadata": {},
   "outputs": [
    {
     "data": {
      "text/plain": [
       "87.0"
      ]
     },
     "execution_count": 30,
     "metadata": {},
     "output_type": "execute_result"
    }
   ],
   "source": [
    "# mediana: valor del punto medio\n",
    "mediana = np.median(speed)\n",
    "mediana"
   ]
  },
  {
   "cell_type": "code",
   "execution_count": 31,
   "id": "40982065-ca16-470b-80bc-69c1982b41c2",
   "metadata": {},
   "outputs": [
    {
     "data": {
      "text/plain": [
       "9.258292301032677"
      ]
     },
     "execution_count": 31,
     "metadata": {},
     "output_type": "execute_result"
    }
   ],
   "source": [
    "# desvio estándar: describe que tan dispersos están los valores\n",
    "# si es baja -> números cerca del valor medio\n",
    "# si es alta -> valores distribuidos en un rango más amplio\n",
    "speed.std()"
   ]
  },
  {
   "cell_type": "code",
   "execution_count": 32,
   "id": "74aa84ae-c8c6-4f44-b859-04681cbe8aaf",
   "metadata": {},
   "outputs": [
    {
     "data": {
      "text/plain": [
       "85.71597633136093"
      ]
     },
     "execution_count": 32,
     "metadata": {},
     "output_type": "execute_result"
    }
   ],
   "source": [
    "# varianza: indica que tan dispersos están los valores\n",
    "speed.var()"
   ]
  },
  {
   "cell_type": "code",
   "execution_count": 33,
   "id": "fc876178-7bce-40f4-ae56-d2c7564df2c3",
   "metadata": {},
   "outputs": [
    {
     "data": {
      "text/plain": [
       "43.0"
      ]
     },
     "execution_count": 33,
     "metadata": {},
     "output_type": "execute_result"
    }
   ],
   "source": [
    "# percentiles: se usan para proporcionar un número que describe el valor al cual un \n",
    "# porcentaje determinado de los valores es inferior\n",
    "ages = [5, 31, 43, 48, 50, 41, 7, 11, 15, 39, 80, 82, 32, 2, 8, 6, 25, 36, 27, 61, 31]\n",
    "\n",
    "percentil75 = np.percentile(ages, 75)\n",
    "percentil75 # La respuesta es 43, lo que significa que el 75 % de las personas tienen 43 años o menos"
   ]
  },
  {
   "cell_type": "code",
   "execution_count": 34,
   "id": "c8bb2c2c-e9fd-4294-91b2-16f2b15637e7",
   "metadata": {},
   "outputs": [],
   "source": [
    "from scipy import stats"
   ]
  },
  {
   "cell_type": "code",
   "execution_count": 35,
   "id": "99466d24-ade8-490c-af48-22b3aacdf3ed",
   "metadata": {},
   "outputs": [
    {
     "data": {
      "text/plain": [
       "ModeResult(mode=86, count=3)"
      ]
     },
     "execution_count": 35,
     "metadata": {},
     "output_type": "execute_result"
    }
   ],
   "source": [
    "# moda: valor más común\n",
    "moda = stats.mode(speed)\n",
    "moda"
   ]
  },
  {
   "cell_type": "markdown",
   "id": "e28df087-5800-4421-888c-6a0ae5075f42",
   "metadata": {},
   "source": [
    "## Coeficientes de correlación"
   ]
  },
  {
   "cell_type": "code",
   "execution_count": 36,
   "id": "2fe55ca8-36e2-4a6c-bd13-376554edfa09",
   "metadata": {},
   "outputs": [
    {
     "data": {
      "text/plain": [
       "array([[1., 1.],\n",
       "       [1., 1.]])"
      ]
     },
     "execution_count": 36,
     "metadata": {},
     "output_type": "execute_result"
    }
   ],
   "source": [
    "# calcula el coeficiente de correlación de Pearson\n",
    "# mide la correlación lineal entre dos variables x, y\n",
    "np.corrcoef(numpy_2d[:,0], numpy_2d[:,1])"
   ]
  },
  {
   "cell_type": "markdown",
   "id": "7efb2a2d-a90a-4d75-ba67-46ffc23615f7",
   "metadata": {},
   "source": [
    "## Ordenar"
   ]
  },
  {
   "cell_type": "code",
   "execution_count": 37,
   "id": "9f2a60c7-2a60-4f43-9179-44bcb1892cea",
   "metadata": {},
   "outputs": [],
   "source": [
    "# ordenar un np array\n",
    "array_fibonacci = np.array([55, 0, 144, 1, 21, 89, 5, 8, 13, 1, 34, 3, 2])"
   ]
  },
  {
   "cell_type": "code",
   "execution_count": 38,
   "id": "417d73b0-1cc2-4eb1-b4be-86aeaeefe2a8",
   "metadata": {},
   "outputs": [
    {
     "data": {
      "text/plain": [
       "array([  0,   1,   1,   2,   3,   5,   8,  13,  21,  34,  55,  89, 144])"
      ]
     },
     "execution_count": 38,
     "metadata": {},
     "output_type": "execute_result"
    }
   ],
   "source": [
    "# orden ascendente\n",
    "np.sort(array_fibonacci)"
   ]
  },
  {
   "cell_type": "code",
   "execution_count": 39,
   "id": "ff97d8f1-f04d-4f2e-b3db-8cef6c880487",
   "metadata": {},
   "outputs": [
    {
     "data": {
      "text/plain": [
       "array([144,  89,  55,  34,  21,  13,   8,   5,   3,   2,   1,   1,   0])"
      ]
     },
     "execution_count": 39,
     "metadata": {},
     "output_type": "execute_result"
    }
   ],
   "source": [
    "# orden descendente\n",
    "-np.sort(-array_fibonacci)"
   ]
  },
  {
   "cell_type": "code",
   "execution_count": 40,
   "id": "a739cb59-c5db-4f74-9619-069b366d4b87",
   "metadata": {},
   "outputs": [
    {
     "data": {
      "text/plain": [
       "array([[10, 20, 10, 20],\n",
       "       [30, 40, 30, 40]])"
      ]
     },
     "execution_count": 40,
     "metadata": {},
     "output_type": "execute_result"
    }
   ],
   "source": [
    "# ordenar un 2D np array sobre el primer eje (columnas)\n",
    "a = np.array([[10, 40, 30, 20],[30, 20, 10, 40]])\n",
    "np.sort(a, axis=0)"
   ]
  },
  {
   "cell_type": "code",
   "execution_count": 41,
   "id": "5a1033a5-4d52-4da0-a922-e9d27c8c488c",
   "metadata": {},
   "outputs": [
    {
     "data": {
      "text/plain": [
       "array([[10, 20, 30, 40],\n",
       "       [10, 20, 30, 40]])"
      ]
     },
     "execution_count": 41,
     "metadata": {},
     "output_type": "execute_result"
    }
   ],
   "source": [
    "# ordenar un 2D np array sobre el último eje (filas)\n",
    "np.sort(a, axis=1)"
   ]
  },
  {
   "cell_type": "code",
   "execution_count": 42,
   "id": "77196a57-2213-423b-b64b-10800fa11162",
   "metadata": {},
   "outputs": [
    {
     "data": {
      "text/plain": [
       "array([10, 10, 20, 20, 30, 30, 40, 40])"
      ]
     },
     "execution_count": 42,
     "metadata": {},
     "output_type": "execute_result"
    }
   ],
   "source": [
    "# aplanar y ordenar\n",
    "np.sort(a, axis=None)"
   ]
  },
  {
   "cell_type": "markdown",
   "id": "1abacffe-01a5-48df-b8c4-dd858cbfd954",
   "metadata": {},
   "source": [
    "## Ejemplo: Muestra poblacional"
   ]
  },
  {
   "cell_type": "code",
   "execution_count": 43,
   "id": "b12765e7-c613-47f7-8fb0-2817765b47b6",
   "metadata": {},
   "outputs": [],
   "source": [
    "import numpy as np"
   ]
  },
  {
   "cell_type": "code",
   "execution_count": 44,
   "id": "d80f0f4b-4f54-4e62-a194-839716ea4c28",
   "metadata": {},
   "outputs": [],
   "source": [
    "poblacion = np.genfromtxt('data/muestra_poblacional.csv', delimiter=\",\")"
   ]
  },
  {
   "cell_type": "code",
   "execution_count": 45,
   "id": "1b19ec83-54da-43b9-a29c-03855e683746",
   "metadata": {},
   "outputs": [
    {
     "data": {
      "text/plain": [
       "array([[ 1.97, 69.67],\n",
       "       [ 1.77, 99.96],\n",
       "       [ 1.68, 49.81],\n",
       "       ...,\n",
       "       [ 1.57, 51.63],\n",
       "       [ 1.74, 50.88],\n",
       "       [ 1.77, 90.25]])"
      ]
     },
     "execution_count": 45,
     "metadata": {},
     "output_type": "execute_result"
    }
   ],
   "source": [
    "poblacion"
   ]
  },
  {
   "cell_type": "code",
   "execution_count": 46,
   "id": "c6ca6c16-977d-4346-b9d7-cd8da50308fc",
   "metadata": {},
   "outputs": [
    {
     "data": {
      "text/plain": [
       "2"
      ]
     },
     "execution_count": 46,
     "metadata": {},
     "output_type": "execute_result"
    }
   ],
   "source": [
    "poblacion.ndim"
   ]
  },
  {
   "cell_type": "code",
   "execution_count": 47,
   "id": "f351615d-28c4-4972-b9da-c27e2d6e3be0",
   "metadata": {},
   "outputs": [
    {
     "data": {
      "text/plain": [
       "array([69.67, 99.96, 49.81, ..., 51.63, 50.88, 90.25])"
      ]
     },
     "execution_count": 47,
     "metadata": {},
     "output_type": "execute_result"
    }
   ],
   "source": [
    "poblacion[:, 1]"
   ]
  },
  {
   "cell_type": "code",
   "execution_count": 48,
   "id": "168d9c46-b1c8-416e-83e8-86598e3f5518",
   "metadata": {},
   "outputs": [
    {
     "data": {
      "text/plain": [
       "array([1.97, 1.77, 1.68, ..., 1.57, 1.74, 1.77])"
      ]
     },
     "execution_count": 48,
     "metadata": {},
     "output_type": "execute_result"
    }
   ],
   "source": [
    "poblacion[:, 0]"
   ]
  },
  {
   "cell_type": "code",
   "execution_count": 49,
   "id": "516eeb60-0062-4ea3-9c7a-544c8a6a5cc5",
   "metadata": {},
   "outputs": [
    {
     "data": {
      "text/plain": [
       "array([[ 1.97, 69.67],\n",
       "       [ 1.77, 99.96],\n",
       "       [ 1.68, 49.81],\n",
       "       [ 1.88, 68.13],\n",
       "       [ 1.83, 47.57],\n",
       "       [ 2.02, 32.46],\n",
       "       [ 1.89, 65.5 ],\n",
       "       [ 1.72, 92.28],\n",
       "       [ 1.76, 40.56],\n",
       "       [ 2.05, 78.01]])"
      ]
     },
     "execution_count": 49,
     "metadata": {},
     "output_type": "execute_result"
    }
   ],
   "source": [
    "# mostrar las primeras 10 filas\n",
    "poblacion[:10, :]"
   ]
  },
  {
   "cell_type": "code",
   "execution_count": 50,
   "id": "4db06991-d546-4987-a120-83d3f762a7c6",
   "metadata": {},
   "outputs": [
    {
     "data": {
      "text/plain": [
       "(5000, 2)"
      ]
     },
     "execution_count": 50,
     "metadata": {},
     "output_type": "execute_result"
    }
   ],
   "source": [
    "poblacion.shape"
   ]
  },
  {
   "cell_type": "code",
   "execution_count": 51,
   "id": "89a995a5-eab6-4098-982b-dec56f629e5c",
   "metadata": {},
   "outputs": [
    {
     "data": {
      "text/plain": [
       "numpy.ndarray"
      ]
     },
     "execution_count": 51,
     "metadata": {},
     "output_type": "execute_result"
    }
   ],
   "source": [
    "type(poblacion)"
   ]
  },
  {
   "cell_type": "code",
   "execution_count": 52,
   "id": "d80ae12b-f0e5-4328-9d94-013dc8ad939d",
   "metadata": {},
   "outputs": [
    {
     "data": {
      "text/plain": [
       "1.7484019999999998"
      ]
     },
     "execution_count": 52,
     "metadata": {},
     "output_type": "execute_result"
    }
   ],
   "source": [
    "# promedio\n",
    "poblacion[:,0].mean()"
   ]
  },
  {
   "cell_type": "code",
   "execution_count": 53,
   "id": "793ad032-5ab1-45a5-8892-8278669d632c",
   "metadata": {},
   "outputs": [
    {
     "data": {
      "text/plain": [
       "1.74"
      ]
     },
     "execution_count": 53,
     "metadata": {},
     "output_type": "execute_result"
    }
   ],
   "source": [
    "# mediana\n",
    "np.median(poblacion[:,0])"
   ]
  },
  {
   "cell_type": "code",
   "execution_count": 54,
   "id": "3c81469c-c333-4e42-bb03-c9a857324a7a",
   "metadata": {},
   "outputs": [
    {
     "data": {
      "text/plain": [
       "0.19659538752473316"
      ]
     },
     "execution_count": 54,
     "metadata": {},
     "output_type": "execute_result"
    }
   ],
   "source": [
    "# desvio\n",
    "np.std(poblacion[:,0])"
   ]
  },
  {
   "cell_type": "code",
   "execution_count": 55,
   "id": "658c1560-cbad-47ef-8cd3-be43ae47f9d4",
   "metadata": {},
   "outputs": [
    {
     "data": {
      "text/plain": [
       "0.038649746396"
      ]
     },
     "execution_count": 55,
     "metadata": {},
     "output_type": "execute_result"
    }
   ],
   "source": [
    "# varianza\n",
    "np.var(poblacion[:,0])"
   ]
  },
  {
   "cell_type": "code",
   "execution_count": 56,
   "id": "87f95aef-d3f7-40a9-8fa9-4404c812887e",
   "metadata": {},
   "outputs": [
    {
     "data": {
      "text/plain": [
       "array([1.07, 1.1 , 1.1 , ..., 2.39, 2.42, 2.43])"
      ]
     },
     "execution_count": 56,
     "metadata": {},
     "output_type": "execute_result"
    }
   ],
   "source": [
    "# ordenar los datos\n",
    "np.sort(poblacion[:,0])"
   ]
  },
  {
   "cell_type": "code",
   "execution_count": 57,
   "id": "3effd30b-b4a2-4495-a9ea-98d54152e158",
   "metadata": {},
   "outputs": [
    {
     "data": {
      "text/plain": [
       "array([[ 1.        , -0.00615188],\n",
       "       [-0.00615188,  1.        ]])"
      ]
     },
     "execution_count": 57,
     "metadata": {},
     "output_type": "execute_result"
    }
   ],
   "source": [
    "# coeficientes de correlación\n",
    "np.corrcoef(poblacion[:,0], poblacion[:,1])"
   ]
  },
  {
   "cell_type": "markdown",
   "id": "5a6f0492-f239-42e1-911c-393efb7ceed6",
   "metadata": {},
   "source": [
    "## Distribuciones de datos"
   ]
  },
  {
   "cell_type": "code",
   "execution_count": 60,
   "id": "04f8a83a-82b2-478c-836d-cfdb2aa12c00",
   "metadata": {},
   "outputs": [
    {
     "data": {
      "text/plain": [
       "array([1.55302216e+00, 4.18151314e+00, 4.51631586e+00, 1.78078325e+00,\n",
       "       2.89024743e+00, 1.50147252e+00, 4.47186575e-01, 2.06552541e+00,\n",
       "       2.14542921e+00, 2.77254460e+00, 2.32326723e+00, 3.90103817e+00,\n",
       "       2.97117995e+00, 1.57570371e+00, 2.98132612e+00, 3.88035189e+00,\n",
       "       4.13708297e+00, 7.12814546e-02, 3.19117261e+00, 1.46087625e+00,\n",
       "       4.36781506e+00, 2.21092819e+00, 2.68222966e+00, 4.01129866e+00,\n",
       "       4.75196625e+00, 2.06691469e-01, 7.17117592e-01, 2.75714970e+00,\n",
       "       2.94026030e+00, 2.22279937e+00, 3.32777126e+00, 4.92628190e+00,\n",
       "       1.88456993e+00, 2.81925996e+00, 6.22402135e-01, 1.40088551e+00,\n",
       "       2.02706183e+00, 8.77300537e-01, 1.87117334e+00, 1.03187936e+00,\n",
       "       2.55004728e+00, 3.29781909e-01, 1.19492779e-01, 2.05675590e+00,\n",
       "       5.23584381e-01, 7.96255745e-01, 2.56063604e+00, 2.43856904e+00,\n",
       "       2.28238723e+00, 1.75159305e+00, 3.23242370e+00, 1.50649517e+00,\n",
       "       3.18335176e+00, 3.84187113e+00, 3.41993777e+00, 1.76157136e+00,\n",
       "       3.42340897e+00, 2.82398869e+00, 1.23004379e+00, 1.85747708e+00,\n",
       "       1.66270142e+00, 2.60646021e+00, 5.52620800e-01, 4.70124820e+00,\n",
       "       5.70749169e-02, 4.56130623e+00, 3.94115527e+00, 3.83042111e+00,\n",
       "       4.16938023e+00, 2.85625021e+00, 1.02441761e+00, 1.50739959e+00,\n",
       "       3.25894245e+00, 3.12186299e+00, 3.57753144e+00, 2.83899768e-01,\n",
       "       2.23573949e+00, 2.62494556e+00, 2.12056434e+00, 4.71534778e+00,\n",
       "       2.18876711e+00, 2.12393543e+00, 4.94456590e+00, 4.23451644e+00,\n",
       "       3.07858858e-01, 2.53197543e+00, 1.91451572e+00, 1.75384165e+00,\n",
       "       1.49932993e+00, 2.60530331e+00, 3.26416589e+00, 3.38419132e+00,\n",
       "       9.30118388e-01, 4.77606340e+00, 2.79142647e+00, 2.55224303e+00,\n",
       "       6.51271725e-01, 2.31062111e+00, 1.38193343e+00, 2.60408624e+00,\n",
       "       4.50299745e+00, 2.60959237e+00, 3.71177401e+00, 1.67501780e+00,\n",
       "       1.38555348e+00, 1.20529964e+00, 3.47747329e+00, 3.53387133e-01,\n",
       "       2.63547200e+00, 2.34510427e+00, 4.90264520e+00, 3.60749850e+00,\n",
       "       4.25330379e+00, 1.71102157e+00, 6.59127211e-01, 4.27912991e+00,\n",
       "       1.67299007e+00, 4.71672144e+00, 2.43313465e+00, 1.06945625e+00,\n",
       "       3.25500509e+00, 4.68868052e+00, 2.07548935e+00, 7.91189858e-01,\n",
       "       1.03465227e+00, 7.52998377e-01, 2.04687120e+00, 8.39358556e-01,\n",
       "       3.93494253e+00, 2.89899632e+00, 2.34439574e+00, 1.36301060e+00,\n",
       "       1.39111369e+00, 2.62846866e+00, 2.06526357e+00, 2.87505396e+00,\n",
       "       2.36663055e-02, 4.48382206e+00, 2.74032730e+00, 4.89463201e+00,\n",
       "       4.39263496e+00, 7.99127038e-01, 1.30838882e+00, 2.87429823e+00,\n",
       "       2.04824946e+00, 2.19045639e+00, 1.56229830e+00, 3.75171025e+00,\n",
       "       1.18014831e+00, 3.97796625e+00, 2.17381332e+00, 1.02883464e+00,\n",
       "       1.83476000e+00, 2.67662705e-01, 3.51245894e+00, 2.11955162e-01,\n",
       "       1.57651698e+00, 1.85185626e+00, 6.38140366e-01, 5.85598485e-01,\n",
       "       1.46625032e+00, 6.70167740e-04, 2.24249329e+00, 3.00351522e+00,\n",
       "       8.90930143e-01, 3.14503460e-01, 2.85650257e+00, 1.88213134e-01,\n",
       "       1.35263942e+00, 6.61511351e-01, 7.55434882e-01, 3.82506590e+00,\n",
       "       1.67716780e+00, 4.04185411e+00, 4.21148692e+00, 1.14074481e+00,\n",
       "       2.18827791e+00, 4.22989946e+00, 3.43095769e+00, 7.49560471e-01,\n",
       "       2.67759098e+00, 3.70440018e+00, 2.39991163e+00, 5.52426670e-01,\n",
       "       1.60387103e+00, 3.52588467e+00, 4.24487512e+00, 7.39577821e-01,\n",
       "       1.17718134e+00, 2.79756975e+00, 1.11915168e+00, 4.03801556e+00,\n",
       "       1.44417899e+00, 2.30297245e+00, 2.07636352e+00, 3.96158642e+00,\n",
       "       4.34550521e+00, 2.77783715e+00, 1.93129779e+00, 2.22239595e+00,\n",
       "       2.97506614e-01, 3.11481980e+00, 8.37643591e-01, 1.42561517e+00,\n",
       "       1.12950684e-01, 3.22520584e+00, 1.07580101e-01, 3.49536345e+00,\n",
       "       4.42309867e-01, 1.63847187e+00, 4.42084657e+00, 1.70665942e+00,\n",
       "       2.38584443e-01, 2.45928882e+00, 7.60973219e-02, 8.64225219e-01,\n",
       "       2.55541867e+00, 1.93084519e+00, 5.11685053e-01, 8.87960732e-01,\n",
       "       4.78065266e+00, 4.30209832e+00, 1.83646089e+00, 6.46246215e-01,\n",
       "       2.36806018e+00, 2.26771368e+00, 9.04057456e-01, 3.63564631e+00,\n",
       "       3.09307064e+00, 3.80882978e-01, 2.15357940e+00, 8.34960342e-01,\n",
       "       2.96280872e+00, 3.59042158e+00, 4.03551082e+00, 3.26845995e+00,\n",
       "       8.39197418e-02, 2.00945644e+00, 2.43356291e+00, 8.00239501e-01,\n",
       "       5.28019031e-01, 2.46775113e-01, 1.20746424e+00, 4.20540746e+00,\n",
       "       2.59570152e+00, 3.02917940e+00, 2.92907358e-01, 3.36272719e+00,\n",
       "       4.84078020e+00, 2.66241558e+00])"
      ]
     },
     "execution_count": 60,
     "metadata": {},
     "output_type": "execute_result"
    }
   ],
   "source": [
    "# distribución de datos uniforme\n",
    "datos = np.random.uniform(0.0, 5.0, 250) # Crea una matriz con 250 números entre 0 y 5\n",
    "datos"
   ]
  },
  {
   "cell_type": "code",
   "execution_count": 61,
   "id": "df910c0a-a75a-496f-8d06-78094a2461bd",
   "metadata": {},
   "outputs": [
    {
     "data": {
      "text/plain": [
       "array([4.75768593, 4.11691758, 4.89319324, ..., 4.81706307, 7.03219842,\n",
       "       4.67205376])"
      ]
     },
     "execution_count": 61,
     "metadata": {},
     "output_type": "execute_result"
    }
   ],
   "source": [
    "# distribución normal de datos: los valores se concentran alrededor de un valor dado\n",
    "datos = np.random.normal(5.0, 1.0, 100000) # 5.0 es el valor medio y 1.0 la desviación estándar\n",
    "datos"
   ]
  }
 ],
 "metadata": {
  "kernelspec": {
   "display_name": "Python [conda env:base] *",
   "language": "python",
   "name": "conda-base-py"
  },
  "language_info": {
   "codemirror_mode": {
    "name": "ipython",
    "version": 3
   },
   "file_extension": ".py",
   "mimetype": "text/x-python",
   "name": "python",
   "nbconvert_exporter": "python",
   "pygments_lexer": "ipython3",
   "version": "3.12.7"
  }
 },
 "nbformat": 4,
 "nbformat_minor": 5
}
