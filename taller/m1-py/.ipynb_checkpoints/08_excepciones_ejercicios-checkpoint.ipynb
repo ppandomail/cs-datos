{
 "cells": [
  {
   "cell_type": "markdown",
   "id": "c1489484-2216-4d85-a13f-74bf0e9616ae",
   "metadata": {},
   "source": [
    "# Excepciones\n",
    "---"
   ]
  },
  {
   "cell_type": "code",
   "execution_count": null,
   "id": "626cce6d-50db-4ddc-959d-361b510711c6",
   "metadata": {},
   "outputs": [],
   "source": []
  }
 ],
 "metadata": {
  "kernelspec": {
   "display_name": "Python [conda env:base] *",
   "language": "python",
   "name": "conda-base-py"
  },
  "language_info": {
   "codemirror_mode": {
    "name": "ipython",
    "version": 3
   },
   "file_extension": ".py",
   "mimetype": "text/x-python",
   "name": "python",
   "nbconvert_exporter": "python",
   "pygments_lexer": "ipython3",
   "version": "3.12.7"
  }
 },
 "nbformat": 4,
 "nbformat_minor": 5
}
