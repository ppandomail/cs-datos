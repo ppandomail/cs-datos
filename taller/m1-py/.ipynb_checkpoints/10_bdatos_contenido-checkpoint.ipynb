{
 "cells": [
  {
   "cell_type": "markdown",
   "id": "8df7b7d0-0ea2-496a-a982-835bc47bcc91",
   "metadata": {},
   "source": [
    "# Base de Datos\n",
    "---"
   ]
  },
  {
   "cell_type": "code",
   "execution_count": null,
   "id": "63428e05-8fa7-4ff0-8781-c71c4523fef9",
   "metadata": {},
   "outputs": [],
   "source": []
  }
 ],
 "metadata": {
  "kernelspec": {
   "display_name": "Python [conda env:base] *",
   "language": "python",
   "name": "conda-base-py"
  },
  "language_info": {
   "codemirror_mode": {
    "name": "ipython",
    "version": 3
   },
   "file_extension": ".py",
   "mimetype": "text/x-python",
   "name": "python",
   "nbconvert_exporter": "python",
   "pygments_lexer": "ipython3",
   "version": "3.12.7"
  }
 },
 "nbformat": 4,
 "nbformat_minor": 5
}
