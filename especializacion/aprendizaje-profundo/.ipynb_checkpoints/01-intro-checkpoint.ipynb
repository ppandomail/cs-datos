{
 "cells": [
  {
   "cell_type": "markdown",
   "id": "e7e8878f-883c-4e24-a049-f1d7016c62c6",
   "metadata": {},
   "source": [
    "# Introducción\n",
    "---"
   ]
  },
  {
   "cell_type": "markdown",
   "id": "370a455e-bf25-4979-a503-6143ebc53da4",
   "metadata": {},
   "source": [
    "* Prof: Mg. Diego Encinas\n",
    "* Prof: Ing. Roman Bond\n",
    "* 10 clases\n",
    "* Evaluación: TP Final"
   ]
  },
  {
   "cell_type": "markdown",
   "id": "06e6dc07-745e-4b1e-9939-b8688c8e0654",
   "metadata": {},
   "source": [
    "* Análisis de grandes volúmenes de datos => BIG DATA"
   ]
  },
  {
   "cell_type": "markdown",
   "id": "04552403-1b2d-4fbf-9e27-58830ed3f331",
   "metadata": {},
   "source": [
    "## Big Data"
   ]
  },
  {
   "cell_type": "markdown",
   "id": "e5e76105-6229-4bdd-8095-b0b6487d074d",
   "metadata": {},
   "source": [
    "* Marea de información digital\n",
    "* Arquitecturas en la Nube\n",
    "* Procesamiento de Grandes Datos\n",
    "* Como manejar los datos\n",
    "* Los datos es el petróleo de la actualidad\n",
    "\n",
    "* Big data representa una nueva generación de tecnologías y arquitecturas, diseñadas para extraer **valor** económicamente de **volúmenes** muy grandes de una amplia **variedad** de datos, al permitir la captura, el descubrimiento y/o análisis de alta **velocidad**"
   ]
  },
  {
   "cell_type": "markdown",
   "id": "197aeca2-35ba-429c-9112-2291f50f96f7",
   "metadata": {},
   "source": [
    "## Las \"V\" de Big Data"
   ]
  },
  {
   "cell_type": "markdown",
   "id": "e8ff0257-e672-46bb-8e5a-93dada7d1a88",
   "metadata": {},
   "source": [
    "* Volumen\n",
    "* Velocidad\n",
    "* Variedad: datos estructurados (relacional), no estructurados (video, audio, imágenes) y semiestructurados (archivos)\n",
    "* Valor"
   ]
  },
  {
   "cell_type": "markdown",
   "id": "30afd77a-0652-41ff-acb0-fe7366251bee",
   "metadata": {},
   "source": [
    "## Datos"
   ]
  },
  {
   "cell_type": "markdown",
   "id": "c921b53c-589d-44ac-b5a2-49094e3edb90",
   "metadata": {},
   "source": [
    "* Datos estructurados (20%)\n",
    "    * Bases de datos relacionales\n",
    "* Datos no estructurados (80%)\n",
    "    * Texto escrito en lenguaje natural\n",
    "    * Contenido multimedia, imágenes, fotos, audio y video\n",
    "* Datos semiestructurados\n",
    "    * Archivos de texto plano, planillas de cálculo"
   ]
  },
  {
   "cell_type": "markdown",
   "id": "41d03934-6426-4df0-bf2f-1141c7f20675",
   "metadata": {},
   "source": [
    "## Tiempo real o no tiempo real"
   ]
  },
  {
   "cell_type": "markdown",
   "id": "7b4b0bd3-eefa-4165-932e-25c7be923905",
   "metadata": {},
   "source": [
    "* Problemas de tiempo real\n",
    "    * Detección de fraudes\n",
    "    * Detección de fallas\n",
    "    * Determinar eventos en redes sociales para detectar alertas tempranas\n",
    "    * Publicidad web\n",
    "* Problemas de no tiempo real (batch)\n",
    "    * Segmentación de clientes\n",
    "    * Tomas de decisiones (semanales, mensuales, anuales)"
   ]
  },
  {
   "cell_type": "markdown",
   "id": "78f6015b-fe57-4762-afb8-9396e9bbda06",
   "metadata": {},
   "source": [
    "## Big Data - Desafíos"
   ]
  },
  {
   "cell_type": "markdown",
   "id": "8dae4a20-cbbc-4f35-866e-ca5e06faf3be",
   "metadata": {},
   "source": [
    "* Almacenamiento\n",
    "* Procesamiento (debe ser rápido y efectivo)\n",
    "* Diversidad de los datos (estructurados, no estructurados, semiestructurados)"
   ]
  },
  {
   "cell_type": "markdown",
   "id": "c1900837-42e7-4343-9dfa-1472adee9197",
   "metadata": {},
   "source": [
    "## Tecnologías"
   ]
  },
  {
   "cell_type": "markdown",
   "id": "2b6b8aa9-466e-46f8-9930-b6368d0e840f",
   "metadata": {},
   "source": [
    "* Para la ejecución de aplicaciones de Big Data es necesario contar con hardware y software específico\n",
    "* Clusters, sistemas distribuidos, etc.\n",
    "* Cloud computing"
   ]
  },
  {
   "cell_type": "markdown",
   "id": "a958f6a9-dd74-4223-a272-dfaa9b6fea84",
   "metadata": {},
   "source": [
    "## Casos de uso"
   ]
  },
  {
   "cell_type": "markdown",
   "id": "37bdcd35-dfe3-4027-b5ab-59096403120a",
   "metadata": {},
   "source": [
    "* Segmentación de clientes (marketing, ventas, ...)\n",
    "* Optimización de procesos de negocio (stock, RRHH, logística, ...)\n",
    "* Optimización de rendimiento personal (calorías, sueño, ...)\n",
    "* Salud\n",
    "* Rendimiento deportivo\n",
    "* Seguridad (fraudes, cyber-ataques, perfil criminal, ...)"
   ]
  },
  {
   "cell_type": "markdown",
   "id": "7fa6cda0-ae8f-4457-9b63-d3a3710282a9",
   "metadata": {},
   "source": [
    "## Herramientas"
   ]
  },
  {
   "cell_type": "markdown",
   "id": "776f8210-7a83-4746-aca0-8f41cf1fc0d3",
   "metadata": {},
   "source": [
    "* Hadoop MapReduce\n",
    "* Spark\n",
    "* Gridgane\n",
    "* HPCC\n",
    "* Storm\n",
    "* Hana\n",
    "* Hive\n",
    "* Kafka\n",
    "* Flume"
   ]
  },
  {
   "cell_type": "code",
   "execution_count": 1,
   "id": "e17d4598-8173-4250-912a-aa641d60800c",
   "metadata": {},
   "outputs": [
    {
     "ename": "KeyboardInterrupt",
     "evalue": "",
     "output_type": "error",
     "traceback": [
      "\u001b[0;31m---------------------------------------------------------------------------\u001b[0m",
      "\u001b[0;31mKeyboardInterrupt\u001b[0m                         Traceback (most recent call last)",
      "Cell \u001b[0;32mIn[1], line 8\u001b[0m\n\u001b[1;32m      5\u001b[0m         cadena\u001b[38;5;241m.\u001b[39mappend(i\u001b[38;5;241m.\u001b[39msplit()[\u001b[38;5;241m0\u001b[39m])\n\u001b[1;32m      6\u001b[0m text\u001b[38;5;241m.\u001b[39mclose()\n\u001b[0;32m----> 8\u001b[0m frecuenciaPalab \u001b[38;5;241m=\u001b[39m [cadena\u001b[38;5;241m.\u001b[39mcount(w) \u001b[38;5;28;01mfor\u001b[39;00m w \u001b[38;5;129;01min\u001b[39;00m cadena] \n\u001b[1;32m     10\u001b[0m \u001b[38;5;28mprint\u001b[39m(\u001b[38;5;28mstr\u001b[39m(\u001b[38;5;28mlist\u001b[39m(\u001b[38;5;28mzip\u001b[39m(cadena, frecuenciaPalab))))\n",
      "\u001b[0;31mKeyboardInterrupt\u001b[0m: "
     ]
    }
   ],
   "source": [
    "cadena = []\n",
    "text = open(\"libro.txt\", mode='r', encoding='utf-8-sig')\n",
    "for line in text:\n",
    "    for i in line.split():\n",
    "        cadena.append(i.split()[0])\n",
    "text.close()\n",
    "\n",
    "frecuenciaPalab = [cadena.count(w) for w in cadena] \n",
    "\n",
    "print(str(list(zip(cadena, frecuenciaPalab))))"
   ]
  }
 ],
 "metadata": {
  "kernelspec": {
   "display_name": "Python [conda env:base] *",
   "language": "python",
   "name": "conda-base-py"
  },
  "language_info": {
   "codemirror_mode": {
    "name": "ipython",
    "version": 3
   },
   "file_extension": ".py",
   "mimetype": "text/x-python",
   "name": "python",
   "nbconvert_exporter": "python",
   "pygments_lexer": "ipython3",
   "version": "3.12.7"
  }
 },
 "nbformat": 4,
 "nbformat_minor": 5
}
