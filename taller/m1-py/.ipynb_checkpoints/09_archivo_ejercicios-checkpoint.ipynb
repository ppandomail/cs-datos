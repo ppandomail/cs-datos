{
 "cells": [
  {
   "cell_type": "markdown",
   "id": "e346531c-933d-4a9c-8b4a-0d54d639fe21",
   "metadata": {},
   "source": [
    "# Archivos - Ejercicios\n",
    "---"
   ]
  },
  {
   "cell_type": "markdown",
   "id": "f6aa02ca-0e15-4b6f-a0ab-2961fe08cff3",
   "metadata": {},
   "source": [
    "Escribir una función que pida un número entero entre 1 y 10 y guarde en un archivo con el nombre tabla-n.txt la tabla de multiplicar de ese número donde n es el número introducido"
   ]
  },
  {
   "cell_type": "code",
   "execution_count": 3,
   "id": "d8819ca1-8599-41e4-adfd-6e9d82269350",
   "metadata": {},
   "outputs": [],
   "source": [
    "def escritura_tabla_multiplicar():\n",
    "    numero = int(input('Número [1..10]: '))\n",
    "    f = open('bd/tabla-' + str(numero) + '.txt', 'w')\n",
    "    [f.write(f'{numero} x {i} = {numero * i} \\n') for i in range(1, 11)]\n",
    "    f.close()"
   ]
  },
  {
   "cell_type": "code",
   "execution_count": 4,
   "id": "94e9ac5b-88e4-40e1-b6fb-96d7386b85fc",
   "metadata": {},
   "outputs": [
    {
     "name": "stdin",
     "output_type": "stream",
     "text": [
      "Número [1..10]:  3\n"
     ]
    }
   ],
   "source": [
    "escritura_tabla_multiplicar()"
   ]
  },
  {
   "cell_type": "markdown",
   "id": "ee5de56d-231f-41f3-95ae-7c2d5d0ca488",
   "metadata": {},
   "source": [
    "Escribir una función que pida un número entero entre 1 y 10, lea el archivo tabla-n.txt con la tabla de multiplicar de ese número, donde n es el número introducido, y la muestre por pantalla. Si el archivo no existe debe mostrar un mensaje por pantalla informando de ello"
   ]
  },
  {
   "cell_type": "code",
   "execution_count": 5,
   "id": "61e5a588-9ca6-4b7b-a390-2089fb8acc17",
   "metadata": {},
   "outputs": [],
   "source": [
    "def lectura_tabla_multiplicar():\n",
    "    try:\n",
    "        f = open(f'bd/tabla-{input('Número [1..10]: ')}.txt', 'r')\n",
    "        print(f.read())\n",
    "        f.close()\n",
    "    except FileNotFoundError:\n",
    "        print('El archivo no existe!')"
   ]
  },
  {
   "cell_type": "code",
   "execution_count": 6,
   "id": "02d4a63e-c7f4-4f92-a036-df334a8e3eb8",
   "metadata": {},
   "outputs": [
    {
     "name": "stdin",
     "output_type": "stream",
     "text": [
      "Número [1..10]:  3\n"
     ]
    },
    {
     "name": "stdout",
     "output_type": "stream",
     "text": [
      "3 x 1 = 3 \n",
      "3 x 2 = 6 \n",
      "3 x 3 = 9 \n",
      "3 x 4 = 12 \n",
      "3 x 5 = 15 \n",
      "3 x 6 = 18 \n",
      "3 x 7 = 21 \n",
      "3 x 8 = 24 \n",
      "3 x 9 = 27 \n",
      "3 x 10 = 30 \n",
      "\n"
     ]
    }
   ],
   "source": [
    "lectura_tabla_multiplicar()"
   ]
  },
  {
   "cell_type": "markdown",
   "id": "e88ef37a-4f50-4621-9371-3b4f89d19679",
   "metadata": {},
   "source": [
    "Escribir una función que pida dos números n y m entre 1 y 10, lea el archivo tabla-n.txt con la tabla de multiplicar de ese número, y muestre por pantalla la línea m del archivo. Si el archivo no existe debe mostrar un mensaje por pantalla informando de ello"
   ]
  },
  {
   "cell_type": "code",
   "execution_count": 7,
   "id": "dfac429b-6c93-4fa4-8c6f-095c963a43fd",
   "metadata": {},
   "outputs": [],
   "source": [
    "def lectura_linea_tabla_multiplicar():\n",
    "    try:\n",
    "        f = open(f'bd/tabla-{input('Número N [1..10]: ')}.txt', 'r')\n",
    "        print(f.readlines()[int(input('Número M [1..10]: ')) - 1])\n",
    "        f.close()\n",
    "    except FileNotFoundError:\n",
    "        print('El archivo no existe!')"
   ]
  },
  {
   "cell_type": "code",
   "execution_count": 8,
   "id": "10d8aadd-becc-43d4-a0d3-cd3346d0aa74",
   "metadata": {},
   "outputs": [
    {
     "name": "stdin",
     "output_type": "stream",
     "text": [
      "Número N [1..10]:  3\n",
      "Número M [1..10]:  2\n"
     ]
    },
    {
     "name": "stdout",
     "output_type": "stream",
     "text": [
      "3 x 2 = 6 \n",
      "\n"
     ]
    }
   ],
   "source": [
    "lectura_linea_tabla_multiplicar()"
   ]
  },
  {
   "cell_type": "markdown",
   "id": "2dd7df2b-737d-4f02-8d01-05d1d85303aa",
   "metadata": {},
   "source": [
    "Escribir un programa que acceda a un archivo de internet mediante su url y muestre por pantalla el número de palabras que contiene"
   ]
  },
  {
   "cell_type": "code",
   "execution_count": 9,
   "id": "aee24dbf-df8b-43f1-ac9f-9f272f5eff28",
   "metadata": {},
   "outputs": [
    {
     "name": "stdout",
     "output_type": "stream",
     "text": [
      "2972\n"
     ]
    }
   ],
   "source": [
    "import urllib.request\n",
    "\n",
    "response = urllib.request.urlopen('https://www.python.org/') \n",
    "print(len(response.read().split()))"
   ]
  },
  {
   "cell_type": "markdown",
   "id": "3b6d1eb4-8b6b-4dc7-906d-c8e946aae2e5",
   "metadata": {},
   "source": [
    "Escribir un programa para gestionar un listado telefónico con los nombres y los teléfonos de los clientes de una empresa. El programa debe incorporar funciones crear el fichero con el listín si no existe, para consultar el teléfono de un cliente, añadir el teléfono de un nuevo cliente y eliminar el teléfono de un cliente. El listado debe estar guardado en el archivo de texto listado.txt donde el nombre del cliente y su teléfono deben aparecer separados por comas y cada cliente en una línea\n",
    "distinta"
   ]
  },
  {
   "cell_type": "code",
   "execution_count": 10,
   "id": "fec2f078-f946-48e0-b56a-1c5653aa031b",
   "metadata": {},
   "outputs": [],
   "source": [
    "mapa = {}\n",
    "\n",
    "def menu():\n",
    "    opc = 0\n",
    "    leer_archivo()\n",
    "    while (opc != 4):\n",
    "        if opc == 1:\n",
    "            agregar()\n",
    "        if opc == 2:\n",
    "            eliminar()\n",
    "        if opc == 3:\n",
    "            consultar()\n",
    "        if opc != 0:\n",
    "            input()\n",
    "        print()\n",
    "        print('--------MENU---------')\n",
    "        print('1. Agregar teléfono')\n",
    "        print('2. Eliminar teléfono')\n",
    "        print('3. Consultar teléfono')\n",
    "        print('4. Salir')\n",
    "        print()\n",
    "        opc = int(input('?- '))\n",
    "    guardar()\n",
    "\n",
    "def leer_archivo():\n",
    "    try:\n",
    "        arch = open('bd/listado.txt', 'r')\n",
    "        for linea in arch.readlines():\n",
    "            lparser = linea.split(';')\n",
    "            mapa[lparser[0]] = lparser[1]\n",
    "        arch.close()\n",
    "    except FileNotFoundError:\n",
    "        open('bd/listado.txt', 'w')\n",
    "        \n",
    "def agregar():\n",
    "    cli = input('Cliente: ')\n",
    "    tel = input('Tel. :')\n",
    "    mapa[cli] = tel\n",
    "\n",
    "def eliminar():\n",
    "    cli = input('Cliente: ')\n",
    "    if cli in mapa.keys():\n",
    "        mapa.pop(cli)\n",
    "    else:\n",
    "        print('Cliente no encontrado...')\n",
    "\n",
    "def consultar():\n",
    "    cli = input('Cliente: ')\n",
    "    if cli in mapa.keys():\n",
    "        print('Tel.: ' + mapa[cli])\n",
    "    else:\n",
    "        print('Cliente no encontrado...')\n",
    "\n",
    "def guardar():\n",
    "    arch = open('bd/listado.txt', 'w')\n",
    "    for item in mapa.items():\n",
    "        arch.write(item[0] + ',' + item[1] + '\\n')\n",
    "    arch.close()"
   ]
  },
  {
   "cell_type": "code",
   "execution_count": 11,
   "id": "20182c92-e389-4670-859b-2ff22c5d7048",
   "metadata": {},
   "outputs": [
    {
     "name": "stdout",
     "output_type": "stream",
     "text": [
      "\n",
      "--------MENU---------\n",
      "1. Agregar teléfono\n",
      "2. Eliminar teléfono\n",
      "3. Consultar teléfono\n",
      "4. Salir\n",
      "\n"
     ]
    },
    {
     "name": "stdin",
     "output_type": "stream",
     "text": [
      "?-  4\n"
     ]
    }
   ],
   "source": [
    "menu()"
   ]
  },
  {
   "cell_type": "markdown",
   "id": "3c928653-7479-40e6-9533-dd6aa3cdddeb",
   "metadata": {},
   "source": [
    "El fichero cotizacion.csv contiene las cotizaciones de las empresas del IBEX35 con las siguientes columnas: Nombre (nombre de la empresa), Final (precio de la acción al cierre de bolsa), Máximo (precio máximo de la acción durante la jornada), Mínimo (precio mínimo de la acción durante la\n",
    "jornada), Volumen (Volumen al cierre de bolsa), Efectivo (capitalización al cierre en miles de euros)\n",
    "1. Construir una función que reciba el archivo de cotizaciones y devuelva un diccionario con los datos del archivo por columnas\n",
    "2. Construir una función que reciba el diccionario devuelto por la función anterior y cree un archivo en formato csv con el mínimo, el máximo y la media de dada columna"
   ]
  },
  {
   "cell_type": "code",
   "execution_count": 15,
   "id": "7229d019-88ff-4b0b-a306-181d197413db",
   "metadata": {},
   "outputs": [],
   "source": [
    "def generar_dicc_cotizaciones(archivo):\n",
    "    dicc = {}\n",
    "    arch = open(archivo, 'r')\n",
    "    lineas = arch.readlines()\n",
    "    for linea in lineas:\n",
    "        lparser = linea.split(';')\n",
    "        datos = {}\n",
    "        datos['final'] = float(lparser[1])\n",
    "        datos['max'] = float(lparser[2])\n",
    "        datos['min'] = float(lparser[3])\n",
    "        datos['vol'] = float(lparser[4])\n",
    "        datos['efvo'] = float(lparser[5])\n",
    "        dicc[lparser[0]] = datos\n",
    "    return dicc\n",
    "\n",
    "def calcular_data(dicc):\n",
    "    lista_fin = []\n",
    "    lista_max = []\n",
    "    lista_min = []\n",
    "    lista_vol = []\n",
    "    lista_efvo = []\n",
    "    for cotizacion in dicc.items():\n",
    "        for col in cotizacion[1].items():\n",
    "            if col[0] == 'final':\n",
    "                lista_fin.append(col[1])\n",
    "            if col[0] == 'max':\n",
    "                lista_max.append(col[1])\n",
    "            if col[0] == 'min':\n",
    "                lista_min.append(col[1])\n",
    "            if col[0] == 'vol':\n",
    "                lista_vol.append(col[1])\n",
    "            if col[0] == 'efvo':\n",
    "                lista_efvo.append(col[1])\n",
    "    arch = open('bd/estadisticas.csv', 'w')\n",
    "    arch.write('Final;' + str(max(*lista_fin)) + ';' + str(min(*lista_fin)) + ';' + str(sum(lista_fin)/len(lista_fin)) + '\\n')\n",
    "    arch.write('Máximo;' + str(max(*lista_max)) + ';' + str(min(*lista_max)) + ';' + str(sum(lista_max)/len(lista_max)) + '\\n')\n",
    "    arch.write('Mínimo;' + str(max(*lista_min)) + ';' + str(min(*lista_min)) + ';' + str(sum(lista_min)/len(lista_min)) + '\\n')\n",
    "    arch.write('Volumen;' + str(max(*lista_vol)) + ';' + str(min(*lista_vol)) + ';' + str(sum(lista_vol)/len(lista_vol)) + '\\n')\n",
    "    arch.write('Efectivo;' + str(max(*lista_efvo)) + ';' + str(min(*lista_efvo)) + ';' + str(sum(lista_efvo)/len(lista_efvo)) + '\\n')"
   ]
  },
  {
   "cell_type": "code",
   "execution_count": 16,
   "id": "cdaa18e0-7174-4382-b9eb-b45dc8447c4f",
   "metadata": {},
   "outputs": [],
   "source": [
    "calcular_data(generar_dicc_cotizaciones('bd/cotizacion.csv'))"
   ]
  }
 ],
 "metadata": {
  "kernelspec": {
   "display_name": "Python [conda env:base] *",
   "language": "python",
   "name": "conda-base-py"
  },
  "language_info": {
   "codemirror_mode": {
    "name": "ipython",
    "version": 3
   },
   "file_extension": ".py",
   "mimetype": "text/x-python",
   "name": "python",
   "nbconvert_exporter": "python",
   "pygments_lexer": "ipython3",
   "version": "3.12.7"
  }
 },
 "nbformat": 4,
 "nbformat_minor": 5
}
