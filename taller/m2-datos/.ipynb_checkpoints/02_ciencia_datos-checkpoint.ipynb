{
 "cells": [
  {
   "cell_type": "markdown",
   "id": "43ab8757-e3c3-432a-85ea-90e028c178c7",
   "metadata": {},
   "source": [
    "# Ciencia de Datos\n",
    "---"
   ]
  },
  {
   "cell_type": "markdown",
   "id": "d3f42d6f-3517-4fdd-aa2b-2b2bb8d17c7c",
   "metadata": {},
   "source": [
    "## Qué\n",
    "---\n",
    "\n",
    "* \"Un conjunto de principios, definiciones de problemas, algoritmos, y procesos para extraer **patrones no obvios** y **útiles** a partir de grandes conjuntos de datos\"\n",
    "* \"Es el arte de convertir a los datos en acciones\"\n",
    "* Es una disciplina / práctica. Se aprende metiendo las manos\n",
    "* Problema: analizar los datos, para predecir\n",
    "* Ciencia de datos: conjunto de conocimientos en 4 áreas:\n",
    "  * Estadísticas y matemáticas\n",
    "  * Programación\n",
    "  * Negocio (dominio)\n",
    "  * Comunicación"
   ]
  },
  {
   "cell_type": "markdown",
   "id": "8162dafd-120b-44c2-ab15-47c477c1f421",
   "metadata": {},
   "source": [
    "## Para qué\n",
    "---\n",
    "\n",
    "* \"Mejorar la toma de decisiones basándose en los conocimientos extraídos de (grandes) conjuntos de datos\"\n",
    "* Aporta valor con información, con los datos vamos a sacar conclusiones y ayudar a que otras personas decidan\n",
    "* Se suele aportar valor con:\n",
    "  * Dashboards/código\n",
    "  * Pipelines de datos (ETL)\n",
    "  * Modelos de IA o ML\n",
    "  * DataViz o reportes"
   ]
  },
  {
   "cell_type": "markdown",
   "id": "2b7802ed-dd59-41b0-b83a-bfe04a13491a",
   "metadata": {},
   "source": [
    "## Por qué ahora\n",
    "---\n",
    "\n",
    "* Todos están interesados en incorporar Ciencia de Datos en las organizaciones\n",
    "* Transformación digital => crecimiento exponencial de los datos\n",
    "* Hay algoritmos de IA\n",
    "* Hay muchos datos\n",
    "* Hay poder de cómputo"
   ]
  },
  {
   "cell_type": "markdown",
   "id": "572032e0-d342-4592-a52f-cda37851d327",
   "metadata": {},
   "source": [
    "## Qué necesita un científico de datos\n",
    "---\n",
    "\n",
    "* Visión (y espíritu) críticos\n",
    "* Capacidad analítica\n",
    "* Es la persona que sabe más de estadística que un informático y sabe más de informática que un estadístico\n",
    "\n",
    "---\n",
    "* Comunicación (oratoria y storytelling)\n",
    "* Expertise en el dominio (observación, hipótesis, metodologías de trabajo)\n",
    "* Ética y regulación de datos\n",
    "* Manejo de datos y bases de datos\n",
    "* Informática (R, Python) y HPC (computación de alto rendimiento)\n",
    "* Visualización de datos\n",
    "* Probabilidad y Estadística\n",
    "* Aprendizaje Automático (ML)"
   ]
  },
  {
   "cell_type": "markdown",
   "id": "2cbec23a-e1a2-494e-a632-3da01f792af8",
   "metadata": {},
   "source": [
    "## El proceso de ciencia de datos\n",
    "---\n",
    "\n",
    "1. Comprensión del problema\n",
    "2. Comprensión de los datos. Si no se vuelve a 1)\n",
    "3. Preparación de los datos (limpieza, orden, ...)\n",
    "4. Modelado (ML). Describe los datos\n",
    "5. Evaluación\n",
    "6. Despliegue\n",
    "\n",
    "---\n",
    "* CRISP_DM: Cross-Industry Standard Process for Data Mining (2006)"
   ]
  },
  {
   "cell_type": "markdown",
   "id": "7e0ff678-a59a-44fb-9838-b192ecd22518",
   "metadata": {},
   "source": [
    "### Comprensión del problema\n",
    "---\n",
    "\n",
    "* Precisar la pregunta de interés\n",
    "* Definir los objetivos del proyecto\n",
    "* Se toman en cuenta las necesidades del negocio\n",
    "\n",
    "\n",
    "    - Reuniones en grupos específicos (ventas, marketing, logística, etc.)\n",
    "    - Interacciones con administradores de datos"
   ]
  },
  {
   "cell_type": "markdown",
   "id": "0b5d47e5-01c3-46eb-97ad-e99f3610ec9b",
   "metadata": {},
   "source": [
    "### Comprensión de los datos\n",
    "---\n",
    "\n",
    "* Recolección de datos crudos: exactitud, completitud, oportunidad, relevancia, detalle, consistencia\n",
    "* Identificar si los datos necesarios para el proyecto están disponibles\n",
    "* Se consideran asuntos de ética y privacidad\n",
    "\n",
    "\n",
    "    - Reuniones en grupos específicos (ventas, marketing, logística, etc.)\n",
    "    - Interacciones con administradores de datos"
   ]
  },
  {
   "cell_type": "markdown",
   "id": "1dbc7b22-b16d-4dc9-ad9a-d3b6af82eccf",
   "metadata": {},
   "source": [
    "### Preparación de los datos\n",
    "---\n",
    "\n",
    "* Crear un dataset coherente (limpieza) para el análisis posterior\n",
    "* Integrar datos de diversas fuentes (bases de datos)\n",
    "* Controlar la calidad de los datos (faltantes, outliers, etc.)"
   ]
  },
  {
   "cell_type": "markdown",
   "id": "5f2ba665-3da7-4bc7-b1b3-1df47e60c5c4",
   "metadata": {},
   "source": [
    "### Modelado\n",
    "---\n",
    "\n",
    "* Extracción de patrones útiles de los datos\n",
    "* Involucra modelos sencillos y/o de ML (predicción, clasificación, agrupamiento, identificando patrones y tendencias)\n",
    "* Experimentar con diversos algoritmos\n",
    "* Se identifican nuevos problemas con los datos, o con su preparación"
   ]
  },
  {
   "cell_type": "markdown",
   "id": "028d35bd-fbe0-4a31-98de-83ef625ffa7f",
   "metadata": {},
   "source": [
    "### Evaluación\n",
    "---\n",
    "\n",
    "* Evaluar el modelo en un contexto más amplio (ej. con datos que no se hayan visto antes)\n",
    "* Evaluar si cumple los objetivos del proyecto. Se logró o no se logró?"
   ]
  },
  {
   "cell_type": "markdown",
   "id": "550b84cc-1cbe-42a1-94cc-befff54d9a92",
   "metadata": {},
   "source": [
    "### Deployment\n",
    "---\n",
    "\n",
    "* Llevar la solución generada al ambiente de negocio (poner a disposición la herramienta, presentación de resultados)\n",
    "* Planear la integración con soluciones existentes\n",
    "* Planear la evaluación periódica del desempeño del modelo"
   ]
  },
  {
   "cell_type": "markdown",
   "id": "65a90ec6-f497-4653-bb03-ea22d65b0aa1",
   "metadata": {},
   "source": [
    "## Los datos\n",
    "---"
   ]
  },
  {
   "cell_type": "markdown",
   "id": "74eabc8a-36b4-4810-9eb5-de5ad2a32ee9",
   "metadata": {},
   "source": [
    "* Estructura \"tidy\" de datos (como queremos que estén los datos)\n",
    "    * Archivo csv (comma-separated-values) -> Tabla de datos con encabezado y nombres de las columnas representativas\n",
    "    * **Unidades**: objetos principales de estudio (ej. vuelos)\n",
    "    * **Variables**: son las columnas: propiedades, cualidades o cantidades de las unidades que se pueden medir\n",
    "    * **Valores**: son los estados de las variables una vez medida. Es la celda\n",
    "    * **Observaciones (DataPoint)**: son las filas, conjunto de valores medidos en condiciones similares. En general, hechas al mismi tiempo y para el mismo objeto  "
   ]
  },
  {
   "cell_type": "markdown",
   "id": "e4617229-4bf3-4255-b5f7-f4f6cfea3615",
   "metadata": {},
   "source": [
    "* **Tipo de datos**:\n",
    "    * Enteros (int)\n",
    "    * Números de punto flotante (float)\n",
    "    * Tiempos (date/datetime)\n",
    "    * Cadenas de caracteres (string)"
   ]
  },
  {
   "cell_type": "markdown",
   "id": "f60b6dcd-9698-47a6-af2d-08053c559af3",
   "metadata": {},
   "source": [
    "* **Rol de la variable**: Categórica\n",
    "    * Todos los tipos pueden funcionar como **variables categóricas**\n",
    "    * Dividen al dataset en grupos, con un número significativo de miembros en cada grupo"
   ]
  },
  {
   "cell_type": "markdown",
   "id": "0d12802e-3f43-4527-9181-2d9b7496d4b2",
   "metadata": {},
   "source": [
    "* Datos no estructurados"
   ]
  },
  {
   "cell_type": "markdown",
   "id": "5975bd1a-b193-4588-b59d-ef667eee12d2",
   "metadata": {},
   "source": [
    "* Consideraciones sobre el armado de datos"
   ]
  }
 ],
 "metadata": {
  "kernelspec": {
   "display_name": "Python [conda env:base] *",
   "language": "python",
   "name": "conda-base-py"
  },
  "language_info": {
   "codemirror_mode": {
    "name": "ipython",
    "version": 3
   },
   "file_extension": ".py",
   "mimetype": "text/x-python",
   "name": "python",
   "nbconvert_exporter": "python",
   "pygments_lexer": "ipython3",
   "version": "3.12.7"
  }
 },
 "nbformat": 4,
 "nbformat_minor": 5
}
