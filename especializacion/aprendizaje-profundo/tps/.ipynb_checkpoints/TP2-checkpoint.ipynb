{
 "cells": [
  {
   "cell_type": "markdown",
   "id": "7edbe8dc-a516-4a6a-9993-0d6f13f9877d",
   "metadata": {},
   "source": [
    "# Práctica 2 - Spark - Dataframes - SQL\n",
    "---"
   ]
  },
  {
   "cell_type": "markdown",
   "id": "cc41228b-0560-4e44-a68e-49f98b465e0f",
   "metadata": {},
   "source": [
    "#### 1. Cargue en un dataframe el archivo report.csv. Imprima en pantalla el esquema (columnas y tipos de datos asociados)"
   ]
  },
  {
   "cell_type": "code",
   "execution_count": 1,
   "id": "9cb9afd2-8dba-4986-b375-e114bb03c765",
   "metadata": {},
   "outputs": [],
   "source": [
    "import os\n",
    "os.environ['JAVA_HOME'] = '/Library/Java/JavaVirtualMachines/openjdk-17.jdk/Contents/Home'"
   ]
  },
  {
   "cell_type": "code",
   "execution_count": 2,
   "id": "a20928c4-fc92-4456-af2e-10d3add44b01",
   "metadata": {},
   "outputs": [],
   "source": [
    "from pyspark.sql import SparkSession"
   ]
  },
  {
   "cell_type": "code",
   "execution_count": 3,
   "id": "bcc4d0e8-a555-4908-a7e1-95176e9d904e",
   "metadata": {},
   "outputs": [],
   "source": [
    "from IPython.core.display import HTML"
   ]
  },
  {
   "cell_type": "code",
   "execution_count": 4,
   "id": "870b313c-b6c7-491a-814e-a9c40388cea6",
   "metadata": {},
   "outputs": [
    {
     "data": {
      "text/html": [
       "<style>pre { white-space: pre !important; }</style>"
      ],
      "text/plain": [
       "<IPython.core.display.HTML object>"
      ]
     },
     "metadata": {},
     "output_type": "display_data"
    }
   ],
   "source": [
    "display(HTML(\"<style>pre { white-space: pre !important; }</style>\"))"
   ]
  },
  {
   "cell_type": "code",
   "execution_count": 7,
   "id": "975c71ea-2413-4901-a1f2-09f7695d85d5",
   "metadata": {},
   "outputs": [],
   "source": [
    "spark = SparkSession.builder.master(\"local[*]\").getOrCreate()"
   ]
  },
  {
   "cell_type": "code",
   "execution_count": 9,
   "id": "8c4367de-f6fd-4b7a-b051-6462df9d0d4d",
   "metadata": {},
   "outputs": [],
   "source": [
    "report = spark.read.format('csv').option('header', 'true').option('inferSchema', 'true').load('tps/report.csv')"
   ]
  },
  {
   "cell_type": "code",
   "execution_count": 10,
   "id": "8785cbd1-0b2f-4c2f-bdd6-d68a61e01ff6",
   "metadata": {},
   "outputs": [
    {
     "name": "stdout",
     "output_type": "stream",
     "text": [
      "root\n",
      " |-- report_year: integer (nullable = true)\n",
      " |-- agency_code: string (nullable = true)\n",
      " |-- agency_jurisdiction: string (nullable = true)\n",
      " |-- population: integer (nullable = true)\n",
      " |-- violent_crimes: integer (nullable = true)\n",
      " |-- homicides: integer (nullable = true)\n",
      " |-- rapes: integer (nullable = true)\n",
      " |-- assaults: integer (nullable = true)\n",
      " |-- robberies: integer (nullable = true)\n",
      " |-- months_reported: integer (nullable = true)\n",
      " |-- crimes_percapita: double (nullable = true)\n",
      " |-- homicides_percapita: double (nullable = true)\n",
      " |-- rapes_percapita: double (nullable = true)\n",
      " |-- assaults_percapita: double (nullable = true)\n",
      " |-- robberies_percapita: double (nullable = true)\n",
      "\n"
     ]
    }
   ],
   "source": [
    "report.printSchema()"
   ]
  },
  {
   "cell_type": "markdown",
   "id": "6f0d5c15-5b0b-4ca3-9dbf-0923dfdf2477",
   "metadata": {},
   "source": [
    "#### 2. Muestre en pantalla 3 registros del dataframe"
   ]
  },
  {
   "cell_type": "code",
   "execution_count": 11,
   "id": "63086a67-3202-4b49-b430-90d5e72530ef",
   "metadata": {},
   "outputs": [
    {
     "name": "stdout",
     "output_type": "stream",
     "text": [
      "+-----------+-----------+-------------------+----------+--------------+---------+-----+--------+---------+---------------+----------------+-------------------+---------------+------------------+-------------------+\n",
      "|report_year|agency_code|agency_jurisdiction|population|violent_crimes|homicides|rapes|assaults|robberies|months_reported|crimes_percapita|homicides_percapita|rapes_percapita|assaults_percapita|robberies_percapita|\n",
      "+-----------+-----------+-------------------+----------+--------------+---------+-----+--------+---------+---------------+----------------+-------------------+---------------+------------------+-------------------+\n",
      "|       1975|    NM00101|    Albuquerque, NM|    286238|          2383|       30|  181|    1353|      819|             12|          832.52|              10.48|          63.23|            472.68|             286.13|\n",
      "|       1975|    TX22001|      Arlington, TX|    112478|           278|        5|   28|     132|      113|             12|          247.16|               4.45|          24.89|            117.36|             100.46|\n",
      "|       1975|    GAAPD00|        Atlanta, GA|    490584|          8033|      185|  443|    3518|     3887|             12|         1637.44|              37.71|           90.3|             717.1|             792.32|\n",
      "+-----------+-----------+-------------------+----------+--------------+---------+-----+--------+---------+---------------+----------------+-------------------+---------------+------------------+-------------------+\n",
      "only showing top 3 rows\n"
     ]
    }
   ],
   "source": [
    "report.show(3)"
   ]
  },
  {
   "cell_type": "markdown",
   "id": "c18c65c6-bc2d-4340-ac78-130a87bf02b1",
   "metadata": {},
   "source": [
    "#### 3. ¿Qué datos contiene el archivo? ¿Qué información útil se podría obtener?"
   ]
  },
  {
   "cell_type": "markdown",
   "id": "45652d2d-8972-4b9e-9523-422231edd6f7",
   "metadata": {},
   "source": [
    "* ¿Está aumentando o disminuyendo la delincuencia en Estados Unidos?\n",
    "* Delitos violentos en las jurisdicciones policiales"
   ]
  },
  {
   "cell_type": "markdown",
   "id": "97a9c9b2-24af-4f17-9a9e-b5c2f33c138f",
   "metadata": {},
   "source": [
    "#### 4. Crear una \"vista\" llamada \"crimes\""
   ]
  },
  {
   "cell_type": "code",
   "execution_count": 13,
   "id": "64164bad-e529-44fb-a411-3e7f7a2391ec",
   "metadata": {},
   "outputs": [],
   "source": [
    "report.createOrReplaceTempView('crimes')"
   ]
  },
  {
   "cell_type": "markdown",
   "id": "0a86002f-8d53-46b3-b6a2-f3a5eba7f7c9",
   "metadata": {},
   "source": [
    "#### 5. a. Obtener la cantidad de crímenes violentos por año en Detroit, Michigan. Mostrar los resultados de los años recientes primero"
   ]
  },
  {
   "cell_type": "code",
   "execution_count": 43,
   "id": "6d504f99-f98f-4739-ba8c-bcba8ace19d0",
   "metadata": {},
   "outputs": [
    {
     "name": "stdout",
     "output_type": "stream",
     "text": [
      "+-----------+-------------------+\n",
      "|report_year|sum(violent_crimes)|\n",
      "+-----------+-------------------+\n",
      "|       1990|              27747|\n",
      "|       1975|              30387|\n",
      "|       1977|              24070|\n",
      "|       2003|              18724|\n",
      "|       2007|              19690|\n",
      "|       2015|              11846|\n",
      "|       2006|              21391|\n",
      "|       1978|              21602|\n",
      "|       2013|              14501|\n",
      "|       1988|              25805|\n",
      "|       1997|              21976|\n",
      "|       1994|              27471|\n",
      "|       2014|              13622|\n",
      "|       1979|              21021|\n",
      "|       2004|              15913|\n",
      "|       1991|              28262|\n",
      "|       1982|              23746|\n",
      "|       1989|              24956|\n",
      "|       1996|              23239|\n",
      "|       1998|              24427|\n",
      "+-----------+-------------------+\n",
      "only showing top 20 rows\n"
     ]
    }
   ],
   "source": [
    "consulta_5a = spark.sql(\"SELECT report_year, SUM(violent_crimes) FROM crimes WHERE agency_jurisdiction LIKE '%Detroit%' GROUP BY report_year\")\n",
    "consulta_5a.show()"
   ]
  },
  {
   "cell_type": "markdown",
   "id": "ded28bd7-41fe-47d0-80ac-5cd7ad012595",
   "metadata": {},
   "source": [
    "#### 5. b. Mostrar la cantidad de homicidios en la ciudad de Las Vegas por año. Mostrar los resultados por año de forma creciente."
   ]
  },
  {
   "cell_type": "code",
   "execution_count": 20,
   "id": "401d63a9-eca7-41db-b070-54258690ca46",
   "metadata": {},
   "outputs": [
    {
     "name": "stdout",
     "output_type": "stream",
     "text": [
      "+-----------+--------------+\n",
      "|report_year|sum(homicides)|\n",
      "+-----------+--------------+\n",
      "|       1975|            37|\n",
      "|       1976|            35|\n",
      "|       1977|            59|\n",
      "|       1978|            54|\n",
      "|       1979|            75|\n",
      "|       1980|            92|\n",
      "|       1981|           106|\n",
      "|       1982|            88|\n",
      "|       1983|            74|\n",
      "|       1984|            67|\n",
      "|       1985|            57|\n",
      "|       1986|            75|\n",
      "|       1987|            47|\n",
      "|       1988|            54|\n",
      "|       1989|            67|\n",
      "|       1990|            79|\n",
      "|       1991|           103|\n",
      "|       1992|            99|\n",
      "|       1993|            91|\n",
      "|       1994|           105|\n",
      "+-----------+--------------+\n",
      "only showing top 20 rows\n"
     ]
    }
   ],
   "source": [
    "spark.sql(\"SELECT report_year, SUM(homicides) FROM crimes WHERE agency_jurisdiction LIKE '%Las Vegas%' GROUP BY report_year ORDER BY report_year\").show()"
   ]
  },
  {
   "cell_type": "markdown",
   "id": "93093dfb-068b-4695-833e-371b4b5fd821",
   "metadata": {},
   "source": [
    "#### 6. Realizar las consultas del ejercicios 5 utilizando los métodos del dataframe (select(), filter(), where(), etc)"
   ]
  },
  {
   "cell_type": "code",
   "execution_count": 41,
   "id": "48c743aa-f9cf-48d3-9bb2-10d03c1b4dde",
   "metadata": {},
   "outputs": [
    {
     "name": "stdout",
     "output_type": "stream",
     "text": [
      "+-----------+-------------------+\n",
      "|report_year|sum(violent_crimes)|\n",
      "+-----------+-------------------+\n",
      "|       1990|              27747|\n",
      "|       1975|              30387|\n",
      "|       1977|              24070|\n",
      "|       2003|              18724|\n",
      "|       2007|              19690|\n",
      "|       2015|              11846|\n",
      "|       2006|              21391|\n",
      "|       1978|              21602|\n",
      "|       2013|              14501|\n",
      "|       1988|              25805|\n",
      "|       1997|              21976|\n",
      "|       1994|              27471|\n",
      "|       2014|              13622|\n",
      "|       1979|              21021|\n",
      "|       2004|              15913|\n",
      "|       1991|              28262|\n",
      "|       1982|              23746|\n",
      "|       1989|              24956|\n",
      "|       1996|              23239|\n",
      "|       1998|              24427|\n",
      "+-----------+-------------------+\n",
      "only showing top 20 rows\n"
     ]
    }
   ],
   "source": [
    "report.filter(report.agency_jurisdiction.like('%Detroit%')).groupBy(report.report_year).sum('violent_crimes').show()"
   ]
  },
  {
   "cell_type": "code",
   "execution_count": 42,
   "id": "70257f1b-e2c8-44b8-8485-8d66bc1d7340",
   "metadata": {},
   "outputs": [
    {
     "name": "stdout",
     "output_type": "stream",
     "text": [
      "+-----------+--------------+\n",
      "|report_year|sum(homicides)|\n",
      "+-----------+--------------+\n",
      "|       1975|            37|\n",
      "|       1976|            35|\n",
      "|       1977|            59|\n",
      "|       1978|            54|\n",
      "|       1979|            75|\n",
      "|       1980|            92|\n",
      "|       1981|           106|\n",
      "|       1982|            88|\n",
      "|       1983|            74|\n",
      "|       1984|            67|\n",
      "|       1985|            57|\n",
      "|       1986|            75|\n",
      "|       1987|            47|\n",
      "|       1988|            54|\n",
      "|       1989|            67|\n",
      "|       1990|            79|\n",
      "|       1991|           103|\n",
      "|       1992|            99|\n",
      "|       1993|            91|\n",
      "|       1994|           105|\n",
      "+-----------+--------------+\n",
      "only showing top 20 rows\n"
     ]
    }
   ],
   "source": [
    "report.filter(report.agency_jurisdiction.like('%Las Vegas%')).groupBy(report.report_year).sum('homicides').orderBy(report.report_year.asc()).show()"
   ]
  },
  {
   "cell_type": "markdown",
   "id": "b8f1b244-5f79-460d-ace8-c02fda5baf95",
   "metadata": {},
   "source": [
    "#### 7. Guardar el resultado de la consulta 5.a en un único archivo JSON"
   ]
  },
  {
   "cell_type": "code",
   "execution_count": 45,
   "id": "ea1a9bc9-0a99-4455-8c6c-85737ce7d0e9",
   "metadata": {},
   "outputs": [],
   "source": [
    "consulta_5a.write.save('tps/salida', format = 'json')"
   ]
  }
 ],
 "metadata": {
  "kernelspec": {
   "display_name": "Python [conda env:base] *",
   "language": "python",
   "name": "conda-base-py"
  },
  "language_info": {
   "codemirror_mode": {
    "name": "ipython",
    "version": 3
   },
   "file_extension": ".py",
   "mimetype": "text/x-python",
   "name": "python",
   "nbconvert_exporter": "python",
   "pygments_lexer": "ipython3",
   "version": "3.12.7"
  }
 },
 "nbformat": 4,
 "nbformat_minor": 5
}
