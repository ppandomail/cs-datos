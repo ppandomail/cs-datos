{
 "cells": [
  {
   "cell_type": "markdown",
   "id": "bb42f622-6a2a-4b10-a4fd-d9176f6348bb",
   "metadata": {},
   "source": [
    "# Funcional - Ejercicios\n",
    "---"
   ]
  },
  {
   "cell_type": "markdown",
   "id": "1df1bf78-fcdf-409b-b346-2f0b9cbb5e7f",
   "metadata": {},
   "source": [
    "Escribir una función que aplique un descuento a un precio y otra que aplique el IVA a un precio. Escribir una tercera función que reciba un diccionario con los precios y porcentajes de una cesta de la compra, y una de las funciones anteriores, y utilice la función pasada para aplicar los descuentos o el IVA a los productos de la cesta y devolver el precio final de la cesta"
   ]
  },
  {
   "cell_type": "code",
   "execution_count": 1,
   "id": "e1f60c86-3b97-4139-9afb-10c3035eb59d",
   "metadata": {},
   "outputs": [
    {
     "name": "stdout",
     "output_type": "stream",
     "text": [
      "241.0\n",
      "159.0\n"
     ]
    }
   ],
   "source": [
    "def aplicar_descuento(precio, descuento):\n",
    "    return precio - precio * descuento / 100\n",
    "\n",
    "def aplicar_iva(precio, iva):\n",
    "    return precio + precio * iva / 100\n",
    "\n",
    "def aplicar(dicc, funcion):\n",
    "    precio_final = 0\n",
    "    for value in dicc.values():\n",
    "        precio_final += funcion(value.get('precio'), value.get('porcentaje'))\n",
    "    return precio_final\n",
    "\n",
    "print(aplicar({'1': {'precio': 100, 'porcentaje': 20}, '2': {'precio': 100, 'porcentaje': 21} }, aplicar_iva))\n",
    "print(aplicar({'1': {'precio': 100, 'porcentaje': 20}, '2': {'precio': 100, 'porcentaje': 21} }, aplicar_descuento))"
   ]
  },
  {
   "cell_type": "markdown",
   "id": "b28ea393-2d1e-4ef1-b928-b553c57b5e63",
   "metadata": {},
   "source": [
    "Escribir una función que simule una calculadora científica que permita calcular el seno, coseno, tangente, exponencial y logaritmo neperiano. La función preguntará al usuario el valor y la función a aplicar, y mostrará por pantalla una tabla con los enteros de 1 al valor introducido y el resultado de aplicar la función a esos enteros"
   ]
  },
  {
   "cell_type": "code",
   "execution_count": 3,
   "id": "8e0d77fd-5c56-47fe-854f-729dcd49d850",
   "metadata": {},
   "outputs": [
    {
     "name": "stdin",
     "output_type": "stream",
     "text": [
      "Número:  5\n",
      "Función (sin, cos, tan, exp, log):  sin\n"
     ]
    },
    {
     "name": "stdout",
     "output_type": "stream",
     "text": [
      "1 = 0.8414709848078965)\n",
      "2 = 0.9092974268256817)\n",
      "3 = 0.1411200080598672)\n",
      "4 = -0.7568024953079282)\n",
      "5 = -0.9589242746631385)\n"
     ]
    }
   ],
   "source": [
    "import math\n",
    "\n",
    "def calculadora():\n",
    "    numero = int(input('Número: '))\n",
    "    funcion = input('Función (sin, cos, tan, exp, log): ')\n",
    "    for i in range(1, numero + 1):\n",
    "        print(f'{i} = {eval('math.' + funcion + '(' + str(i) + ')')})')\n",
    "\n",
    "calculadora()"
   ]
  },
  {
   "cell_type": "markdown",
   "id": "b8848bfd-bfe3-4e8b-aa22-7534088a902f",
   "metadata": {},
   "source": [
    "Escribir una función que reciba otra función y una lista, y devuelva otra lista con el resultado de aplicar la función dada a cada uno de los elementos de la lista"
   ]
  },
  {
   "cell_type": "code",
   "execution_count": 4,
   "id": "4fbd1004-ddba-49fd-abc7-f947c4b29a33",
   "metadata": {},
   "outputs": [
    {
     "name": "stdout",
     "output_type": "stream",
     "text": [
      "[2, 3, 4, 5, 6]\n",
      "['impar', 'par', 'impar', 'par', 'impar']\n"
     ]
    }
   ],
   "source": [
    "def aplicar_funcion(funcion, lista):\n",
    "    lista_a_devolver = []\n",
    "    for elem in lista:\n",
    "        lista_a_devolver.append(funcion(elem))\n",
    "    return lista_a_devolver\n",
    "\n",
    "def incrementar_1(numero):\n",
    "    return numero + 1\n",
    "\n",
    "def par_impar(numero):\n",
    "    return 'par' if numero%2 == 0 else 'impar'\n",
    "\n",
    "print(aplicar_funcion(incrementar_1, [1, 2, 3, 4, 5]))\n",
    "print(aplicar_funcion(par_impar, [1, 2, 3, 4, 5]))"
   ]
  },
  {
   "cell_type": "markdown",
   "id": "a286b11a-98b7-4963-ae19-9b8a46d03c0f",
   "metadata": {},
   "source": [
    "Escribir una función que reciba otra función booleana y una lista, y devuelva otra lista con los elementos de la lista que devuelvan True al aplicarles la función booleana"
   ]
  },
  {
   "cell_type": "code",
   "execution_count": 5,
   "id": "60fa3d3e-e78a-4355-b37b-4da20b33ea51",
   "metadata": {},
   "outputs": [
    {
     "name": "stdout",
     "output_type": "stream",
     "text": [
      "[2, 4, 6, 8, 10]\n"
     ]
    }
   ],
   "source": [
    "def filtrar_true(funcion_booleana, lista):\n",
    "    lista_a_devolver = []\n",
    "    for elem in lista:\n",
    "        if funcion_booleana(elem):\n",
    "            lista_a_devolver.append(elem)\n",
    "    return lista_a_devolver\n",
    "\n",
    "def es_par(numero):\n",
    "    return numero % 2 == 0\n",
    "\n",
    "print(filtrar_true(es_par, [1, 2, 3, 4, 5, 6, 7, 8, 9, 10]))"
   ]
  },
  {
   "cell_type": "markdown",
   "id": "6c07881c-9137-4e80-baa6-fd1b7365e257",
   "metadata": {},
   "source": [
    "Escribir una función que reciba una frase y devuelva un diccionario con las palabras que contiene y su longitud"
   ]
  },
  {
   "cell_type": "code",
   "execution_count": 6,
   "id": "de3df144-f9cb-4e01-b263-fdccd6dd81d9",
   "metadata": {},
   "outputs": [
    {
     "name": "stdout",
     "output_type": "stream",
     "text": [
      "{'oid': 3, 'mortales': 8, 'el': 2, 'grito': 5, 'sagrado': 7}\n"
     ]
    }
   ],
   "source": [
    "def generar_dicc_palabras_longitud(frase):\n",
    "    return {value: len(value) for value in frase.split()} \n",
    "\n",
    "print(generar_dicc_palabras_longitud('oid mortales el grito sagrado'))"
   ]
  },
  {
   "cell_type": "markdown",
   "id": "60117b09-66ca-48c4-8476-3b3b2f2766a2",
   "metadata": {},
   "source": [
    "Escribir una función reciba una lista de notas y devuelva la lista de calificaciones correspondientes a esas notas"
   ]
  },
  {
   "cell_type": "code",
   "execution_count": 7,
   "id": "e1392116-d7e5-481f-a21a-0840a66af7c5",
   "metadata": {},
   "outputs": [
    {
     "name": "stdout",
     "output_type": "stream",
     "text": [
      "['aprobado', 'aprobado', 'desaprobado', 'aprobado']\n"
     ]
    }
   ],
   "source": [
    "def calificaciones(lista):\n",
    "    return list(map(lambda elem : ('aprobado' if elem >= 4 else 'desaprobado'), lista))\n",
    "\n",
    "print(calificaciones([8, 7, 2, 4]))"
   ]
  },
  {
   "cell_type": "markdown",
   "id": "cc2bdf8b-74aa-41c6-980e-3d544a91833e",
   "metadata": {},
   "source": [
    "Escribir una función reciba un diccionario con las asignaturas y las notas de un alumno y devuelva otro diccionario con las asignaturas en mayúsculas y las calificaciones correspondientes a las notas"
   ]
  },
  {
   "cell_type": "code",
   "execution_count": 8,
   "id": "194ca2c9-6866-46b4-8529-ef1b9190bac9",
   "metadata": {},
   "outputs": [
    {
     "name": "stdout",
     "output_type": "stream",
     "text": [
      "{'MATEMATICAS': 'aprobado', 'INGLES': 'aprobado', 'BIOLOGIA': 'desaprobado', 'LENGUA': 'aprobado'}\n"
     ]
    }
   ],
   "source": [
    "def calificaciones(dicc):\n",
    "    return dict(map(lambda kv : (mayusculas(kv[0]), 'aprobado' if kv[1] >= 4 else 'desaprobado'), dicc.items()))\n",
    "\n",
    "def mayusculas(nombre):\n",
    "    return nombre.upper()\n",
    "\n",
    "print(calificaciones({'matematicas': 8, 'ingles': 7, 'biologia': 2, 'lengua': 4}))"
   ]
  },
  {
   "cell_type": "markdown",
   "id": "ffa425ee-3f79-4821-a244-0e8e66d72c7c",
   "metadata": {},
   "source": [
    "Escribir una función reciba un diccionario con las asignaturas y las notas de un alumno y devuelva otro diccionario con las asignaturas en mayúsculas y las calificaciones correspondientes a las notas aprobadas"
   ]
  },
  {
   "cell_type": "code",
   "execution_count": 9,
   "id": "20734efe-be00-4c27-873a-954c8e99133a",
   "metadata": {},
   "outputs": [
    {
     "name": "stdout",
     "output_type": "stream",
     "text": [
      "{'MATEMATICAS': 'aprobado', 'INGLES': 'aprobado', 'LENGUA': 'aprobado'}\n"
     ]
    }
   ],
   "source": [
    "def calificaciones_aprobadas(dicc):\n",
    "    dicc  = dict(map(lambda kv : (mayusculas(kv[0]), 'aprobado' if kv[1] >= 4 else 'desaprobado'), dicc.items()))\n",
    "    return dict(filter(aprobadas, dicc.items()))\n",
    "\n",
    "def mayusculas(nombre):\n",
    "    return nombre.upper()\n",
    "\n",
    "def aprobadas(tupla):\n",
    "    return tupla[1] == 'aprobado'\n",
    "\n",
    "print(calificaciones_aprobadas({'matematicas': 8, 'ingles': 7, 'biologia': 2, 'lengua': 4}))"
   ]
  },
  {
   "cell_type": "markdown",
   "id": "67b63271-ca96-4b66-afc2-91a37cfd8687",
   "metadata": {},
   "source": [
    "Escribir una función que calcule el módulo de un vector"
   ]
  },
  {
   "cell_type": "code",
   "execution_count": 10,
   "id": "3aaacb0d-01fb-41c6-a9e9-28ac588614c7",
   "metadata": {},
   "outputs": [
    {
     "name": "stdout",
     "output_type": "stream",
     "text": [
      "5.0990195135927845\n"
     ]
    }
   ],
   "source": [
    "from functools import reduce\n",
    "from math import sqrt\n",
    "\n",
    "def modulo_vector(lista):\n",
    "    x = pow(reduce(diferencia, lista[0]), 2)\n",
    "    y = pow(reduce(diferencia, lista[1]), 2)\n",
    "    return sqrt(x+y)\n",
    "\n",
    "def diferencia(x1, x2):\n",
    "    return x1 - x2\n",
    "\n",
    "print(modulo_vector([[2, -3], [1, 2]]))"
   ]
  },
  {
   "cell_type": "markdown",
   "id": "c2687699-c78f-40c5-a5a4-764c66dff217",
   "metadata": {},
   "source": [
    "Escribir una función que reciba una muestra de números y devuelva los valores atípicos, es decir, los valores cuya puntuación típica sea mayor que 3 o menor que -3. Nota: La puntuación típica de un valor se obtiene restando la media y dividiendo por la desviación típica de la muestra"
   ]
  },
  {
   "cell_type": "code",
   "execution_count": 14,
   "id": "7a4aa320-b4cd-4ced-93d8-4afd9d4be340",
   "metadata": {},
   "outputs": [
    {
     "name": "stdout",
     "output_type": "stream",
     "text": [
      "[]\n"
     ]
    }
   ],
   "source": [
    "from functools import reduce\n",
    "from math import sqrt\n",
    "\n",
    "def calcular_media(lista):\n",
    "    return reduce(lambda x, y : x + y, lista)/len(lista)\n",
    "\n",
    "def desviacion_tipica(lista):\n",
    "    media = calcular_media(lista)\n",
    "    lista = list(map(lambda x: pow(x - media, 2), lista))\n",
    "    desv  = reduce(lambda x, y : x + y, lista)\n",
    "    return sqrt(desv / (len(lista) - 1))\n",
    "\n",
    "def puntuacion_tipica(valor, lista):\n",
    "    return (valor - calcular_media(lista))/desviacion_tipica(lista)\n",
    "\n",
    "def valores_atipicos(lista):\n",
    "    return list(filter(lambda x : es_atipico(puntuacion_tipica(x, lista)), lista))\n",
    "\n",
    "def es_atipico(valor):\n",
    "    return valor > 3 or valor < -3\n",
    "\n",
    "print(valores_atipicos([1, 2, 3, 34]))"
   ]
  }
 ],
 "metadata": {
  "kernelspec": {
   "display_name": "Python [conda env:base] *",
   "language": "python",
   "name": "conda-base-py"
  },
  "language_info": {
   "codemirror_mode": {
    "name": "ipython",
    "version": 3
   },
   "file_extension": ".py",
   "mimetype": "text/x-python",
   "name": "python",
   "nbconvert_exporter": "python",
   "pygments_lexer": "ipython3",
   "version": "3.12.7"
  }
 },
 "nbformat": 4,
 "nbformat_minor": 5
}
