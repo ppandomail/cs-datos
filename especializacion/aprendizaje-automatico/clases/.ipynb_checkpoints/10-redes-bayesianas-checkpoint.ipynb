{
 "cells": [
  {
   "cell_type": "markdown",
   "id": "14fcd4c7-deb1-4e78-abfd-01c75760029d",
   "metadata": {},
   "source": [
    "# Redes Bayesianas\n",
    "---"
   ]
  },
  {
   "cell_type": "markdown",
   "id": "938441bb-1516-4a2f-8c19-29f6c4b72cf0",
   "metadata": {},
   "source": [
    "## Formula de Bayes"
   ]
  },
  {
   "cell_type": "markdown",
   "id": "dfba5e1a-5e3b-4361-a0bb-5891aa02ca67",
   "metadata": {},
   "source": [
    "$$𝑃(𝐴/𝐵) = \\dfrac{𝑃(𝐵/𝐴) 𝑃(𝐴)}{𝑃(𝐵)}$$\n",
    "\n",
    "* Si se quiere calcular la probabilidad de un evento dado otro, se puede hacer en base a esta fórmula"
   ]
  },
  {
   "cell_type": "markdown",
   "id": "139b1af6-520a-4920-8008-80b2703a7866",
   "metadata": {},
   "source": [
    "## Comparando"
   ]
  },
  {
   "cell_type": "markdown",
   "id": "f1bb01d6-ee5b-4620-af96-0491777b17c0",
   "metadata": {},
   "source": [
    "* **Estimación de máxima verosimilitud**: mirar los datos\n",
    "* **Estimación bayesiana**: incorpora conocimiento o información previa"
   ]
  },
  {
   "cell_type": "markdown",
   "id": "f82b427b-625f-4abb-ac50-d4c40ac05e5f",
   "metadata": {},
   "source": [
    "## Redes Bayesianas"
   ]
  },
  {
   "cell_type": "markdown",
   "id": "fa42f5e6-eeed-457f-b8fa-6489d5777fe1",
   "metadata": {},
   "source": [
    "* Son estructuras gráficas-simbólicas para representar relaciones probabilísticas entre variables\n",
    "* Permiten definir modelos para dianóstico o predicción\n",
    "* Nodos: las variables\n",
    "* Aristas: dependencias\n",
    "* Grafo DAG (Directed Acyclic Graph)\n",
    "* Usadas para clasificación"
   ]
  },
  {
   "cell_type": "markdown",
   "id": "784a87e5-df5c-402b-8fe5-d343a8209122",
   "metadata": {},
   "source": [
    "```mermaid\n",
    "graph TD\n",
    "    A1(A1) --> C(C)\n",
    "    A2(A2) --> C\n",
    "    A3(A3) --> C\n",
    "```\n",
    "\n",
    "* P(A1=1, A2=1, A3=1, C=1)\n",
    "* Tengo $2^4$ combinaciones (parámetros)"
   ]
  },
  {
   "cell_type": "markdown",
   "id": "6b923228-933f-4dc3-a46c-24a196bc2a0b",
   "metadata": {},
   "source": [
    "* Distribución conjunta de probabilidades para las variables tal que se verifica la **Condición de Markov**: \n",
    "* ***Cada nodo es independiente de sus descendientes (nd) dado el conjunto de sus padres***"
   ]
  },
  {
   "cell_type": "markdown",
   "id": "1b3f7162-465a-43c1-82c9-2787b9ee1536",
   "metadata": {},
   "source": [
    "## Ejemplo de BN"
   ]
  },
  {
   "cell_type": "markdown",
   "id": "716bb7df-39bd-490b-bf14-b41f9a4acf69",
   "metadata": {},
   "source": [
    "```mermaid\n",
    "graph TD\n",
    "    H(H: Tiene historia de fumador?) --> B(B: Tiene bronquitis?)\n",
    "    H --> L(L: Tiene cancer de pulmón?)\n",
    "    B --> F(F: Tiene fatiga pulmonar?)\n",
    "    L --> F\n",
    "    L --> C(C: RX de torax positivo?)\n",
    "```"
   ]
  },
  {
   "cell_type": "markdown",
   "id": "07e8c3f1-bcf4-47c5-9cde-bda87c22a46f",
   "metadata": {},
   "source": [
    "* P(H=1) = 0.2\n",
    "* P(B=1/H=1) = 0.25\n",
    "* P(B=1/H=0) = 0.05\n",
    "* ...\n",
    "\n",
    "* Función de probabilidad conjunta:\n",
    "$$P(H, B, L, F, C) = P(H) P(B/H) P(L/H) P(C/L) P(F/B,L)$$"
   ]
  },
  {
   "cell_type": "markdown",
   "id": "e5d4e69c-102b-487f-a8a3-6e594ef6a476",
   "metadata": {},
   "source": [
    "## Clasificación con Redes Bayesianas"
   ]
  },
  {
   "cell_type": "markdown",
   "id": "84d06b5d-105c-48fe-8a0e-6adade87fb7c",
   "metadata": {},
   "source": [
    "```mermaid\n",
    "graph TD\n",
    "    C(C) --> A1(A1)\n",
    "    C --> A2(A2)\n",
    "    C --> A3(..)\n",
    "    C --> An(An)\n",
    "```"
   ]
  },
  {
   "cell_type": "markdown",
   "id": "f9bb99d0-0a6d-4009-aa80-250f0267b73e",
   "metadata": {},
   "source": [
    "* C: variable de clasificación\n",
    "* $A_i$: atributos\n",
    "\n",
    "* **¿Cómo predecir C a partir de los atributos?**\n",
    "  * Buscar el valor de C que maximice las probabilidades a posteriori $P(A_1, A_2,..., A_n / C) * P(C)$"
   ]
  },
  {
   "cell_type": "markdown",
   "id": "4a498de1-3387-435e-b0e3-41d51c180eea",
   "metadata": {},
   "source": [
    "## Clasificador Naive Bayes"
   ]
  },
  {
   "cell_type": "markdown",
   "id": "e88878f5-d1b7-4638-8704-732bef9b2161",
   "metadata": {},
   "source": [
    "```mermaid\n",
    "graph TD\n",
    "    C(C) --> A1(A1)\n",
    "    C --> A2(A2)\n",
    "    C --> A3(..)\n",
    "    C --> An(An)\n",
    "```\n",
    "\n",
    "$$P(A_1,... | C) = \\prod_{k=1}^{n} P(a_k / C)$$"
   ]
  },
  {
   "cell_type": "markdown",
   "id": "27548b69-531e-4d86-93e1-53f69964e774",
   "metadata": {},
   "source": [
    "## Ejemplo"
   ]
  },
  {
   "cell_type": "markdown",
   "id": "ece92274-e2d5-4665-af16-d7096528d319",
   "metadata": {},
   "source": [
    "| nom        | paricion? | vuela? | vive en agua? | tiene piernas? | clase       |\n",
    "| --         | --        | --     | --            | --             | --          |\n",
    "| human      | si        | no     | no            | si             | mamifero    |\n",
    "| python     | no        | no     | no            | no             | no-mamifero |\n",
    "| salmon     | no        | no     | si            | no             | no-mamifero |\n",
    "| whale      | si        | no     | si            | no             | mamifero    |\n",
    "| frog       | no        | no     | a veces       | si             | no-mamifero |\n",
    "| komodo     | no        | no     | no            | si             | no-mamifero |\n",
    "| bat        | si        | si     | no            | si             | mamifero    |\n",
    "| pigeon     | no        | si     | no            | si             | no-mamifero |\n",
    "| cat        | si        | no     | no            | si             | mamifero    |\n",
    "| leopard    | si        | no     | si            | no             | no-mamifero |\n",
    "| turtle     | no        | no     | a veces       | si             | no-mamifero |\n",
    "| penguin    | no        | no     | a veces       | si             | no-mamifero |\n",
    "| porcupine  | si        | no     | no            | si             | mamifero    |\n",
    "| eel        | no        | no     | si            | no             | no-mamifero |\n",
    "| salamander | no        | no     | a veces       | si             | no-mamifero |\n",
    "| gila       | no        | no     | no            | si             | no-mamifero |\n",
    "| platypus   | no        | no     | no            | si             | mamifero    |\n",
    "| owl        | no        | si     | no            | si             | no-mamifero |\n",
    "| dolphin    | si        | no     | si            | no             | mamifero    |\n",
    "| eagle      | no        | si     | no            | si             | no-mamifero |\n",
    "\n",
    "\n",
    "| caso   | paricion? | vuela? | vive en agua? | tiene piernas? | clase       |\n",
    "| --     | --        | --     | --            | --             | --          |\n",
    "|        | si        | no     | si            | no             | ????????    |"
   ]
  },
  {
   "cell_type": "markdown",
   "id": "1b49c153-b542-4f6a-8677-caa014ac0c33",
   "metadata": {},
   "source": [
    "* P(Atrib Obs/Mamifero) = 6/7 * 6/7 * 2/7 * 2/7 = 0.06 \n",
    "* P(Atrib Obs/No Mamifero) = 1/13 * 10/13 * 3/13 * 4/13 = 0.0042\n",
    "* P(Atrib Obs/Mamifero) P(Mamifero) = 0.06 + 7/20 = **0.021**\n",
    "* P(Atrib Obs/No Mamifero) P(No Mamifero) = 0.0042 * 13/20 = **0.0027**\n",
    "\n",
    "* P(Atrib Obs/Mamifero) P(Mamifero) > P(Atrib Obs/No Mamifero) P(No Mamifero) => Se lo clasifica como **mamifero**"
   ]
  },
  {
   "cell_type": "markdown",
   "id": "ab41b360-badd-4ebc-8a6e-42e901d34d17",
   "metadata": {},
   "source": [
    "¿Cómo sería clasificar con **Máxima Verosimilitud**? Veo solo los valores **0.06** y **0.0042**"
   ]
  },
  {
   "cell_type": "markdown",
   "id": "92294509-7060-47c3-8711-1e3f046026c8",
   "metadata": {},
   "source": [
    "**Bayesiano** mira las condiciones de los atributos observados y pondera por la representatividad de las clases sobre las que quiero clasificar en la población"
   ]
  },
  {
   "cell_type": "markdown",
   "id": "d6d5f066-d118-4e52-8011-0fc9a462bbea",
   "metadata": {},
   "source": [
    "* ¿Que pasaría si en la tabla se quitaría el murcielago (bat)?\n",
    "* P(Atrib Obs/Mamifero) = 5/6 * 0/6 * 1/6 * 1/6 = **0**\n",
    "* Haciendo los otros cálculos... se lo clasifica como NO MAMIFERO\n",
    "* Se sugiere usar Laplace (sumarle 1)"
   ]
  },
  {
   "cell_type": "code",
   "execution_count": 79,
   "id": "63ca24ca-18fa-420e-ad40-38d36f7b9643",
   "metadata": {},
   "outputs": [],
   "source": [
    "library(ggplot2)\n",
    "library(readxl)\n",
    "library(caret)\n",
    "library(e1071)\n",
    "library(dplyr)\n",
    "library(gridExtra)\n",
    "library(ROCR)\n",
    "library(klaR)"
   ]
  },
  {
   "cell_type": "code",
   "execution_count": 37,
   "id": "3f1b3c5a-e356-4bba-a1dd-8eda57d5d889",
   "metadata": {},
   "outputs": [],
   "source": [
    "# Lineas para limpieza\n",
    "rm(list=ls())"
   ]
  },
  {
   "cell_type": "code",
   "execution_count": 38,
   "id": "4200c45c-97e4-4e05-b039-ecbbc8ed15e4",
   "metadata": {},
   "outputs": [],
   "source": [
    "setwd(\"/Users/ppando/Materias/cs-datos/especializacion/aprendizaje-automatico/bd\")"
   ]
  },
  {
   "cell_type": "markdown",
   "id": "39485639-9e58-40d9-af67-ccac94bd8339",
   "metadata": {},
   "source": [
    "## Ejemplo Hipoteca"
   ]
  },
  {
   "cell_type": "code",
   "execution_count": 39,
   "id": "8a964a63-aefa-46dd-ba4b-e1125d02ee1b",
   "metadata": {},
   "outputs": [
    {
     "name": "stdout",
     "output_type": "stream",
     "text": [
      "tibble [2,380 × 9] (S3: tbl_df/tbl/data.frame)\n",
      " $ id       : num [1:2380] 1 2 3 4 5 6 7 8 9 10 ...\n",
      " $ gasto    : num [1:2380] 0.221 0.265 0.372 0.32 0.36 ...\n",
      " $ rat      : num [1:2380] 0.8 0.922 0.92 0.86 0.6 ...\n",
      " $ rat.desem: num [1:2380] 3.9 3.2 3.2 4.3 3.2 ...\n",
      " $ malhist  : chr [1:2380] \"no\" \"no\" \"no\" \"no\" ...\n",
      " $ auton    : chr [1:2380] \"no\" \"no\" \"no\" \"no\" ...\n",
      " $ soltero  : chr [1:2380] \"no\" \"yes\" \"no\" \"no\" ...\n",
      " $ denegado : num [1:2380] 0 0 0 0 0 0 0 0 1 0 ...\n",
      " $ malhist3 : num [1:2380] 2 2 2 2 2 2 2 2 2 1 ...\n"
     ]
    }
   ],
   "source": [
    "datos <- read_excel(\"hipoteca25b.xlsx\")\n",
    "str(datos)"
   ]
  },
  {
   "cell_type": "code",
   "execution_count": 40,
   "id": "a60a5f95-eb37-4e2a-8eba-bae988493ecd",
   "metadata": {},
   "outputs": [],
   "source": [
    "# Se elimina id\n",
    "datos <- datos[, -1]"
   ]
  },
  {
   "cell_type": "code",
   "execution_count": 41,
   "id": "4ad01968-6435-4f86-b915-9d6641669457",
   "metadata": {},
   "outputs": [],
   "source": [
    "# Se transforma las variables cualitativas a factor\n",
    "datos$denegado <- as.factor(datos$denegado)\n",
    "datos$soltero <- as.factor(datos$soltero)\n",
    "datos$auton <- as.factor(datos$auton)\n",
    "datos$malhist <- as.factor(datos$malhist)\n",
    "datos$malhist3 <- as.factor(datos$malhist3)"
   ]
  },
  {
   "cell_type": "code",
   "execution_count": null,
   "id": "554a6864-37bf-4173-83da-45a9dc1dd138",
   "metadata": {},
   "outputs": [],
   "source": [
    "# Se muestra el summary\n",
    "summary(datos)"
   ]
  },
  {
   "cell_type": "code",
   "execution_count": 42,
   "id": "6089759f-521e-4470-a5bd-73891afcaebc",
   "metadata": {},
   "outputs": [
    {
     "data": {
      "text/plain": [
       "     gasto             rat           rat.desem     malhist    auton     \n",
       " Min.   :0.0000   Min.   :0.0200   Min.   :0.000   no :2182   no :2085  \n",
       " 1st Qu.:0.2800   1st Qu.:0.6513   1st Qu.:3.100   yes: 172   yes: 269  \n",
       " Median :0.3300   Median :0.7778   Median :3.200                        \n",
       " Mean   :0.3297   Mean   :0.7324   Mean   :3.014                        \n",
       " 3rd Qu.:0.3700   3rd Qu.:0.8639   3rd Qu.:3.600                        \n",
       " Max.   :3.0000   Max.   :1.2000   Max.   :8.900                        \n",
       " soltero    denegado malhist3\n",
       " no :1432   0:2082   1: 305  \n",
       " yes: 922   1: 272   2:1877  \n",
       "                     3: 172  \n",
       "                             \n",
       "                             \n",
       "                             "
      ]
     },
     "metadata": {},
     "output_type": "display_data"
    }
   ],
   "source": [
    "# Se detectan datos muy atípicos en el préstamo solicitado respecto al valor del bien \n",
    "# saco los casos con atípicos (igual al análisis con logística)\n",
    "datos2 <- datos[datos$rat < 1.5,]\n",
    "summary(datos2)"
   ]
  },
  {
   "cell_type": "code",
   "execution_count": 43,
   "id": "656f9b72-34f4-40bd-a88a-2e0817b17d69",
   "metadata": {},
   "outputs": [],
   "source": [
    "# Se ajustan modelos en conj de entrenamiento y se lo evalua en conj de testing\n",
    "set.seed(123)\n",
    "indices <- createDataPartition(datos2$denegado, p = 0.7, list = FALSE)\n",
    "dataTrain <- datos2[indices, ] # 70 \n",
    "dataTest <- datos2[-indices, ] # 30"
   ]
  },
  {
   "cell_type": "code",
   "execution_count": 44,
   "id": "8a769d55-1c87-4813-8502-14942fa49822",
   "metadata": {},
   "outputs": [],
   "source": [
    "# Se ajusta Naive Bayes\n",
    "# OJO! no permite interacciones\n",
    "# admite variables categoricas y/o numéricas\n",
    "# las categoricas las toma como factores, las numericas como normales"
   ]
  },
  {
   "cell_type": "code",
   "execution_count": 48,
   "id": "5d9191ca-ab4f-4f65-a0f3-c71e440a9a39",
   "metadata": {},
   "outputs": [
    {
     "data": {
      "text/plain": [
       "\n",
       "Naive Bayes Classifier for Discrete Predictors\n",
       "\n",
       "Call:\n",
       "naiveBayes.default(x = X, y = Y, laplace = laplace)\n",
       "\n",
       "A-priori probabilities:\n",
       "Y\n",
       "        0         1 \n",
       "0.8841722 0.1158278 \n",
       "\n",
       "Conditional probabilities:\n",
       "   malhist\n",
       "Y           no        yes\n",
       "  0 0.95061728 0.04938272\n",
       "  1 0.73298429 0.26701571\n",
       "\n",
       "   auton\n",
       "Y          no       yes\n",
       "  0 0.8923182 0.1076818\n",
       "  1 0.8586387 0.1413613\n",
       "\n",
       "   soltero\n",
       "Y          no       yes\n",
       "  0 0.6200274 0.3799726\n",
       "  1 0.4764398 0.5235602\n"
      ]
     },
     "metadata": {},
     "output_type": "display_data"
    }
   ],
   "source": [
    "mod1 <- naiveBayes(denegado ~ malhist + auton + soltero, data = dataTrain,laplace = 0) #laplace = 1 para que lo habilite\n",
    "mod1"
   ]
  },
  {
   "cell_type": "markdown",
   "id": "f36a1bc7-af5e-444f-b49a-cf80203024ec",
   "metadata": {},
   "source": [
    "```mermaid\n",
    "graph TD\n",
    "    C(Denegado) --> A1(malhist)\n",
    "    C --> A2(auton)\n",
    "    C --> A3(soltero)\n",
    "```"
   ]
  },
  {
   "cell_type": "markdown",
   "id": "bb6738cd-c330-46fd-9886-1033fdacce71",
   "metadata": {},
   "source": [
    "* Variable objetivo (Y): si deniegan o no el préstamo\n",
    "* Variables dicotómicas: malhist, auton, soltero\n",
    "$$P(Y=1, M=yes, A=yes, S=yes)$$\n",
    "$$P(M=yes/Y=1)P(A=yes/Y=1)P(S=yes/Y=1)P(Y=1)$$\n",
    "$$0.267 * 0.141 * 0.523 * 0.115$$"
   ]
  },
  {
   "cell_type": "code",
   "execution_count": 49,
   "id": "6070f696-4490-445b-b66f-e1e35c4df7d6",
   "metadata": {},
   "outputs": [
    {
     "data": {
      "text/html": [
       "<table class=\"dataframe\">\n",
       "<caption>A tibble: 1 × 8</caption>\n",
       "<thead>\n",
       "\t<tr><th scope=col>gasto</th><th scope=col>rat</th><th scope=col>rat.desem</th><th scope=col>malhist</th><th scope=col>auton</th><th scope=col>soltero</th><th scope=col>denegado</th><th scope=col>malhist3</th></tr>\n",
       "\t<tr><th scope=col>&lt;dbl&gt;</th><th scope=col>&lt;dbl&gt;</th><th scope=col>&lt;dbl&gt;</th><th scope=col>&lt;fct&gt;</th><th scope=col>&lt;fct&gt;</th><th scope=col>&lt;fct&gt;</th><th scope=col>&lt;fct&gt;</th><th scope=col>&lt;fct&gt;</th></tr>\n",
       "</thead>\n",
       "<tbody>\n",
       "\t<tr><td>0.372</td><td>0.920398</td><td>3.2</td><td>no</td><td>no</td><td>no</td><td>0</td><td>2</td></tr>\n",
       "</tbody>\n",
       "</table>\n"
      ],
      "text/latex": [
       "A tibble: 1 × 8\n",
       "\\begin{tabular}{llllllll}\n",
       " gasto & rat & rat.desem & malhist & auton & soltero & denegado & malhist3\\\\\n",
       " <dbl> & <dbl> & <dbl> & <fct> & <fct> & <fct> & <fct> & <fct>\\\\\n",
       "\\hline\n",
       "\t 0.372 & 0.920398 & 3.2 & no & no & no & 0 & 2\\\\\n",
       "\\end{tabular}\n"
      ],
      "text/markdown": [
       "\n",
       "A tibble: 1 × 8\n",
       "\n",
       "| gasto &lt;dbl&gt; | rat &lt;dbl&gt; | rat.desem &lt;dbl&gt; | malhist &lt;fct&gt; | auton &lt;fct&gt; | soltero &lt;fct&gt; | denegado &lt;fct&gt; | malhist3 &lt;fct&gt; |\n",
       "|---|---|---|---|---|---|---|---|\n",
       "| 0.372 | 0.920398 | 3.2 | no | no | no | 0 | 2 |\n",
       "\n"
      ],
      "text/plain": [
       "  gasto rat      rat.desem malhist auton soltero denegado malhist3\n",
       "1 0.372 0.920398 3.2       no      no    no      0        2       "
      ]
     },
     "metadata": {},
     "output_type": "display_data"
    }
   ],
   "source": [
    "# Se hace la predicción en un caso:\n",
    "caso <- dataTest[1,] # el caso 1 del conjunto de Test\n",
    "caso"
   ]
  },
  {
   "cell_type": "code",
   "execution_count": 50,
   "id": "9b922f3c-c9bb-4e8b-b2ca-4f5addd5d96c",
   "metadata": {},
   "outputs": [
    {
     "data": {
      "text/html": [
       "<table class=\"dataframe\">\n",
       "<caption>A matrix: 1 × 2 of type dbl</caption>\n",
       "<thead>\n",
       "\t<tr><th scope=col>0</th><th scope=col>1</th></tr>\n",
       "</thead>\n",
       "<tbody>\n",
       "\t<tr><td>0.9305024</td><td>0.06949765</td></tr>\n",
       "</tbody>\n",
       "</table>\n"
      ],
      "text/latex": [
       "A matrix: 1 × 2 of type dbl\n",
       "\\begin{tabular}{ll}\n",
       " 0 & 1\\\\\n",
       "\\hline\n",
       "\t 0.9305024 & 0.06949765\\\\\n",
       "\\end{tabular}\n"
      ],
      "text/markdown": [
       "\n",
       "A matrix: 1 × 2 of type dbl\n",
       "\n",
       "| 0 | 1 |\n",
       "|---|---|\n",
       "| 0.9305024 | 0.06949765 |\n",
       "\n"
      ],
      "text/plain": [
       "     0         1         \n",
       "[1,] 0.9305024 0.06949765"
      ]
     },
     "metadata": {},
     "output_type": "display_data"
    }
   ],
   "source": [
    "# Probabilidades predichas\n",
    "predict(object = mod1, newdata = caso, type = \"raw\")"
   ]
  },
  {
   "cell_type": "markdown",
   "id": "3b1e4023-190f-4758-b246-e6d31318a2d6",
   "metadata": {},
   "source": [
    "* Son las probabilidades cuando denegado es 0 y es 1\n",
    "* En este caso se denega el préstamo"
   ]
  },
  {
   "cell_type": "code",
   "execution_count": 51,
   "id": "b7649d67-8380-4bb0-be50-706ba6d4154b",
   "metadata": {},
   "outputs": [
    {
     "data": {
      "text/html": [
       "0\n",
       "<details>\n",
       "\t<summary style=display:list-item;cursor:pointer>\n",
       "\t\t<strong>Levels</strong>:\n",
       "\t</summary>\n",
       "\t<style>\n",
       "\t.list-inline {list-style: none; margin:0; padding: 0}\n",
       "\t.list-inline>li {display: inline-block}\n",
       "\t.list-inline>li:not(:last-child)::after {content: \"\\00b7\"; padding: 0 .5ex}\n",
       "\t</style>\n",
       "\t<ol class=list-inline><li>'0'</li><li>'1'</li></ol>\n",
       "</details>"
      ],
      "text/latex": [
       "0\n",
       "\\emph{Levels}: \\begin{enumerate*}\n",
       "\\item '0'\n",
       "\\item '1'\n",
       "\\end{enumerate*}\n"
      ],
      "text/markdown": [
       "0\n",
       "**Levels**: 1. '0'\n",
       "2. '1'\n",
       "\n",
       "\n"
      ],
      "text/plain": [
       "[1] 0\n",
       "Levels: 0 1"
      ]
     },
     "metadata": {},
     "output_type": "display_data"
    }
   ],
   "source": [
    "# Clase predicha\n",
    "predict(object = mod1, newdata = caso, type = \"class\")"
   ]
  },
  {
   "cell_type": "markdown",
   "id": "55aa980f-80d1-4868-aa2f-579aeb5248c9",
   "metadata": {},
   "source": [
    "$$P(Y=1, M=no, A=no, S=no)$$\n",
    "$$P(M=no/Y=1)P(A=no/Y=1)P(S=no/Y=1)P(Y=1) / Cte$$\n",
    "$$0.732 * 0.858 * 0.476 * 0.115 / Cte$$\n",
    "$$0.06949765$$"
   ]
  },
  {
   "cell_type": "code",
   "execution_count": 52,
   "id": "3bd301fa-928a-4b59-8013-3306ec29c5fa",
   "metadata": {},
   "outputs": [
    {
     "data": {
      "text/html": [
       "<table class=\"dataframe\">\n",
       "<caption>A matrix: 6 × 2 of type dbl</caption>\n",
       "<thead>\n",
       "\t<tr><th scope=col>0</th><th scope=col>1</th></tr>\n",
       "</thead>\n",
       "<tbody>\n",
       "\t<tr><td>0.9305024</td><td>0.06949765</td></tr>\n",
       "\t<tr><td>0.8818906</td><td>0.11810944</td></tr>\n",
       "\t<tr><td>0.9305024</td><td>0.06949765</td></tr>\n",
       "\t<tr><td>0.9305024</td><td>0.06949765</td></tr>\n",
       "\t<tr><td>0.9305024</td><td>0.06949765</td></tr>\n",
       "\t<tr><td>0.9305024</td><td>0.06949765</td></tr>\n",
       "</tbody>\n",
       "</table>\n"
      ],
      "text/latex": [
       "A matrix: 6 × 2 of type dbl\n",
       "\\begin{tabular}{ll}\n",
       " 0 & 1\\\\\n",
       "\\hline\n",
       "\t 0.9305024 & 0.06949765\\\\\n",
       "\t 0.8818906 & 0.11810944\\\\\n",
       "\t 0.9305024 & 0.06949765\\\\\n",
       "\t 0.9305024 & 0.06949765\\\\\n",
       "\t 0.9305024 & 0.06949765\\\\\n",
       "\t 0.9305024 & 0.06949765\\\\\n",
       "\\end{tabular}\n"
      ],
      "text/markdown": [
       "\n",
       "A matrix: 6 × 2 of type dbl\n",
       "\n",
       "| 0 | 1 |\n",
       "|---|---|\n",
       "| 0.9305024 | 0.06949765 |\n",
       "| 0.8818906 | 0.11810944 |\n",
       "| 0.9305024 | 0.06949765 |\n",
       "| 0.9305024 | 0.06949765 |\n",
       "| 0.9305024 | 0.06949765 |\n",
       "| 0.9305024 | 0.06949765 |\n",
       "\n"
      ],
      "text/plain": [
       "     0         1         \n",
       "[1,] 0.9305024 0.06949765\n",
       "[2,] 0.8818906 0.11810944\n",
       "[3,] 0.9305024 0.06949765\n",
       "[4,] 0.9305024 0.06949765\n",
       "[5,] 0.9305024 0.06949765\n",
       "[6,] 0.9305024 0.06949765"
      ]
     },
     "metadata": {},
     "output_type": "display_data"
    }
   ],
   "source": [
    "# Se evalua la predicción en test:\n",
    "# para ver las probabilidades predichas para cada caso:\n",
    "proba.1 <- predict(object = mod1, newdata = dataTest, type = \"raw\")\n",
    "head(proba.1)"
   ]
  },
  {
   "cell_type": "code",
   "execution_count": 53,
   "id": "235ed695-121e-43d8-8761-5cff3a99db5a",
   "metadata": {},
   "outputs": [
    {
     "data": {
      "text/html": [
       "<style>\n",
       ".list-inline {list-style: none; margin:0; padding: 0}\n",
       ".list-inline>li {display: inline-block}\n",
       ".list-inline>li:not(:last-child)::after {content: \"\\00b7\"; padding: 0 .5ex}\n",
       "</style>\n",
       "<ol class=list-inline><li>0</li><li>0</li><li>0</li><li>0</li><li>0</li><li>0</li></ol>\n",
       "\n",
       "<details>\n",
       "\t<summary style=display:list-item;cursor:pointer>\n",
       "\t\t<strong>Levels</strong>:\n",
       "\t</summary>\n",
       "\t<style>\n",
       "\t.list-inline {list-style: none; margin:0; padding: 0}\n",
       "\t.list-inline>li {display: inline-block}\n",
       "\t.list-inline>li:not(:last-child)::after {content: \"\\00b7\"; padding: 0 .5ex}\n",
       "\t</style>\n",
       "\t<ol class=list-inline><li>'0'</li><li>'1'</li></ol>\n",
       "</details>"
      ],
      "text/latex": [
       "\\begin{enumerate*}\n",
       "\\item 0\n",
       "\\item 0\n",
       "\\item 0\n",
       "\\item 0\n",
       "\\item 0\n",
       "\\item 0\n",
       "\\end{enumerate*}\n",
       "\n",
       "\\emph{Levels}: \\begin{enumerate*}\n",
       "\\item '0'\n",
       "\\item '1'\n",
       "\\end{enumerate*}\n"
      ],
      "text/markdown": [
       "1. 0\n",
       "2. 0\n",
       "3. 0\n",
       "4. 0\n",
       "5. 0\n",
       "6. 0\n",
       "\n",
       "\n",
       "\n",
       "**Levels**: 1. '0'\n",
       "2. '1'\n",
       "\n",
       "\n"
      ],
      "text/plain": [
       "[1] 0 0 0 0 0 0\n",
       "Levels: 0 1"
      ]
     },
     "metadata": {},
     "output_type": "display_data"
    }
   ],
   "source": [
    "# para ver la clase predicha (toma las probabilidades mayores)\n",
    "predi.1 <- predict(object = mod1, newdata = dataTest, type = \"class\")\n",
    "head(predi.1)"
   ]
  },
  {
   "cell_type": "code",
   "execution_count": 54,
   "id": "37e31c61-ea4d-42ba-8da9-b2585a07c2fc",
   "metadata": {},
   "outputs": [
    {
     "data": {
      "text/plain": [
       "Confusion Matrix and Statistics\n",
       "\n",
       "        observado\n",
       "predicho   0   1\n",
       "       0 623  80\n",
       "       1   1   1\n",
       "                                          \n",
       "               Accuracy : 0.8851          \n",
       "                 95% CI : (0.8592, 0.9077)\n",
       "    No Information Rate : 0.8851          \n",
       "    P-Value [Acc > NIR] : 0.5296          \n",
       "                                          \n",
       "                  Kappa : 0.0187          \n",
       "                                          \n",
       " Mcnemar's Test P-Value : <2e-16          \n",
       "                                          \n",
       "            Sensitivity : 0.012346        \n",
       "            Specificity : 0.998397        \n",
       "         Pos Pred Value : 0.500000        \n",
       "         Neg Pred Value : 0.886202        \n",
       "             Prevalence : 0.114894        \n",
       "         Detection Rate : 0.001418        \n",
       "   Detection Prevalence : 0.002837        \n",
       "      Balanced Accuracy : 0.505372        \n",
       "                                          \n",
       "       'Positive' Class : 1               \n",
       "                                          "
      ]
     },
     "metadata": {},
     "output_type": "display_data"
    }
   ],
   "source": [
    "confusion.1 <- table(predi.1, dataTest$denegado, dnn = c(\"predicho\",\"observado\"))\n",
    "confusionMatrix(confusion.1,positive = \"1\")"
   ]
  },
  {
   "cell_type": "markdown",
   "id": "c19cc114-edf5-48f1-b7ce-ab278c746483",
   "metadata": {},
   "source": [
    "* Predice muy bien los casos 0\n",
    "* Predice muy mal los casos 1\n",
    "* Accuracy es alto\n",
    "* Muy mala la sensitividad, se puede mejorar modificando el umbral que por default fue de 0.5"
   ]
  },
  {
   "cell_type": "code",
   "execution_count": 55,
   "id": "9a8e41d6-3d86-4154-9bae-9be470f9fea7",
   "metadata": {},
   "outputs": [
    {
     "data": {
      "text/plain": [
       "     gasto             rat           rat.desem     malhist   auton    \n",
       " Min.   :0.0400   Min.   :0.0200   Min.   :0.000   no :656   no :620  \n",
       " 1st Qu.:0.2800   1st Qu.:0.6438   1st Qu.:3.100   yes: 49   yes: 85  \n",
       " Median :0.3359   Median :0.7783   Median :3.200                      \n",
       " Mean   :0.3271   Mean   :0.7320   Mean   :3.012                      \n",
       " 3rd Qu.:0.3714   3rd Qu.:0.8678   3rd Qu.:3.600                      \n",
       " Max.   :0.9500   Max.   :1.2000   Max.   :8.900                      \n",
       " soltero   denegado malhist3\n",
       " no :437   0:624    1: 95   \n",
       " yes:268   1: 81    2:561   \n",
       "                    3: 49   \n",
       "                            \n",
       "                            \n",
       "                            "
      ]
     },
     "metadata": {},
     "output_type": "display_data"
    }
   ],
   "source": [
    "summary(dataTest)"
   ]
  },
  {
   "cell_type": "code",
   "execution_count": 56,
   "id": "2883cf08-0215-4b6f-9146-739ad3a3ea94",
   "metadata": {},
   "outputs": [
    {
     "data": {
      "image/png": "[encoded data removed]",
      "text/plain": [
       "Plot with title “Naive Bayes mod1”"
      ]
     },
     "metadata": {
      "image/png": {
       "height": 420,
       "width": 420
      }
     },
     "output_type": "display_data"
    }
   ],
   "source": [
    "#CURVA ROC Y AUC \n",
    "prediccion1 <- prediction(proba.1[,2], dataTest$denegado)\n",
    "roc_mod1 <- performance(prediccion1, measure = \"tpr\", x.measure = \"fpr\")\n",
    "plot(roc_mod1, main = \"Naive Bayes mod1\", colorize = T)\n",
    "abline(a = 0, b = 1)"
   ]
  },
  {
   "cell_type": "markdown",
   "id": "17f49398-3ac3-4476-a2dc-2f84fb2ab182",
   "metadata": {},
   "source": [
    "* Se ven segmentos, porque tengo como predictoras variables categóricas"
   ]
  },
  {
   "cell_type": "code",
   "execution_count": 57,
   "id": "163a126b-147a-4c24-a246-c15637eeb7ac",
   "metadata": {},
   "outputs": [
    {
     "data": {
      "text/html": [
       "<ol>\n",
       "\t<li>0.631459718265274</li>\n",
       "</ol>\n"
      ],
      "text/latex": [
       "\\begin{enumerate}\n",
       "\\item 0.631459718265274\n",
       "\\end{enumerate}\n"
      ],
      "text/markdown": [
       "1. 0.631459718265274\n",
       "\n",
       "\n"
      ],
      "text/plain": [
       "[[1]]\n",
       "[1] 0.6314597\n"
      ]
     },
     "metadata": {},
     "output_type": "display_data"
    }
   ],
   "source": [
    "AUC.mod1 <- performance(prediccion1, \"auc\")\n",
    "#para que me de AUC:\n",
    "AUC.mod1@y.values"
   ]
  },
  {
   "cell_type": "code",
   "execution_count": 58,
   "id": "790ab6df-9067-4585-b3e3-2e93b4dabcff",
   "metadata": {},
   "outputs": [
    {
     "data": {
      "text/plain": [
       "\n",
       "Naive Bayes Classifier for Discrete Predictors\n",
       "\n",
       "Call:\n",
       "naiveBayes.default(x = X, y = Y, laplace = laplace)\n",
       "\n",
       "A-priori probabilities:\n",
       "Y\n",
       "        0         1 \n",
       "0.8841722 0.1158278 \n",
       "\n",
       "Conditional probabilities:\n",
       "   gasto\n",
       "Y        [,1]       [,2]\n",
       "  0 0.3234586 0.07820652\n",
       "  1 0.3874634 0.22863543\n",
       "\n",
       "   rat\n",
       "Y        [,1]      [,2]\n",
       "  0 0.7240997 0.1695045\n",
       "  1 0.7973397 0.1477602\n",
       "\n",
       "   rat.desem\n",
       "Y       [,1]     [,2]\n",
       "  0 3.019781 1.263817\n",
       "  1 2.980733 1.296230\n"
      ]
     },
     "metadata": {},
     "output_type": "display_data"
    }
   ],
   "source": [
    "## MODELO CON TODAS LAS NUMERICAS ##\n",
    "mod2 <- naiveBayes(denegado ~gasto+rat+rat.desem, data = dataTrain,laplace=0) #laplace=1 para que lo habilite\n",
    "mod2"
   ]
  },
  {
   "cell_type": "markdown",
   "id": "a2f8bfd4-1b78-455a-b172-36bc576f9774",
   "metadata": {},
   "source": [
    "*  Muestra los parámetros: media y desvio de la distribución normal y luego se usa la función dnorm (densidad)"
   ]
  },
  {
   "cell_type": "code",
   "execution_count": 60,
   "id": "d9e46d31-9531-46d6-b14c-d163968064e8",
   "metadata": {},
   "outputs": [
    {
     "data": {
      "text/html": [
       "<table class=\"dataframe\">\n",
       "<caption>A matrix: 6 × 2 of type dbl</caption>\n",
       "<thead>\n",
       "\t<tr><th scope=col>0</th><th scope=col>1</th></tr>\n",
       "</thead>\n",
       "<tbody>\n",
       "\t<tr><td>0.9229696</td><td>0.07703042</td></tr>\n",
       "\t<tr><td>0.9529373</td><td>0.04706269</td></tr>\n",
       "\t<tr><td>0.9396309</td><td>0.06036913</td></tr>\n",
       "\t<tr><td>0.9800392</td><td>0.01996077</td></tr>\n",
       "\t<tr><td>0.9503714</td><td>0.04962858</td></tr>\n",
       "\t<tr><td>0.9119001</td><td>0.08809993</td></tr>\n",
       "</tbody>\n",
       "</table>\n"
      ],
      "text/latex": [
       "A matrix: 6 × 2 of type dbl\n",
       "\\begin{tabular}{ll}\n",
       " 0 & 1\\\\\n",
       "\\hline\n",
       "\t 0.9229696 & 0.07703042\\\\\n",
       "\t 0.9529373 & 0.04706269\\\\\n",
       "\t 0.9396309 & 0.06036913\\\\\n",
       "\t 0.9800392 & 0.01996077\\\\\n",
       "\t 0.9503714 & 0.04962858\\\\\n",
       "\t 0.9119001 & 0.08809993\\\\\n",
       "\\end{tabular}\n"
      ],
      "text/markdown": [
       "\n",
       "A matrix: 6 × 2 of type dbl\n",
       "\n",
       "| 0 | 1 |\n",
       "|---|---|\n",
       "| 0.9229696 | 0.07703042 |\n",
       "| 0.9529373 | 0.04706269 |\n",
       "| 0.9396309 | 0.06036913 |\n",
       "| 0.9800392 | 0.01996077 |\n",
       "| 0.9503714 | 0.04962858 |\n",
       "| 0.9119001 | 0.08809993 |\n",
       "\n"
      ],
      "text/plain": [
       "     0         1         \n",
       "[1,] 0.9229696 0.07703042\n",
       "[2,] 0.9529373 0.04706269\n",
       "[3,] 0.9396309 0.06036913\n",
       "[4,] 0.9800392 0.01996077\n",
       "[5,] 0.9503714 0.04962858\n",
       "[6,] 0.9119001 0.08809993"
      ]
     },
     "metadata": {},
     "output_type": "display_data"
    }
   ],
   "source": [
    "# hacer matriz de confusion y AUC:\n",
    "proba.2 <- predict(object = mod2, newdata = dataTest, type = \"raw\")\n",
    "head(proba.2)"
   ]
  },
  {
   "cell_type": "code",
   "execution_count": 63,
   "id": "1ddad882-0b57-4879-8bcc-4e1300885e0c",
   "metadata": {},
   "outputs": [
    {
     "data": {
      "text/html": [
       "<style>\n",
       ".list-inline {list-style: none; margin:0; padding: 0}\n",
       ".list-inline>li {display: inline-block}\n",
       ".list-inline>li:not(:last-child)::after {content: \"\\00b7\"; padding: 0 .5ex}\n",
       "</style>\n",
       "<ol class=list-inline><li>0</li><li>0</li><li>0</li><li>0</li><li>0</li><li>0</li></ol>\n",
       "\n",
       "<details>\n",
       "\t<summary style=display:list-item;cursor:pointer>\n",
       "\t\t<strong>Levels</strong>:\n",
       "\t</summary>\n",
       "\t<style>\n",
       "\t.list-inline {list-style: none; margin:0; padding: 0}\n",
       "\t.list-inline>li {display: inline-block}\n",
       "\t.list-inline>li:not(:last-child)::after {content: \"\\00b7\"; padding: 0 .5ex}\n",
       "\t</style>\n",
       "\t<ol class=list-inline><li>'0'</li><li>'1'</li></ol>\n",
       "</details>"
      ],
      "text/latex": [
       "\\begin{enumerate*}\n",
       "\\item 0\n",
       "\\item 0\n",
       "\\item 0\n",
       "\\item 0\n",
       "\\item 0\n",
       "\\item 0\n",
       "\\end{enumerate*}\n",
       "\n",
       "\\emph{Levels}: \\begin{enumerate*}\n",
       "\\item '0'\n",
       "\\item '1'\n",
       "\\end{enumerate*}\n"
      ],
      "text/markdown": [
       "1. 0\n",
       "2. 0\n",
       "3. 0\n",
       "4. 0\n",
       "5. 0\n",
       "6. 0\n",
       "\n",
       "\n",
       "\n",
       "**Levels**: 1. '0'\n",
       "2. '1'\n",
       "\n",
       "\n"
      ],
      "text/plain": [
       "[1] 0 0 0 0 0 0\n",
       "Levels: 0 1"
      ]
     },
     "metadata": {},
     "output_type": "display_data"
    }
   ],
   "source": [
    "# si quiero la clase predicha:\n",
    "predi.2 <- predict(object = mod2, newdata=dataTest, type = \"class\")\n",
    "head(predi.2)"
   ]
  },
  {
   "cell_type": "code",
   "execution_count": 64,
   "id": "571358ee-e1b2-4fb7-be9e-86dbbcbb3247",
   "metadata": {},
   "outputs": [
    {
     "data": {
      "text/plain": [
       "Confusion Matrix and Statistics\n",
       "\n",
       "        observado\n",
       "predicho   0   1\n",
       "       0 615  76\n",
       "       1   9   5\n",
       "                                          \n",
       "               Accuracy : 0.8794          \n",
       "                 95% CI : (0.8531, 0.9025)\n",
       "    No Information Rate : 0.8851          \n",
       "    P-Value [Acc > NIR] : 0.7062          \n",
       "                                          \n",
       "                  Kappa : 0.0739          \n",
       "                                          \n",
       " Mcnemar's Test P-Value : 8.144e-13       \n",
       "                                          \n",
       "            Sensitivity : 0.061728        \n",
       "            Specificity : 0.985577        \n",
       "         Pos Pred Value : 0.357143        \n",
       "         Neg Pred Value : 0.890014        \n",
       "             Prevalence : 0.114894        \n",
       "         Detection Rate : 0.007092        \n",
       "   Detection Prevalence : 0.019858        \n",
       "      Balanced Accuracy : 0.523653        \n",
       "                                          \n",
       "       'Positive' Class : 1               \n",
       "                                          "
      ]
     },
     "metadata": {},
     "output_type": "display_data"
    }
   ],
   "source": [
    "confusion.2 <- table(predi.2, dataTest$denegado, dnn = c(\"predicho\",\"observado\"))\n",
    "confusionMatrix(confusion.2,positive = \"1\")"
   ]
  },
  {
   "cell_type": "code",
   "execution_count": 65,
   "id": "d30dd6fe-89a3-478d-ad9b-0f28f960a8da",
   "metadata": {},
   "outputs": [
    {
     "data": {
      "image/png": "[encoded data removed]",
      "text/plain": [
       "Plot with title “Naive Bayes mod2”"
      ]
     },
     "metadata": {
      "image/png": {
       "height": 420,
       "width": 420
      }
     },
     "output_type": "display_data"
    }
   ],
   "source": [
    "prediccion2<-prediction(proba.2[,2],dataTest$denegado)\n",
    "roc_mod2 <- performance(prediccion2, measure = \"tpr\", x.measure = \"fpr\")\n",
    "plot(roc_mod2, main = \"Naive Bayes mod2\", colorize = T)\n",
    "abline(a = 0, b = 1)"
   ]
  },
  {
   "cell_type": "markdown",
   "id": "96679dfa-b3e4-4da5-b88d-ddc38307502c",
   "metadata": {},
   "source": [
    "* Se observa curva escalonada"
   ]
  },
  {
   "cell_type": "code",
   "execution_count": 66,
   "id": "e2faa3a5-547b-4ddb-b09b-7f3f0266caaa",
   "metadata": {},
   "outputs": [
    {
     "data": {
      "text/html": [
       "<ol>\n",
       "\t<li>0.72354779993669</li>\n",
       "</ol>\n"
      ],
      "text/latex": [
       "\\begin{enumerate}\n",
       "\\item 0.72354779993669\n",
       "\\end{enumerate}\n"
      ],
      "text/markdown": [
       "1. 0.72354779993669\n",
       "\n",
       "\n"
      ],
      "text/plain": [
       "[[1]]\n",
       "[1] 0.7235478\n"
      ]
     },
     "metadata": {},
     "output_type": "display_data"
    }
   ],
   "source": [
    "AUC.mod2 <- performance(prediccion2, \"auc\")\n",
    "#para que me de AUC:\n",
    "AUC.mod2@y.values"
   ]
  },
  {
   "cell_type": "markdown",
   "id": "e23c604c-36a4-4237-a245-9c4be147b521",
   "metadata": {},
   "source": [
    "* Se observa que este modelo **mod2** tiene **0.72** de capacidad predictiva (área bajo la curva ROC) respecto del modelo **mod1** que tiene **0.63**. Sirve para comparar modelos de clasificación. Tambien debo mirar la tabla de confusión. Con ambas elegir el modelo"
   ]
  },
  {
   "cell_type": "code",
   "execution_count": 67,
   "id": "6fbec268-f438-4497-a3d7-e3427afefad4",
   "metadata": {},
   "outputs": [
    {
     "data": {
      "image/png": "[encoded data removed]",
      "text/plain": [
       "plot without title"
      ]
     },
     "metadata": {
      "image/png": {
       "height": 420,
       "width": 420
      }
     },
     "output_type": "display_data"
    }
   ],
   "source": [
    "## Se grafican ambas curvas:\n",
    "plot(roc_mod1, col = \"darkgreen\")\n",
    "plot(roc_mod2, col = \"purple\", add = TRUE)\n",
    "legend(\"bottomright\", legend = c(\"mod1\", \"mod2\"), col = c(\"darkgreen\", \"purple\"), lty = 1)\n",
    "abline(a = 0, b = 1)"
   ]
  },
  {
   "cell_type": "markdown",
   "id": "fa652aad-e0df-4a22-8c00-6c37a037248b",
   "metadata": {},
   "source": [
    "## Ejemplo Iris (Clasificación Multiclase)"
   ]
  },
  {
   "cell_type": "code",
   "execution_count": 70,
   "id": "f4846430-025f-445c-a07f-fc1af816a5bc",
   "metadata": {},
   "outputs": [
    {
     "data": {
      "text/plain": [
       "  Sepal.Length    Sepal.Width     Petal.Length    Petal.Width   \n",
       " Min.   :4.300   Min.   :2.000   Min.   :1.000   Min.   :0.100  \n",
       " 1st Qu.:5.100   1st Qu.:2.800   1st Qu.:1.600   1st Qu.:0.300  \n",
       " Median :5.800   Median :3.000   Median :4.350   Median :1.300  \n",
       " Mean   :5.843   Mean   :3.057   Mean   :3.758   Mean   :1.199  \n",
       " 3rd Qu.:6.400   3rd Qu.:3.300   3rd Qu.:5.100   3rd Qu.:1.800  \n",
       " Max.   :7.900   Max.   :4.400   Max.   :6.900   Max.   :2.500  \n",
       "       Species  \n",
       " setosa    :50  \n",
       " versicolor:50  \n",
       " virginica :50  \n",
       "                \n",
       "                \n",
       "                "
      ]
     },
     "metadata": {},
     "output_type": "display_data"
    }
   ],
   "source": [
    "data(iris)\n",
    "summary(iris)"
   ]
  },
  {
   "cell_type": "code",
   "execution_count": 71,
   "id": "30cbe793-bcbd-4541-8f10-9b0143ebabbc",
   "metadata": {},
   "outputs": [],
   "source": [
    "# Se selecciona una submuestra de una cantidad de casos\n",
    "set.seed(13579)\n",
    "iris.indices <- sample(1:nrow(iris), size = 105)\n",
    "iris.train <- iris[iris.indices,]\n",
    "iris.test <- iris[-iris.indices,]"
   ]
  },
  {
   "cell_type": "code",
   "execution_count": 72,
   "id": "efcdc8da-07c3-467e-85b0-6e5b03ab3393",
   "metadata": {},
   "outputs": [
    {
     "data": {
      "text/plain": [
       "\n",
       "Naive Bayes Classifier for Discrete Predictors\n",
       "\n",
       "Call:\n",
       "naiveBayes.default(x = X, y = Y, laplace = laplace)\n",
       "\n",
       "A-priori probabilities:\n",
       "Y\n",
       "    setosa versicolor  virginica \n",
       " 0.3142857  0.3428571  0.3428571 \n",
       "\n",
       "Conditional probabilities:\n",
       "            Sepal.Length\n",
       "Y                [,1]      [,2]\n",
       "  setosa     4.978788 0.3603450\n",
       "  versicolor 5.891667 0.5447804\n",
       "  virginica  6.563889 0.6941193\n",
       "\n",
       "            Sepal.Width\n",
       "Y                [,1]      [,2]\n",
       "  setosa     3.393939 0.3976017\n",
       "  versicolor 2.777778 0.2899370\n",
       "  virginica  2.941667 0.3358358\n",
       "\n",
       "            Petal.Length\n",
       "Y                [,1]      [,2]\n",
       "  setosa     1.481818 0.1810638\n",
       "  versicolor 4.208333 0.4964877\n",
       "  virginica  5.513889 0.5836598\n",
       "\n",
       "            Petal.Width\n",
       "Y                 [,1]      [,2]\n",
       "  setosa     0.2454545 0.1092329\n",
       "  versicolor 1.3138889 0.2044544\n",
       "  virginica  2.0111111 0.2538591\n"
      ]
     },
     "metadata": {},
     "output_type": "display_data"
    }
   ],
   "source": [
    "model <- naiveBayes(Species ~ ., data = iris.train)\n",
    "model"
   ]
  },
  {
   "cell_type": "code",
   "execution_count": 74,
   "id": "163fa304-5b98-4df3-8aa0-1351a6c84bd5",
   "metadata": {},
   "outputs": [
    {
     "data": {
      "text/plain": [
       "            \n",
       "predi.iris   setosa versicolor virginica\n",
       "  setosa         17          0         0\n",
       "  versicolor      0         13         1\n",
       "  virginica       0          1        13"
      ]
     },
     "metadata": {},
     "output_type": "display_data"
    }
   ],
   "source": [
    "predi.iris <- predict(object = model, newdata = iris.test, type = \"class\")\n",
    "confusion.iris <- table(predi.iris,iris.test$Species)\n",
    "confusion.iris"
   ]
  },
  {
   "cell_type": "code",
   "execution_count": 75,
   "id": "9c7a17e9-ab17-4760-b5e7-5be85ece714a",
   "metadata": {},
   "outputs": [],
   "source": [
    "# Se mejora el modelo \n",
    "# implementación con caret para ajustar el modelo con cross validation en train\n",
    "x <- iris.train[, -5]\n",
    "y <- iris.train$Species"
   ]
  },
  {
   "cell_type": "code",
   "execution_count": 82,
   "id": "9763fd96-333e-4d6b-b615-075666102c8e",
   "metadata": {},
   "outputs": [
    {
     "data": {
      "text/html": [
       "<style>\n",
       ".list-inline {list-style: none; margin:0; padding: 0}\n",
       ".list-inline>li {display: inline-block}\n",
       ".list-inline>li:not(:last-child)::after {content: \"\\00b7\"; padding: 0 .5ex}\n",
       "</style>\n",
       "<ol class=list-inline><li>'method'</li><li>'modelInfo'</li><li>'modelType'</li><li>'results'</li><li>'pred'</li><li>'bestTune'</li><li>'call'</li><li>'dots'</li><li>'metric'</li><li>'control'</li><li>'finalModel'</li><li>'preProcess'</li><li>'trainingData'</li><li>'ptype'</li><li>'resample'</li><li>'resampledCM'</li><li>'perfNames'</li><li>'maximize'</li><li>'yLimits'</li><li>'times'</li><li>'levels'</li></ol>\n"
      ],
      "text/latex": [
       "\\begin{enumerate*}\n",
       "\\item 'method'\n",
       "\\item 'modelInfo'\n",
       "\\item 'modelType'\n",
       "\\item 'results'\n",
       "\\item 'pred'\n",
       "\\item 'bestTune'\n",
       "\\item 'call'\n",
       "\\item 'dots'\n",
       "\\item 'metric'\n",
       "\\item 'control'\n",
       "\\item 'finalModel'\n",
       "\\item 'preProcess'\n",
       "\\item 'trainingData'\n",
       "\\item 'ptype'\n",
       "\\item 'resample'\n",
       "\\item 'resampledCM'\n",
       "\\item 'perfNames'\n",
       "\\item 'maximize'\n",
       "\\item 'yLimits'\n",
       "\\item 'times'\n",
       "\\item 'levels'\n",
       "\\end{enumerate*}\n"
      ],
      "text/markdown": [
       "1. 'method'\n",
       "2. 'modelInfo'\n",
       "3. 'modelType'\n",
       "4. 'results'\n",
       "5. 'pred'\n",
       "6. 'bestTune'\n",
       "7. 'call'\n",
       "8. 'dots'\n",
       "9. 'metric'\n",
       "10. 'control'\n",
       "11. 'finalModel'\n",
       "12. 'preProcess'\n",
       "13. 'trainingData'\n",
       "14. 'ptype'\n",
       "15. 'resample'\n",
       "16. 'resampledCM'\n",
       "17. 'perfNames'\n",
       "18. 'maximize'\n",
       "19. 'yLimits'\n",
       "20. 'times'\n",
       "21. 'levels'\n",
       "\n",
       "\n"
      ],
      "text/plain": [
       " [1] \"method\"       \"modelInfo\"    \"modelType\"    \"results\"      \"pred\"        \n",
       " [6] \"bestTune\"     \"call\"         \"dots\"         \"metric\"       \"control\"     \n",
       "[11] \"finalModel\"   \"preProcess\"   \"trainingData\" \"ptype\"        \"resample\"    \n",
       "[16] \"resampledCM\"  \"perfNames\"    \"maximize\"     \"yLimits\"      \"times\"       \n",
       "[21] \"levels\"      "
      ]
     },
     "metadata": {},
     "output_type": "display_data"
    },
    {
     "data": {
      "text/html": [
       "<dl>\n",
       "\t<dt>$Sepal.Length</dt>\n",
       "\t\t<dd><table class=\"dataframe\">\n",
       "<caption>A matrix: 3 × 2 of type dbl</caption>\n",
       "<tbody>\n",
       "\t<tr><th scope=row>setosa</th><td>4.978788</td><td>0.3603450</td></tr>\n",
       "\t<tr><th scope=row>versicolor</th><td>5.891667</td><td>0.5447804</td></tr>\n",
       "\t<tr><th scope=row>virginica</th><td>6.563889</td><td>0.6941193</td></tr>\n",
       "</tbody>\n",
       "</table>\n",
       "</dd>\n",
       "\t<dt>$Sepal.Width</dt>\n",
       "\t\t<dd><table class=\"dataframe\">\n",
       "<caption>A matrix: 3 × 2 of type dbl</caption>\n",
       "<tbody>\n",
       "\t<tr><th scope=row>setosa</th><td>3.393939</td><td>0.3976017</td></tr>\n",
       "\t<tr><th scope=row>versicolor</th><td>2.777778</td><td>0.2899370</td></tr>\n",
       "\t<tr><th scope=row>virginica</th><td>2.941667</td><td>0.3358358</td></tr>\n",
       "</tbody>\n",
       "</table>\n",
       "</dd>\n",
       "\t<dt>$Petal.Length</dt>\n",
       "\t\t<dd><table class=\"dataframe\">\n",
       "<caption>A matrix: 3 × 2 of type dbl</caption>\n",
       "<tbody>\n",
       "\t<tr><th scope=row>setosa</th><td>1.481818</td><td>0.1810638</td></tr>\n",
       "\t<tr><th scope=row>versicolor</th><td>4.208333</td><td>0.4964877</td></tr>\n",
       "\t<tr><th scope=row>virginica</th><td>5.513889</td><td>0.5836598</td></tr>\n",
       "</tbody>\n",
       "</table>\n",
       "</dd>\n",
       "\t<dt>$Petal.Width</dt>\n",
       "\t\t<dd><table class=\"dataframe\">\n",
       "<caption>A matrix: 3 × 2 of type dbl</caption>\n",
       "<tbody>\n",
       "\t<tr><th scope=row>setosa</th><td>0.2454545</td><td>0.1092329</td></tr>\n",
       "\t<tr><th scope=row>versicolor</th><td>1.3138889</td><td>0.2044544</td></tr>\n",
       "\t<tr><th scope=row>virginica</th><td>2.0111111</td><td>0.2538591</td></tr>\n",
       "</tbody>\n",
       "</table>\n",
       "</dd>\n",
       "</dl>\n"
      ],
      "text/latex": [
       "\\begin{description}\n",
       "\\item[\\$Sepal.Length] A matrix: 3 × 2 of type dbl\n",
       "\\begin{tabular}{r|ll}\n",
       "\tsetosa & 4.978788 & 0.3603450\\\\\n",
       "\tversicolor & 5.891667 & 0.5447804\\\\\n",
       "\tvirginica & 6.563889 & 0.6941193\\\\\n",
       "\\end{tabular}\n",
       "\n",
       "\\item[\\$Sepal.Width] A matrix: 3 × 2 of type dbl\n",
       "\\begin{tabular}{r|ll}\n",
       "\tsetosa & 3.393939 & 0.3976017\\\\\n",
       "\tversicolor & 2.777778 & 0.2899370\\\\\n",
       "\tvirginica & 2.941667 & 0.3358358\\\\\n",
       "\\end{tabular}\n",
       "\n",
       "\\item[\\$Petal.Length] A matrix: 3 × 2 of type dbl\n",
       "\\begin{tabular}{r|ll}\n",
       "\tsetosa & 1.481818 & 0.1810638\\\\\n",
       "\tversicolor & 4.208333 & 0.4964877\\\\\n",
       "\tvirginica & 5.513889 & 0.5836598\\\\\n",
       "\\end{tabular}\n",
       "\n",
       "\\item[\\$Petal.Width] A matrix: 3 × 2 of type dbl\n",
       "\\begin{tabular}{r|ll}\n",
       "\tsetosa & 0.2454545 & 0.1092329\\\\\n",
       "\tversicolor & 1.3138889 & 0.2044544\\\\\n",
       "\tvirginica & 2.0111111 & 0.2538591\\\\\n",
       "\\end{tabular}\n",
       "\n",
       "\\end{description}\n"
      ],
      "text/markdown": [
       "$Sepal.Length\n",
       ":   \n",
       "A matrix: 3 × 2 of type dbl\n",
       "\n",
       "| setosa | 4.978788 | 0.3603450 |\n",
       "| versicolor | 5.891667 | 0.5447804 |\n",
       "| virginica | 6.563889 | 0.6941193 |\n",
       "\n",
       "\n",
       "$Sepal.Width\n",
       ":   \n",
       "A matrix: 3 × 2 of type dbl\n",
       "\n",
       "| setosa | 3.393939 | 0.3976017 |\n",
       "| versicolor | 2.777778 | 0.2899370 |\n",
       "| virginica | 2.941667 | 0.3358358 |\n",
       "\n",
       "\n",
       "$Petal.Length\n",
       ":   \n",
       "A matrix: 3 × 2 of type dbl\n",
       "\n",
       "| setosa | 1.481818 | 0.1810638 |\n",
       "| versicolor | 4.208333 | 0.4964877 |\n",
       "| virginica | 5.513889 | 0.5836598 |\n",
       "\n",
       "\n",
       "$Petal.Width\n",
       ":   \n",
       "A matrix: 3 × 2 of type dbl\n",
       "\n",
       "| setosa | 0.2454545 | 0.1092329 |\n",
       "| versicolor | 1.3138889 | 0.2044544 |\n",
       "| virginica | 2.0111111 | 0.2538591 |\n",
       "\n",
       "\n",
       "\n",
       "\n"
      ],
      "text/plain": [
       "$Sepal.Length\n",
       "               [,1]      [,2]\n",
       "setosa     4.978788 0.3603450\n",
       "versicolor 5.891667 0.5447804\n",
       "virginica  6.563889 0.6941193\n",
       "\n",
       "$Sepal.Width\n",
       "               [,1]      [,2]\n",
       "setosa     3.393939 0.3976017\n",
       "versicolor 2.777778 0.2899370\n",
       "virginica  2.941667 0.3358358\n",
       "\n",
       "$Petal.Length\n",
       "               [,1]      [,2]\n",
       "setosa     1.481818 0.1810638\n",
       "versicolor 4.208333 0.4964877\n",
       "virginica  5.513889 0.5836598\n",
       "\n",
       "$Petal.Width\n",
       "                [,1]      [,2]\n",
       "setosa     0.2454545 0.1092329\n",
       "versicolor 1.3138889 0.2044544\n",
       "virginica  2.0111111 0.2538591\n"
      ]
     },
     "metadata": {},
     "output_type": "display_data"
    }
   ],
   "source": [
    "# modelo NB en el conjunto de entrenamiento\n",
    "nb.iris <- train(              \n",
    "  x = x,\n",
    "  y = y,\n",
    "  method = \"nb\",\n",
    "  trControl = trainControl(method = \"cv\", number = 10) # set up 10-fold CV\n",
    ")\n",
    "names(nb.iris)\n",
    "nb.iris$finalModel$tables"
   ]
  },
  {
   "cell_type": "code",
   "execution_count": 81,
   "id": "10567260-1f20-490a-b8a1-8afd62632760",
   "metadata": {},
   "outputs": [
    {
     "data": {
      "text/plain": [
       "Cross-Validated (10 fold) Confusion Matrix \n",
       "\n",
       "(entries are percentual average cell counts across resamples)\n",
       " \n",
       "            Reference\n",
       "Prediction   setosa versicolor virginica\n",
       "  setosa       31.4        0.0       0.0\n",
       "  versicolor    0.0       31.4       2.9\n",
       "  virginica     0.0        2.9      31.4\n",
       "                            \n",
       " Accuracy (average) : 0.9429\n"
      ]
     },
     "metadata": {},
     "output_type": "display_data"
    }
   ],
   "source": [
    "confusionMatrix(nb.iris) #da porcentajes de clasificacion en train"
   ]
  },
  {
   "cell_type": "code",
   "execution_count": 83,
   "id": "806fdb85-c765-4415-bb84-fdc0e329a9c0",
   "metadata": {},
   "outputs": [],
   "source": [
    "#ahora veamos prediccion en test:\n",
    "#Esta función predict aplicada a un modelo ajustado por la función train no es el mismo de antes\n",
    "#admite type=\"raw\" para sacar las clases predichas y \"prob\" para sacar las probabilidades\n",
    "predi.iris2 <- predict(nb.iris, newdata = iris.test,type=\"raw\")"
   ]
  },
  {
   "cell_type": "code",
   "execution_count": 84,
   "id": "1a176af6-70d3-4165-9b9f-c4250d8e3270",
   "metadata": {},
   "outputs": [
    {
     "data": {
      "text/plain": [
       "Confusion Matrix and Statistics\n",
       "\n",
       "            Reference\n",
       "Prediction   setosa versicolor virginica\n",
       "  setosa         17          0         0\n",
       "  versicolor      0         13         1\n",
       "  virginica       0          1        13\n",
       "\n",
       "Overall Statistics\n",
       "                                          \n",
       "               Accuracy : 0.9556          \n",
       "                 95% CI : (0.8485, 0.9946)\n",
       "    No Information Rate : 0.3778          \n",
       "    P-Value [Acc > NIR] : 2.61e-16        \n",
       "                                          \n",
       "                  Kappa : 0.933           \n",
       "                                          \n",
       " Mcnemar's Test P-Value : NA              \n",
       "\n",
       "Statistics by Class:\n",
       "\n",
       "                     Class: setosa Class: versicolor Class: virginica\n",
       "Sensitivity                 1.0000            0.9286           0.9286\n",
       "Specificity                 1.0000            0.9677           0.9677\n",
       "Pos Pred Value              1.0000            0.9286           0.9286\n",
       "Neg Pred Value              1.0000            0.9677           0.9677\n",
       "Prevalence                  0.3778            0.3111           0.3111\n",
       "Detection Rate              0.3778            0.2889           0.2889\n",
       "Detection Prevalence        0.3778            0.3111           0.3111\n",
       "Balanced Accuracy           1.0000            0.9482           0.9482"
      ]
     },
     "metadata": {},
     "output_type": "display_data"
    }
   ],
   "source": [
    "#puedo ir directamente a confusionMatrix si predije las clases\n",
    "confusionMatrix(predi.iris2, iris.test$Species) \n",
    "#ver en la salida que las métricas usan \"uno contra todos\""
   ]
  },
  {
   "cell_type": "code",
   "execution_count": 86,
   "id": "d97f1147-b5f4-4d06-9339-24f428c5b1f6",
   "metadata": {},
   "outputs": [],
   "source": [
    "## OBS: para hacer la curva ROC necesito 2 clases, y acá hay 3!\n",
    "# podemos convertir en un problema binario:\n",
    "# Convertir la variable Species en un problema binario (Setosa vs. No Setosa)\n",
    "#esto crea una variable nueva indicadora de \"setosa\". \n",
    "iris$Species.setosa <- ifelse(iris$Species == \"setosa\", 1, 0)\n",
    "# Luego ajusto modelos con esta y ahí ROC... lo mismo que antes!"
   ]
  },
  {
   "cell_type": "code",
   "execution_count": null,
   "id": "494b5d96-cecf-4037-bcd2-be191df7c87f",
   "metadata": {},
   "outputs": [],
   "source": [
    "########################################\n",
    "####### REDES BAYESIANAS GENERALES #####\n",
    "\n",
    "library(bnlearn)\n",
    "data(asia)\n",
    "summary(asia)\n",
    "# construimos la RB sobre un conjunto de entrenamiento\n",
    "set.seed(123)\n",
    "indices <- sample(1:nrow(asia), nrow(asia) * 0.70, replace=FALSE)\n",
    "asiaTrain<-asia[indices,]\n",
    "asiaTest<-asia[-indices,]\n",
    "\n",
    "\n",
    "### ESTRUCTURA PREFIJADA ####\n",
    "modelA1 = empty.graph(names(asiaTrain))\n",
    "modelstring(modelA1) = \"[A][S][B][T|A][L|S][D|B:E][E|T:L][X|E]\"\n",
    "plot(modelA1)\n",
    "\n",
    "### APRENDIENDO LA ESTRUCTURA con Hill Climbing:\n",
    "model_hc<-hc(asiaTrain,score=\"aic\")\n",
    "model_hc\n",
    "plot(model_hc)\n",
    "modelstring(model_hc)\n",
    "\n",
    "#comparamos estructuras ajustadas\n",
    "#compare(modelA1,modelA2)\n",
    "par(mfrow = c(1,2))\n",
    "plot(modelA1, main = \"Estructura dada\", highlight = c(\"A\", \"B\"))\n",
    "plot(model_hc, main = \"Hill-Climbing\", highlight = c(\"A\", \"B\"))\n",
    "\n",
    "## APRENDER PARAMETROS\n",
    "#aprendemos los parámetros con datos discretos(por ML)\n",
    "fitA1 = bn.fit(modelA1, asiaTrain,method = \"mle\")\n",
    "fitA1\n",
    "bn.fit.barchart(fitA1$D) \n",
    "\n",
    "# aprendemos parámetros con datos discretos con estimación Bayesiana\n",
    "fitB1 = bn.fit(modelA1, asiaTrain, method = \"bayes\")\n",
    "fitB1\n",
    "\n",
    "fit.hc = bn.fit(model_hc, asiaTrain, method = \"bayes\") # el default es mle\n",
    "fit.hc\n",
    "\n",
    "\n",
    "## PREDICCION ##\n",
    "# queremos predecir si la persona tiene cancer de pulmón o tuberculosis a partir de los datos\n",
    "# veamos la prediccion con el modelo fitA1\n",
    "pred.A1a = predict(fitA1, node = \"T\", data = asiaTest, method = \"parents\") #prediccion exacta, no usa el DAG\n",
    "head(pred.A1a) # muestra la clase predicha\n",
    "#table(pred.A1a,asiaTest$T)\n",
    "\n",
    "pred.A1b = predict(fitA1, node = \"T\", data = asiaTest, prob = TRUE) #predigo con ML\n",
    "attr(pred.A1b, \"prob\")[, 1:5] #muestra las probabilidades predichas\n",
    "table(pred.A1b,asiaTest$T)\n",
    "\n",
    "pred.A1 = predict(fitA1, node = \"T\", data = asiaTest, method = \"bayes-lw\") # prediccion con Bayes con algoritmo de Monte Carlo\n",
    "confusion.A1 <-  table(pred.A1,asiaTest$T)\n",
    "\n",
    "library(caret)\n",
    "confusionMatrix(confusion.A1,positive = \"yes\") # da mucho mejor!\n",
    "\n",
    "# veamos la prediccion con el modelo hc\n",
    "pred.hcb = predict(fit.hc, node = \"L\", data = asiaTest, prob = TRUE)\n",
    "table(pred.hcb,asiaTest$L)\n",
    "pred.hc = predict(fit.hc, node = \"L\", data = asiaTest, method = \"bayes-lw\")\n",
    "confusion.hc <-  table(pred.hc,asiaTest$L)\n",
    "\n",
    "library(caret)\n",
    "confusionMatrix(confusion.hc,positive = \"yes\") # mucho mejor con esta estructura!"
   ]
  }
 ],
 "metadata": {
  "kernelspec": {
   "display_name": "R",
   "language": "R",
   "name": "ir"
  },
  "language_info": {
   "codemirror_mode": "r",
   "file_extension": ".r",
   "mimetype": "text/x-r-source",
   "name": "R",
   "pygments_lexer": "r",
   "version": "4.4.3"
  }
 },
 "nbformat": 4,
 "nbformat_minor": 5
}
