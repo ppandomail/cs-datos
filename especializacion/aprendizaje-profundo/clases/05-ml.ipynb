{
 "cells": [
  {
   "cell_type": "markdown",
   "id": "ba632885-81c6-48f6-8a03-798b170897f4",
   "metadata": {},
   "source": [
    "# Machine Learning\n",
    "---"
   ]
  },
  {
   "cell_type": "markdown",
   "id": "bba12ffe-dac4-4850-ad07-7abb299132d1",
   "metadata": {},
   "source": [
    "* Un sistema inteligente es aquel sistema capaz de resolver problemas complejos y multidisciplinares de una forma automática dando soporte a las\n",
    "decisiones de un experto\n",
    "    * Algoritmos simbolistas. Razonamiento inductivo\n",
    "    * Redes neuronales artificiales\n",
    "    * Algoritmos genéticos y evolutivos\n",
    "    * Probabilísticos. Teorema de Bayes.\n",
    "    * Algoritmos de \"similitudes\". K-NN, SVM"
   ]
  },
  {
   "cell_type": "markdown",
   "id": "b73cb808-32bb-4214-ad73-214179139ffa",
   "metadata": {},
   "source": [
    "* Los algoritmos que implementan los sistemas inteligentes son algoritmos iterativos, por lo tanto tienen que dar varias \"pasadas\" a los datos para llevar a cabo su tarea\n",
    "* Se los conocen como algoritmos de aprendizaje de máquina (machine learning)\n",
    "* Deben estar optimizados para un óptimo rendimiento"
   ]
  },
  {
   "cell_type": "markdown",
   "id": "d1497409-2141-48a2-a742-4f4720a729e4",
   "metadata": {},
   "source": [
    "* Extraer conocimiento desde los datos (aprender a partir de los datos)\n",
    "* Involucra: estadística + IA (computación)\n",
    "* Reconocer patrones a partir de datos\n",
    "* Análisis predictivo o estadístico\n",
    "* Se busca encontrar patrones ocultos que permitan predecir o tomar decisiones a futuro"
   ]
  },
  {
   "cell_type": "markdown",
   "id": "497097d1-7c22-444f-85a6-96edf22a7c3a",
   "metadata": {},
   "source": [
    "* Ejemplo sistema que filtre correos spam\n",
    "  * Enfoque clásico: crear lista de asuntos con frases a filtrar (escribir reglas)\n",
    "  * Enfoque ML: entrenar modelo ML (aprende automáticamente qué palabras y frases son buenos predictores de spam, al detectar patrones de palabras inusualmente frecuentes en los ejemplos de spam)"
   ]
  },
  {
   "cell_type": "markdown",
   "id": "928096c0-ddb7-4d80-975c-3b8789d92947",
   "metadata": {},
   "source": [
    "## Clasificación"
   ]
  },
  {
   "cell_type": "markdown",
   "id": "8f02ff08-4a8d-4540-8070-c7988695b8bd",
   "metadata": {},
   "source": [
    "* **Aprendizaje supervisado**: el conjunto de entrenamiento que se introduce en el algoritmo incluye las soluciones deseadas, llamadas etiquetas (labels)\n",
    "\n",
    "| Asunto        | Spam |\n",
    "| --            | --   |\n",
    "| Gran Oferta   | Si   |\n",
    "| CV            | No   |\n",
    "| Proy Inv      | No   |\n",
    "| Ganó 1 millon | Si   |\n",
    "\n",
    "* **Aprendizaje no supervisado**: el conjunto de datos de entrenamiento no está etiquetado. Por ejemplo, se tiene un conjunto de datos referido a visitantes de un blog. Con aprendizaje no supervisado podríamos detectar, con un algoritmo de clasificación, los grupos de usuarios que son similares\n",
    "    * K-Means: algoritmo utilizado para la agrupación en clústeres de datos (segmentación, agrupación)\n",
    "    * GMM (mixtura gaussiana): son modelos probabilísticos construidos a partir de una suma ponderada de distribuciones de probabilidad Gaussianas. Se pueden emplear como clasificadores   "
   ]
  },
  {
   "cell_type": "markdown",
   "id": "06176d48-2f52-49cc-b54c-f1d2a29b1ce2",
   "metadata": {},
   "source": [
    "## MLlib"
   ]
  },
  {
   "cell_type": "markdown",
   "id": "cf4dea27-3029-4231-b11f-0e1f082c7029",
   "metadata": {},
   "source": [
    "* Es la librería de algoritmos de machine learning para Spark\n",
    "* Los algoritmos están diseñados e implementados para ejecutarse de manera eficiente en un ambiente distribuido\n",
    "* Algoritmos:\n",
    "    * Logistic regression\n",
    "    * Naive Bayes\n",
    "    * Generalized linear regression\n",
    "    * Survival regression\n",
    "    * Decision trees\n",
    "    * Random forests\n",
    "    * Gradient-boosted trees\n",
    "    * Alternating least squares (ALS)\n",
    "    * K-means\n",
    "    * Gaussian mixtures\n",
    "    * Latent Dirichlet allocation (LDA)\n",
    "    * Frequent itemsets\n",
    "    * Association rules\n",
    "    * Sequential pattern mining"
   ]
  },
  {
   "cell_type": "code",
   "execution_count": 60,
   "id": "b1426058-51b7-4539-b888-ec8fa337fbaa",
   "metadata": {},
   "outputs": [],
   "source": [
    "import os\n",
    "os.environ['JAVA_HOME'] = '/Library/Java/JavaVirtualMachines/openjdk-17.jdk/Contents/Home'"
   ]
  },
  {
   "cell_type": "code",
   "execution_count": 61,
   "id": "eda36ae2-f9c2-4c97-84c6-bf82ddc82fb1",
   "metadata": {},
   "outputs": [],
   "source": [
    "from pyspark.sql import SparkSession"
   ]
  },
  {
   "cell_type": "code",
   "execution_count": 62,
   "id": "26df8cea-29d4-484f-9d79-99ab5666d7be",
   "metadata": {},
   "outputs": [],
   "source": [
    "from IPython.core.display import HTML"
   ]
  },
  {
   "cell_type": "code",
   "execution_count": 63,
   "id": "1f31d8e9-8171-4d67-a97c-98d86937eba0",
   "metadata": {},
   "outputs": [
    {
     "data": {
      "text/html": [
       "<style>pre { white-space: pre !important; }</style>"
      ],
      "text/plain": [
       "<IPython.core.display.HTML object>"
      ]
     },
     "metadata": {},
     "output_type": "display_data"
    }
   ],
   "source": [
    "display(HTML(\"<style>pre { white-space: pre !important; }</style>\"))"
   ]
  },
  {
   "cell_type": "code",
   "execution_count": 64,
   "id": "8a47c9e1-5f1a-4ab2-b686-a59e9aa0b7df",
   "metadata": {},
   "outputs": [],
   "source": [
    "spark = SparkSession.builder.master(\"local[*]\").getOrCreate()"
   ]
  },
  {
   "cell_type": "markdown",
   "id": "aa299f2e-9442-4358-ab62-c023e627c84a",
   "metadata": {},
   "source": [
    "## Regresión Lineal"
   ]
  },
  {
   "cell_type": "code",
   "execution_count": 65,
   "id": "5f23a9f4-5ab4-4072-b628-b55b6ddc210f",
   "metadata": {},
   "outputs": [],
   "source": [
    "#datos!! https://www.kaggle.com/prasadperera/the-boston-housing-dataset\n",
    "df = spark.read.csv('BostonHousing.csv', inferSchema=True, header=True)"
   ]
  },
  {
   "cell_type": "code",
   "execution_count": 66,
   "id": "22043ffe-5bee-44d9-8bf6-1518f1628a80",
   "metadata": {},
   "outputs": [
    {
     "name": "stdout",
     "output_type": "stream",
     "text": [
      "+-------+----+-----+----+-----+-----+----+------+---+---+-------+------+-----+----+\n",
      "|   crim|  zn|indus|chas|  nox|   rm| age|   dis|rad|tax|ptratio|     b|lstat|medv|\n",
      "+-------+----+-----+----+-----+-----+----+------+---+---+-------+------+-----+----+\n",
      "|0.00632|18.0| 2.31|   0|0.538|6.575|65.2|  4.09|  1|296|   15.3| 396.9| 4.98|24.0|\n",
      "|0.02731| 0.0| 7.07|   0|0.469|6.421|78.9|4.9671|  2|242|   17.8| 396.9| 9.14|21.6|\n",
      "|0.02729| 0.0| 7.07|   0|0.469|7.185|61.1|4.9671|  2|242|   17.8|392.83| 4.03|34.7|\n",
      "|0.03237| 0.0| 2.18|   0|0.458|6.998|45.8|6.0622|  3|222|   18.7|394.63| 2.94|33.4|\n",
      "|0.06905| 0.0| 2.18|   0|0.458|7.147|54.2|6.0622|  3|222|   18.7| 396.9| 5.33|36.2|\n",
      "+-------+----+-----+----+-----+-----+----+------+---+---+-------+------+-----+----+\n",
      "only showing top 5 rows\n"
     ]
    }
   ],
   "source": [
    "df.show(5)"
   ]
  },
  {
   "cell_type": "code",
   "execution_count": 67,
   "id": "3baaa51f-ce2b-4c0a-ba39-192fc8fb539f",
   "metadata": {},
   "outputs": [],
   "source": [
    "from pyspark.ml.feature import VectorAssembler"
   ]
  },
  {
   "cell_type": "code",
   "execution_count": 68,
   "id": "2661c4c5-e7e3-4bce-b829-fddf8432ad04",
   "metadata": {},
   "outputs": [],
   "source": [
    "assembler = VectorAssembler(inputCols=[\"rm\", \"crim\", \"lstat\"], outputCol=\"features\")"
   ]
  },
  {
   "cell_type": "code",
   "execution_count": 69,
   "id": "e9559e42-f54c-48e1-87c2-5c92236af159",
   "metadata": {},
   "outputs": [],
   "source": [
    "features_df = assembler.transform(df)"
   ]
  },
  {
   "cell_type": "code",
   "execution_count": 70,
   "id": "aa427455-1f41-4fff-9e49-0a5caa3ba85d",
   "metadata": {},
   "outputs": [
    {
     "name": "stdout",
     "output_type": "stream",
     "text": [
      "+-------+----+-----+----+-----+-----+----+------+---+---+-------+------+-----+----+--------------------+\n",
      "|   crim|  zn|indus|chas|  nox|   rm| age|   dis|rad|tax|ptratio|     b|lstat|medv|            features|\n",
      "+-------+----+-----+----+-----+-----+----+------+---+---+-------+------+-----+----+--------------------+\n",
      "|0.00632|18.0| 2.31|   0|0.538|6.575|65.2|  4.09|  1|296|   15.3| 396.9| 4.98|24.0|[6.575,0.00632,4.98]|\n",
      "|0.02731| 0.0| 7.07|   0|0.469|6.421|78.9|4.9671|  2|242|   17.8| 396.9| 9.14|21.6|[6.421,0.02731,9.14]|\n",
      "|0.02729| 0.0| 7.07|   0|0.469|7.185|61.1|4.9671|  2|242|   17.8|392.83| 4.03|34.7|[7.185,0.02729,4.03]|\n",
      "|0.03237| 0.0| 2.18|   0|0.458|6.998|45.8|6.0622|  3|222|   18.7|394.63| 2.94|33.4|[6.998,0.03237,2.94]|\n",
      "|0.06905| 0.0| 2.18|   0|0.458|7.147|54.2|6.0622|  3|222|   18.7| 396.9| 5.33|36.2|[7.147,0.06905,5.33]|\n",
      "+-------+----+-----+----+-----+-----+----+------+---+---+-------+------+-----+----+--------------------+\n",
      "only showing top 5 rows\n"
     ]
    }
   ],
   "source": [
    "features_df.show(5)"
   ]
  },
  {
   "cell_type": "code",
   "execution_count": 71,
   "id": "27018bb2-8407-4a9c-992c-b38b80c414f3",
   "metadata": {},
   "outputs": [
    {
     "name": "stdout",
     "output_type": "stream",
     "text": [
      "root\n",
      " |-- crim: double (nullable = true)\n",
      " |-- zn: double (nullable = true)\n",
      " |-- indus: double (nullable = true)\n",
      " |-- chas: integer (nullable = true)\n",
      " |-- nox: double (nullable = true)\n",
      " |-- rm: double (nullable = true)\n",
      " |-- age: double (nullable = true)\n",
      " |-- dis: double (nullable = true)\n",
      " |-- rad: integer (nullable = true)\n",
      " |-- tax: integer (nullable = true)\n",
      " |-- ptratio: double (nullable = true)\n",
      " |-- b: double (nullable = true)\n",
      " |-- lstat: double (nullable = true)\n",
      " |-- medv: double (nullable = true)\n",
      " |-- features: vector (nullable = true)\n",
      "\n"
     ]
    }
   ],
   "source": [
    "features_df.printSchema()"
   ]
  },
  {
   "cell_type": "code",
   "execution_count": 72,
   "id": "980d81f3-6f9d-40b2-884c-80a1a8bbbba1",
   "metadata": {},
   "outputs": [],
   "source": [
    "from pyspark.ml.regression import LinearRegression"
   ]
  },
  {
   "cell_type": "code",
   "execution_count": 73,
   "id": "2ad585de-5347-4f61-93c9-e8038eefb5da",
   "metadata": {},
   "outputs": [],
   "source": [
    "lr = LinearRegression(labelCol=\"medv\", featuresCol=\"features\")"
   ]
  },
  {
   "cell_type": "code",
   "execution_count": 74,
   "id": "9bed981e-dda1-4e76-bb81-c7cd4219f019",
   "metadata": {},
   "outputs": [
    {
     "name": "stderr",
     "output_type": "stream",
     "text": [
      "25/08/22 11:47:52 WARN Instrumentation: [cf8c74cc] regParam is zero, which might cause numerical instability and overfitting.\n"
     ]
    }
   ],
   "source": [
    "lrModel = lr.fit(features_df)"
   ]
  },
  {
   "cell_type": "code",
   "execution_count": 75,
   "id": "5529954c-902a-49bb-843c-3f545e6f0634",
   "metadata": {},
   "outputs": [
    {
     "data": {
      "text/plain": [
       "DenseVector([5.217, -0.1029, -0.5785])"
      ]
     },
     "execution_count": 75,
     "metadata": {},
     "output_type": "execute_result"
    }
   ],
   "source": [
    "lrModel.coefficients"
   ]
  },
  {
   "cell_type": "code",
   "execution_count": 76,
   "id": "28e00492-89a9-4427-abc7-c73e5a0fa12b",
   "metadata": {},
   "outputs": [
    {
     "data": {
      "text/plain": [
       "-2.5622510119272093"
      ]
     },
     "execution_count": 76,
     "metadata": {},
     "output_type": "execute_result"
    }
   ],
   "source": [
    "lrModel.intercept"
   ]
  },
  {
   "cell_type": "markdown",
   "id": "f038483d-6cea-48ff-a48e-e8ef29261786",
   "metadata": {},
   "source": [
    "El anterior resultado se puede interpretar como: predicted home value = (5.2 x number of rooms) - (.1 x crime rate) - (.6 x % lower class) - 2.6"
   ]
  },
  {
   "cell_type": "code",
   "execution_count": 77,
   "id": "2017c06e-4cfe-45f2-ad75-7955d3a0eed8",
   "metadata": {},
   "outputs": [
    {
     "name": "stdout",
     "output_type": "stream",
     "text": [
      "+--------------------+----+\n",
      "|            features|medv|\n",
      "+--------------------+----+\n",
      "|[6.575,0.00632,4.98]|24.0|\n",
      "|[6.421,0.02731,9.14]|21.6|\n",
      "|[7.185,0.02729,4.03]|34.7|\n",
      "|[6.998,0.03237,2.94]|33.4|\n",
      "|[7.147,0.06905,5.33]|36.2|\n",
      "| [6.43,0.02985,5.21]|28.7|\n",
      "|[6.012,0.08829,12...|22.9|\n",
      "|[6.172,0.14455,19...|27.1|\n",
      "|[5.631,0.21124,29...|16.5|\n",
      "|[6.004,0.17004,17.1]|18.9|\n",
      "+--------------------+----+\n",
      "\n"
     ]
    }
   ],
   "source": [
    "subset = features_df.limit(10).select(\"features\", \"medv\")\n",
    "subset.show()"
   ]
  },
  {
   "cell_type": "code",
   "execution_count": 78,
   "id": "685f354a-3cea-4d09-bb22-1659c32c927f",
   "metadata": {},
   "outputs": [],
   "source": [
    "prediction = lrModel.transform(subset)"
   ]
  },
  {
   "cell_type": "code",
   "execution_count": 79,
   "id": "493ec5f3-3cab-4d2c-8ae7-e017c34d50ec",
   "metadata": {},
   "outputs": [
    {
     "name": "stdout",
     "output_type": "stream",
     "text": [
      "+--------------------+----+------------------+\n",
      "|            features|medv|        prediction|\n",
      "+--------------------+----+------------------+\n",
      "|[6.575,0.00632,4.98]|24.0|28.857717647784423|\n",
      "|[6.421,0.02731,9.14]|21.6|25.645644850540144|\n",
      "|[7.185,0.02729,4.03]|34.7| 32.58746300992212|\n",
      "|[6.998,0.03237,2.94]|33.4| 32.24191904275643|\n",
      "|[7.147,0.06905,5.33]|36.2| 31.63288834584224|\n",
      "| [6.43,0.02985,5.21]|28.7|  27.9657852461671|\n",
      "|[6.012,0.08829,12...|22.9| 21.60241460459668|\n",
      "|[6.172,0.14455,19...|27.1|18.543911230275796|\n",
      "|[5.631,0.21124,29...|16.5| 9.478596352794202|\n",
      "|[6.004,0.17004,17.1]|18.9| 18.85073477002384|\n",
      "+--------------------+----+------------------+\n",
      "\n"
     ]
    }
   ],
   "source": [
    "prediction.show()"
   ]
  },
  {
   "cell_type": "code",
   "execution_count": 80,
   "id": "31384864-41ea-4c18-974e-21fc201a00a8",
   "metadata": {},
   "outputs": [],
   "source": [
    "from pyspark.ml.linalg import Vectors"
   ]
  },
  {
   "cell_type": "code",
   "execution_count": 81,
   "id": "76f37bee-22f6-429b-9f34-51d3be5efd8b",
   "metadata": {},
   "outputs": [
    {
     "name": "stdout",
     "output_type": "stream",
     "text": [
      "+--------------+-----------------+\n",
      "|      features|       prediction|\n",
      "+--------------+-----------------+\n",
      "|[6.7,0.2,2.94]|30.67001049444645|\n",
      "+--------------+-----------------+\n",
      "\n"
     ]
    }
   ],
   "source": [
    "prueba = [(Vectors.dense([6.7, 0.2, 2.94]), )]\n",
    "resultado = spark.createDataFrame(prueba, [\"features\"])\n",
    "\n",
    "lrModel.transform(resultado).show()"
   ]
  },
  {
   "cell_type": "markdown",
   "id": "10333f31-08a6-46ad-8929-1b8ff5f2f5aa",
   "metadata": {},
   "source": [
    "## K-MEANS"
   ]
  },
  {
   "cell_type": "code",
   "execution_count": 82,
   "id": "e476c94e-11f2-43c4-a7a5-962405ad87d9",
   "metadata": {},
   "outputs": [],
   "source": [
    "#set de datos a trabajar  https://archive.ics.uci.edu/ml/datasets/iris\n",
    "df = spark.read.csv(\"iris-setosa.csv\", inferSchema=True, header=True)"
   ]
  },
  {
   "cell_type": "code",
   "execution_count": 83,
   "id": "52995dbd-d3ff-4d28-a14f-02c324dd7ae8",
   "metadata": {},
   "outputs": [
    {
     "name": "stdout",
     "output_type": "stream",
     "text": [
      "+---------+--------+---------+--------+-----------+\n",
      "|sp_length|sp_width|pl_length|pl_width|      class|\n",
      "+---------+--------+---------+--------+-----------+\n",
      "|      5.1|     3.5|      1.4|     0.2|Iris-setosa|\n",
      "|      4.9|     3.0|      1.4|     0.2|Iris-setosa|\n",
      "|      4.7|     3.2|      1.3|     0.2|Iris-setosa|\n",
      "|      4.6|     3.1|      1.5|     0.2|Iris-setosa|\n",
      "|      5.0|     3.6|      1.4|     0.2|Iris-setosa|\n",
      "+---------+--------+---------+--------+-----------+\n",
      "only showing top 5 rows\n"
     ]
    }
   ],
   "source": [
    "df.show(5)"
   ]
  },
  {
   "cell_type": "code",
   "execution_count": 84,
   "id": "520a233d-91c4-491c-8c50-fdc2571d1aec",
   "metadata": {},
   "outputs": [],
   "source": [
    "from pyspark.ml.linalg import Vectors\n",
    "from pyspark.ml.feature import VectorAssembler"
   ]
  },
  {
   "cell_type": "code",
   "execution_count": 85,
   "id": "081f1782-3e07-457d-92c2-93c71a06ebab",
   "metadata": {},
   "outputs": [],
   "source": [
    "assembler = VectorAssembler(inputCols = [\"sp_length\", \"sp_width\", \"pl_length\", \"pl_width\"], outputCol=\"features\")"
   ]
  },
  {
   "cell_type": "code",
   "execution_count": 86,
   "id": "1a95cd3d-cb04-44da-a1f0-5f3b9908f6d9",
   "metadata": {},
   "outputs": [],
   "source": [
    "irisFeatures = assembler.transform(df)"
   ]
  },
  {
   "cell_type": "code",
   "execution_count": 87,
   "id": "f1bd6e8b-7354-4fa6-a976-3334ea85b25c",
   "metadata": {},
   "outputs": [
    {
     "name": "stdout",
     "output_type": "stream",
     "text": [
      "+---------+--------+---------+--------+-----------+-----------------+\n",
      "|sp_length|sp_width|pl_length|pl_width|      class|         features|\n",
      "+---------+--------+---------+--------+-----------+-----------------+\n",
      "|      5.1|     3.5|      1.4|     0.2|Iris-setosa|[5.1,3.5,1.4,0.2]|\n",
      "|      4.9|     3.0|      1.4|     0.2|Iris-setosa|[4.9,3.0,1.4,0.2]|\n",
      "|      4.7|     3.2|      1.3|     0.2|Iris-setosa|[4.7,3.2,1.3,0.2]|\n",
      "|      4.6|     3.1|      1.5|     0.2|Iris-setosa|[4.6,3.1,1.5,0.2]|\n",
      "|      5.0|     3.6|      1.4|     0.2|Iris-setosa|[5.0,3.6,1.4,0.2]|\n",
      "+---------+--------+---------+--------+-----------+-----------------+\n",
      "only showing top 5 rows\n"
     ]
    }
   ],
   "source": [
    "irisFeatures.show(5)"
   ]
  },
  {
   "cell_type": "code",
   "execution_count": 88,
   "id": "38a0a372-2863-4d63-9151-f8366fa9eb34",
   "metadata": {},
   "outputs": [],
   "source": [
    "from pyspark.ml.clustering import KMeans"
   ]
  },
  {
   "cell_type": "code",
   "execution_count": 89,
   "id": "b6974c46-e44c-46a4-9047-a627dcf44158",
   "metadata": {},
   "outputs": [],
   "source": [
    "(trainingData, testData) = irisFeatures.randomSplit([0.7, 0.3])\n",
    "kmeans = KMeans().setK(3).setSeed(101010) # KMeans model with 3 clusters. setSeed makes reproducible results.\n",
    "model = kmeans.fit(trainingData) # train kmeans model"
   ]
  },
  {
   "cell_type": "code",
   "execution_count": 90,
   "id": "190bfc28-12b7-4d4d-bf8e-338f8fd1b164",
   "metadata": {},
   "outputs": [
    {
     "name": "stdout",
     "output_type": "stream",
     "text": [
      "+---------+--------+---------+--------+---------------+-----------------+----------+\n",
      "|sp_length|sp_width|pl_length|pl_width|          class|         features|prediction|\n",
      "+---------+--------+---------+--------+---------------+-----------------+----------+\n",
      "|      4.3|     3.0|      1.1|     0.1|    Iris-setosa|[4.3,3.0,1.1,0.1]|         1|\n",
      "|      4.4|     2.9|      1.4|     0.2|    Iris-setosa|[4.4,2.9,1.4,0.2]|         1|\n",
      "|      4.4|     3.0|      1.3|     0.2|    Iris-setosa|[4.4,3.0,1.3,0.2]|         1|\n",
      "|      4.4|     3.2|      1.3|     0.2|    Iris-setosa|[4.4,3.2,1.3,0.2]|         1|\n",
      "|      4.5|     2.3|      1.3|     0.3|    Iris-setosa|[4.5,2.3,1.3,0.3]|         1|\n",
      "|      4.6|     3.1|      1.5|     0.2|    Iris-setosa|[4.6,3.1,1.5,0.2]|         1|\n",
      "|      4.6|     3.2|      1.4|     0.2|    Iris-setosa|[4.6,3.2,1.4,0.2]|         1|\n",
      "|      4.6|     3.4|      1.4|     0.3|    Iris-setosa|[4.6,3.4,1.4,0.3]|         1|\n",
      "|      4.8|     3.0|      1.4|     0.1|    Iris-setosa|[4.8,3.0,1.4,0.1]|         1|\n",
      "|      4.8|     3.4|      1.9|     0.2|    Iris-setosa|[4.8,3.4,1.9,0.2]|         1|\n",
      "|      4.9|     2.4|      3.3|     1.0|Iris-versicolor|[4.9,2.4,3.3,1.0]|         0|\n",
      "|      4.9|     3.0|      1.4|     0.2|    Iris-setosa|[4.9,3.0,1.4,0.2]|         1|\n",
      "|      4.9|     3.1|      1.5|     0.1|    Iris-setosa|[4.9,3.1,1.5,0.1]|         1|\n",
      "|      4.9|     3.1|      1.5|     0.1|    Iris-setosa|[4.9,3.1,1.5,0.1]|         1|\n",
      "|      5.0|     2.3|      3.3|     1.0|Iris-versicolor|[5.0,2.3,3.3,1.0]|         0|\n",
      "|      5.0|     3.3|      1.4|     0.2|    Iris-setosa|[5.0,3.3,1.4,0.2]|         1|\n",
      "|      5.0|     3.4|      1.5|     0.2|    Iris-setosa|[5.0,3.4,1.5,0.2]|         1|\n",
      "|      5.0|     3.4|      1.6|     0.4|    Iris-setosa|[5.0,3.4,1.6,0.4]|         1|\n",
      "|      5.0|     3.5|      1.3|     0.3|    Iris-setosa|[5.0,3.5,1.3,0.3]|         1|\n",
      "|      5.0|     3.5|      1.6|     0.6|    Iris-setosa|[5.0,3.5,1.6,0.6]|         1|\n",
      "|      5.1|     3.3|      1.7|     0.5|    Iris-setosa|[5.1,3.3,1.7,0.5]|         1|\n",
      "|      5.1|     3.4|      1.5|     0.2|    Iris-setosa|[5.1,3.4,1.5,0.2]|         1|\n",
      "|      5.1|     3.5|      1.4|     0.2|    Iris-setosa|[5.1,3.5,1.4,0.2]|         1|\n",
      "|      5.1|     3.5|      1.4|     0.3|    Iris-setosa|[5.1,3.5,1.4,0.3]|         1|\n",
      "|      5.1|     3.7|      1.5|     0.4|    Iris-setosa|[5.1,3.7,1.5,0.4]|         1|\n",
      "|      5.1|     3.8|      1.9|     0.4|    Iris-setosa|[5.1,3.8,1.9,0.4]|         1|\n",
      "|      5.2|     4.1|      1.5|     0.1|    Iris-setosa|[5.2,4.1,1.5,0.1]|         1|\n",
      "|      5.3|     3.7|      1.5|     0.2|    Iris-setosa|[5.3,3.7,1.5,0.2]|         1|\n",
      "|      5.4|     3.0|      4.5|     1.5|Iris-versicolor|[5.4,3.0,4.5,1.5]|         0|\n",
      "|      5.4|     3.4|      1.5|     0.4|    Iris-setosa|[5.4,3.4,1.5,0.4]|         1|\n",
      "|      5.4|     3.4|      1.7|     0.2|    Iris-setosa|[5.4,3.4,1.7,0.2]|         1|\n",
      "|      5.4|     3.7|      1.5|     0.2|    Iris-setosa|[5.4,3.7,1.5,0.2]|         1|\n",
      "|      5.5|     2.3|      4.0|     1.3|Iris-versicolor|[5.5,2.3,4.0,1.3]|         0|\n",
      "|      5.5|     2.4|      3.7|     1.0|Iris-versicolor|[5.5,2.4,3.7,1.0]|         0|\n",
      "|      5.5|     2.5|      4.0|     1.3|Iris-versicolor|[5.5,2.5,4.0,1.3]|         0|\n",
      "|      5.5|     2.6|      4.4|     1.2|Iris-versicolor|[5.5,2.6,4.4,1.2]|         0|\n",
      "|      5.5|     4.2|      1.4|     0.2|    Iris-setosa|[5.5,4.2,1.4,0.2]|         1|\n",
      "|      5.6|     2.5|      3.9|     1.1|Iris-versicolor|[5.6,2.5,3.9,1.1]|         0|\n",
      "|      5.6|     2.8|      4.9|     2.0| Iris-virginica|[5.6,2.8,4.9,2.0]|         0|\n",
      "|      5.6|     2.9|      3.6|     1.3|Iris-versicolor|[5.6,2.9,3.6,1.3]|         0|\n",
      "|      5.6|     3.0|      4.1|     1.3|Iris-versicolor|[5.6,3.0,4.1,1.3]|         0|\n",
      "|      5.7|     2.5|      5.0|     2.0| Iris-virginica|[5.7,2.5,5.0,2.0]|         0|\n",
      "|      5.7|     2.6|      3.5|     1.0|Iris-versicolor|[5.7,2.6,3.5,1.0]|         0|\n",
      "|      5.7|     2.8|      4.1|     1.3|Iris-versicolor|[5.7,2.8,4.1,1.3]|         0|\n",
      "|      5.7|     2.8|      4.5|     1.3|Iris-versicolor|[5.7,2.8,4.5,1.3]|         0|\n",
      "|      5.7|     2.9|      4.2|     1.3|Iris-versicolor|[5.7,2.9,4.2,1.3]|         0|\n",
      "|      5.7|     3.8|      1.7|     0.3|    Iris-setosa|[5.7,3.8,1.7,0.3]|         1|\n",
      "|      5.8|     2.6|      4.0|     1.2|Iris-versicolor|[5.8,2.6,4.0,1.2]|         0|\n",
      "|      5.8|     2.7|      3.9|     1.2|Iris-versicolor|[5.8,2.7,3.9,1.2]|         0|\n",
      "|      5.8|     2.8|      5.1|     2.4| Iris-virginica|[5.8,2.8,5.1,2.4]|         0|\n",
      "+---------+--------+---------+--------+---------------+-----------------+----------+\n",
      "only showing top 50 rows\n"
     ]
    }
   ],
   "source": [
    "transformed = model.transform(trainingData) # add a new column to the table with predicted results\n",
    "transformed.show(50)  #150"
   ]
  },
  {
   "cell_type": "code",
   "execution_count": 91,
   "id": "8894ca34-75cb-470c-b4e3-4aebda1c056e",
   "metadata": {},
   "outputs": [
    {
     "name": "stdout",
     "output_type": "stream",
     "text": [
      "+---------+--------+---------+--------+---------------+-----------------+----------+\n",
      "|sp_length|sp_width|pl_length|pl_width|          class|         features|prediction|\n",
      "+---------+--------+---------+--------+---------------+-----------------+----------+\n",
      "|      4.6|     3.6|      1.0|     0.2|    Iris-setosa|[4.6,3.6,1.0,0.2]|         1|\n",
      "|      4.7|     3.2|      1.3|     0.2|    Iris-setosa|[4.7,3.2,1.3,0.2]|         1|\n",
      "|      4.7|     3.2|      1.6|     0.2|    Iris-setosa|[4.7,3.2,1.6,0.2]|         1|\n",
      "|      4.8|     3.0|      1.4|     0.3|    Iris-setosa|[4.8,3.0,1.4,0.3]|         1|\n",
      "|      4.8|     3.1|      1.6|     0.2|    Iris-setosa|[4.8,3.1,1.6,0.2]|         1|\n",
      "|      4.8|     3.4|      1.6|     0.2|    Iris-setosa|[4.8,3.4,1.6,0.2]|         1|\n",
      "|      4.9|     2.5|      4.5|     1.7| Iris-virginica|[4.9,2.5,4.5,1.7]|         0|\n",
      "|      4.9|     3.1|      1.5|     0.1|    Iris-setosa|[4.9,3.1,1.5,0.1]|         1|\n",
      "|      5.0|     2.0|      3.5|     1.0|Iris-versicolor|[5.0,2.0,3.5,1.0]|         0|\n",
      "|      5.0|     3.0|      1.6|     0.2|    Iris-setosa|[5.0,3.0,1.6,0.2]|         1|\n",
      "|      5.0|     3.2|      1.2|     0.2|    Iris-setosa|[5.0,3.2,1.2,0.2]|         1|\n",
      "|      5.0|     3.6|      1.4|     0.2|    Iris-setosa|[5.0,3.6,1.4,0.2]|         1|\n",
      "|      5.1|     2.5|      3.0|     1.1|Iris-versicolor|[5.1,2.5,3.0,1.1]|         0|\n",
      "|      5.1|     3.8|      1.5|     0.3|    Iris-setosa|[5.1,3.8,1.5,0.3]|         1|\n",
      "|      5.1|     3.8|      1.6|     0.2|    Iris-setosa|[5.1,3.8,1.6,0.2]|         1|\n",
      "|      5.2|     2.7|      3.9|     1.4|Iris-versicolor|[5.2,2.7,3.9,1.4]|         0|\n",
      "|      5.2|     3.4|      1.4|     0.2|    Iris-setosa|[5.2,3.4,1.4,0.2]|         1|\n",
      "+---------+--------+---------+--------+---------------+-----------------+----------+\n",
      "only showing top 17 rows\n"
     ]
    }
   ],
   "source": [
    "predictions = model.transform(testData)\n",
    "predictions.show(17) #151"
   ]
  },
  {
   "cell_type": "markdown",
   "id": "b29995b1-5a8d-4cb0-abc2-48e529b13b88",
   "metadata": {},
   "source": [
    "## Gaussian Mixture"
   ]
  },
  {
   "cell_type": "code",
   "execution_count": 93,
   "id": "9a87fb31-c4a7-44e5-9c7b-d8c5f895173b",
   "metadata": {},
   "outputs": [],
   "source": [
    "from pyspark.ml.clustering import GaussianMixture, GaussianMixtureModel"
   ]
  },
  {
   "cell_type": "code",
   "execution_count": 94,
   "id": "6d984025-7db6-49c6-a693-c514c95f7253",
   "metadata": {},
   "outputs": [],
   "source": [
    "df2 = spark.read.csv(\"iris-setosa.csv\", inferSchema=True, header=True)"
   ]
  },
  {
   "cell_type": "code",
   "execution_count": 95,
   "id": "b4a357e3-57eb-421c-bb3c-c1ad9e4bebaa",
   "metadata": {},
   "outputs": [],
   "source": [
    "assembler = VectorAssembler(inputCols = [\"sp_length\", \"sp_width\", \"pl_length\", \"pl_width\"], outputCol=\"features\")"
   ]
  },
  {
   "cell_type": "code",
   "execution_count": 96,
   "id": "e55195a7-9b3c-4b24-bc21-7419f1ac6ebd",
   "metadata": {},
   "outputs": [],
   "source": [
    "irisFeatures = assembler.transform(df2)"
   ]
  },
  {
   "cell_type": "code",
   "execution_count": 97,
   "id": "d6047799-9419-4208-a4ec-871501148cf6",
   "metadata": {},
   "outputs": [
    {
     "name": "stdout",
     "output_type": "stream",
     "text": [
      "+---------+--------+---------+--------+-----------+-----------------+\n",
      "|sp_length|sp_width|pl_length|pl_width|      class|         features|\n",
      "+---------+--------+---------+--------+-----------+-----------------+\n",
      "|      5.1|     3.5|      1.4|     0.2|Iris-setosa|[5.1,3.5,1.4,0.2]|\n",
      "|      4.9|     3.0|      1.4|     0.2|Iris-setosa|[4.9,3.0,1.4,0.2]|\n",
      "|      4.7|     3.2|      1.3|     0.2|Iris-setosa|[4.7,3.2,1.3,0.2]|\n",
      "|      4.6|     3.1|      1.5|     0.2|Iris-setosa|[4.6,3.1,1.5,0.2]|\n",
      "|      5.0|     3.6|      1.4|     0.2|Iris-setosa|[5.0,3.6,1.4,0.2]|\n",
      "+---------+--------+---------+--------+-----------+-----------------+\n",
      "only showing top 5 rows\n"
     ]
    }
   ],
   "source": [
    "irisFeatures.show(5)"
   ]
  },
  {
   "cell_type": "code",
   "execution_count": 98,
   "id": "9ffc825c-08ac-4d04-be96-57908065621b",
   "metadata": {},
   "outputs": [],
   "source": [
    "(trainingData, testData) = irisFeatures.randomSplit([0.7, 0.3])"
   ]
  },
  {
   "cell_type": "code",
   "execution_count": 99,
   "id": "ccb2e144-6756-4899-895b-9acebeb3c046",
   "metadata": {},
   "outputs": [],
   "source": [
    "gmm = GaussianMixture().setK(3).setSeed(42)"
   ]
  },
  {
   "cell_type": "code",
   "execution_count": 100,
   "id": "3c2c069f-e8c9-4733-a393-99c481ef5f44",
   "metadata": {},
   "outputs": [],
   "source": [
    "model = gmm.fit(testData)"
   ]
  },
  {
   "cell_type": "code",
   "execution_count": 101,
   "id": "be57d840-e586-4382-86d6-684a023580bd",
   "metadata": {},
   "outputs": [
    {
     "name": "stdout",
     "output_type": "stream",
     "text": [
      "Gaussian shown as a DataFrame:\n",
      "+--------------------+--------------------+\n",
      "|                mean|                 cov|\n",
      "+--------------------+--------------------+\n",
      "|[6.05494725185918...|0.350220628839082...|\n",
      "|[5.04166917813600...|0.087429600546934...|\n",
      "|[6.30079556689470...|0.075921237273638...|\n",
      "+--------------------+--------------------+\n",
      "\n"
     ]
    }
   ],
   "source": [
    "print(\"Gaussian shown as a DataFrame:\")\n",
    "model.gaussiansDF.show()"
   ]
  },
  {
   "cell_type": "code",
   "execution_count": 102,
   "id": "45e2e419-d6a0-44ec-abb2-508f697cb608",
   "metadata": {},
   "outputs": [
    {
     "data": {
      "text/plain": [
       "[0.43812992882924295, 0.2857129609893477, 0.27615711018140937]"
      ]
     },
     "execution_count": 102,
     "metadata": {},
     "output_type": "execute_result"
    }
   ],
   "source": [
    "model.weights #lamba"
   ]
  },
  {
   "cell_type": "code",
   "execution_count": 103,
   "id": "dd71ee56-9b35-4442-b7c9-4f8899042065",
   "metadata": {},
   "outputs": [],
   "source": [
    "predictions = model.transform(testData)"
   ]
  },
  {
   "cell_type": "code",
   "execution_count": 104,
   "id": "10745e2b-1a49-4efc-adcd-be608568cf14",
   "metadata": {},
   "outputs": [
    {
     "name": "stdout",
     "output_type": "stream",
     "text": [
      "Predictions:\n",
      "+-----------------+----------+------------------------------------------------------------------+\n",
      "|features         |prediction|probability                                                       |\n",
      "+-----------------+----------+------------------------------------------------------------------+\n",
      "|[4.5,2.3,1.3,0.3]|1         |[5.616644999654675E-5,0.9999438335500017,1.6384909004385688E-15]  |\n",
      "|[4.6,3.6,1.0,0.2]|1         |[3.642637935550374E-15,0.9999999999999927,3.642637935550374E-15]  |\n",
      "|[4.7,3.2,1.6,0.2]|1         |[3.0890269091346075E-16,0.9999999999999993,3.0890269091346075E-16]|\n",
      "|[4.9,2.4,3.3,1.0]|0         |[0.9999999999999988,6.264219911622257E-16,6.299084355053824E-16]  |\n",
      "|[5.0,3.0,1.6,0.2]|1         |[2.9432758336971997E-16,0.9999999999999994,2.943275634972842E-16] |\n",
      "|[5.0,3.5,1.3,0.3]|1         |[8.805996534299511E-17,1.0,8.805996534299511E-17]                 |\n",
      "|[5.1,2.5,3.0,1.1]|0         |[0.9999999999946758,1.8767439106420072E-15,5.322387617530219E-12] |\n",
      "|[5.1,3.3,1.7,0.5]|1         |[7.738735907557345E-16,0.9999999999999984,7.738735907557345E-16]  |\n",
      "|[5.1,3.8,1.6,0.2]|1         |[1.6013312989326081E-16,0.9999999999999997,1.6013312989326081E-16]|\n",
      "|[5.1,3.8,1.9,0.4]|1         |[1.1720631534993986E-15,0.9999999999999977,1.1720631534993986E-15]|\n",
      "|[5.2,3.4,1.4,0.2]|1         |[1.6318316082313646E-16,0.9999999999999997,1.6318316082313646E-16]|\n",
      "|[5.3,3.7,1.5,0.2]|1         |[1.3397078243257425E-16,0.9999999999999998,1.3397078243257425E-16]|\n",
      "|[5.4,3.9,1.3,0.4]|1         |[6.936520608948924E-16,0.9999999999999987,6.936520608948924E-16]  |\n",
      "|[5.5,2.4,3.7,1.0]|0         |[0.9994665250983297,3.278347296686688E-16,5.334749016700473E-4]   |\n",
      "|[5.5,2.4,3.8,1.1]|0         |[0.9999634263215075,3.929449640204033E-16,3.657367849203092E-5]   |\n",
      "|[5.5,4.2,1.4,0.2]|1         |[3.470919795663558E-16,0.9999999999999993,3.470919795663558E-16]  |\n",
      "|[5.6,2.5,3.9,1.1]|0         |[0.99339590778791,1.6156393963757377E-16,0.0066040922120899565]   |\n",
      "|[5.6,2.8,4.9,2.0]|0         |[0.9999999999999502,3.8211336249898284E-15,4.598273452378167E-14] |\n",
      "|[5.6,3.0,4.5,1.5]|2         |[0.006578183909214156,2.546860900102692E-15,0.9934218160907834]   |\n",
      "|[5.7,2.6,3.5,1.0]|0         |[0.9994370185430628,1.6180685817129032E-16,5.62981456937036E-4]   |\n",
      "+-----------------+----------+------------------------------------------------------------------+\n",
      "only showing top 20 rows\n"
     ]
    }
   ],
   "source": [
    "# Show the predictions including the cluster assignment and probabilities\n",
    "print(\"Predictions:\")\n",
    "predictions.select(\"features\", \"prediction\", \"probability\").show(truncate=False)"
   ]
  },
  {
   "cell_type": "code",
   "execution_count": 105,
   "id": "c7ad90c1-ba5e-4b9c-af50-dacc1b466009",
   "metadata": {},
   "outputs": [],
   "source": [
    "#lambda1*norm(mu1,sigma1) + lambda2*norm(mu2,sigma2) + lambda3*norm(mu3,sigma3) + ... +lambdan*norm(mun,sigman)"
   ]
  }
 ],
 "metadata": {
  "kernelspec": {
   "display_name": "Python [conda env:base] *",
   "language": "python",
   "name": "conda-base-py"
  },
  "language_info": {
   "codemirror_mode": {
    "name": "ipython",
    "version": 3
   },
   "file_extension": ".py",
   "mimetype": "text/x-python",
   "name": "python",
   "nbconvert_exporter": "python",
   "pygments_lexer": "ipython3",
   "version": "3.12.7"
  }
 },
 "nbformat": 4,
 "nbformat_minor": 5
}
