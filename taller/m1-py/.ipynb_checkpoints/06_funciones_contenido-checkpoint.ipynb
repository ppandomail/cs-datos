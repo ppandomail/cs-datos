{
 "cells": [
  {
   "cell_type": "markdown",
   "id": "a932b026-ab06-4e20-8dad-fdf9a76bc9e9",
   "metadata": {},
   "source": [
    "# Funciones\n",
    "---"
   ]
  },
  {
   "cell_type": "markdown",
   "id": "82c508f7-ebe9-46db-ba62-05de9cb98508",
   "metadata": {},
   "source": [
    "* Una función es un bloque de código que realiza una tarea específica y que se puede reutilizar en diferentes partes de un programa"
   ]
  },
  {
   "cell_type": "code",
   "execution_count": 1,
   "id": "65c20c35-77cb-4767-ac5b-8cf8f84f73ed",
   "metadata": {},
   "outputs": [],
   "source": [
    "# pueden tener parámetros/argumentos\n",
    "# el pasaje es siempre por referencia\n",
    "def sumar(a, b=3):    # declaración: nombre + argumentos (puede no tener)\n",
    "  return a + b        # cuerpo: código de la función"
   ]
  },
  {
   "cell_type": "code",
   "execution_count": 2,
   "id": "056b0569-e869-4712-a7ec-d9fb20449da6",
   "metadata": {},
   "outputs": [
    {
     "data": {
      "text/plain": [
       "3"
      ]
     },
     "execution_count": 2,
     "metadata": {},
     "output_type": "execute_result"
    }
   ],
   "source": [
    "sumar(1, 2)      # invocación con argumentos posicionales"
   ]
  },
  {
   "cell_type": "code",
   "execution_count": 3,
   "id": "6c10b1a9-8249-4e4b-9457-983369a4828f",
   "metadata": {},
   "outputs": [
    {
     "data": {
      "text/plain": [
       "3"
      ]
     },
     "execution_count": 3,
     "metadata": {},
     "output_type": "execute_result"
    }
   ],
   "source": [
    "sumar(b=2, a=1)  # invocación con argumentos nominales"
   ]
  },
  {
   "cell_type": "code",
   "execution_count": 4,
   "id": "ce7ea1ee-5644-4dfb-9a2e-3add2c4b8ec2",
   "metadata": {},
   "outputs": [
    {
     "data": {
      "text/plain": [
       "4"
      ]
     },
     "execution_count": 4,
     "metadata": {},
     "output_type": "execute_result"
    }
   ],
   "source": [
    "sumar(1)         # invocación con argumento faltante (actúa valor por default)    "
   ]
  },
  {
   "cell_type": "code",
   "execution_count": 5,
   "id": "73de75ca-91ba-4eb5-abf5-21af6eae011d",
   "metadata": {},
   "outputs": [
    {
     "data": {
      "text/plain": [
       "20"
      ]
     },
     "execution_count": 5,
     "metadata": {},
     "output_type": "execute_result"
    }
   ],
   "source": [
    "# argumentos indeterminados, args es una tupla\n",
    "def sumar_arg_ind(*args):\n",
    "    acum = 0\n",
    "    for elem in args:\n",
    "        acum += elem\n",
    "    return acum\n",
    "\n",
    "sumar_arg_ind(3, 2, 4, 5, 6)"
   ]
  },
  {
   "cell_type": "code",
   "execution_count": 6,
   "id": "84588079-87a4-4f4b-b87e-5a3ca584e834",
   "metadata": {},
   "outputs": [
    {
     "name": "stdout",
     "output_type": "stream",
     "text": [
      "(4, 8)\n",
      "4 8\n"
     ]
    }
   ],
   "source": [
    "# retorno de múltiples valores\n",
    "def cuadrado_cubo(num):\n",
    "    return num*num, num*num*num  # retorna una tupla\n",
    "\n",
    "tupla = cuadrado_cubo(2)\n",
    "print(tupla)\n",
    "c2, c3 = cuadrado_cubo(2) # desempaquetar la tupla\n",
    "print(c2, c3)"
   ]
  },
  {
   "cell_type": "code",
   "execution_count": 7,
   "id": "5d8351d3-cf27-460f-8c90-f1d20ac1040f",
   "metadata": {},
   "outputs": [
    {
     "data": {
      "text/plain": [
       "6"
      ]
     },
     "execution_count": 7,
     "metadata": {},
     "output_type": "execute_result"
    }
   ],
   "source": [
    "# función recursiva: se llaman así mismas dentro de su propia definición\n",
    "# n! = n * (n-1) * (n-2) * ... * 1\n",
    "def factorial(n):\n",
    "    if n == 0:\n",
    "        return 1\n",
    "    return n * factorial(n-1)\n",
    "\n",
    "factorial(3)"
   ]
  },
  {
   "cell_type": "code",
   "execution_count": 8,
   "id": "cf69117e-0ea3-4e25-a74c-2306f28ef7ce",
   "metadata": {},
   "outputs": [],
   "source": [
    "# devuelve un booleano si es fuerte o no, para que sea fuerte debe tener mas de 2 mayúsculas, \n",
    "# mas de 1 minúscula y mas de 5 números\n",
    "def contrasenia_es_fuerte(contrasenia):\n",
    "    d = 0\n",
    "    m = 0\n",
    "    M = 0\n",
    "    for caracter in contrasenia:\n",
    "      if caracter.isdigit():\n",
    "        d = d+1\n",
    "      elif caracter.islower():\n",
    "        m = m+1\n",
    "      elif caracter.isupper():\n",
    "        M = M+1\n",
    "    return d > 5 and m > 1 and M > 2"
   ]
  },
  {
   "cell_type": "code",
   "execution_count": 9,
   "id": "e783ce1b-437a-43d7-bd13-fa552fa55894",
   "metadata": {},
   "outputs": [
    {
     "data": {
      "text/plain": [
       "False"
      ]
     },
     "execution_count": 9,
     "metadata": {},
     "output_type": "execute_result"
    }
   ],
   "source": [
    "contrasenia_es_fuerte('HolaMundo123!!!')"
   ]
  },
  {
   "cell_type": "code",
   "execution_count": 10,
   "id": "1e63eecb-7c62-428e-8fa1-f8c1c733fd89",
   "metadata": {},
   "outputs": [
    {
     "data": {
      "text/plain": [
       "True"
      ]
     },
     "execution_count": 10,
     "metadata": {},
     "output_type": "execute_result"
    }
   ],
   "source": [
    "contrasenia_es_fuerte('H0laMund0Cruel1234')"
   ]
  },
  {
   "cell_type": "code",
   "execution_count": 11,
   "id": "d6f98545-c4af-4a7d-8291-5c9e989bf0f9",
   "metadata": {},
   "outputs": [
    {
     "data": {
      "text/plain": [
       "'apapap'"
      ]
     },
     "execution_count": 11,
     "metadata": {},
     "output_type": "execute_result"
    }
   ],
   "source": [
    "# devuelve la cadena más larga de una lista de cadenas\n",
    "def cadena_mas_larga(lista):\n",
    "    larga = lista[0]\n",
    "    for cadena in lista:\n",
    "        if len(cadena) > len(larga):\n",
    "            larga = cadena\n",
    "    return larga\n",
    "\n",
    "cadena_mas_larga(['a', 'aaa', 'apapap', 'ddsd', ''])"
   ]
  }
 ],
 "metadata": {
  "kernelspec": {
   "display_name": "Python [conda env:base] *",
   "language": "python",
   "name": "conda-base-py"
  },
  "language_info": {
   "codemirror_mode": {
    "name": "ipython",
    "version": 3
   },
   "file_extension": ".py",
   "mimetype": "text/x-python",
   "name": "python",
   "nbconvert_exporter": "python",
   "pygments_lexer": "ipython3",
   "version": "3.12.7"
  }
 },
 "nbformat": 4,
 "nbformat_minor": 5
}
