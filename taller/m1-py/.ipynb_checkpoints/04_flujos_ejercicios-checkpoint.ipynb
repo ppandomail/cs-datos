{
 "cells": [
  {
   "cell_type": "markdown",
   "id": "a5dd6e20-d081-4cf0-abc2-71a0ec9c6ca1",
   "metadata": {},
   "source": [
    "# Flujos - Ejercicios\n",
    "---"
   ]
  },
  {
   "cell_type": "markdown",
   "id": "cccd0dc1-ab65-472a-9d89-7e69441649e4",
   "metadata": {},
   "source": [
    "## Condicionales\n",
    "---"
   ]
  },
  {
   "cell_type": "markdown",
   "id": "b71f05c1-ba8c-4068-b4fc-b4995daf8135",
   "metadata": {},
   "source": [
    "Escribir un programa que pregunte al usuario su edad y muestre por pantalla si es mayor de edad o no"
   ]
  },
  {
   "cell_type": "code",
   "execution_count": 1,
   "id": "01cef18f-64ca-4ab8-a25e-63e72ba092b0",
   "metadata": {},
   "outputs": [
    {
     "name": "stdin",
     "output_type": "stream",
     "text": [
      "Edad:  35\n"
     ]
    },
    {
     "name": "stdout",
     "output_type": "stream",
     "text": [
      "Mayor de edad\n"
     ]
    }
   ],
   "source": [
    "print('Mayor de edad' if int(input('Edad: ')) >= 18 else 'Menor de edad')"
   ]
  },
  {
   "cell_type": "markdown",
   "id": "a1c4b0ee-00cd-42c5-b321-b2f8f6df6a88",
   "metadata": {},
   "source": [
    "Escribir un programa que almacene la cadena de caracteres contraseña en una variable, pregunte al usuario por la contraseña e imprima por pantalla si la contraseña introducida por el usuario coincide con la guardada en la variable sin tener en cuenta mayúsculas y minúsculas"
   ]
  },
  {
   "cell_type": "code",
   "execution_count": 3,
   "id": "a7afc36e-3370-4fba-8870-2b22f76f7cfd",
   "metadata": {},
   "outputs": [
    {
     "name": "stdin",
     "output_type": "stream",
     "text": [
      "Contraseña:  pepe123\n"
     ]
    },
    {
     "name": "stdout",
     "output_type": "stream",
     "text": [
      "Coincide\n"
     ]
    }
   ],
   "source": [
    "contrasenia_actual = 'pepe123'\n",
    "print('Coincide' if input('Contraseña: ').upper() == contrasenia_actual.upper() else 'No coincide')"
   ]
  },
  {
   "cell_type": "markdown",
   "id": "1ac6b2fb-6276-479d-9029-0e9c8f931e55",
   "metadata": {},
   "source": [
    "Escribir un programa que pida al usuario dos números y muestre por pantalla su división. Si el divisor es cero el programa debe mostrar un error"
   ]
  },
  {
   "cell_type": "code",
   "execution_count": 4,
   "id": "b495e810-58a4-4daa-8ecf-eb67f69b63a6",
   "metadata": {},
   "outputs": [
    {
     "name": "stdin",
     "output_type": "stream",
     "text": [
      "Operando 1:  2\n",
      "Operando 2:  0\n"
     ]
    },
    {
     "name": "stdout",
     "output_type": "stream",
     "text": [
      "Error al dividir por 0\n"
     ]
    }
   ],
   "source": [
    "op1 = float(input('Operando 1: '))\n",
    "op2 = float(input('Operando 2: '))\n",
    "print('Error al dividir por 0' if op2 == 0 else f'{op1/op2}')"
   ]
  },
  {
   "cell_type": "markdown",
   "id": "11348433-d561-4435-b389-9859332ca8dc",
   "metadata": {},
   "source": [
    "Escribir un programa que pida al usuario un número entero y muestre por pantalla si es par o impar"
   ]
  },
  {
   "cell_type": "code",
   "execution_count": 5,
   "id": "ee04c4e4-9d00-4230-9d62-60f9a8dcf46d",
   "metadata": {},
   "outputs": [
    {
     "name": "stdin",
     "output_type": "stream",
     "text": [
      "Número entero:  4\n"
     ]
    },
    {
     "name": "stdout",
     "output_type": "stream",
     "text": [
      "par\n"
     ]
    }
   ],
   "source": [
    "print('par' if int(input('Número entero: '))%2 == 0 else 'impar')"
   ]
  },
  {
   "cell_type": "markdown",
   "id": "fd3f4862-888b-485e-95be-bb567bd2f1dc",
   "metadata": {},
   "source": [
    "Para tributar un determinado impuesto se debe ser mayor de 18 años y tener unos ingresos iguales o superiores a 500000 ARS mensuales. Escribir un programa que pregunte al usuario su edad y sus ingresos mensuales y muestre por pantalla si el usuario tiene que tributar o no"
   ]
  },
  {
   "cell_type": "code",
   "execution_count": 6,
   "id": "94b9fe64-cd2f-4e28-bf39-f602f7bc629b",
   "metadata": {},
   "outputs": [
    {
     "name": "stdin",
     "output_type": "stream",
     "text": [
      "Edad:  35\n",
      "Ingresos:  1000000\n"
     ]
    },
    {
     "name": "stdout",
     "output_type": "stream",
     "text": [
      "Tributa\n"
     ]
    }
   ],
   "source": [
    "print('Tributa' if int(input('Edad: ')) >= 18 and float(input('Ingresos: ')) >= 500000 else 'No tributa')"
   ]
  },
  {
   "cell_type": "markdown",
   "id": "f094f4f2-9e67-4db5-a3a7-4a512c146e99",
   "metadata": {},
   "source": [
    "Los alumnos de un curso se han dividido en dos grupos A y B de acuerdo con el sexo y el nombre. El grupo A está formado por las mujeres con un nombre anterior a la M y los hombres con un nombre posterior a la N y el grupo B por el resto. Escribir un programa que pregunte al usuario su nombre y sexo, y muestre por pantalla el grupo que le corresponde"
   ]
  },
  {
   "cell_type": "code",
   "execution_count": 7,
   "id": "8d1b0fde-60f0-45a4-a903-b577822c3029",
   "metadata": {},
   "outputs": [
    {
     "name": "stdin",
     "output_type": "stream",
     "text": [
      "Nombre:  Pablo\n",
      "Sexo (M/V):  M\n"
     ]
    },
    {
     "name": "stdout",
     "output_type": "stream",
     "text": [
      "Grupo B\n"
     ]
    }
   ],
   "source": [
    "letra = input('Nombre: ')[0]\n",
    "sexo = input('Sexo (M/V): ')\n",
    "print('Grupo A' if (sexo == 'M' and letra < 'M') or (sexo == 'V' and letra > 'N') else 'Grupo B')"
   ]
  },
  {
   "cell_type": "markdown",
   "id": "6f41bf56-26f5-4e8e-ab12-b1d7180a4977",
   "metadata": {},
   "source": [
    "Los tramos impositivos para la declaración de la renta anual en un determinado país son los siguientes:\n",
    "\n",
    "| Renta                       | Tipo impositivo |\n",
    "| --                          | --              |\n",
    "| Menos de 10000 USD          | 5%              |\n",
    "| Entre 10000 USD y 20000 USD | 15%             | \n",
    "| Entre 20000 USD y 35000 USD | 20%             |\n",
    "| Entre 35000 USD y 60000 USD | 30%             |\n",
    "| Más de 60000            USD | 45%             |\n",
    "\n",
    "Escribir un programa que pregunte al usuario su renta anual y muestre por pantalla el tipo impositivo que le corresponde"
   ]
  },
  {
   "cell_type": "code",
   "execution_count": 9,
   "id": "d3812069-349f-4539-bd17-8f4772919397",
   "metadata": {},
   "outputs": [
    {
     "name": "stdin",
     "output_type": "stream",
     "text": [
      "Renta anual USD:  25000\n"
     ]
    },
    {
     "name": "stdout",
     "output_type": "stream",
     "text": [
      "20%\n"
     ]
    }
   ],
   "source": [
    "renta_anual = float(input('Renta anual USD: '))\n",
    "if renta_anual < 10000:\n",
    "    print('5%')\n",
    "elif renta_anual < 20000:\n",
    "    print('15%')\n",
    "elif renta_anual < 35000:\n",
    "    print('20%')\n",
    "elif renta_anual < 60000:\n",
    "    print('30%')\n",
    "else:\n",
    "    print('45%')"
   ]
  },
  {
   "cell_type": "markdown",
   "id": "d07c18cb-d343-425a-b531-ab58d6819a39",
   "metadata": {},
   "source": [
    "En una determinada empresa, sus empleados son evaluados al final de cada año.\n",
    "Los puntos que pueden obtener en la evaluación comienzan en 0.0 y pueden ir aumentando, traduciéndose en mejores beneficios. Los puntos que pueden conseguir los empleados pueden ser 0.0, 0.4, 0.6 o más, pero no valores intermedios entre las cifras mencionadas. A continuación, se muestra una tabla con los niveles correspondientes a cada puntuación. La cantidad de dinero\n",
    "conseguida en cada nivel es de 500.000 ARS multiplicada por la puntuación del nivel\n",
    "\n",
    "| Nivel       | Puntuación |\n",
    "| --          | --         |\n",
    "| Inaceptable | 0.0        |\n",
    "| Aceptable   | 0.4        |\n",
    "| Meritorio   | 0.6 o más  |\n",
    "\n",
    "Escribir un programa que lea la puntuación del usuario e indique su nivel de rendimiento, así como la cantidad de dinero que recibirá el usuario"
   ]
  },
  {
   "cell_type": "code",
   "execution_count": 10,
   "id": "0d37c32a-d08f-4d94-8dc7-ba28c8aca8c3",
   "metadata": {},
   "outputs": [
    {
     "name": "stdin",
     "output_type": "stream",
     "text": [
      "Puntuación:  0.5\n"
     ]
    },
    {
     "name": "stdout",
     "output_type": "stream",
     "text": [
      "Nivel: Aceptable\n",
      "Dinero: $ 200000.0\n"
     ]
    }
   ],
   "source": [
    "puntuacion = float(input('Puntuación: '))\n",
    "dinero = 500000\n",
    "if puntuacion < 0.4:\n",
    "    nivel, porc = 'Inaceptable', 0\n",
    "elif puntuacion < 0.6:\n",
    "    nivel, porc = 'Aceptable', 0.4\n",
    "else:\n",
    "    nivel, porc = 'Meritorio', 0.6\n",
    "print(f'Nivel: {nivel}', f'Dinero: $ {dinero * porc}', sep='\\n')"
   ]
  },
  {
   "cell_type": "markdown",
   "id": "7b6d4760-449f-45fb-9873-768943f0b9a7",
   "metadata": {},
   "source": [
    "Escribir un programa para una empresa que tiene salas de juegos para todas las edades y quiere calcular de forma automática el precio que debe cobrar a sus clientes por entrar. El programa debe preguntar al usuario la edad del cliente y mostrar el precio de la entrada. Si el cliente es menor de 4 años puede entrar gratis, si tiene entre 4 y 18 años debe pagar 10500 ARS y si es mayor de 18 años, 14000 ARS"
   ]
  },
  {
   "cell_type": "code",
   "execution_count": 11,
   "id": "670882a7-0011-4925-8e57-d96b2ef663bd",
   "metadata": {},
   "outputs": [
    {
     "name": "stdin",
     "output_type": "stream",
     "text": [
      "Edad:  35\n"
     ]
    },
    {
     "name": "stdout",
     "output_type": "stream",
     "text": [
      "Precio entrada: AR$ 14000\n"
     ]
    }
   ],
   "source": [
    "edad = int(input('Edad: '))\n",
    "if edad < 4:\n",
    "    precio = 'Gratis'\n",
    "elif edad < 18:\n",
    "    precio = 'AR$ 10500'\n",
    "else:\n",
    "    precio = 'AR$ 14000'\n",
    "print(f'Precio entrada: {precio}')"
   ]
  },
  {
   "cell_type": "markdown",
   "id": "e84fb778-373a-4b6f-a2e6-d4ace034da82",
   "metadata": {},
   "source": [
    "La pizzería Napoli ofrece pizzas vegetarianas y no vegetarianas a sus clientes. Los\n",
    "ingredientes para cada tipo de pizza aparecen a continuación\n",
    "\n",
    "* Ingredientes vegetarianos: Pimiento y tofu.\n",
    "* Ingredientes no vegetarianos: Peperoni, Jamón y Salmón.\n",
    "\n",
    "Escribir un programa que pregunte al usuario si quiere una pizza vegetariana o no, y en función de su respuesta le muestre un menú con los ingredientes disponibles para que elija. Solo se puede eligir un ingrediente además de la mozzarella y el tomate que están en todas la pizzas. Al final se debe mostrar por pantalla si la pizza elegida es vegetariana o no y todos los ingredientes que lleva"
   ]
  },
  {
   "cell_type": "code",
   "execution_count": 12,
   "id": "52c78aee-81b0-4b12-b500-04d70c4e2cd1",
   "metadata": {},
   "outputs": [
    {
     "name": "stdin",
     "output_type": "stream",
     "text": [
      "Quiere una pizza vegetariana (S/N):  N\n"
     ]
    },
    {
     "name": "stdout",
     "output_type": "stream",
     "text": [
      "Ingredientes disponibles: \n",
      "1. Peperoni\n",
      "2. Jamón\n",
      "3. Salmón\n",
      "8. Mozzarella\n",
      "9. Tomate\n"
     ]
    },
    {
     "name": "stdin",
     "output_type": "stream",
     "text": [
      "Ingrediente:  8\n"
     ]
    },
    {
     "name": "stdout",
     "output_type": "stream",
     "text": [
      "Pizza elegida: no vegetariana con ingrediente: 8\n"
     ]
    }
   ],
   "source": [
    "opcion_vegetariana = input('Quiere una pizza vegetariana (S/N): ')\n",
    "print('Ingredientes disponibles: ')\n",
    "if opcion_vegetariana == 'S':\n",
    "    print('1. Pimiento', '2. Tofu', sep='\\n')\n",
    "    opc = ''\n",
    "else:\n",
    "    print('1. Peperoni', '2. Jamón', '3. Salmón', sep='\\n')\n",
    "    opc = 'no'\n",
    "print('8. Mozzarella', '9. Tomate', sep='\\n')\n",
    "opcion_ingrediente = input('Ingrediente: ')\n",
    "print(f'Pizza elegida: {opc} vegetariana con ingrediente: {opcion_ingrediente}')"
   ]
  },
  {
   "cell_type": "markdown",
   "id": "1e4fb440-fa7b-4d8b-8876-d24717463ed6",
   "metadata": {},
   "source": [
    "## Bucles\n",
    "---"
   ]
  },
  {
   "cell_type": "markdown",
   "id": "23aa59d3-1daa-48e6-8f22-2e7816ca532b",
   "metadata": {},
   "source": [
    "Escribir un programa que pida al usuario una palabra y la muestre por pantalla 10 veces"
   ]
  },
  {
   "cell_type": "code",
   "execution_count": 1,
   "id": "83c411bc-4c2c-4902-852e-d684120f438b",
   "metadata": {},
   "outputs": [
    {
     "name": "stdin",
     "output_type": "stream",
     "text": [
      "Palabra:  português\n"
     ]
    },
    {
     "name": "stdout",
     "output_type": "stream",
     "text": [
      "português\n",
      "português\n",
      "português\n",
      "português\n",
      "português\n",
      "português\n",
      "português\n",
      "português\n",
      "português\n"
     ]
    },
    {
     "data": {
      "text/plain": [
       "[None, None, None, None, None, None, None, None, None]"
      ]
     },
     "execution_count": 1,
     "metadata": {},
     "output_type": "execute_result"
    }
   ],
   "source": [
    "palabra = input('Palabra: ')\n",
    "[print(palabra) for i in range(1, 10)]"
   ]
  },
  {
   "cell_type": "code",
   "execution_count": 2,
   "id": "54a55fdb-e1c8-480d-a69f-b8e63da90cbc",
   "metadata": {},
   "outputs": [
    {
     "name": "stdin",
     "output_type": "stream",
     "text": [
      "Palabra:  português\n"
     ]
    },
    {
     "name": "stdout",
     "output_type": "stream",
     "text": [
      "português\n",
      "português\n",
      "português\n",
      "português\n",
      "português\n",
      "português\n",
      "português\n",
      "português\n",
      "português\n",
      "português\n"
     ]
    }
   ],
   "source": [
    "palabra = input('Palabra: ')\n",
    "for i in range(0, 10):\n",
    "    print(palabra)"
   ]
  },
  {
   "cell_type": "markdown",
   "id": "7764d3e6-a23a-48c5-83bb-0cd0f5337e75",
   "metadata": {},
   "source": [
    "Escribir un programa que pregunte al usuario su edad y muestre por pantalla todos los años que ha cumplido (desde 1 hasta su edad)"
   ]
  },
  {
   "cell_type": "code",
   "execution_count": 3,
   "id": "65f8b178-87a8-47f8-b78e-089869212576",
   "metadata": {},
   "outputs": [
    {
     "name": "stdin",
     "output_type": "stream",
     "text": [
      "Edad:  6\n"
     ]
    },
    {
     "name": "stdout",
     "output_type": "stream",
     "text": [
      "1\n",
      "2\n",
      "3\n",
      "4\n",
      "5\n",
      "6\n"
     ]
    },
    {
     "data": {
      "text/plain": [
       "[None, None, None, None, None, None]"
      ]
     },
     "execution_count": 3,
     "metadata": {},
     "output_type": "execute_result"
    }
   ],
   "source": [
    "edad = int(input('Edad: '))\n",
    "[print(i) for i in range(1, edad+1)]"
   ]
  },
  {
   "cell_type": "markdown",
   "id": "b29c6f9d-3211-47bd-ba1e-cd8f9c8ed213",
   "metadata": {},
   "source": [
    "Escribir un programa que pida al usuario un número entero positivo y muestre por pantalla todos los números impares desde 1 hasta ese número separados por comas"
   ]
  },
  {
   "cell_type": "code",
   "execution_count": 4,
   "id": "c77b59e1-50e9-44ed-a7b1-cd8235545db5",
   "metadata": {},
   "outputs": [
    {
     "name": "stdin",
     "output_type": "stream",
     "text": [
      "Número:  9\n"
     ]
    },
    {
     "name": "stdout",
     "output_type": "stream",
     "text": [
      "1,3,5,7,9\n"
     ]
    }
   ],
   "source": [
    "print(','.join([f'{i}' for i in range(1, int(input('Número: '))+1, 2)]))"
   ]
  },
  {
   "cell_type": "markdown",
   "id": "c28006da-998e-4738-b3f6-58618f4eb035",
   "metadata": {},
   "source": [
    "Escribir un programa que pida al usuario un número entero positivo y muestre por pantalla la cuenta atrás desde ese número hasta cero separados por comas"
   ]
  },
  {
   "cell_type": "code",
   "execution_count": 5,
   "id": "cf72fcd9-83ef-4192-a717-65fe26ff0d78",
   "metadata": {},
   "outputs": [
    {
     "name": "stdin",
     "output_type": "stream",
     "text": [
      "Número:  10\n"
     ]
    },
    {
     "name": "stdout",
     "output_type": "stream",
     "text": [
      "[10, 9, 8, 7, 6, 5, 4, 3, 2, 1, 0]\n"
     ]
    }
   ],
   "source": [
    "print([i for i in range(0, int(input('Número: '))+2)][::-1][1:])"
   ]
  },
  {
   "cell_type": "markdown",
   "id": "786a67db-deaf-4f41-b518-9f9bdc1fbd47",
   "metadata": {},
   "source": [
    "Escribir un programa que pregunte al usuario una cantidad a invertir, el interés anual y el número de años, y muestre por pantalla el capital obtenido en la inversión cada año que dura la inversión"
   ]
  },
  {
   "cell_type": "code",
   "execution_count": 6,
   "id": "ed079385-23b0-4585-93f5-4c9be3cf54a6",
   "metadata": {},
   "outputs": [
    {
     "name": "stdin",
     "output_type": "stream",
     "text": [
      "Cantidad a Invertir:  1000000\n",
      "Interés anual:  30\n",
      "Número de años:  3\n"
     ]
    },
    {
     "name": "stdout",
     "output_type": "stream",
     "text": [
      "Año  1 : 31000000.0\n",
      "Año  2 : 961000000.0\n",
      "Año  3 : 29791000000.0\n"
     ]
    },
    {
     "data": {
      "text/plain": [
       "[None, None, None]"
      ]
     },
     "execution_count": 6,
     "metadata": {},
     "output_type": "execute_result"
    }
   ],
   "source": [
    "cant_invertir = float(input('Cantidad a Invertir: '))\n",
    "interes_anual = float(input('Interés anual: '))\n",
    "num_años = int(input('Número de años: '))\n",
    "[print(f'Año  {i} : {cant_invertir * pow(1 + interes_anual, i)}', sep='\\n') for i in range(1, num_años + 1)]"
   ]
  },
  {
   "cell_type": "markdown",
   "id": "ff264b58-22c0-4350-a385-7749dd54d4b2",
   "metadata": {},
   "source": [
    "Escribir un programa que pida al usuario un número entero y muestre por pantalla un triángulo rectángulo como el de más abajo, de altura el número introducido\n",
    "* \\*\n",
    "* \\**\n",
    "* \\***\n",
    "* \\****\n",
    "* \\*****"
   ]
  },
  {
   "cell_type": "code",
   "execution_count": 7,
   "id": "f20b52cb-e34b-42d3-be5d-06f5c6a09f97",
   "metadata": {},
   "outputs": [
    {
     "name": "stdin",
     "output_type": "stream",
     "text": [
      "Número:  5\n"
     ]
    },
    {
     "name": "stdout",
     "output_type": "stream",
     "text": [
      "*\n",
      "**\n",
      "***\n",
      "****\n",
      "*****\n"
     ]
    }
   ],
   "source": [
    "n = int(input('Número: '))\n",
    "linea = '*'\n",
    "for i in range(1, n+1):\n",
    "    print(linea)\n",
    "    linea += '*'"
   ]
  },
  {
   "cell_type": "markdown",
   "id": "2f868052-c5d1-4968-ba20-320cf5c43ee9",
   "metadata": {},
   "source": [
    "Escribir un programa que muestre por pantalla la tabla de multiplicar del 1 al 10"
   ]
  },
  {
   "cell_type": "code",
   "execution_count": 8,
   "id": "aa97bca4-d813-49c7-97a1-87bf07c9295a",
   "metadata": {},
   "outputs": [
    {
     "name": "stdout",
     "output_type": "stream",
     "text": [
      "1 x 1 = 1\n",
      "1 x 2 = 2\n",
      "1 x 3 = 3\n",
      "1 x 4 = 4\n",
      "1 x 5 = 5\n",
      "1 x 6 = 6\n",
      "1 x 7 = 7\n",
      "1 x 8 = 8\n",
      "1 x 9 = 9\n",
      "1 x 10 = 10\n",
      "------------\n",
      "2 x 1 = 2\n",
      "2 x 2 = 4\n",
      "2 x 3 = 6\n",
      "2 x 4 = 8\n",
      "2 x 5 = 10\n",
      "2 x 6 = 12\n",
      "2 x 7 = 14\n",
      "2 x 8 = 16\n",
      "2 x 9 = 18\n",
      "2 x 10 = 20\n",
      "------------\n",
      "3 x 1 = 3\n",
      "3 x 2 = 6\n",
      "3 x 3 = 9\n",
      "3 x 4 = 12\n",
      "3 x 5 = 15\n",
      "3 x 6 = 18\n",
      "3 x 7 = 21\n",
      "3 x 8 = 24\n",
      "3 x 9 = 27\n",
      "3 x 10 = 30\n",
      "------------\n",
      "4 x 1 = 4\n",
      "4 x 2 = 8\n",
      "4 x 3 = 12\n",
      "4 x 4 = 16\n",
      "4 x 5 = 20\n",
      "4 x 6 = 24\n",
      "4 x 7 = 28\n",
      "4 x 8 = 32\n",
      "4 x 9 = 36\n",
      "4 x 10 = 40\n",
      "------------\n",
      "5 x 1 = 5\n",
      "5 x 2 = 10\n",
      "5 x 3 = 15\n",
      "5 x 4 = 20\n",
      "5 x 5 = 25\n",
      "5 x 6 = 30\n",
      "5 x 7 = 35\n",
      "5 x 8 = 40\n",
      "5 x 9 = 45\n",
      "5 x 10 = 50\n",
      "------------\n",
      "6 x 1 = 6\n",
      "6 x 2 = 12\n",
      "6 x 3 = 18\n",
      "6 x 4 = 24\n",
      "6 x 5 = 30\n",
      "6 x 6 = 36\n",
      "6 x 7 = 42\n",
      "6 x 8 = 48\n",
      "6 x 9 = 54\n",
      "6 x 10 = 60\n",
      "------------\n",
      "7 x 1 = 7\n",
      "7 x 2 = 14\n",
      "7 x 3 = 21\n",
      "7 x 4 = 28\n",
      "7 x 5 = 35\n",
      "7 x 6 = 42\n",
      "7 x 7 = 49\n",
      "7 x 8 = 56\n",
      "7 x 9 = 63\n",
      "7 x 10 = 70\n",
      "------------\n",
      "8 x 1 = 8\n",
      "8 x 2 = 16\n",
      "8 x 3 = 24\n",
      "8 x 4 = 32\n",
      "8 x 5 = 40\n",
      "8 x 6 = 48\n",
      "8 x 7 = 56\n",
      "8 x 8 = 64\n",
      "8 x 9 = 72\n",
      "8 x 10 = 80\n",
      "------------\n",
      "9 x 1 = 9\n",
      "9 x 2 = 18\n",
      "9 x 3 = 27\n",
      "9 x 4 = 36\n",
      "9 x 5 = 45\n",
      "9 x 6 = 54\n",
      "9 x 7 = 63\n",
      "9 x 8 = 72\n",
      "9 x 9 = 81\n",
      "9 x 10 = 90\n",
      "------------\n",
      "10 x 1 = 10\n",
      "10 x 2 = 20\n",
      "10 x 3 = 30\n",
      "10 x 4 = 40\n",
      "10 x 5 = 50\n",
      "10 x 6 = 60\n",
      "10 x 7 = 70\n",
      "10 x 8 = 80\n",
      "10 x 9 = 90\n",
      "10 x 10 = 100\n",
      "------------\n"
     ]
    }
   ],
   "source": [
    "for i in range(1, 11):\n",
    "    for j in range(1, 11):\n",
    "        print(f'{i} x {j} = {i * j}')\n",
    "    print('------------')"
   ]
  },
  {
   "cell_type": "markdown",
   "id": "0c6e9d79-8e9c-4b14-8f3d-c0bc50073dd4",
   "metadata": {},
   "source": [
    "Escribir un programa que almacene la cadena de caracteres contraseña en una variable, pregunte al usuario por la contraseña hasta que introduzca la contraseña correcta"
   ]
  },
  {
   "cell_type": "code",
   "execution_count": 9,
   "id": "3dbc76ab-3cea-496c-9bec-e04d47b83d49",
   "metadata": {},
   "outputs": [
    {
     "name": "stdin",
     "output_type": "stream",
     "text": [
      "Contraseña:  pepe12\n",
      "Contraseña:  pepe21\n",
      "Contraseña:  pepe123\n"
     ]
    },
    {
     "name": "stdout",
     "output_type": "stream",
     "text": [
      "Contraseña correcta\n"
     ]
    }
   ],
   "source": [
    "contraseña = 'pepe123'\n",
    "contraseña_usuario = input('Contraseña: ')\n",
    "while contraseña_usuario != contraseña:\n",
    "    contraseña_usuario = input('Contraseña: ')\n",
    "print('Contraseña correcta')"
   ]
  },
  {
   "cell_type": "markdown",
   "id": "95d4e3e4-76b9-4612-a3fd-425621bef647",
   "metadata": {},
   "source": [
    "Escribir un programa que pida al usuario un número entero y muestre por pantalla si es un número primo o no"
   ]
  },
  {
   "cell_type": "code",
   "execution_count": 10,
   "id": "37a90d6d-c58a-41ce-bb13-9c6898d7d73d",
   "metadata": {},
   "outputs": [
    {
     "name": "stdin",
     "output_type": "stream",
     "text": [
      "Número:  17\n"
     ]
    },
    {
     "name": "stdout",
     "output_type": "stream",
     "text": [
      "Es un número primo\n"
     ]
    }
   ],
   "source": [
    "numero = int(input('Número: '))\n",
    "primo = True\n",
    "for i in range(2, numero):\n",
    "    if numero % i == 0:\n",
    "        primo = False\n",
    "        break\n",
    "print('Es un número primo' if primo else 'No es un número primo')"
   ]
  },
  {
   "cell_type": "markdown",
   "id": "d4a3c126-4096-4484-8837-3b4a43497491",
   "metadata": {},
   "source": [
    "Escribir un programa que pida al usuario una palabra y luego muestre por pantalla una a una las letras de la palabra introducida empezando por la última"
   ]
  },
  {
   "cell_type": "code",
   "execution_count": 11,
   "id": "b2d5a901-4eb9-48dd-aa40-a8a8244b4655",
   "metadata": {},
   "outputs": [
    {
     "name": "stdin",
     "output_type": "stream",
     "text": [
      "Palabra:  português\n"
     ]
    },
    {
     "name": "stdout",
     "output_type": "stream",
     "text": [
      "s\n",
      "ê\n",
      "u\n",
      "g\n",
      "u\n",
      "t\n",
      "r\n",
      "o\n",
      "p\n"
     ]
    }
   ],
   "source": [
    "palabra = input('Palabra: ')\n",
    "i = len(palabra) - 1\n",
    "while i >= 0:\n",
    "    print(palabra[i])\n",
    "    i -= 1"
   ]
  },
  {
   "cell_type": "markdown",
   "id": "27b0a309-f60f-43a5-8f5e-7f06bebb3c01",
   "metadata": {},
   "source": [
    "Escribir un programa en el que se pregunte al usuario por una frase y una letra, y muestre por pantalla el número de veces que aparece la letra en la frase"
   ]
  },
  {
   "cell_type": "code",
   "execution_count": 12,
   "id": "5d07f69a-e73a-4830-8749-87b66b2a5e2f",
   "metadata": {},
   "outputs": [
    {
     "name": "stdin",
     "output_type": "stream",
     "text": [
      "Frase:  Oid mortales, el grito sagrado\n",
      "Letra:  o\n"
     ]
    },
    {
     "name": "stdout",
     "output_type": "stream",
     "text": [
      "3\n"
     ]
    }
   ],
   "source": [
    "frase = input('Frase: ')\n",
    "letra = input('Letra: ')\n",
    "cont = 0\n",
    "for i in range(0, len(frase)):\n",
    "    if frase[i] == letra:\n",
    "        cont += 1\n",
    "print(cont)"
   ]
  },
  {
   "cell_type": "markdown",
   "id": "49c16a69-765c-4b54-8a0b-03f2d0f183d3",
   "metadata": {},
   "source": [
    "Escribir un programa que muestre el eco de todo lo que el usuario introduzca hasta que el usuario escriba \"salir\""
   ]
  },
  {
   "cell_type": "code",
   "execution_count": 13,
   "id": "b0e12abe-dbf8-4eec-97d1-fbb9db345875",
   "metadata": {},
   "outputs": [
    {
     "name": "stdin",
     "output_type": "stream",
     "text": [
      " hola\n"
     ]
    },
    {
     "name": "stdout",
     "output_type": "stream",
     "text": [
      "hola\n"
     ]
    },
    {
     "name": "stdin",
     "output_type": "stream",
     "text": [
      " mundo\n"
     ]
    },
    {
     "name": "stdout",
     "output_type": "stream",
     "text": [
      "mundo\n"
     ]
    },
    {
     "name": "stdin",
     "output_type": "stream",
     "text": [
      " salir\n"
     ]
    }
   ],
   "source": [
    "eco = input()\n",
    "while  eco != 'salir':\n",
    "    print(eco)\n",
    "    eco = input()"
   ]
  }
 ],
 "metadata": {
  "kernelspec": {
   "display_name": "Python [conda env:base] *",
   "language": "python",
   "name": "conda-base-py"
  },
  "language_info": {
   "codemirror_mode": {
    "name": "ipython",
    "version": 3
   },
   "file_extension": ".py",
   "mimetype": "text/x-python",
   "name": "python",
   "nbconvert_exporter": "python",
   "pygments_lexer": "ipython3",
   "version": "3.12.7"
  }
 },
 "nbformat": 4,
 "nbformat_minor": 5
}
