{
 "cells": [
  {
   "cell_type": "markdown",
   "id": "7f2be334-3a63-4dee-b2dc-6b3804dc3283",
   "metadata": {},
   "source": [
    "# Contenedor\n",
    "---"
   ]
  },
  {
   "cell_type": "markdown",
   "id": "6e9c81b6-143a-4047-a450-62b31158cc38",
   "metadata": {},
   "source": [
    "* \"En mi máquina funciona ...\"\n",
    "* Diferencias entre entornos\n",
    "* Entorno: es el contexto y lugar donde se ejecuta el código programado. Entorno de pruebas, entorno de desarrollo, ...\n",
    "* Estructura lógica de un entorno:\n",
    "    * aplicaciones\n",
    "    * bibliotecas / componentes\n",
    "    * sistema operativo\n",
    "    * hardware / infraestructura\n",
    "* Al usar **Contenedores** se empaqueta la aplicación con todas sus dependencias"
   ]
  },
  {
   "cell_type": "markdown",
   "id": "1b5f52d6-d122-4bd0-9cad-70704de98688",
   "metadata": {},
   "source": [
    "## ¿Qué es?"
   ]
  },
  {
   "cell_type": "markdown",
   "id": "b0a8cd91-c35b-46d6-8d59-1f29aea89fd5",
   "metadata": {},
   "source": [
    "* Es una unidad de software estandarizada que contiene todas las dependencias necesarias para su ejecución en cualquier entorno\n",
    "* Es un proceso en ejecución y por lo tanto tiene estados: ejecución, parado, etc."
   ]
  },
  {
   "cell_type": "markdown",
   "id": "bfeedd44-2647-435f-8837-26163b2d9399",
   "metadata": {},
   "source": [
    "## Características"
   ]
  },
  {
   "cell_type": "markdown",
   "id": "cc819157-474d-40c1-b070-7dcabced82a7",
   "metadata": {},
   "source": [
    "* **Ligeros**: se incluyen sólo los archivos que son necesarios para su funcionamiento\n",
    "* **Portables**: pueden ser empaquetados en un archivo y ser distribuidos de forma rápida y sencilla hacia los entornos\n",
    "* **Procesos aislados**: los procesos dentro de un contenedor se encuentran aislados del resto de procesos de la máquina"
   ]
  },
  {
   "cell_type": "markdown",
   "id": "7951a109-cb9e-42d7-be7d-7f65c13f3525",
   "metadata": {},
   "source": [
    "## Ejemplo"
   ]
  },
  {
   "cell_type": "markdown",
   "id": "4c478446-ab2a-479c-8e40-7e74a6031839",
   "metadata": {},
   "source": [
    "```mermaid\n",
    "flowchart TB\n",
    "    subgraph contenedor2\n",
    "    c2_a(app: website)\n",
    "    c2_b(bin: nginx)\n",
    "    c3_o(os: debian)\n",
    "    end\n",
    "    subgraph contenedor1\n",
    "    c1_a(app: tomcat)\n",
    "    c1_b(bin: java)\n",
    "    c1_o(os: ubuntu)\n",
    "    end\n",
    "```"
   ]
  },
  {
   "cell_type": "markdown",
   "id": "3693f7cb-421f-4cc1-ba35-2aebddd4580d",
   "metadata": {},
   "source": [
    "## Imagen"
   ]
  },
  {
   "cell_type": "markdown",
   "id": "22decd78-1a03-4ca0-a2cd-4bfc07a76c0a",
   "metadata": {},
   "source": [
    "* Es una unidad de software estandarizada compuesta por múltiples archivos\n",
    "* Sin estado (no son procesos)\n",
    "* Están en nuestra computadora como cualquier otro archivo\n",
    "* Contenedores (instancias) se crean a partir de imagenes (la clase): con una imagen pueden ser iniciados muchos contenedores\n",
    "\n",
    "```mermaid\n",
    "flowchart LR\n",
    "   img[Image #0: Ubuntu + Wordpress] --> c1[Container #1: Ubuntu + Wordpress]\n",
    "   img --> c2[Container #2: Ubuntu + Wordpress]\n",
    "   img --> c3[Container #3: Ubuntu + Wordpress]\n",
    "```\n"
   ]
  },
  {
   "cell_type": "markdown",
   "id": "b4050d16-e9e9-4a9f-a5e2-e46cfeeea1cd",
   "metadata": {},
   "source": [
    "## ¿Los contenedores son máquinas virtuales (VM)?"
   ]
  },
  {
   "cell_type": "markdown",
   "id": "59afd82e-61a6-492e-b142-09543ae7ac38",
   "metadata": {},
   "source": [
    "* NO"
   ]
  },
  {
   "cell_type": "markdown",
   "id": "ac30188f-d25d-4d10-9c29-637f6da11d18",
   "metadata": {},
   "source": [
    "## Docker"
   ]
  },
  {
   "cell_type": "markdown",
   "id": "e14c9a11-3422-4cef-9215-9c71d05f20af",
   "metadata": {},
   "source": [
    "* Es una tecnología, open source, de contenerización para construir aplicaciones\n",
    "* Funciona bajo el esquema cliente-servidor, esto se llama Docker engine\n",
    "    * cliente: brinda interfaz de comandos\n",
    "    * servidor: dockerd, es el proceso que realiza las operaciones en la máquina \n",
    "* Se puede instalar cliente y servidor\n",
    "    * en la misma computadora o\n",
    "    * en diferentes computadoras"
   ]
  },
  {
   "cell_type": "markdown",
   "id": "34e56a73-4a87-4e5d-9e68-7397d4330f0b",
   "metadata": {},
   "source": [
    "### Usos"
   ]
  },
  {
   "cell_type": "markdown",
   "id": "fd773ce2-7af0-4411-87e2-645cb47c55a9",
   "metadata": {},
   "source": [
    "* docker desktop\n",
    "* docker en consola\n",
    "* [docker online](https://labs.play-with-docker.com/) "
   ]
  },
  {
   "cell_type": "markdown",
   "id": "d2de7f54-11c9-4adb-9173-cb55226f82fb",
   "metadata": {},
   "source": [
    "### Repositorio de imágenes"
   ]
  },
  {
   "cell_type": "markdown",
   "id": "e690d323-d627-4361-af10-4564ff69be36",
   "metadata": {},
   "source": [
    "[Docker Hub](https://hub.docker.com/)"
   ]
  },
  {
   "cell_type": "markdown",
   "id": "feda0082-305e-4e30-87c1-2eed28c22b52",
   "metadata": {},
   "source": [
    "### Comandos"
   ]
  },
  {
   "cell_type": "markdown",
   "id": "2e97814d-df72-4714-be13-7e6b18f1a112",
   "metadata": {},
   "source": [
    "| Comando                                       |                                                                    |\n",
    "| --                                            | --                                                                 |\n",
    "| >docker images                                | lista todas las imágenes descargadas o construidas en el sistema   |\n",
    "| >docker ps                                    | lista todos los contenedores en ejecución                          |\n",
    "| >docker ps -a                                 | lista todos los contenedores                                       |\n",
    "| >docker system df                             | muestra espacio de HD que usa docker en la máquina                 |\n",
    "| >docker run hello-world                       | si no existe, la descarga del repo. Crea contenedor, ejecuta y fin |\n",
    "| >docker run -it ubuntu bash                   | ejecuta ubuntu y luego el comando disponible bash                  |\n",
    "| >docker run -d -it --name prueba ubuntu bash  | ejecuta en segundo plano                                           |\n",
    "| >docker exec -it prueba bash                  | ejecuta un comando en un contenedor                                |\n",
    "| >docker stop prueba                           | detiene un contenedor                                              |\n",
    "| >docker start prueba                          | inicia un nuevo contenedor                                         |\n",
    "| >docker rm pruebas                            | borra contenedor                                                   |\n",
    "| >docker rmi ubuntu                            | borra imagen                                                       |\n",
    "| >docker run -d --name servweb -p 80:80 nginx  | puerto_local:puerto_contenedor                                     |\n",
    "| >docker build -t prueba .                     | construye imagen a partir de un Dockerfile en el directorio actual |"
   ]
  },
  {
   "cell_type": "markdown",
   "id": "c024036c-c69c-42a3-b9dd-17cc414985fe",
   "metadata": {},
   "source": [
    "### Dockerfile"
   ]
  },
  {
   "cell_type": "markdown",
   "id": "adc5e936-77d9-4fec-8eba-ef6c4826d1ce",
   "metadata": {},
   "source": [
    "```\n",
    "# Use an official Python runtime as a base image\n",
    "FROM python:3.9-slim-buster\n",
    "\n",
    "# Set the working directory in the container\n",
    "WORKDIR /app\n",
    "\n",
    "# Copy the requirements file into the container at /app\n",
    "COPY requirements.txt .\n",
    "\n",
    "# Install any needed packages specified in requirements.txt\n",
    "RUN pip install --no-cache-dir -r requirements.txt\n",
    "\n",
    "# Copy the rest of the application code into the container\n",
    "COPY . .\n",
    "\n",
    "# Expose the port the application will run on\n",
    "EXPOSE 5000\n",
    "\n",
    "# Define environment variables\n",
    "ENV NAME World\n",
    "\n",
    "# Run the application when the container launches\n",
    "CMD [\"python\", \"app.py\"]\n",
    "```"
   ]
  }
 ],
 "metadata": {
  "kernelspec": {
   "display_name": "Python [conda env:base] *",
   "language": "python",
   "name": "conda-base-py"
  },
  "language_info": {
   "codemirror_mode": {
    "name": "ipython",
    "version": 3
   },
   "file_extension": ".py",
   "mimetype": "text/x-python",
   "name": "python",
   "nbconvert_exporter": "python",
   "pygments_lexer": "ipython3",
   "version": "3.12.7"
  }
 },
 "nbformat": 4,
 "nbformat_minor": 5
}
