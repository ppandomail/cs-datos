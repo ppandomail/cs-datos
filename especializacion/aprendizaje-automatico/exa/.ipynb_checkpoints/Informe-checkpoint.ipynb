{
 "cells": [
  {
   "cell_type": "markdown",
   "id": "0fe4997d-8a38-46fc-9031-7d78b8342540",
   "metadata": {},
   "source": [
    "# Evaluación MAA 2025 - Informe - Pablo Pandolfo\n",
    "---"
   ]
  },
  {
   "cell_type": "markdown",
   "id": "cf043240-16f8-4780-88a4-53882e53b530",
   "metadata": {},
   "source": [
    "# Punto 1\n",
    "---"
   ]
  },
  {
   "cell_type": "markdown",
   "id": "143a0c30-a4f1-4ac7-9497-3eeea81a55a2",
   "metadata": {},
   "source": [
    "## Objetivo del análisis\n",
    "---"
   ]
  },
  {
   "cell_type": "markdown",
   "id": "7f8a316b-e0e1-4692-812d-646525ea6f00",
   "metadata": {},
   "source": [
    "* Elaborar un modelo de regresión que permita predecir el precio de la cena"
   ]
  },
  {
   "cell_type": "markdown",
   "id": "84e2d466-b52b-4079-9283-a2107fef8d09",
   "metadata": {},
   "source": [
    "## Datos utilizados\n",
    "---"
   ]
  },
  {
   "cell_type": "markdown",
   "id": "24bde2e6-ef54-4fee-a5cd-1b4baa09e2f5",
   "metadata": {},
   "source": [
    "* Se analizaron datos de 163 restaurantes, incluyendo las siguientes variables:\n",
    "\n",
    "| Variable     | Descripción                                                                                         |\n",
    "| --           | --                                                                                                  |\n",
    "| **precio**   | precio promedio (en dólares) de una cena con bebida y propina incluida                              |\n",
    "| **cal1**     | calificación otorgada por los clientes a la comida (escala de 0 a 30)                               |"
   ]
  },
  {
   "cell_type": "markdown",
   "id": "ec90e203-3b96-4290-ad81-d3cc9fd3f026",
   "metadata": {},
   "source": [
    "## Metodología\n",
    "---"
   ]
  },
  {
   "attachments": {
    "6948f1e4-d217-487e-9cdd-90fd34cd1588.png": {
     "image/png": "[encoded data removed]"
    }
   },
   "cell_type": "markdown",
   "id": "a6be4ca7-c6ba-4e8b-8b02-e3be136a6fde",
   "metadata": {},
   "source": [
    "1. Se explora como se relacionan las variables **cal1** y **precio** entre sí, utilizando un gráfico de dispersión (scatter plot)\n",
    "\n",
    "![scatter-plot-ej1-ini.png](attachment:6948f1e4-d217-487e-9cdd-90fd34cd1588.png)\n",
    "\n",
    "\n",
    "* El gráfico muestra la presencia de una relación lineal entre ambas variables"
   ]
  },
  {
   "cell_type": "markdown",
   "id": "f2c74085-59fa-4d08-9f4e-f8dec98fecab",
   "metadata": {},
   "source": [
    "2. Se obtiene el coeficiente de correlación lineal mediante el test: Pearson's product-moment correlation\n",
    "    * Su valor fue de *0.749*, observando una correlación lineal fuerte y positiva"
   ]
  },
  {
   "cell_type": "markdown",
   "id": "b27460d6-89ba-46ae-98b6-e51a000bb21a",
   "metadata": {},
   "source": [
    "3. Se propone un modelo de regresión lineal simple, donde la variable **precio** es la variable respuesta y la variable **cal1** es la variable explicativa o predictora\n",
    "\n",
    "```\n",
    "Call:\n",
    "lm(formula = precio ~ cal1, data = datos)\n",
    "\n",
    "Residuals:\n",
    "     Min       1Q   Median       3Q      Max \n",
    "-17.6993  -4.1449   0.2736   3.8551  24.4366 \n",
    "\n",
    "Coefficients:\n",
    "            Estimate Std. Error t value Pr(>|t|)    \n",
    "(Intercept) -29.0290     5.0432  -5.756 4.24e-08 ***\n",
    "cal1          3.4864     0.2428  14.362  < 2e-16 ***\n",
    "---\n",
    "Signif. codes:  0 ‘***’ 0.001 ‘**’ 0.01 ‘*’ 0.05 ‘.’ 0.1 ‘ ’ 1\n",
    "\n",
    "Residual standard error: 6.496 on 161 degrees of freedom\n",
    "Multiple R-squared:  0.5616,\tAdjusted R-squared:  0.5589 \n",
    "F-statistic: 206.3 on 1 and 161 DF,  p-value: < 2.2e-16\n",
    "```\n",
    "\n",
    "* Se observan p-values chicos => los estimados son significativas\n",
    "* Los coeficientes estimados son distintos de 0\n",
    "* $R^2$ representa la explicabilidad del modelo, este modelo explica el 56% de la variabilidad observada y es similar al $R^2$ ajustado lo que representa un buen ajuste del modelo\n",
    "* El p-value del F-statistic es chico, representa que el modelo es globalmente significativo "
   ]
  },
  {
   "cell_type": "markdown",
   "id": "4cf24aed-2205-4aff-93ad-4484c7948ae2",
   "metadata": {},
   "source": [
    "4. Se interpretan los parámetros del modelo\n",
    "$$\\hat{precio} = -29.0290 + 3.4864 cal1$$\n",
    "\n",
    "* $\\beta_0$ = *-29.0290* es el punto donde la línea de regresión cruza el eje Y. También se puede interpretar que es el valor estimado de **precio** cuando **cal1** es igual a 0, pero en este caso ese valor no tiene una interpretación práctica directa, pero si sirve para definir la ordenada al origen de la recta\n",
    "* $\\beta_1$ = *3.4864* es el cambio estimado en **precio** por cada aumento de una unidad en **cal1**. Indica que, en promedio, por cada unidad que aumenta **cal1**, el **precio** aumenta en *3.4864* unidades"
   ]
  },
  {
   "cell_type": "markdown",
   "id": "58fba440-d412-429d-8b47-2b7b50983509",
   "metadata": {},
   "source": [
    "5. Se verifica el cumplimiento de los supuestos usando resúmenes, gráficos y pruebas estadísticas\n",
    "   * Se analizan los residuos vs. valores ajustados => los puntos están distribuidos de una manera simétrica, pensando que el concepto de homogeneidad se cumple. Se visualiza un outlier\n",
    "   * Se analizan los residuos vs. variable regresora (**cal1**) => no se observa una estructura clara, es decir, la distribución es aleatoria, validándose el supuesto de homocedasticidad de los residuos\n",
    "   * Se valida el supuesto de normalidad de los residuos mediante un gráfico QQ-plot, observando que los errores se distribuyen normalmente"
   ]
  },
  {
   "attachments": {},
   "cell_type": "markdown",
   "id": "0fa4a0d7-e0ab-4fe8-9555-26cd2d7c3b42",
   "metadata": {},
   "source": [
    "![qq-plot-ej1.png](qq-plot-ej1.png)"
   ]
  },
  {
   "cell_type": "markdown",
   "id": "07c912f3-3b52-4e78-afd0-990b15e705ef",
   "metadata": {},
   "source": [
    "6. Se analizan los puntos influyentes\n",
    "    * **La observación 163 es influyente porque es un outlier que tiene un alto leverage (*0.127*) y una distancia de Cook grande (*1.187*)**\n",
    "    * Es un punto de alto leverage malo: residuo ALTO (efecto palanca, influye fuertemente)\n",
    "    * La presencia de este punto puede cambiar el modelo de regresión\n",
    "    * Se concluye que hay que eliminar el punto y volver a hacer el análisis de la regresión sin el outlier"
   ]
  },
  {
   "cell_type": "markdown",
   "id": "c951cf6a-bb7c-4fcd-a278-a4245f9957c1",
   "metadata": {},
   "source": [
    "7. Análisis de la regresión sin el outlier\n",
    "\n",
    "```\n",
    "Call:\n",
    "lm(formula = precio ~ cal1, data = datos_sin_o)\n",
    "\n",
    "Residuals:\n",
    "     Min       1Q   Median       3Q      Max \n",
    "-17.7715  -3.7715   0.2892   4.1071  15.9858 \n",
    "\n",
    "Coefficients:\n",
    "            Estimate Std. Error t value Pr(>|t|)    \n",
    "(Intercept) -21.6558     5.1036  -4.243 3.72e-05 ***\n",
    "cal1          3.1214     0.2465  12.663  < 2e-16 ***\n",
    "---\n",
    "Signif. codes:  0 ‘***’ 0.001 ‘**’ 0.01 ‘*’ 0.05 ‘.’ 0.1 ‘ ’ 1\n",
    "\n",
    "Residual standard error: 6.18 on 160 degrees of freedom\n",
    "Multiple R-squared:  0.5006,\tAdjusted R-squared:  0.4974 \n",
    "F-statistic: 160.4 on 1 and 160 DF,  p-value: < 2.2e-16\n",
    "```\n",
    "\n",
    "* Se observan p-values chicos => los estimados son significativas\n",
    "* Los coeficientes estimados son distintos de 0\n",
    "* $R^2$ representa la explicabilidad del modelo, este modelo explica el 50% de la variabilidad observada y es similar al $R^2$ ajustado lo que representa un buen ajuste del modelo\n",
    "* El p-value del F-statistic es chico, representa que el modelo es globalmente significativo"
   ]
  },
  {
   "cell_type": "markdown",
   "id": "ca274e31-2cdf-46ed-a43a-77a37a5e6590",
   "metadata": {},
   "source": [
    "8. Se verifica el cumplimiento de los suspuestos del modelo sin el outlier"
   ]
  },
  {
   "cell_type": "markdown",
   "id": "dc9e8eab-1798-40c6-b5ba-ca3dec7bbe18",
   "metadata": {},
   "source": [
    "9. Se analizan los puntos influyentes y no se detecta ninguna observación con distancia de Cook que superen el umbral"
   ]
  },
  {
   "cell_type": "markdown",
   "id": "b10f1383-bea2-43b1-b0b6-3163f56fafae",
   "metadata": {},
   "source": [
    "## Comparación de ambos modelos\n",
    "---"
   ]
  },
  {
   "cell_type": "markdown",
   "id": "82943dae-13bc-4b93-9a95-8696ae00d7f4",
   "metadata": {},
   "source": [
    "* Las **variables son significativas en ambos modelos**\n",
    "* En el caso del modelo sin outlier diminuye levemente el $R^2$\n",
    "* El modelo sin outlier tiene un residual standard error levemente menor\n",
    "* La observacion 163 al tener una distancia de cook que supera al umbral puede estar sobreajustando al modelo"
   ]
  },
  {
   "cell_type": "markdown",
   "id": "1fcbaeda-d614-4a43-9a91-2e3581a365ce",
   "metadata": {},
   "source": [
    "## Elección del modelo\n",
    "---"
   ]
  },
  {
   "cell_type": "markdown",
   "id": "86e1eb91-90ec-4533-8290-0952ef32c4e7",
   "metadata": {},
   "source": [
    "* Modelo sin outlier\n",
    "\n",
    "$$\\hat{precio} = -21.6558 + 3.1214 cal1$$"
   ]
  },
  {
   "cell_type": "markdown",
   "id": "9bd70c96-24b5-4b24-82fb-154a4184f9b8",
   "metadata": {},
   "source": [
    "## Scatter plot donde se visualizan los puntos, la recta encontrada y bandas de confianza del 95 % para la media\n",
    "---"
   ]
  },
  {
   "attachments": {},
   "cell_type": "markdown",
   "id": "4911af63-1c51-4830-a0db-486ffa665bab",
   "metadata": {},
   "source": [
    "![scatter-plot-ej1.png](scatter-plot-ej1.png)\n",
    "\n",
    "* Las bandas de confianza son estrechas, sugiere un buen ajuste del modelo\n",
    "* El gráfico no sólo valida la relación positiva y lineal entre ambas variables, sino que también cuantifica visualmente la confianza en las predicciones del precio medio, indicando que el modelo ajustado proporciona estimaciones más precisas en el rango central de las calificaciones de comida."
   ]
  },
  {
   "cell_type": "markdown",
   "id": "da2f8a61-5144-4e2a-a3d9-40072a786679",
   "metadata": {},
   "source": [
    "---\n",
    "---"
   ]
  },
  {
   "cell_type": "markdown",
   "id": "64760251-e1c2-4418-adf6-d99bc1ee1493",
   "metadata": {},
   "source": [
    "# Punto 2\n",
    "---"
   ]
  },
  {
   "cell_type": "markdown",
   "id": "3b1add91-6d2a-4a59-8b26-a4d2d302adcc",
   "metadata": {},
   "source": [
    "## Objetivo del análisis\n",
    "---"
   ]
  },
  {
   "cell_type": "markdown",
   "id": "fd3ca77c-9027-4659-a53d-2bf01fefe588",
   "metadata": {},
   "source": [
    "* Ajustar un modelo de regresión lineal que explique el precio en función de todas las variables continuas presentes en el archivo"
   ]
  },
  {
   "cell_type": "markdown",
   "id": "b4b24b63-0d0d-4e56-bc96-f93a01c4f823",
   "metadata": {},
   "source": [
    "## Datos utilizados\n",
    "---"
   ]
  },
  {
   "cell_type": "markdown",
   "id": "458eae33-6bd4-4f12-a101-7f8ec369d096",
   "metadata": {},
   "source": [
    "* Se analizaron datos de 162 restaurantes, incluyendo las siguientes variables:\n",
    "\n",
    "| Variable     | Descripción                                                                                         |\n",
    "| --           | --                                                                                                  |\n",
    "| **precio**   | precio promedio (en dólares) de una cena con bebida y propina incluida                              |\n",
    "| **cal1**     | calificación otorgada por los clientes a la comida (escala de 0 a 30)                               |\n",
    "| **decor**    | calificación otorgada a la ambientación y decoración del restaurante (escala de 0 a 30)             |\n",
    "| **servicio** | calificación del servicio recibido (escala de 0 a 30)                                               |\n",
    "| **cal2**     | segunda medición independiente sobre la calidad de la comida, provista por un evaluador externo en una escala comparable |"
   ]
  },
  {
   "cell_type": "markdown",
   "id": "fd95d779-0052-47be-9460-c359378ec90d",
   "metadata": {},
   "source": [
    "## Metodología\n",
    "---"
   ]
  },
  {
   "cell_type": "markdown",
   "id": "792f8236-9ef1-4621-9988-c787f6bd5e27",
   "metadata": {},
   "source": [
    "1. Se exploa como se relacionan las variables **precio**, **cal1**, **decor**, **servicio** y **cal2** entre sí, utilizando un gráfico de dispersión (scatter plot)\n",
    "    * La variable respuesta **precio** parece estar estrechamente relacionada con todas las variables explicativas mencionadas\n",
    "    * Además, se observa relaciones de linealidad entre algunas variables explicativas o predictoras"
   ]
  },
  {
   "cell_type": "markdown",
   "id": "c3a91466-d783-446d-abe3-127e6090d0e0",
   "metadata": {},
   "source": [
    "2. Se obtiene la matriz de correlación\n",
    "\n",
    "| precio   | cal1 |\tdecor\t| servicio\t| cal2 |\n",
    "| --       | --   | -- | -- | -- |\n",
    "| precio   | 1.00 | 0.71 |\t0.73 |\t0.68 |\t0.67 |\n",
    "| cal1\t   | 0.71 |\t1.00 |\t0.63 |\t0.84 |\t0.97 |\n",
    "| decor\t   | 0.73 |\t0.63 | \t1.00 |\t0.62 |\t0.59 |\n",
    "| servicio | 0.68 |\t0.84 |\t0.62 |\t1.00 |\t0.84 |\n",
    "| cal2\t   | 0.67 |\t0.97 |\t0.59 |\t0.84 |\t1.00 |\n",
    "\n",
    "\n",
    "* Se observa una moderada/alta correlación entre la variable **precio** y las variables predictoras {**cal1**: *0.71*, **decor**: *0.73*, **servicio**: *0.68*, **cal2**: *0.67*}\n",
    "* **La alta correlación entre algunos predictores sugiere que existe multicolinealidad basada en datos**"
   ]
  },
  {
   "cell_type": "markdown",
   "id": "5619b2e3-6d8f-4326-b7be-e135b8d59ad0",
   "metadata": {},
   "source": [
    "3. Se propone un modelo de regresión lineal\n",
    "\n",
    "```\n",
    "Call:\n",
    "lm(formula = precio ~ ., data = datos_sin_lugar)\n",
    "\n",
    "Residuals:\n",
    "    Min      1Q  Median      3Q     Max \n",
    "-14.092  -3.242  -0.017   3.907  13.854 \n",
    "\n",
    "Coefficients:\n",
    "            Estimate Std. Error t value Pr(>|t|)    \n",
    "(Intercept) -26.0794     4.4366  -5.878 2.41e-08 ***\n",
    "cal1          1.9870     0.8607   2.309   0.0223 *  \n",
    "decor         1.6565     0.2310   7.172 2.74e-11 ***\n",
    "servicio      0.5927     0.3979   1.489   0.1384    \n",
    "cal2         -0.6180     0.7946  -0.778   0.4379    \n",
    "---\n",
    "Signif. codes:  0 ‘***’ 0.001 ‘**’ 0.01 ‘*’ 0.05 ‘.’ 0.1 ‘ ’ 1\n",
    "\n",
    "Residual standard error: 5.262 on 157 degrees of freedom\n",
    "Multiple R-squared:  0.6447,\tAdjusted R-squared:  0.6356 \n",
    "F-statistic: 71.21 on 4 and 157 DF,  p-value: < 2.2e-16\n",
    "```\n",
    "\n",
    "* Se observan p-values chicos => los estimados son significativas, excepto servicio y cal2 \n",
    "* $R^2$ representa la explicabilidad del modelo, este modelo explica el 64% de la variabilidad observada y es similar al $R^2$ ajustado lo que representa un buen ajuste del modelo\n",
    "* El p-value del F-statistic es chico, representa que el modelo es globalmente significativo "
   ]
  },
  {
   "cell_type": "markdown",
   "id": "4f1424cb-1d91-4b90-9d76-49f52c032f15",
   "metadata": {},
   "source": [
    "4. Se verifica el cumplimiento de los supuestos usando resúmenes, gráficos y pruebas estadísticas\n",
    "   * Se analizan los residuos vs. valores ajustados => los puntos están distribuidos de una manera simétrica, pensando que el concepto de homogeneidad se cumple\n",
    "   * Se analizan los residuos vs. variables regresoras => no se observan estructuras claras, es decir, la distribución es aleatoria, validandose el supuesto de homocedasticidad de los residuos\n",
    "   * Se valida el supuesto de normalidad de los residuos mediante un gráfico QQ-plot, observando que los errores se distribuyen normalmente"
   ]
  },
  {
   "cell_type": "markdown",
   "id": "2cd4482a-ba62-4a45-8cab-0b4f67a0b5f1",
   "metadata": {},
   "source": [
    "5. Se analizaron los puntos influyentes\n",
    "    * No se detecta ninguna observación que supere el umbral de Cook"
   ]
  },
  {
   "cell_type": "markdown",
   "id": "9fa8d6fc-5a45-4ee8-967c-4dfe871029b0",
   "metadata": {},
   "source": [
    "6. Se obtiene el factor de inflación de la varianza (vif) del modelo para detectar colinealidad entre variables predictoras\n",
    "    * **cal1**: *16.8141476494499*  => MULTICOLINEALIDAD ALTA\n",
    "    * **decor**: *1.75538527499416* => MULTICOLINEALIDAD MODERADA\n",
    "    * **servicio**: *3.78855912817584* => MULTICOLINEALIDAD MODERADA\n",
    "    * **cal2**: *15.7808151249288* => MULTICOLINEALIDAD ALTA"
   ]
  },
  {
   "cell_type": "markdown",
   "id": "0e386de7-b6d4-4d7b-94b2-0ab2769a4c3a",
   "metadata": {},
   "source": [
    "7. Se analizan distintos modelos combinando las variables regresoras:\n",
    "    * 1- precio ~ cal1 + decor + servicio\n",
    "    * 2- precio ~ cal2 + decor + servicio\n",
    "    * 3- precio ~ cal1 + decor\n",
    "    * 4- precio ~ cal2 + decor\n",
    "    * 5- precio ~ servicio + decor\n",
    "\n",
    "* Se observa que los mejores indicadores (R2 ajustado, siginificancias de las variables regresoras, el p-valor del estadístico F y el vif) están asociados a los siguiente modelos:\n",
    "    * 3- precio ~ cal1 + decor\n",
    "    * 4- precio ~ cal2 + decor\n",
    "    * 5- precio ~ servicio + decor"
   ]
  },
  {
   "cell_type": "markdown",
   "id": "abd4aeb2-c257-406f-9546-9f6c4a63e934",
   "metadata": {},
   "source": [
    "8. Selección de variables y validación cruzada\n",
    "    * Se definen los conjunto de entrenamiento (0.80 %) y test (0.20 %) \n",
    "    * Elección de variables sobre el 80% de los datos mediante método exhaustivo\n",
    "    * Tabla resumen\n",
    "\n",
    "```\n",
    "| Variables| R2_ajustado|      BIC|\n",
    "|---------:|-----------:|--------:|\n",
    "|         1|       0.552|  -96.462|\n",
    "|         2|       0.649| -124.380|\n",
    "|         3|       0.658| -124.154|\n",
    "|         4|       0.658| -120.213|\n",
    "```\n",
    "\n",
    "* Mejor R2 ajustado => 3 variables => precio ~ cal1 + decor + servicio\n",
    "* Mejor BIC =======> 2 variables => precio ~ cal1 + decor"
   ]
  },
  {
   "cell_type": "markdown",
   "id": "6c2742aa-8f91-41c8-87b6-c3674798a55c",
   "metadata": {},
   "source": [
    "9. Modelo BIC\n",
    "```\n",
    "Call:\n",
    "lm(formula = precio ~ cal1 + decor, data = datos_sin_lugar)\n",
    "\n",
    "Residuals:\n",
    "     Min       1Q   Median       3Q      Max \n",
    "-14.6182  -3.4218   0.1376   3.8451  14.1300 \n",
    "\n",
    "Coefficients:\n",
    "            Estimate Std. Error t value Pr(>|t|)    \n",
    "(Intercept) -25.7431     4.3837  -5.872 2.43e-08 ***\n",
    "cal1          1.8045     0.2695   6.696 3.49e-10 ***\n",
    "decor         1.7482     0.2238   7.811 7.24e-13 ***\n",
    "---\n",
    "Signif. codes:  0 ‘***’ 0.001 ‘**’ 0.01 ‘*’ 0.05 ‘.’ 0.1 ‘ ’ 1\n",
    "\n",
    "Residual standard error: 5.27 on 159 degrees of freedom\n",
    "Multiple R-squared:  0.639,\tAdjusted R-squared:  0.6345 \n",
    "F-statistic: 140.8 on 2 and 159 DF,  p-value: < 2.2e-16\n",
    "```"
   ]
  },
  {
   "cell_type": "markdown",
   "id": "1c7f80ec-bf64-423f-ad73-39da66db9485",
   "metadata": {},
   "source": [
    "10. Modelo R2 ajustado\n",
    "\n",
    "```\n",
    "Call:\n",
    "lm(formula = precio ~ cal1 + decor + servicio, data = datos_sin_lugar)\n",
    "\n",
    "Residuals:\n",
    "     Min       1Q   Median       3Q      Max \n",
    "-14.1752  -3.3003   0.0362   3.8184  13.9664 \n",
    "\n",
    "Coefficients:\n",
    "            Estimate Std. Error t value Pr(>|t|)    \n",
    "(Intercept) -26.4651     4.4033  -6.010 1.23e-08 ***\n",
    "cal1          1.3952     0.4018   3.472 0.000665 ***\n",
    "decor         1.6765     0.2293   7.313 1.23e-11 ***\n",
    "servicio      0.5349     0.3904   1.370 0.172635    \n",
    "---\n",
    "Signif. codes:  0 ‘***’ 0.001 ‘**’ 0.01 ‘*’ 0.05 ‘.’ 0.1 ‘ ’ 1\n",
    "\n",
    "Residual standard error: 5.255 on 158 degrees of freedom\n",
    "Multiple R-squared:  0.6433,\tAdjusted R-squared:  0.6365 \n",
    "F-statistic: 94.98 on 3 and 158 DF,  p-value: < 2.2e-16\n",
    "```"
   ]
  },
  {
   "cell_type": "markdown",
   "id": "bf215298-09a9-4f23-9597-75b36f45355c",
   "metadata": {},
   "source": [
    "## Elección del modelo\n",
    "---"
   ]
  },
  {
   "cell_type": "markdown",
   "id": "7c4c88f7-5bc1-4de6-a02e-a1f94c6761ce",
   "metadata": {},
   "source": [
    "* Se observa que en el modelo R2 ajustado, la variable **servicio** no es significativa\n",
    "* R2 de ambos modelos son similares\n",
    "* Se concluye, que como el modelo BIC es mas simple (menos variable = parsimonioso), se lo elije\n",
    "* Se verifica el cumplimiento de los suspuestos del modelo"
   ]
  },
  {
   "cell_type": "markdown",
   "id": "3116e72a-ea15-4e0a-bc02-94558bafeb48",
   "metadata": {},
   "source": [
    "---\n",
    "---"
   ]
  },
  {
   "cell_type": "markdown",
   "id": "5d70ff8a-c24b-4397-9323-7f8cec751305",
   "metadata": {},
   "source": [
    "# Punto 3\n",
    "---"
   ]
  },
  {
   "cell_type": "markdown",
   "id": "1b3ba9e6-7777-4d1d-adc2-e856f07946cb",
   "metadata": {},
   "source": [
    "## Objetivo del análisis\n",
    "---"
   ]
  },
  {
   "cell_type": "markdown",
   "id": "aeb3448b-89c0-4169-b336-66902bee02c7",
   "metadata": {},
   "source": [
    "*  Estudiar el impacto de la calificación cal1 de acuerdo al lugar donde se ubica el restaurante"
   ]
  },
  {
   "cell_type": "markdown",
   "id": "12722914-b86e-41d8-9a3d-3d87822b281e",
   "metadata": {},
   "source": [
    "## Datos utilizados\n",
    "---"
   ]
  },
  {
   "cell_type": "markdown",
   "id": "bac04bda-be0b-44b8-aac1-173ba3d3e288",
   "metadata": {},
   "source": [
    "* Se analizaron datos de 162 restaurantes, incluyendo las siguientes variables:\n",
    "\n",
    "| Variable     | Descripción                                                                                         |\n",
    "| --           | --                                                                                                  |\n",
    "| **precio**   | precio promedio (en dólares) de una cena con bebida y propina incluida                              |\n",
    "| **cal1**     | calificación otorgada por los clientes a la comida (escala de 0 a 30)                               |\n",
    "| **lugar**    | variable categórica que indica si el restaurante está al este o al oeste de una determinada avenida |"
   ]
  },
  {
   "cell_type": "markdown",
   "id": "24327060-54d8-4a8c-9864-903ea6b9b2ad",
   "metadata": {},
   "source": [
    "## Metodología\n",
    "---"
   ]
  },
  {
   "cell_type": "markdown",
   "id": "cb29d365-d5e8-44b1-811b-9784e50149dc",
   "metadata": {},
   "source": [
    "1. Se convierte la variable predictora **lugar** a factor, por ser una variable categórica"
   ]
  },
  {
   "cell_type": "markdown",
   "id": "1351e3a7-bdac-4f7f-adc3-55dbedb1c162",
   "metadata": {},
   "source": [
    "2. Se visualizan los datos mediante un scatter plot"
   ]
  },
  {
   "attachments": {},
   "cell_type": "markdown",
   "id": "03d41b69-fb87-42b2-b17d-cd069cc0eb09",
   "metadata": {},
   "source": [
    "![scatter-plot-ej3.png](scatter-plot-ej3.png)\n",
    "\n",
    "* Se observan dispersiones similares\n",
    "* Se visualiza una relación lineal"
   ]
  },
  {
   "cell_type": "markdown",
   "id": "3fde880a-7408-4b16-ab6a-ed0a64e57a5c",
   "metadata": {},
   "source": [
    "3. Se proponen dos modelos: modelo de regresión sin interacción y modelo de regresión con interacción\n",
    "    * precio ~ cal1 + lugar\n",
    "    * precio ~ cal1 * lugar"
   ]
  },
  {
   "cell_type": "markdown",
   "id": "3e064ed6-1236-4008-b58c-1613687fb400",
   "metadata": {},
   "source": [
    "4. Modelo de regresión sin interacción\n",
    "\n",
    "```\n",
    "Call:\n",
    "lm(formula = precio ~ cal1 + lugar, data = datos_con_lugar)\n",
    "\n",
    "Residuals:\n",
    "     Min       1Q   Median       3Q      Max \n",
    "-17.2321  -3.3759  -0.0264   3.8678  16.6161 \n",
    "\n",
    "Coefficients:\n",
    "            Estimate Std. Error t value Pr(>|t|)    \n",
    "(Intercept) -21.2852     5.1257  -4.153 5.35e-05 ***\n",
    "cal1          3.0759     0.2522  12.194  < 2e-16 ***\n",
    "lugar1        0.8921     1.0325   0.864    0.389    \n",
    "---\n",
    "Signif. codes:  0 ‘***’ 0.001 ‘**’ 0.01 ‘*’ 0.05 ‘.’ 0.1 ‘ ’ 1\n",
    "\n",
    "Residual standard error: 6.184 on 159 degrees of freedom\n",
    "Multiple R-squared:  0.5029,\tAdjusted R-squared:  0.4966 \n",
    "F-statistic: 80.42 on 2 and 159 DF,  p-value: < 2.2e-16\n",
    "```\n",
    "\n",
    "* Se observa que la variable **lugar** no es significativa, ya que su p-value es mayor a 0.05\n",
    "* Se observa que $R^2$ explica el 50% de los casos. Es bueno que los dos valores de $R^2$ y $R^2$ ajustado sean similares"
   ]
  },
  {
   "cell_type": "markdown",
   "id": "cda3a39c-41c1-47ae-90e6-6ab5e9c352a1",
   "metadata": {},
   "source": [
    "5. Modelo de regresión con interacción\n",
    "\n",
    "```\n",
    "Call:\n",
    "lm(formula = precio ~ cal1 * lugar, data = datos_con_lugar)\n",
    "\n",
    "Residuals:\n",
    "    Min      1Q  Median      3Q     Max \n",
    "-17.232  -3.371  -0.031   3.868  16.624 \n",
    "\n",
    "Coefficients:\n",
    "              Estimate Std. Error t value Pr(>|t|)    \n",
    "(Intercept) -21.203880   9.270711  -2.287   0.0235 *  \n",
    "cal1          3.071815   0.460213   6.675 3.97e-10 ***\n",
    "lugar1        0.774002  11.246987   0.069   0.9452    \n",
    "cal1:lugar1   0.005808   0.550975   0.011   0.9916    \n",
    "---\n",
    "Signif. codes:  0 ‘***’ 0.001 ‘**’ 0.01 ‘*’ 0.05 ‘.’ 0.1 ‘ ’ 1\n",
    "\n",
    "Residual standard error: 6.204 on 158 degrees of freedom\n",
    "Multiple R-squared:  0.5029,\tAdjusted R-squared:  0.4934 \n",
    "F-statistic: 53.28 on 3 and 158 DF,  p-value: < 2.2e-16\n",
    "```\n",
    "\n",
    "* No cambian los coeficientes de **intercept** y *cal1** respecto del modelo anterior\n",
    "* Cambia p-value del intercept \n",
    "* Se mantienen los valores de $R^2$ y el p-valor del estadístico F (sigue siendo bajo)\n",
    "* **El término de la interacción no es significativo. Esto indica que no existe una interacción significativa entre las variables**"
   ]
  },
  {
   "cell_type": "markdown",
   "id": "7a9d5984-c771-4784-89c0-2d71332dae9e",
   "metadata": {},
   "source": [
    "6. Se obtiene el factor de inflación de la varianza (vif) del modelo con interacción\n",
    "    * **cal1** : 3.45844991606041  => MULTICOLINEALIDAD MODERADA\n",
    "    * **lugar**: 123.283545540867  => MULTICOLINEALIDAD ALTA\n",
    "    * **cal1:lugar** : 132.821603324448 => MULTICOLINEALIDAD ALTA"
   ]
  },
  {
   "cell_type": "markdown",
   "id": "46d68a64-ee66-4dd4-b10b-546201a2f0d9",
   "metadata": {},
   "source": [
    "7. Se corrige la multicolinealidad centrando la variable numérica continua"
   ]
  },
  {
   "cell_type": "markdown",
   "id": "073b29f7-f5be-4eba-b95b-a07f074a75eb",
   "metadata": {},
   "source": [
    "8. Se genera nuevamente el modelo \n",
    "\n",
    "```\n",
    "Call:\n",
    "lm(formula = precio ~ cal1_c * lugar, data = datos_con_lugar)\n",
    "\n",
    "Residuals:\n",
    "    Min      1Q  Median      3Q     Max \n",
    "-17.232  -3.371  -0.031   3.868  16.624 \n",
    "\n",
    "Coefficients:\n",
    "               Estimate Std. Error t value Pr(>|t|)    \n",
    "(Intercept)   42.109640   0.845508  49.804  < 2e-16 ***\n",
    "cal1_c         3.071815   0.460213   6.675 3.97e-10 ***\n",
    "lugar1         0.893711   1.047596   0.853    0.395    \n",
    "cal1_c:lugar1  0.005808   0.550975   0.011    0.992    \n",
    "---\n",
    "Signif. codes:  0 ‘***’ 0.001 ‘**’ 0.01 ‘*’ 0.05 ‘.’ 0.1 ‘ ’ 1\n",
    "\n",
    "Residual standard error: 6.204 on 158 degrees of freedom\n",
    "Multiple R-squared:  0.5029,\tAdjusted R-squared:  0.4934 \n",
    "F-statistic: 53.28 on 3 and 158 DF,  p-value: < 2.2e-16\n",
    "```"
   ]
  },
  {
   "cell_type": "markdown",
   "id": "1e626bb8-f0a3-4042-bc21-aeba645a43fa",
   "metadata": {},
   "source": [
    "9. Se obtiene el factor de inflación de la varianza (vif) del último modelo, observándose multicolinealidad leve\n",
    "    * **cal1_c**: 3.45844991606043\n",
    "    * **lugar** : 1.06959669856493\n",
    "    * **cal1_c:lugar** : 3.33637367264153"
   ]
  },
  {
   "attachments": {},
   "cell_type": "markdown",
   "id": "b5365b2f-2da5-4d73-8efc-eb469d50b1c2",
   "metadata": {},
   "source": [
    "10. Scatter plot con la recta ajustada en cada grupo\n",
    "\n",
    "![scatter-plot-ej3-ajus.png](scatter-plot-ej3-ajus.png)\n",
    "\n",
    "* Ambas rectas tienen la misma pendiente, lo que significa que la relación entre **precio** y **cal1** no se ve afectada por **lugar**\n",
    "* La relación entre **cal1** y **precio** es positiva, lo que significa que a mayor calificación mayor precio "
   ]
  },
  {
   "cell_type": "markdown",
   "id": "99766831-53b7-4d63-a8e3-d8a925ccb56b",
   "metadata": {},
   "source": [
    "11. Se verifica el cumplimiento de los supuestos usando resúmenes, gráficos y pruebas estadísticas\n",
    "    * Se analizan los residuos vs. valores ajustados => los puntos están distribuidos de una manera simétrica, pensando que el concepto de homogeneidad se cumple\n",
    "    * Se analizan los residuos vs. variables regresoras => no se observan estructuras claras, es decir, la distribución es aleatoria, validandose el supuesto de homocedasticidad de los residuos\n",
    "    * Se valida el supuesto de normalidad de los residuos mediante un gráfico QQ-plot, observando que los errores se distribuyen normalmente"
   ]
  },
  {
   "cell_type": "markdown",
   "id": "a0ebcd59-b1f1-4377-a07d-782b7187cbbf",
   "metadata": {},
   "source": [
    "12. No se observan puntos influyentes"
   ]
  },
  {
   "cell_type": "markdown",
   "id": "587e7e29-6c7e-4204-b44d-dae635b172e7",
   "metadata": {},
   "source": [
    "## Modelo obtenido\n",
    "---"
   ]
  },
  {
   "cell_type": "markdown",
   "id": "1a5266b8-1b7c-421a-b78c-2bbc2c8c3235",
   "metadata": {},
   "source": [
    "$$\\hat{precio}  = 42.109 + 3.071 cal1_c + 0.893 lugar + 0.005 cal1_c * lugar$$"
   ]
  },
  {
   "cell_type": "markdown",
   "id": "064e4977-9a1c-4be9-919e-25d82e018692",
   "metadata": {},
   "source": [
    "## Interpretación\n",
    "---"
   ]
  },
  {
   "cell_type": "markdown",
   "id": "321995c4-6cf4-4b48-b576-fe502a6eba80",
   "metadata": {},
   "source": [
    "* $𝛽_0$: Ordenada al origen (intercept). Es el valor de Y cuando **cal1** y **lugar** son 0\n",
    "* $𝛽_1$: Indica el cambio de **precio** por cada unidad de **cal1**\n",
    "* $𝛽_2$: Indica el cambio de **precio** dependiendo del **lugar** (0 o 1)\n",
    "* $𝛽_3$: Representa la interacción entre **cal1** y el **lugar**. Es el cambio adicional en al pendiente de **cal1** cuando **lugar** es 1\n",
    "\n",
    "* A modo de conclusión, el efecto de **cal1** sobre **precio** es consistente en todos los **\"lugares\"**"
   ]
  },
  {
   "cell_type": "markdown",
   "id": "a22e4dec-5f1e-4d6f-a052-0ad542ab19ed",
   "metadata": {},
   "source": [
    "---\n",
    "---"
   ]
  },
  {
   "cell_type": "markdown",
   "id": "8a775805-c1a8-4adf-bfb1-abc1a4eb892f",
   "metadata": {},
   "source": [
    "# Punto 4\n",
    "---"
   ]
  },
  {
   "cell_type": "markdown",
   "id": "69839b04-d7d0-4ae1-90e2-f3e3eb122737",
   "metadata": {},
   "source": [
    "## Objetivo del análisis\n",
    "---"
   ]
  },
  {
   "cell_type": "markdown",
   "id": "fb15afa5-298d-4bac-98d9-1b0c0d99e659",
   "metadata": {},
   "source": [
    "* Elaborar un modelo de regresión lineal con datos de hombres con cáncer de próstata que se examinaron antes de una operación"
   ]
  },
  {
   "cell_type": "markdown",
   "id": "7780033e-8317-42a5-8905-0177a12dfbaa",
   "metadata": {},
   "source": [
    "## Datos utilizados\n",
    "---"
   ]
  },
  {
   "cell_type": "markdown",
   "id": "391a8d50-2696-4eb1-af62-12e7593f6b0d",
   "metadata": {},
   "source": [
    "* Se analizaron datos de 97 hombres con cáncer de próstata que se examinaron antes de una operación, incluyendo las siguientes variables:\n",
    "\n",
    "| Variable     | Descripción                          |\n",
    "| --           | --                                   |\n",
    "| **lcavol**   | log del volumen del cáncer           |\n",
    "| **lpeso**    | log del peso de la próstata          |\n",
    "| **edad**     | edad del paciente                    |\n",
    "| **lhiper**   | log de hiperplasia benigna           |\n",
    "| **iv**       | invasión vesical (binaria)           |\n",
    "| **lpc**      | log de penetración capsular          |\n",
    "| **gleason**  | puntaje de Gleason                   | \n",
    "| **pgg45**    | porcentaje de células con patrón 4 o 5 |\n",
    "| **lpsa**     | log del nivel del antígeno prostático específico (PSA) – variable respuesta |"
   ]
  },
  {
   "cell_type": "markdown",
   "id": "021c52e4-5748-4ae0-bbd2-52a8edb3dfeb",
   "metadata": {},
   "source": [
    "## Metodología\n",
    "---"
   ]
  },
  {
   "attachments": {},
   "cell_type": "markdown",
   "id": "70c993e9-42fa-45ef-be11-7bc4da6813c9",
   "metadata": {},
   "source": [
    "1. Se explora como se relacionan todas las variables utilizando un gráfico de dispersión (scatter plot)\n",
    "\n",
    "![scatter-plot-ej4.png](scatter-plot-ej4.png)\n",
    "\n",
    "* Se observa linealidad en la relación de la variable respuesta **lpsa** con las variables **lcavol**, **lpeso**, **lpc**"
   ]
  },
  {
   "cell_type": "markdown",
   "id": "aaab4b03-8f6d-4c69-a7ad-36adf5daf5cf",
   "metadata": {},
   "source": [
    "2. Se propone un modelo de regresión lineal\n",
    "\n",
    "```\n",
    "Call:\n",
    "lm(formula = lpsa ~ ., data = datos4)\n",
    "\n",
    "Residuals:\n",
    "     Min       1Q   Median       3Q      Max \n",
    "-1.36768 -0.31610 -0.06186  0.25187  1.34656 \n",
    "\n",
    "Coefficients:\n",
    "             Estimate Std. Error t value Pr(>|t|)    \n",
    "(Intercept) -0.352212   1.279326  -0.275   0.7841    \n",
    "lcavol       0.457406   0.095869   4.771 1.48e-05 ***\n",
    "lpeso        0.499621   0.195477   2.556   0.0135 *  \n",
    "edad        -0.023870   0.010782  -2.214   0.0312 *  \n",
    "lhiper       0.299314   0.061952   4.831 1.20e-05 ***\n",
    "iv           1.139018   0.245779   4.634 2.37e-05 ***\n",
    "lpc         -0.074570   0.090851  -0.821   0.4154    \n",
    "gleason      0.218317   0.167169   1.306   0.1972    \n",
    "pgg45        0.006699   0.004312   1.554   0.1262    \n",
    "---\n",
    "Signif. codes:  0 ‘***’ 0.001 ‘**’ 0.01 ‘*’ 0.05 ‘.’ 0.1 ‘ ’ 1\n",
    "\n",
    "Residual standard error: 0.5548 on 53 degrees of freedom\n",
    "Multiple R-squared:  0.8252,\tAdjusted R-squared:  0.7988 \n",
    "F-statistic: 31.28 on 8 and 53 DF,  p-value: < 2.2e-16\n",
    "```\n",
    "\n",
    "* Las variables regresoras **lpc**, **gleason** y **pgg45** no son significativas\n",
    "* Las variables regresoras **lcavol**, **lpeso**, **edad**, **lhiper** y **iv** son significativas\n",
    "* **Tanto R2 como R2 ajustado son altos y similares, explican el 82% y 79% respectivamente**"
   ]
  },
  {
   "cell_type": "markdown",
   "id": "0cfe2b6a-b86c-4259-95d0-e19d6636fdb1",
   "metadata": {},
   "source": [
    "3. Se verifica el cumplimiento de los supuestos usando resúmenes, gráficos y pruebas estadísticas\n",
    "    * Se analizan los residuos vs. valores ajustados => los puntos están distribuidos de una manera simétrica, pensando que el concepto de homogeneidad se cumple\n",
    "    * Se analizan los residuos vs. variables regresoras => no se observan estructuras claras, es decir, la distribución es aleatoria, validandose el supuesto de homocedasticidad de los residuos\n",
    "    * Se valida el supuesto de normalidad de los residuos mediante un gráfico QQ-plot, observando que los errores se distribuyen normalmente"
   ]
  },
  {
   "cell_type": "markdown",
   "id": "c3a6bfa8-e8ae-4289-8823-121e7fc987e4",
   "metadata": {},
   "source": [
    "4. Se visualiza que las variables **iv** y **gleason** son categóricas"
   ]
  },
  {
   "cell_type": "markdown",
   "id": "6525ff5b-4ab8-4c26-9bbf-6220cce3c1e3",
   "metadata": {},
   "source": [
    "5. Se analizan los puntos influyentes\n",
    "    * No se detecta ninguna observación que supere el umbral de Cook\n",
    "    * No se detecta ningún punto influyente"
   ]
  },
  {
   "cell_type": "markdown",
   "id": "ba151730-d2cd-4e6c-8202-13d0515a5e86",
   "metadata": {},
   "source": [
    "6. Se analiza la multicolinealidad:\n",
    "    * **lcavol**: 2.70075375915355\n",
    "    * **lpeso**: 1.51808142255376\n",
    "    * **edad**: 1.30748372954313\n",
    "    * **lhiper**: 1.62121921029172\n",
    "    * **iv**: 2.01620143460216\n",
    "    * **lpc**: 3.02757448391407\n",
    "    * **gleason**: 2.43067324361368\n",
    "    * **pgg45**: 2.99822669459834\n",
    "\n",
    "* Como los valores del vif son mayores que 1 y menores que 5, supone una multicolinealidad moderada, lo que generalmente no es motivo de preocupación"
   ]
  },
  {
   "cell_type": "markdown",
   "id": "624b288d-70ce-4e43-afd6-be15fb6d24eb",
   "metadata": {},
   "source": [
    "7. Se definen los conjunto de entrenamiento (0.80 %) y test (0.20 %)\n",
    "8. Elección de variables sobre el 80% de los datos mediante método exhaustivo\n",
    "\n",
    "```\n",
    "| Variables| R2_ajustado|     BIC|\n",
    "|---------:|-----------:|-------:|\n",
    "|         1|       0.575| -35.976|\n",
    "|         2|       0.672| -46.098|\n",
    "|         3|       0.771| -61.289|\n",
    "|         4|       0.782| -60.878|\n",
    "|         5|       0.794| -60.785|\n",
    "|         6|       0.796| -58.604|\n",
    "|         7|       0.792| -54.937|\n",
    "|         8|       0.788| -51.236|\n",
    "```\n",
    "\n",
    "* Mejor R2 ajustado => 6 variables => lpsa ~ lcavol + lpeso + edad + lhiper + iv + pgg45\n",
    "* Mejor BIC =======> 3 variables => lpsa ~ lcavol + lhiper + iv\n",
    "\n",
    "* Modelo AIC => lpsa ~ lcavol + lhiper + iv + pgg45 + lpeso + edad + gleason\n",
    "\n",
    "\n",
    "9. Se entrena cada modelo lineal (BIC, R2, AIC) con validación cruzada en train-data\n",
    "\n",
    "10. Se arma la tabla resumen con los resultados del entranamiento de cada modelo\n",
    "\n",
    "```\n",
    "| BIC_RMSE| R2_RMSE| AIC_RMSE| BIC_R2| R2_R2| AIC_R2| BIC_MAE| R2_MAE| AIC_MAE|\n",
    "|--------:|-------:|--------:|------:|-----:|------:|-------:|------:|-------:|\n",
    "|    0.599|   0.595|    0.617|  0.764| 0.828|  0.746|   0.492|  0.473|   0.506|\n",
    "```\n",
    "\n",
    "11. Se hacen predicciones con el modelo ganador sobre las variables correctas\n",
    "\n",
    "12. Se arma la tabla de resumen con los resultados de RMSE (Root Mean Squared Error)\n",
    "\n",
    "```\n",
    "| CV_BIC_80| CV_BIC_20| CV_R2_80| CV_R2_20| CV_AIC_80| CV_AIC_20|\n",
    "|---------:|---------:|--------:|--------:|---------:|---------:|\n",
    "|     0.599|     0.659|    0.595|    0.511|     0.617|     0.481|\n",
    "```\n",
    "\n",
    "* Se observa que en ninguno de los modelos no difiere mucho del RMSE obtenido en el entrenamiento\n",
    "* **No hay evidencia de overfitting**"
   ]
  },
  {
   "cell_type": "markdown",
   "id": "254d7885-da13-437e-94d9-19f5bb9bd216",
   "metadata": {},
   "source": [
    "13. Modelo final BIC\n",
    "\n",
    "```\n",
    "Call:\n",
    "lm(formula = formula_bic, data = datos4)\n",
    "\n",
    "Residuals:\n",
    "    Min      1Q  Median      3Q     Max \n",
    "-1.4875 -0.3663 -0.0018  0.4379  1.0958 \n",
    "\n",
    "Coefficients:\n",
    "            Estimate Std. Error t value Pr(>|t|)    \n",
    "(Intercept)  1.46701    0.11406  12.862  < 2e-16 ***\n",
    "lcavol       0.52211    0.08208   6.361 3.44e-08 ***\n",
    "lhiper       0.33382    0.05685   5.872 2.21e-07 ***\n",
    "iv           1.23478    0.25127   4.914 7.66e-06 ***\n",
    "---\n",
    "Signif. codes:  0 ‘***’ 0.001 ‘**’ 0.01 ‘*’ 0.05 ‘.’ 0.1 ‘ ’ 1\n",
    "\n",
    "Residual standard error: 0.6135 on 58 degrees of freedom\n",
    "Multiple R-squared:  0.7662,\tAdjusted R-squared:  0.7541 \n",
    "F-statistic: 63.34 on 3 and 58 DF,  p-value: < 2.2e-16\n",
    "```"
   ]
  },
  {
   "cell_type": "markdown",
   "id": "2fefd16c-ba71-4042-ad03-c0b0709e0b25",
   "metadata": {},
   "source": [
    "14. Modelo final R2\n",
    "\n",
    "```\n",
    "Call:\n",
    "lm(formula = formula_R2, data = datos4)\n",
    "\n",
    "Residuals:\n",
    "     Min       1Q   Median       3Q      Max \n",
    "-1.39210 -0.34510  0.00788  0.32212  1.25040 \n",
    "\n",
    "Coefficients:\n",
    "             Estimate Std. Error t value Pr(>|t|)    \n",
    "(Intercept)  0.941438   0.884109   1.065  0.29160    \n",
    "lcavol       0.443972   0.081284   5.462 1.17e-06 ***\n",
    "lpeso        0.477554   0.196220   2.434  0.01822 *  \n",
    "edad        -0.019953   0.010563  -1.889  0.06416 .  \n",
    "lhiper       0.302132   0.061284   4.930 7.94e-06 ***\n",
    "iv           1.019437   0.235671   4.326 6.46e-05 ***\n",
    "pgg45        0.008954   0.003013   2.972  0.00439 ** \n",
    "---\n",
    "Signif. codes:  0 ‘***’ 0.001 ‘**’ 0.01 ‘*’ 0.05 ‘.’ 0.1 ‘ ’ 1\n",
    "\n",
    "Residual standard error: 0.5584 on 55 degrees of freedom\n",
    "Multiple R-squared:  0.8163,\tAdjusted R-squared:  0.7963 \n",
    "F-statistic: 40.73 on 6 and 55 DF,  p-value: < 2.2e-16\n",
    "```"
   ]
  },
  {
   "cell_type": "markdown",
   "id": "48e9bce7-8159-4b30-a10b-4642589df577",
   "metadata": {},
   "source": [
    "15. Modelo final AIC\n",
    "\n",
    "```\n",
    "Call:\n",
    "lm(formula = formula_AIC, data = datos4)\n",
    "\n",
    "Residuals:\n",
    "     Min       1Q   Median       3Q      Max \n",
    "-1.34763 -0.32482 -0.00439  0.26765  1.31712 \n",
    "\n",
    "Coefficients:\n",
    "             Estimate Std. Error t value Pr(>|t|)    \n",
    "(Intercept) -0.383974   1.274871  -0.301   0.7644    \n",
    "lcavol       0.417780   0.082576   5.059 5.19e-06 ***\n",
    "lhiper       0.308040   0.060849   5.062 5.14e-06 ***\n",
    "iv           1.097111   0.239690   4.577 2.81e-05 ***\n",
    "pgg45        0.005280   0.003938   1.341   0.1856    \n",
    "lpeso        0.497216   0.194864   2.552   0.0136 *  \n",
    "edad        -0.023364   0.010732  -2.177   0.0339 *  \n",
    "gleason      0.236370   0.165215   1.431   0.1583    \n",
    "---\n",
    "Signif. codes:  0 ‘***’ 0.001 ‘**’ 0.01 ‘*’ 0.05 ‘.’ 0.1 ‘ ’ 1\n",
    "\n",
    "Residual standard error: 0.5531 on 54 degrees of freedom\n",
    "Multiple R-squared:  0.823,\tAdjusted R-squared:  0.8001 \n",
    "F-statistic: 35.87 on 7 and 54 DF,  p-value: < 2.2e-16\n",
    "```"
   ]
  },
  {
   "cell_type": "markdown",
   "id": "909b6bbd-e597-41b8-9845-62aa26b82ba8",
   "metadata": {},
   "source": [
    "## Elección del modelo\n",
    "---"
   ]
  },
  {
   "cell_type": "markdown",
   "id": "94fa0b68-3472-4ccb-8e86-dec7d7709a7d",
   "metadata": {},
   "source": [
    "* Se elige el modelo BIC porque:\n",
    "    * Tiene un RMSE ligeramente menor, lo que indica predicciones más precisas\n",
    "    * Tiene un R-squared que no es el mayor pero muy poca diferencia con los otros modelos\n",
    "    * Tiene un MAE menor, lo que indica, en promedio, errores de predicción más pequeños\n",
    "    * Es mas parsimonioso (tiene menos variables que el resto de los modelos)\n",
    "    * Tanto BIC como AIC coincide en las variables mas significativas: lcavol, lhiper, iv"
   ]
  }
 ],
 "metadata": {
  "kernelspec": {
   "display_name": "R",
   "language": "R",
   "name": "ir"
  },
  "language_info": {
   "codemirror_mode": "r",
   "file_extension": ".r",
   "mimetype": "text/x-r-source",
   "name": "R",
   "pygments_lexer": "r",
   "version": "4.4.3"
  }
 },
 "nbformat": 4,
 "nbformat_minor": 5
}
