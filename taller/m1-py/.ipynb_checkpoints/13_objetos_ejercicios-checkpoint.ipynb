{
 "cells": [
  {
   "cell_type": "markdown",
   "id": "9345a437-8a13-45ab-812f-3ab58a85a435",
   "metadata": {
    "editable": true,
    "panel-layout": {
     "height": 60.59375,
     "visible": true,
     "width": 100
    },
    "slideshow": {
     "slide_type": ""
    },
    "tags": []
   },
   "source": [
    "# Objetos - Ejercicios\n",
    "---"
   ]
  },
  {
   "cell_type": "markdown",
   "id": "43ec287a-eda9-4ca4-91c2-353060cef7e1",
   "metadata": {},
   "source": [
    "Realizar un programa que conste de una clase llamada Estudiante, que tenga  como atributos el nombre y la nota del alumno. Definir los métodos para inicializar sus atributos, imprimirlos y mostrar un mensaje con el resultado de la nota y si ha aprobado o no"
   ]
  },
  {
   "cell_type": "code",
   "execution_count": 3,
   "id": "2e4d3c16-5800-4463-82b7-d76e9a94fec1",
   "metadata": {},
   "outputs": [],
   "source": [
    "class Estudiante:\n",
    "\n",
    "    def __init__(self, nombre, nota):\n",
    "        self.nombre = nombre\n",
    "        self.nota = nota\n",
    "    \n",
    "    def imprimir(self):\n",
    "        print(f'Nombre: {self.nombre}')\n",
    "        print(f'Nota: {self.nota}')\n",
    "    \n",
    "    def resultado(self):\n",
    "        print('aprobado' if self.nota >= 4 else 'desaprobado')"
   ]
  },
  {
   "cell_type": "code",
   "execution_count": 4,
   "id": "31c3204f-e727-41cc-8c5f-8c9cf364712b",
   "metadata": {},
   "outputs": [
    {
     "name": "stdout",
     "output_type": "stream",
     "text": [
      "Nombre: Pablo\n",
      "Nota: 8\n",
      "aprobado\n",
      "Nombre: Ana\n",
      "Nota: 2\n",
      "desaprobado\n"
     ]
    }
   ],
   "source": [
    "estudiante_1 = Estudiante('Pablo', 8)\n",
    "estudiante_2 = Estudiante('Ana', 2)\n",
    "\n",
    "estudiante_1.imprimir()\n",
    "estudiante_1.resultado()\n",
    "\n",
    "estudiante_2.imprimir()\n",
    "estudiante_2.resultado()"
   ]
  },
  {
   "cell_type": "markdown",
   "id": "d496a14d-7cdc-452d-9d4d-383271f4ca31",
   "metadata": {},
   "source": [
    "Crea una clase Persona. Con atributos nombre y edad. Además, crear un método cumpleaños, que aumente en 1 la edad de la persona cuando se invoque sobre un objeto creado con Persona"
   ]
  },
  {
   "cell_type": "code",
   "execution_count": 5,
   "id": "b3ef0dd9-01de-4c9b-8ebd-ee1d6b751a57",
   "metadata": {},
   "outputs": [],
   "source": [
    "class Persona:\n",
    "\n",
    "    def __init__(self, nombre, edad):\n",
    "        self.nombre = nombre\n",
    "        self.edad = edad\n",
    "    \n",
    "    def cumpleaños(self):\n",
    "        self.edad += 1\n",
    "    \n",
    "    def __str__(self):\n",
    "        return f'{self.nombre} -> {self.edad}'"
   ]
  },
  {
   "cell_type": "code",
   "execution_count": 6,
   "id": "f212fc01-9036-413d-bd79-f73111c6014d",
   "metadata": {},
   "outputs": [
    {
     "name": "stdout",
     "output_type": "stream",
     "text": [
      "Pablo -> 49\n",
      "Pablo -> 50\n"
     ]
    }
   ],
   "source": [
    "persona_1 = Persona('Pablo', 49)\n",
    "print(persona_1)\n",
    "persona_1.cumpleaños()\n",
    "print(persona_1)"
   ]
  },
  {
   "cell_type": "markdown",
   "id": "da4d04b3-c947-4a08-afca-289bcded84d3",
   "metadata": {},
   "source": [
    "Realizar un programa en el cual se declaren dos valores enteros por teclado utilizando el método __init__. Calcular después la suma, resta, multiplicación y división. Utilizar un método para cada una e imprimir los \n",
    "resultados obtenidos. Llamar a la clase Calculadora"
   ]
  },
  {
   "cell_type": "code",
   "execution_count": 7,
   "id": "5cd3e5a7-d178-44fc-aea5-b15f9750ef32",
   "metadata": {},
   "outputs": [],
   "source": [
    "class Calculadora:\n",
    "\n",
    "    def __init__(self):\n",
    "        self.n1 = int(input('Número 1: '))\n",
    "        self.n2 = int(input('Número 2: '))\n",
    "    \n",
    "    def sumar(self):\n",
    "        return self.n1 + self.n2\n",
    "    \n",
    "    def restar(self):\n",
    "        return self.n1 - self.n2\n",
    "    \n",
    "    def multiplicar(self):\n",
    "        return self.n1 * self.n2\n",
    "    \n",
    "    def dividir(self):\n",
    "        if self.n2 != 0:\n",
    "            return self.n1 / self.n2\n",
    "        return 0"
   ]
  },
  {
   "cell_type": "code",
   "execution_count": 8,
   "id": "5b089c23-f136-4e40-9098-661d894a5188",
   "metadata": {},
   "outputs": [
    {
     "name": "stdin",
     "output_type": "stream",
     "text": [
      "Número 1:  2\n",
      "Número 2:  3\n"
     ]
    },
    {
     "name": "stdout",
     "output_type": "stream",
     "text": [
      "5\n",
      "-1\n",
      "6\n",
      "0.6666666666666666\n"
     ]
    }
   ],
   "source": [
    "calc = Calculadora()\n",
    "print(calc.sumar())\n",
    "print(calc.restar()) \n",
    "print(calc.multiplicar())\n",
    "print(calc.dividir())"
   ]
  },
  {
   "cell_type": "markdown",
   "id": "7960a3e5-1742-4edd-8aa1-6370e3af2c5d",
   "metadata": {},
   "source": [
    "Crear una clase Persona con los atributos nombre y apellido que sea la clase padre de otra clase Estudiante. Además, dicha clase, debe tener un método para mostrar nombre_completo() el cual debe mostrar el nombre acompañado del apellido. La clase Estudiante, debe tener como atributos edad y carrera y además contar con un método mostrar_carrera()"
   ]
  },
  {
   "cell_type": "code",
   "execution_count": 10,
   "id": "040acfea-5889-4a3c-8b2e-569187d9a6a2",
   "metadata": {},
   "outputs": [],
   "source": [
    "class Persona:\n",
    "\n",
    "    def __init__(self, nombre, apellido):\n",
    "        self.nombre = nombre\n",
    "        self.apellido = apellido\n",
    "    \n",
    "    def nombre_completo(self):\n",
    "        print(f'{self.nombre} {self.apellido}')"
   ]
  },
  {
   "cell_type": "code",
   "execution_count": 11,
   "id": "c4b0fdd4-97b5-41f8-9005-100a3ea7e5eb",
   "metadata": {},
   "outputs": [],
   "source": [
    "class Estudiante(Persona):\n",
    "\n",
    "    def __init__(self, nombre, apellido, edad, carrera):\n",
    "        super().__init__(nombre, apellido)\n",
    "        self.edad = edad\n",
    "        self.carrera = carrera\n",
    "    \n",
    "    def mostrar_carrera(self):\n",
    "        print(self.carrera)"
   ]
  },
  {
   "cell_type": "code",
   "execution_count": 12,
   "id": "5e022a0c-9258-4115-99c0-7a1dc6c6e9c7",
   "metadata": {},
   "outputs": [
    {
     "name": "stdout",
     "output_type": "stream",
     "text": [
      "Pablo Pandolfo\n"
     ]
    }
   ],
   "source": [
    "persona = Persona('Pablo', 'Pandolfo')\n",
    "persona.nombre_completo()"
   ]
  },
  {
   "cell_type": "code",
   "execution_count": 13,
   "id": "5d84e69c-feb5-4e50-82f2-229e30ca1de6",
   "metadata": {},
   "outputs": [
    {
     "name": "stdout",
     "output_type": "stream",
     "text": [
      "Mariano Castroman\n",
      "informática\n"
     ]
    }
   ],
   "source": [
    "estudiante = Estudiante('Mariano', 'Castroman', 45, 'informática')\n",
    "estudiante.nombre_completo()\n",
    "estudiante.mostrar_carrera()"
   ]
  },
  {
   "cell_type": "markdown",
   "id": "889681f4-7a2c-4806-96ff-6901ad4611a1",
   "metadata": {},
   "source": [
    "Crear una clase Fabrica que tenga los atributos de Llantas, Color y Precio. Luego crear dos clases más que hereden de Fabrica, las cuales son Moto y Auto. Crear métodos que muestren la cantidad de llantas, color y precio de ambos transportes. Por último, crear objetos para cada clase y mostrar por pantalla los atributos de cada uno"
   ]
  },
  {
   "cell_type": "code",
   "execution_count": 18,
   "id": "ec6f4a6d-6e67-4f0b-98f9-e8b68a85e4f0",
   "metadata": {},
   "outputs": [],
   "source": [
    "class Fabrica:\n",
    "\n",
    "    def __init__(self, llantas, color, precio):\n",
    "        self.llantas = llantas\n",
    "        self.color = color\n",
    "        self.precio = precio\n",
    "    \n",
    "    def mostrar_llantas(self):\n",
    "        print(f'Llantas: {self.llantas}')\n",
    "    \n",
    "    def mostrar_color(self):\n",
    "        print(f'Color: {self.color}')\n",
    "    \n",
    "    def mostrar_precio(self):\n",
    "        print(f'Precio: {self.precio}')"
   ]
  },
  {
   "cell_type": "code",
   "execution_count": 19,
   "id": "a2ffc062-bfa6-4110-9d29-791cfa8ac4d1",
   "metadata": {},
   "outputs": [],
   "source": [
    "class Moto(Fabrica):\n",
    "\n",
    "    def __init__(self, llantas, color, precio):\n",
    "        super().__init__(llantas, color, precio)"
   ]
  },
  {
   "cell_type": "code",
   "execution_count": 20,
   "id": "c6020cd1-7fab-43f1-8a91-4455374cdaa5",
   "metadata": {},
   "outputs": [],
   "source": [
    "class Auto(Fabrica):\n",
    "\n",
    "    def __init__(self, llantas, color, precio):\n",
    "        super().__init__(llantas, color, precio)"
   ]
  },
  {
   "cell_type": "code",
   "execution_count": 21,
   "id": "d9210649-4020-40f9-a5d4-b373c0349891",
   "metadata": {},
   "outputs": [],
   "source": [
    "fabrica = Fabrica(4, 'rojo', 1234.56)\n",
    "moto = Moto(2, 'negro', 12.34)\n",
    "auto = Auto(4, 'gris', 123.45)"
   ]
  },
  {
   "cell_type": "code",
   "execution_count": 22,
   "id": "372d4288-d035-4781-9bc6-6b6eae64ccf9",
   "metadata": {},
   "outputs": [
    {
     "name": "stdout",
     "output_type": "stream",
     "text": [
      "Llantas: 4\n",
      "Color: rojo\n",
      "Precio: 1234.56\n"
     ]
    }
   ],
   "source": [
    "fabrica.mostrar_llantas()\n",
    "fabrica.mostrar_color()\n",
    "fabrica.mostrar_precio()"
   ]
  },
  {
   "cell_type": "code",
   "execution_count": 23,
   "id": "49390c08-24ab-49d6-8383-a13acb4dc7b3",
   "metadata": {},
   "outputs": [
    {
     "name": "stdout",
     "output_type": "stream",
     "text": [
      "Llantas: 2\n",
      "Color: negro\n",
      "Precio: 12.34\n"
     ]
    }
   ],
   "source": [
    "moto.mostrar_llantas()\n",
    "moto.mostrar_color()\n",
    "moto.mostrar_precio()"
   ]
  },
  {
   "cell_type": "code",
   "execution_count": 24,
   "id": "e8f66231-6f1c-49e3-aa26-038e92f6108f",
   "metadata": {},
   "outputs": [
    {
     "name": "stdout",
     "output_type": "stream",
     "text": [
      "Llantas: 4\n",
      "Color: gris\n",
      "Precio: 123.45\n"
     ]
    }
   ],
   "source": [
    "auto.mostrar_llantas()\n",
    "auto.mostrar_color()\n",
    "auto.mostrar_precio()"
   ]
  },
  {
   "cell_type": "markdown",
   "id": "f4d4ec13-7f4e-41dc-8180-3412644e829d",
   "metadata": {},
   "source": [
    "Crear una clase llamada Marino(), con un método que sea hablar, en donde muestre un mensaje que diga «Hola, soy un animal marino!». Luego, crear una clase Pulpo() que herede Marino, pero modificar el mensaje de hablar por «Hola soy un Pulpo!». Por último, crear una clase Foca(), heredada de Marino, pero que tenga un atributo nuevo llamado mensaje y que muestre ese mensaje como parámetro"
   ]
  },
  {
   "cell_type": "code",
   "execution_count": 25,
   "id": "e1c5bd42-1c11-43d2-947b-2b547f62bba0",
   "metadata": {},
   "outputs": [],
   "source": [
    "class Marino:\n",
    "\n",
    "    def hablar(self):\n",
    "        print('Hola, soy un animal marino!')"
   ]
  },
  {
   "cell_type": "code",
   "execution_count": 26,
   "id": "5718e9ef-a6c6-4a4e-8de2-b9952e8ec753",
   "metadata": {},
   "outputs": [],
   "source": [
    "class Pulpo(Marino):\n",
    "\n",
    "    def hablar(self):\n",
    "        print('Hola, soy un Pulpo!')"
   ]
  },
  {
   "cell_type": "code",
   "execution_count": 27,
   "id": "f48e3f48-0418-4310-b9b5-143c22b42a24",
   "metadata": {},
   "outputs": [],
   "source": [
    "class Foca(Marino):\n",
    "\n",
    "    def __init__(self, mensaje):\n",
    "        self.mensaje = mensaje\n",
    "    \n",
    "    def hablar(self):\n",
    "        print(self.mensaje)"
   ]
  },
  {
   "cell_type": "code",
   "execution_count": 28,
   "id": "55b3cd56-ec88-4917-b3e7-12a20139b204",
   "metadata": {},
   "outputs": [
    {
     "name": "stdout",
     "output_type": "stream",
     "text": [
      "Hola, soy un animal marino!\n",
      "Hola, soy un Pulpo!\n",
      "Hola, soy una Foca!\n"
     ]
    }
   ],
   "source": [
    "Marino().hablar()\n",
    "Pulpo().hablar()\n",
    "Foca('Hola, soy una Foca!').hablar()"
   ]
  },
  {
   "cell_type": "markdown",
   "id": "146fdfaa-613c-4c03-852a-da0ffdb9e653",
   "metadata": {},
   "source": [
    "Desarrollar un programa con tres clases:\n",
    "\n",
    "* La primera debe ser Universidad, con atributos nombre (nombre de la Universidad) \n",
    "* La segunda llamada Carerra, con los atributos especialidad (especialidad de un estudiante)\n",
    "* Y por último, una llamada Estudiante, que tenga como atributos su nombre y edad\n",
    "\n",
    "El programa debe imprimir la especialidad, edad, nombre y universidad de dicho estudiante con un objeto llamado persona"
   ]
  },
  {
   "cell_type": "code",
   "execution_count": 34,
   "id": "6ba6cef6-4c93-4219-a938-c71e2a3cf64f",
   "metadata": {},
   "outputs": [],
   "source": [
    "class Universidad:\n",
    "\n",
    "    def __init__(self, nombre):\n",
    "        self.nombre = nombre"
   ]
  },
  {
   "cell_type": "code",
   "execution_count": 35,
   "id": "d668d62f-d86f-42f0-a0f5-03a5d3619e18",
   "metadata": {},
   "outputs": [],
   "source": [
    "class Carrera:\n",
    "\n",
    "    def __init__(self, especialidad):\n",
    "        self.especialidad = especialidad"
   ]
  },
  {
   "cell_type": "code",
   "execution_count": 36,
   "id": "2bfdbb31-6eb4-4a0b-a58c-401ef2ec9ed6",
   "metadata": {},
   "outputs": [],
   "source": [
    "class Estudiante:\n",
    "\n",
    "    def __init__(self, nombre, edad):\n",
    "        self.nombre = nombre\n",
    "        self.edad = edad"
   ]
  },
  {
   "cell_type": "code",
   "execution_count": 37,
   "id": "e325cf61-4aaa-4177-8628-9745aabbdd87",
   "metadata": {},
   "outputs": [],
   "source": [
    "def persona(universidad, carrera, estudiante):\n",
    "    return f'Universidad: {universidad.nombre}, Carrera: {carrera.especialidad}, Estudiante: {estudiante.nombre}, Edad: {estudiante.edad}'"
   ]
  },
  {
   "cell_type": "code",
   "execution_count": 38,
   "id": "f4cbd30b-7608-4fb9-a49e-3ca86596f0f7",
   "metadata": {},
   "outputs": [
    {
     "name": "stdout",
     "output_type": "stream",
     "text": [
      "Universidad: UNO, Carrera: Esp en Cs de Datos, Estudiante: Pablo Pandolfo, Edad: 49\n"
     ]
    }
   ],
   "source": [
    "universidad = Universidad('UNO')\n",
    "carrera = Carrera('Esp en Cs de Datos')\n",
    "estudiante = Estudiante('Pablo Pandolfo', 49)\n",
    "print(persona(universidad, carrera, estudiante))"
   ]
  },
  {
   "cell_type": "markdown",
   "id": "c978603d-b278-4427-8c29-f2f9f23d5733",
   "metadata": {},
   "source": [
    "Implementar la clase Cuanti"
   ]
  },
  {
   "cell_type": "code",
   "execution_count": 1,
   "id": "894b2ebd-6adc-4407-ad42-2773ee2fea6c",
   "metadata": {},
   "outputs": [],
   "source": [
    "import math\n",
    "\n",
    "class Cuanti:\n",
    "\n",
    "    def __init__(self, nombre='X', data=[]):\n",
    "        self.nombre = nombre\n",
    "        self.data = data\n",
    "\n",
    "    def set_nombre(self, nuevo_nombre):\n",
    "        self.nombre = nuevo_nombre\n",
    "\n",
    "    def get_nombre(self):\n",
    "        return self.nombre\n",
    "\n",
    "    def set_data(self, nueva_data):\n",
    "        self.data = nueva_data\n",
    "    \n",
    "    def media(self):\n",
    "        return round(sum(self.data) / len(self.data), 2)\n",
    "\n",
    "    def media2(self):\n",
    "        cont = 0\n",
    "        acum = 0\n",
    "        for elem in self.data:\n",
    "            cont += 1\n",
    "            acum += elem\n",
    "        return round(acum / cont, 2)\n",
    "    \n",
    "    def minimo(self):\n",
    "        return min(self.data)\n",
    "    \n",
    "    def mediana(self):\n",
    "        n = len(self.data)\n",
    "        centro = int(n/2)\n",
    "        ordenada = sorted(self.data)\n",
    "        if n%2 != 0:\n",
    "            return ordenada[centro]\n",
    "        return Cuanti(data=[ordenada[centro], ordenada[centro - 1]]).media()\n",
    "    \n",
    "    def maximo(self):\n",
    "        return max(self.data)\n",
    "\n",
    "    def rango(self):\n",
    "        return self.maximo() - self.minimo()\n",
    "\n",
    "    def coeficiente_variacion(self):\n",
    "        return round(self.desvio_estandar() / self.media(), 2)\n",
    "\n",
    "    def moda(self):\n",
    "        dicc = {}\n",
    "        for elem in self.data:\n",
    "            dicc[elem] = (1 if elem not in dicc else (dicc[elem] + 1))\n",
    "        maximo = max(dicc.values())\n",
    "        moda = []\n",
    "        for elem in dicc.keys():\n",
    "            if dicc[elem] == maximo:\n",
    "                moda.append(elem)\n",
    "        return sorted(moda)\n",
    "            \n",
    "    def varianza(self):\n",
    "        acum = 0\n",
    "        media = self.media()\n",
    "        for elem in self.data:\n",
    "            acum += pow(elem - media, 2)\n",
    "        return round(acum / (len(self.data) - 1), 2)\n",
    "        \n",
    "    def desvio_estandar(self):\n",
    "        return round(math.sqrt(self.varianza()), 2)\n",
    "    \n",
    "    def q1(self):\n",
    "        n = len(self.data)\n",
    "        centro = int(n/2)\n",
    "        ordenada = sorted(self.data)   \n",
    "        return Cuanti(data=ordenada[:centro]).mediana()\n",
    "    \n",
    "    def q3(self):\n",
    "        n = len(self.data)\n",
    "        centro = int(n/2)\n",
    "        ordenada = sorted(self.data)\n",
    "        if n%2 != 0:\n",
    "            return Cuanti(data=ordenada[centro+1:]).mediana()\n",
    "        return Cuanti(data=ordenada[centro:]).mediana()\n",
    "\n",
    "    def iqr(self):\n",
    "        return self.q3() - self.q1()\n",
    "        \n",
    "    def atipicos(self):\n",
    "        umbral_inf = 1.5 * self.iqr()\n",
    "        umbral_sup = 3 * self.iqr()\n",
    "        atipicos = []\n",
    "        for elem in self.data:\n",
    "            if elem >= umbral_inf and elem < umbral_sup:\n",
    "                atipicos.append(elem)\n",
    "        return sorted(atipicos)\n",
    "    \n",
    "    def muy_atipicos(self):\n",
    "        umbral_inf = 3 * self.iqr()\n",
    "        muy_atipicos = []\n",
    "        for elem in self.data:\n",
    "            if elem >= umbral_inf:\n",
    "                muy_atipicos.append(elem)\n",
    "        return sorted(muy_atipicos)\n",
    "        \n",
    "    def medidas_resumen(self):\n",
    "        print('Nombre: ',  self.nombre)\n",
    "        print('Datos: ',   self.data)\n",
    "        print('Media: ',   self.media())\n",
    "        print('Mediana: ', self.mediana())\n",
    "\n",
    "    def __str__(self):\n",
    "        return self.nombre + '\\n' + str(self.data)"
   ]
  },
  {
   "cell_type": "code",
   "execution_count": 148,
   "id": "c79d30fa-96ef-4978-9d53-ff541f2e6b32",
   "metadata": {},
   "outputs": [],
   "source": [
    "c = Cuanti('v1', [1, 2, 3])"
   ]
  },
  {
   "cell_type": "code",
   "execution_count": 149,
   "id": "1b64f163-98b9-4122-95e9-93327e74dfcc",
   "metadata": {},
   "outputs": [
    {
     "data": {
      "text/plain": [
       "'v1'"
      ]
     },
     "execution_count": 149,
     "metadata": {},
     "output_type": "execute_result"
    }
   ],
   "source": [
    "c.get_nombre()"
   ]
  },
  {
   "cell_type": "code",
   "execution_count": 150,
   "id": "fc90387a-3b0e-4e8c-ab4e-e2c83f063047",
   "metadata": {},
   "outputs": [],
   "source": [
    "c.set_nombre('cantidades')"
   ]
  },
  {
   "cell_type": "code",
   "execution_count": 151,
   "id": "e0415704-7e23-45b9-ab19-4297ef9e2de8",
   "metadata": {},
   "outputs": [
    {
     "data": {
      "text/plain": [
       "'cantidades'"
      ]
     },
     "execution_count": 151,
     "metadata": {},
     "output_type": "execute_result"
    }
   ],
   "source": [
    "c.get_nombre()"
   ]
  },
  {
   "cell_type": "code",
   "execution_count": 152,
   "id": "7f6da215-1bb2-4e7b-ad43-ae36f475db29",
   "metadata": {
    "panel-layout": {
     "height": 27.140625,
     "visible": true,
     "width": 100
    }
   },
   "outputs": [
    {
     "data": {
      "text/plain": [
       "2.0"
      ]
     },
     "execution_count": 152,
     "metadata": {},
     "output_type": "execute_result"
    }
   ],
   "source": [
    "c.media()"
   ]
  },
  {
   "cell_type": "code",
   "execution_count": 153,
   "id": "444758cb-d22e-4438-bf83-22c2bffe813a",
   "metadata": {
    "panel-layout": {
     "height": 27.140625,
     "visible": true,
     "width": 100
    }
   },
   "outputs": [
    {
     "data": {
      "text/plain": [
       "1"
      ]
     },
     "execution_count": 153,
     "metadata": {},
     "output_type": "execute_result"
    }
   ],
   "source": [
    "c.minimo()"
   ]
  },
  {
   "cell_type": "code",
   "execution_count": 154,
   "id": "b8c51c9f-08b2-42ac-849e-fc538313f23c",
   "metadata": {
    "panel-layout": {
     "height": 27.140625,
     "visible": true,
     "width": 100
    }
   },
   "outputs": [
    {
     "data": {
      "text/plain": [
       "3"
      ]
     },
     "execution_count": 154,
     "metadata": {},
     "output_type": "execute_result"
    }
   ],
   "source": [
    "c.maximo()"
   ]
  },
  {
   "cell_type": "code",
   "execution_count": 155,
   "id": "dd000a41-c710-4e2c-85c2-a2833fef5270",
   "metadata": {},
   "outputs": [
    {
     "data": {
      "text/plain": [
       "2"
      ]
     },
     "execution_count": 155,
     "metadata": {},
     "output_type": "execute_result"
    }
   ],
   "source": [
    "c.rango()"
   ]
  },
  {
   "cell_type": "code",
   "execution_count": 156,
   "id": "9aa2ca98-66b9-4797-934b-09da97e6ce65",
   "metadata": {
    "editable": true,
    "panel-layout": {
     "height": 27.140625,
     "visible": true,
     "width": 100
    },
    "slideshow": {
     "slide_type": ""
    },
    "tags": []
   },
   "outputs": [
    {
     "data": {
      "text/plain": [
       "2"
      ]
     },
     "execution_count": 156,
     "metadata": {},
     "output_type": "execute_result"
    }
   ],
   "source": [
    "c.mediana()"
   ]
  },
  {
   "cell_type": "code",
   "execution_count": 157,
   "id": "8139d38b-c78e-4a89-9332-8d59ce358121",
   "metadata": {
    "panel-layout": {
     "height": 0,
     "visible": true,
     "width": 100
    }
   },
   "outputs": [
    {
     "name": "stdout",
     "output_type": "stream",
     "text": [
      "cantidades\n",
      "[1, 2, 3]\n"
     ]
    }
   ],
   "source": [
    "print(c)"
   ]
  },
  {
   "cell_type": "code",
   "execution_count": 158,
   "id": "b3079f7b-e7fe-4f9c-bab9-faa9ca8bd01c",
   "metadata": {
    "panel-layout": {
     "height": 0,
     "visible": true,
     "width": 100
    }
   },
   "outputs": [],
   "source": [
    "c.set_nombre('v')"
   ]
  },
  {
   "cell_type": "code",
   "execution_count": 159,
   "id": "8cb75700-ba2b-41a2-aae4-01566daedb05",
   "metadata": {
    "panel-layout": {
     "height": 0,
     "visible": true,
     "width": 100
    }
   },
   "outputs": [
    {
     "name": "stdout",
     "output_type": "stream",
     "text": [
      "v\n",
      "[1, 2, 3]\n"
     ]
    }
   ],
   "source": [
    "print(c)"
   ]
  },
  {
   "cell_type": "code",
   "execution_count": 160,
   "id": "1093e244-7031-44c6-9e17-e72b168ab734",
   "metadata": {},
   "outputs": [
    {
     "name": "stdout",
     "output_type": "stream",
     "text": [
      "Nombre:  v\n",
      "Datos:  [1, 2, 3]\n",
      "Media:  2.0\n",
      "Mediana:  2\n"
     ]
    }
   ],
   "source": [
    "c.medidas_resumen()"
   ]
  },
  {
   "cell_type": "markdown",
   "id": "ab073bf4-4103-46af-9c06-9fc2f5d0724e",
   "metadata": {},
   "source": [
    "Implementar tests unitarios a la clase Cuanti"
   ]
  },
  {
   "cell_type": "code",
   "execution_count": 3,
   "id": "2cda4d22-7329-41e6-af29-49e8dba786a3",
   "metadata": {},
   "outputs": [
    {
     "name": "stderr",
     "output_type": "stream",
     "text": [
      "test_atipicos (__main__.TestNombreCuanti.test_atipicos) ... ok\n",
      "test_desvio_estandar (__main__.TestNombreCuanti.test_desvio_estandar) ... ok\n",
      "test_iqr (__main__.TestNombreCuanti.test_iqr) ... ok\n",
      "test_maximo (__main__.TestNombreCuanti.test_maximo) ... ok\n",
      "test_media (__main__.TestNombreCuanti.test_media) ... ok\n",
      "test_media2 (__main__.TestNombreCuanti.test_media2) ... ok\n",
      "test_mediana_n_impar (__main__.TestNombreCuanti.test_mediana_n_impar) ... ok\n",
      "test_mediana_n_par (__main__.TestNombreCuanti.test_mediana_n_par) ... ok\n",
      "test_minimo (__main__.TestNombreCuanti.test_minimo) ... ok\n",
      "test_moda (__main__.TestNombreCuanti.test_moda) ... ok\n",
      "test_muy_atipicos (__main__.TestNombreCuanti.test_muy_atipicos) ... ok\n",
      "test_nombre (__main__.TestNombreCuanti.test_nombre) ... ok\n",
      "test_nombre_nuevo (__main__.TestNombreCuanti.test_nombre_nuevo) ... ok\n",
      "test_q1 (__main__.TestNombreCuanti.test_q1) ... ok\n",
      "test_q3 (__main__.TestNombreCuanti.test_q3) ... ok\n",
      "test_rango (__main__.TestNombreCuanti.test_rango) ... ok\n",
      "test_varianza (__main__.TestNombreCuanti.test_varianza) ... ok\n",
      "\n",
      "----------------------------------------------------------------------\n",
      "Ran 17 tests in 0.260s\n",
      "\n",
      "OK\n"
     ]
    },
    {
     "data": {
      "text/plain": [
       "<unittest.main.TestProgram at 0x13cb7faa0>"
      ]
     },
     "execution_count": 3,
     "metadata": {},
     "output_type": "execute_result"
    }
   ],
   "source": [
    "import unittest\n",
    "import sqlite3\n",
    "\n",
    "class TestNombreCuanti(unittest.TestCase):\n",
    "\n",
    "    def setUp(self):\n",
    "        # hardcode\n",
    "        self.c1 = Cuanti('v1', [1, 3, 4])\n",
    "        self.c2 = Cuanti('v2', [100, 200, 200, 250, 600])\n",
    "\n",
    "        # file\n",
    "        fr = open(\"/Users/ppando/Materias/python/proy/cuanti_datos.csv\", 'r')\n",
    "        lista2 = fr.readlines()\n",
    "        fr.close()\n",
    "        self.datos = []\n",
    "        for elem in lista2:                      \n",
    "            self.datos.append(int(elem.replace('\\n', '')))\n",
    "        self.c3 = Cuanti('v3', self.datos)\n",
    "\n",
    "        # database\n",
    "        self.con = sqlite3.connect(\"/Users/ppando/Materias/python/proy/cuanti_datos.db\") # si no existe, la crea\n",
    "        cur = self.con.cursor()\n",
    "        cur.execute(\"CREATE TABLE datos(id INTEGER PRIMARY KEY AUTOINCREMENT, value INTEGER NOT NULL)\")\n",
    "        cur.execute(\"INSERT INTO datos (value) VALUES (100), (200), (200), (250), (600)\")\n",
    "        self.con.commit()\n",
    "        self.datos = []\n",
    "        for row in cur.execute(\"SELECT value FROM datos\"):                      \n",
    "            self.datos.append(row[0])\n",
    "        self.c4 = Cuanti('v4', self.datos)\n",
    "        \n",
    "    def test_nombre(self):\n",
    "        self.assertEqual(self.c1.get_nombre(), 'v1')\n",
    "        self.assertEqual(self.c2.get_nombre(), 'v2')\n",
    "\n",
    "    def test_nombre_nuevo(self):\n",
    "        self.c1.set_nombre('cantidades')\n",
    "        self.assertEqual(self.c1.get_nombre(), 'cantidades')\n",
    "\n",
    "    def test_media(self):\n",
    "        self.assertEqual(self.c1.media(), 2.67)\n",
    "        self.assertEqual(self.c2.media(), 270)\n",
    "        self.assertEqual(self.c3.media(), 270)\n",
    "        self.assertEqual(self.c4.media(), 270)\n",
    "                \n",
    "    def test_media2(self):\n",
    "        self.assertEqual(self.c1.media2(), 2.67)\n",
    "        self.assertEqual(self.c2.media2(), 270)\n",
    "        self.assertEqual(self.c3.media2(), 270)\n",
    "        self.assertEqual(self.c4.media2(), 270)\n",
    "\n",
    "    def test_minimo(self):\n",
    "        self.assertEqual(self.c1.minimo(), 1)\n",
    "        self.assertEqual(self.c2.minimo(), 100)\n",
    "        self.assertEqual(self.c3.minimo(), 100)\n",
    "        self.assertEqual(self.c4.minimo(), 100)\n",
    "        \n",
    "    def test_maximo(self):\n",
    "        self.assertEqual(self.c1.maximo(), 4)\n",
    "        self.assertEqual(self.c2.maximo(), 600)\n",
    "        self.assertEqual(self.c3.maximo(), 600)\n",
    "        self.assertEqual(self.c4.maximo(), 600)\n",
    "\n",
    "    def test_rango(self):\n",
    "        self.assertEqual(self.c1.rango(), 3)\n",
    "        self.assertEqual(self.c2.rango(), 500)\n",
    "        self.assertEqual(self.c3.rango(), 500)\n",
    "        self.assertEqual(self.c4.rango(), 500)\n",
    "        \n",
    "    def test_mediana_n_impar(self):\n",
    "        self.assertEqual(self.c1.mediana(), 3)\n",
    "        self.assertEqual(self.c2.mediana(), 200)\n",
    "        self.assertEqual(self.c3.mediana(), 200)\n",
    "        \n",
    "    def test_mediana_n_par(self): \n",
    "        self.assertEqual(Cuanti('v2', [9, 5, 6, 1]).mediana(), 5.5)\n",
    "        self.assertEqual(Cuanti('v', [100, 200, 900, 250, 600, 350]).mediana(), 300)\n",
    "\n",
    "    def test_moda(self):\n",
    "        self.assertEqual(self.c1.moda(), [1, 3, 4])\n",
    "        self.assertEqual(self.c2.moda(), [200])\n",
    "        self.assertEqual(self.c3.moda(), [200])\n",
    "        self.assertEqual(self.c4.moda(), [200])\n",
    "\n",
    "    def test_varianza(self):\n",
    "        self.assertEqual(self.c1.varianza(), 2.33)\n",
    "        self.assertEqual(self.c2.varianza(), 37000)\n",
    "        self.assertEqual(self.c3.varianza(), 37000)\n",
    "        self.assertEqual(self.c4.varianza(), 37000)\n",
    "\n",
    "    def test_desvio_estandar(self):\n",
    "        self.assertEqual(self.c1.desvio_estandar(), 1.53)\n",
    "        self.assertEqual(self.c2.desvio_estandar(), 192.35)\n",
    "        self.assertEqual(self.c3.desvio_estandar(), 192.35)\n",
    "        self.assertEqual(self.c4.desvio_estandar(), 192.35)\n",
    "\n",
    "    def test_q1(self):\n",
    "        self.assertEqual(Cuanti(data=[1, 5, 6, 9]).q1(), 3)\n",
    "        self.assertEqual(Cuanti(data=[13, 13.5, 14, 14, 14.5, 15.5, 16]).q1(), 13.5)\n",
    "        self.assertEqual(self.c1.q1(), 1)\n",
    "        self.assertEqual(self.c2.q1(), 150)\n",
    "        \n",
    "    def test_q3(self):\n",
    "        self.assertEqual(Cuanti(data=[1, 5, 6, 9]).q3(), 7.50)\n",
    "        self.assertEqual(Cuanti(data=[13, 13.5, 14, 14, 14.5, 15.5, 16]).q3(), 15.5)\n",
    "        self.assertEqual(self.c1.q3(), 4)\n",
    "        self.assertEqual(self.c2.q3(), 425)\n",
    "        \n",
    "    def test_iqr(self):\n",
    "        self.assertEqual(Cuanti(data=[1, 5, 6, 9]).iqr(), 4.50)\n",
    "        self.assertEqual(Cuanti(data=[13, 13.5, 14, 14, 14.5, 15.5, 16]).iqr(), 2)\n",
    "        self.assertEqual(self.c1.iqr(), 3)\n",
    "        self.assertEqual(self.c2.iqr(), 275)\n",
    "        \n",
    "    def test_atipicos(self):\n",
    "        self.assertEqual(Cuanti('v', [100, 200, 900, 250, 600, 350, 3000]).atipicos(), [])\n",
    "        self.assertEqual(self.c1.atipicos(), [])\n",
    "        self.assertEqual(self.c2.atipicos(), [600])\n",
    "        \n",
    "    def test_muy_atipicos(self):\n",
    "        self.assertEqual(Cuanti('v', [100, 200, 900, 250, 600, 350, 3000]).muy_atipicos(), [3000])\n",
    "        self.assertEqual(self.c1.muy_atipicos(), [])\n",
    "        self.assertEqual(self.c2.muy_atipicos(), [])\n",
    "\n",
    "    def tearDown(self):\n",
    "        self.con.cursor().execute(\"DROP TABLE datos\")\n",
    "        self.con.close()\n",
    "\n",
    "unittest.main(argv=[''], verbosity=2, exit=False)"
   ]
  },
  {
   "cell_type": "code",
   "execution_count": null,
   "id": "4bc6fa6f-b808-43ab-af86-48f9f1a372ba",
   "metadata": {},
   "outputs": [],
   "source": []
  }
 ],
 "metadata": {
  "kernelspec": {
   "display_name": "Python [conda env:base] *",
   "language": "python",
   "name": "conda-base-py"
  },
  "language_info": {
   "codemirror_mode": {
    "name": "ipython",
    "version": 3
   },
   "file_extension": ".py",
   "mimetype": "text/x-python",
   "name": "python",
   "nbconvert_exporter": "python",
   "pygments_lexer": "ipython3",
   "version": "3.12.7"
  },
  "panel-cell-order": [
   "9345a437-8a13-45ab-812f-3ab58a85a435",
   "7f6da215-1bb2-4e7b-ad43-ae36f475db29",
   "444758cb-d22e-4438-bf83-22c2bffe813a",
   "b8c51c9f-08b2-42ac-849e-fc538313f23c",
   "9aa2ca98-66b9-4797-934b-09da97e6ce65",
   "8139d38b-c78e-4a89-9332-8d59ce358121",
   "b3079f7b-e7fe-4f9c-bab9-faa9ca8bd01c",
   "8cb75700-ba2b-41a2-aae4-01566daedb05"
  ]
 },
 "nbformat": 4,
 "nbformat_minor": 5
}
