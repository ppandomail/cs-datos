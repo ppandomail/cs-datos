{
 "cells": [
  {
   "cell_type": "markdown",
   "id": "0dd8e439-d3a5-4063-a658-3988a7c69ef1",
   "metadata": {},
   "source": [
    "# Práctica 1 - Map-Reduce - RDD\n",
    "---"
   ]
  },
  {
   "cell_type": "markdown",
   "id": "28999d04-3842-4bdf-82d5-a7d0c9e938d6",
   "metadata": {},
   "source": [
    "#### 1. De una lista de 20 números enteros obtenga la suma de los pares"
   ]
  },
  {
   "cell_type": "code",
   "execution_count": 1,
   "id": "31277a7b-961e-48c6-adbc-75e7ba29dfb8",
   "metadata": {},
   "outputs": [],
   "source": [
    "import os\n",
    "os.environ['JAVA_HOME'] = '/Library/Java/JavaVirtualMachines/openjdk-17.jdk/Contents/Home'"
   ]
  },
  {
   "cell_type": "code",
   "execution_count": 2,
   "id": "0ce61371-6de7-4222-8915-6c2bc221d2fc",
   "metadata": {},
   "outputs": [],
   "source": [
    "from pyspark.sql import SparkSession"
   ]
  },
  {
   "cell_type": "code",
   "execution_count": 3,
   "id": "11578ccc-be5a-483c-a80b-6ff5759fd417",
   "metadata": {},
   "outputs": [
    {
     "name": "stderr",
     "output_type": "stream",
     "text": [
      "WARNING: Using incubator modules: jdk.incubator.vector\n",
      "Using Spark's default log4j profile: org/apache/spark/log4j2-defaults.properties\n",
      "25/08/16 19:42:18 WARN Utils: Your hostname, MacBook-Pro-de-Pablo.local, resolves to a loopback address: 127.0.0.1; using 192.168.0.84 instead (on interface en0)\n",
      "25/08/16 19:42:18 WARN Utils: Set SPARK_LOCAL_IP if you need to bind to another address\n",
      "Using Spark's default log4j profile: org/apache/spark/log4j2-defaults.properties\n",
      "Setting default log level to \"WARN\".\n",
      "To adjust logging level use sc.setLogLevel(newLevel). For SparkR, use setLogLevel(newLevel).\n",
      "25/08/16 19:42:19 WARN NativeCodeLoader: Unable to load native-hadoop library for your platform... using builtin-java classes where applicable\n"
     ]
    }
   ],
   "source": [
    "spark = SparkSession.builder.master(\"local[*]\").getOrCreate()"
   ]
  },
  {
   "cell_type": "code",
   "execution_count": 4,
   "id": "8b972e29-d7ed-4f74-a102-370589fed1fd",
   "metadata": {},
   "outputs": [],
   "source": [
    "rdd = spark.sparkContext.parallelize(range(1, 21))"
   ]
  },
  {
   "cell_type": "code",
   "execution_count": 5,
   "id": "462f59b4-9ba0-4823-b851-23ebf74f7f3e",
   "metadata": {},
   "outputs": [],
   "source": [
    "def pares(elemento):\n",
    "    if elemento % 2 == 0:\n",
    "        return elemento\n",
    "    return 0"
   ]
  },
  {
   "cell_type": "code",
   "execution_count": 6,
   "id": "d946e2e6-7b13-4999-993a-e86bd0cd39a1",
   "metadata": {},
   "outputs": [],
   "source": [
    "def sumar_pares(x, y):\n",
    "    return x + y"
   ]
  },
  {
   "cell_type": "code",
   "execution_count": 7,
   "id": "73a2efdf-5b74-4315-961b-6469e3f2e967",
   "metadata": {},
   "outputs": [
    {
     "name": "stderr",
     "output_type": "stream",
     "text": [
      "                                                                                \r"
     ]
    },
    {
     "data": {
      "text/plain": [
       "110"
      ]
     },
     "execution_count": 7,
     "metadata": {},
     "output_type": "execute_result"
    }
   ],
   "source": [
    "rdd.map(pares).reduce(sumar_pares)"
   ]
  },
  {
   "cell_type": "markdown",
   "id": "8b30b6cb-2580-4b9e-b7b2-e9077b5000ec",
   "metadata": {},
   "source": [
    "#### 2. En un laboratorio se realizó una encuesta. A cada miembro del laboratorio se le hizo la siguiente pregunta: ¿A quién, de todos sus compañeros de trabajo, considera que es su amigo? El resultado de la encuesta se almacenó en el archivo “friends.txt”. Utilizando map-reduce debe contar la cantidad de amigos que tiene cada miembro del laboratorio.\n",
    "\n",
    "| Salida esperada |\n",
    "| --              |\n",
    "| Jim,3           |\n",
    "| Joe,1           |\n",
    "| Kai,1           |\n",
    "| Lin,2           |\n",
    "| Sue,1           |"
   ]
  },
  {
   "cell_type": "code",
   "execution_count": 8,
   "id": "125af7d1-f6a2-4b49-9a61-538d97df968b",
   "metadata": {},
   "outputs": [],
   "source": [
    "friends = spark.sparkContext.textFile('friends.txt')"
   ]
  },
  {
   "cell_type": "code",
   "execution_count": 9,
   "id": "81fe71bc-ba20-4b97-85bb-a041e85ef252",
   "metadata": {},
   "outputs": [
    {
     "data": {
      "text/plain": [
       "['Jim,Sue',\n",
       " 'Sue,Jim',\n",
       " 'Lin,Joe',\n",
       " 'Joe,Lin',\n",
       " 'Jim,Kai',\n",
       " 'Kai,Jim',\n",
       " 'Jim,Lin',\n",
       " 'Lin,Jim']"
      ]
     },
     "execution_count": 9,
     "metadata": {},
     "output_type": "execute_result"
    }
   ],
   "source": [
    "friends.collect()"
   ]
  },
  {
   "cell_type": "code",
   "execution_count": 10,
   "id": "d025310d-410c-4fe3-9f1b-9523fcd7a4ad",
   "metadata": {},
   "outputs": [],
   "source": [
    "def limpiar(elemento):\n",
    "    return elemento.strip().split(\",\")"
   ]
  },
  {
   "cell_type": "code",
   "execution_count": 11,
   "id": "834249b5-9479-480f-8582-ff404f1bb006",
   "metadata": {},
   "outputs": [],
   "source": [
    "def agregar_claves(elemento):\n",
    "    return (elemento[1], 1)"
   ]
  },
  {
   "cell_type": "code",
   "execution_count": 12,
   "id": "b5f03b00-bee9-4b78-a81a-63031353e05a",
   "metadata": {},
   "outputs": [],
   "source": [
    "def reducir(x, y):\n",
    "    return x + y"
   ]
  },
  {
   "cell_type": "code",
   "execution_count": 13,
   "id": "a156a954-ccef-4972-a256-443d8a369124",
   "metadata": {},
   "outputs": [
    {
     "data": {
      "text/plain": [
       "[['Jim', 'Sue'],\n",
       " ['Sue', 'Jim'],\n",
       " ['Lin', 'Joe'],\n",
       " ['Joe', 'Lin'],\n",
       " ['Jim', 'Kai'],\n",
       " ['Kai', 'Jim'],\n",
       " ['Jim', 'Lin'],\n",
       " ['Lin', 'Jim']]"
      ]
     },
     "execution_count": 13,
     "metadata": {},
     "output_type": "execute_result"
    }
   ],
   "source": [
    "mapeado = friends.map(limpiar)\n",
    "mapeado.collect()"
   ]
  },
  {
   "cell_type": "code",
   "execution_count": 14,
   "id": "e3829fc9-6ebd-40fb-9a81-c7450c955130",
   "metadata": {},
   "outputs": [
    {
     "data": {
      "text/plain": [
       "[('Sue', 1),\n",
       " ('Jim', 1),\n",
       " ('Joe', 1),\n",
       " ('Lin', 1),\n",
       " ('Kai', 1),\n",
       " ('Jim', 1),\n",
       " ('Lin', 1),\n",
       " ('Jim', 1)]"
      ]
     },
     "execution_count": 14,
     "metadata": {},
     "output_type": "execute_result"
    }
   ],
   "source": [
    "mapeado = mapeado.map(agregar_claves)\n",
    "mapeado.collect()"
   ]
  },
  {
   "cell_type": "code",
   "execution_count": 15,
   "id": "0f088e83-4ac4-4701-bb50-4f2603055808",
   "metadata": {},
   "outputs": [
    {
     "data": {
      "text/plain": [
       "[('Jim', 3), ('Sue', 1), ('Joe', 1), ('Lin', 2), ('Kai', 1)]"
      ]
     },
     "execution_count": 15,
     "metadata": {},
     "output_type": "execute_result"
    }
   ],
   "source": [
    "final = mapeado.reduceByKey(reducir)\n",
    "final.collect()"
   ]
  },
  {
   "cell_type": "markdown",
   "id": "ca05f858-4e55-48ac-b871-53a7d9a7dda1",
   "metadata": {},
   "source": [
    "#### 3. El archivo \"kaonashi14M.txt\" contiene contraseñas de uso muy frecuente (algunas no tanto). Se desea obtener la longitud de cada contraseña. Se debe clasificar cada contraseña de acuerdo a la cantidad de caracteres teniendo como referencia lo siguiente:\n",
    "* tiny: 1 small: 2–4 medium: 5–9 big: de 10 en adelante\n",
    "* Con map-reduce debe clasificar cada contraseña y luego contar la cantidad de contraseñas que hay en cada categoría\n",
    "\n",
    "| Salida esperada |\n",
    "| --              |\n",
    "| tiny,1          |\n",
    "| small,70        |\n",
    "| medium,120      |\n",
    "| big,50          |"
   ]
  },
  {
   "cell_type": "code",
   "execution_count": 25,
   "id": "1e1b7042-6025-4c5a-b394-544499bffa33",
   "metadata": {},
   "outputs": [],
   "source": [
    "spark = SparkSession.builder.master(\"local[*]\").getOrCreate()"
   ]
  },
  {
   "cell_type": "code",
   "execution_count": 26,
   "id": "c7d4b54b-ee97-4119-b0b9-5ed686b06a35",
   "metadata": {},
   "outputs": [],
   "source": [
    "contrasenias = spark.sparkContext.textFile('kaonashi14M.txt')"
   ]
  },
  {
   "cell_type": "code",
   "execution_count": 27,
   "id": "2e4f168b-8ebb-46bb-9b98-abc698a8d905",
   "metadata": {},
   "outputs": [
    {
     "data": {
      "text/plain": [
       "['123456',\n",
       " '123456789',\n",
       " 'qwerty',\n",
       " 'password',\n",
       " '12345',\n",
       " 'x',\n",
       " 'qwerty123',\n",
       " '1q2w3e',\n",
       " 'DEFAULT',\n",
       " '12345678',\n",
       " '111111',\n",
       " '1234567890',\n",
       " 'victory',\n",
       " '1983',\n",
       " 'y',\n",
       " 'orlando',\n",
       " 'dpbk1234',\n",
       " 'aspirine',\n",
       " 'agent007',\n",
       " '7894561230',\n",
       " 'rocky1',\n",
       " 'assassin',\n",
       " '12413',\n",
       " '987456321',\n",
       " '12345678901',\n",
       " '000',\n",
       " 'ncc1701',\n",
       " '9999999',\n",
       " 'sammy',\n",
       " 'z',\n",
       " 'spiderman1',\n",
       " 'abc1234',\n",
       " 'PE#5GZ29PTZMSE',\n",
       " 'sunflower',\n",
       " 'teacher',\n",
       " '19911991',\n",
       " '<password>',\n",
       " 'potter',\n",
       " 'microsoft',\n",
       " '567890',\n",
       " 'cowboys1',\n",
       " 'steve',\n",
       " 'online',\n",
       " 'asdfgh1',\n",
       " 'pierre',\n",
       " 'qwertz',\n",
       " 'xx',\n",
       " 'tintin',\n",
       " '3rjs1la7qe',\n",
       " 'julian',\n",
       " 'jasmin',\n",
       " '4321',\n",
       " '123456987',\n",
       " 'vfhecz',\n",
       " 'newmember',\n",
       " 'disney',\n",
       " 'christina',\n",
       " 'dthjybrf',\n",
       " 'k123456',\n",
       " '5xfgs3Ii9D',\n",
       " 'Passw0rd',\n",
       " 'claire',\n",
       " 'admin123',\n",
       " '1981',\n",
       " 'chocolat',\n",
       " 'packers',\n",
       " '20102010',\n",
       " 'thebest',\n",
       " 'mexico1',\n",
       " '19901990',\n",
       " 'startrek',\n",
       " 'lover1',\n",
       " 'mother1',\n",
       " 'sayang',\n",
       " 'francesca',\n",
       " 'diesel',\n",
       " 'newyork1',\n",
       " 'domino',\n",
       " 'anderson',\n",
       " 'anhyeuem',\n",
       " 'sophia',\n",
       " 'indian',\n",
       " 'angel123',\n",
       " 'rafael',\n",
       " 'giuseppe',\n",
       " 'blessed1',\n",
       " 'j123456',\n",
       " 'scooter1',\n",
       " 'zxcasdqwe',\n",
       " 'qwertyuiop1',\n",
       " 'alberto',\n",
       " 'genesis',\n",
       " 'theman',\n",
       " 'raiders1',\n",
       " 'little',\n",
       " 'musica',\n",
       " 'justinbieb',\n",
       " 'alex123',\n",
       " 'weed420',\n",
       " 'iloveu2',\n",
       " 'qwer12',\n",
       " 'mountain',\n",
       " '10101010',\n",
       " 'nelson']"
      ]
     },
     "execution_count": 27,
     "metadata": {},
     "output_type": "execute_result"
    }
   ],
   "source": [
    "contrasenias.collect()"
   ]
  },
  {
   "cell_type": "code",
   "execution_count": 28,
   "id": "4d99591c-3d5e-423b-9c24-fd1832e79e24",
   "metadata": {},
   "outputs": [],
   "source": [
    "def clasificar(elemento):\n",
    "    n = len(elemento)\n",
    "    if n == 1:\n",
    "        return ('tiny', 1)\n",
    "    if n >= 2 and n <= 4:\n",
    "        return ('small', 1)\n",
    "    if n >= 5 and n <= 9:\n",
    "        return ('medium', 1)\n",
    "    return ('big', 1)"
   ]
  },
  {
   "cell_type": "code",
   "execution_count": 29,
   "id": "7857cf09-3e96-439c-8e4a-e6a6ad86b472",
   "metadata": {},
   "outputs": [],
   "source": [
    "def reducir(x, y):\n",
    "    return x + y"
   ]
  },
  {
   "cell_type": "code",
   "execution_count": 30,
   "id": "4311720f-1b67-4650-9801-6588ed01be0c",
   "metadata": {},
   "outputs": [
    {
     "data": {
      "text/plain": [
       "[('medium', 1),\n",
       " ('medium', 1),\n",
       " ('medium', 1),\n",
       " ('medium', 1),\n",
       " ('medium', 1),\n",
       " ('tiny', 1),\n",
       " ('medium', 1),\n",
       " ('medium', 1),\n",
       " ('medium', 1),\n",
       " ('medium', 1),\n",
       " ('medium', 1),\n",
       " ('big', 1),\n",
       " ('medium', 1),\n",
       " ('small', 1),\n",
       " ('tiny', 1),\n",
       " ('medium', 1),\n",
       " ('medium', 1),\n",
       " ('medium', 1),\n",
       " ('medium', 1),\n",
       " ('big', 1),\n",
       " ('medium', 1),\n",
       " ('medium', 1),\n",
       " ('medium', 1),\n",
       " ('medium', 1),\n",
       " ('big', 1),\n",
       " ('small', 1),\n",
       " ('medium', 1),\n",
       " ('medium', 1),\n",
       " ('medium', 1),\n",
       " ('tiny', 1),\n",
       " ('big', 1),\n",
       " ('medium', 1),\n",
       " ('big', 1),\n",
       " ('medium', 1),\n",
       " ('medium', 1),\n",
       " ('medium', 1),\n",
       " ('big', 1),\n",
       " ('medium', 1),\n",
       " ('medium', 1),\n",
       " ('medium', 1),\n",
       " ('medium', 1),\n",
       " ('medium', 1),\n",
       " ('medium', 1),\n",
       " ('medium', 1),\n",
       " ('medium', 1),\n",
       " ('medium', 1),\n",
       " ('small', 1),\n",
       " ('medium', 1),\n",
       " ('big', 1),\n",
       " ('medium', 1),\n",
       " ('medium', 1),\n",
       " ('small', 1),\n",
       " ('medium', 1),\n",
       " ('medium', 1),\n",
       " ('medium', 1),\n",
       " ('medium', 1),\n",
       " ('medium', 1),\n",
       " ('medium', 1),\n",
       " ('medium', 1),\n",
       " ('big', 1),\n",
       " ('medium', 1),\n",
       " ('medium', 1),\n",
       " ('medium', 1),\n",
       " ('small', 1),\n",
       " ('medium', 1),\n",
       " ('medium', 1),\n",
       " ('medium', 1),\n",
       " ('medium', 1),\n",
       " ('medium', 1),\n",
       " ('medium', 1),\n",
       " ('medium', 1),\n",
       " ('medium', 1),\n",
       " ('medium', 1),\n",
       " ('medium', 1),\n",
       " ('medium', 1),\n",
       " ('medium', 1),\n",
       " ('medium', 1),\n",
       " ('medium', 1),\n",
       " ('medium', 1),\n",
       " ('medium', 1),\n",
       " ('medium', 1),\n",
       " ('medium', 1),\n",
       " ('medium', 1),\n",
       " ('medium', 1),\n",
       " ('medium', 1),\n",
       " ('medium', 1),\n",
       " ('medium', 1),\n",
       " ('medium', 1),\n",
       " ('medium', 1),\n",
       " ('big', 1),\n",
       " ('medium', 1),\n",
       " ('medium', 1),\n",
       " ('medium', 1),\n",
       " ('medium', 1),\n",
       " ('medium', 1),\n",
       " ('medium', 1),\n",
       " ('big', 1),\n",
       " ('medium', 1),\n",
       " ('medium', 1),\n",
       " ('medium', 1),\n",
       " ('medium', 1),\n",
       " ('medium', 1),\n",
       " ('medium', 1),\n",
       " ('medium', 1)]"
      ]
     },
     "execution_count": 30,
     "metadata": {},
     "output_type": "execute_result"
    }
   ],
   "source": [
    "mapeado = contrasenias.map(clasificar)\n",
    "mapeado.collect()"
   ]
  },
  {
   "cell_type": "code",
   "execution_count": 31,
   "id": "62845a38-cf5e-4aff-a71e-75c064af13d3",
   "metadata": {},
   "outputs": [
    {
     "data": {
      "text/plain": [
       "[('tiny', 3), ('big', 10), ('small', 5), ('medium', 86)]"
      ]
     },
     "execution_count": 31,
     "metadata": {},
     "output_type": "execute_result"
    }
   ],
   "source": [
    "final = mapeado.reduceByKey(reducir)\n",
    "final.collect()"
   ]
  }
 ],
 "metadata": {
  "kernelspec": {
   "display_name": "Python [conda env:base] *",
   "language": "python",
   "name": "conda-base-py"
  },
  "language_info": {
   "codemirror_mode": {
    "name": "ipython",
    "version": 3
   },
   "file_extension": ".py",
   "mimetype": "text/x-python",
   "name": "python",
   "nbconvert_exporter": "python",
   "pygments_lexer": "ipython3",
   "version": "3.12.7"
  }
 },
 "nbformat": 4,
 "nbformat_minor": 5
}
