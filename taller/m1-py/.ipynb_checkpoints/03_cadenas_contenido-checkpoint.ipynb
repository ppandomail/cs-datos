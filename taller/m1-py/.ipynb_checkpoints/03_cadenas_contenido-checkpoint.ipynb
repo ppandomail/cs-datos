{
 "cells": [
  {
   "cell_type": "markdown",
   "id": "2b9b46a6-c0c1-42c3-b25a-e6960fcfc9f8",
   "metadata": {},
   "source": [
    "# Cadenas\n",
    "---"
   ]
  },
  {
   "cell_type": "markdown",
   "id": "ada4bdfa-a26f-4006-8e4f-00762884300b",
   "metadata": {},
   "source": [
    "## Indexación de cadenas\n",
    "---"
   ]
  },
  {
   "cell_type": "code",
   "execution_count": 22,
   "id": "6ef00a7d-52c6-4a6b-a730-24d41a05e09f",
   "metadata": {},
   "outputs": [],
   "source": [
    "b = 'Hola mundo'"
   ]
  },
  {
   "cell_type": "code",
   "execution_count": 23,
   "id": "8bcf6b65-32f3-4b0d-944a-a4f4cd55f495",
   "metadata": {},
   "outputs": [
    {
     "data": {
      "text/plain": [
       "'H'"
      ]
     },
     "execution_count": 23,
     "metadata": {},
     "output_type": "execute_result"
    }
   ],
   "source": [
    "b[0]"
   ]
  },
  {
   "cell_type": "code",
   "execution_count": 24,
   "id": "3427e059-e3bc-4616-92a7-1da87e85e810",
   "metadata": {},
   "outputs": [
    {
     "data": {
      "text/plain": [
       "'a'"
      ]
     },
     "execution_count": 24,
     "metadata": {},
     "output_type": "execute_result"
    }
   ],
   "source": [
    "b[3]"
   ]
  },
  {
   "cell_type": "code",
   "execution_count": 25,
   "id": "27ed7180-2b52-4a09-a3cd-3f06d2b7daed",
   "metadata": {},
   "outputs": [
    {
     "data": {
      "text/plain": [
       "'o'"
      ]
     },
     "execution_count": 25,
     "metadata": {},
     "output_type": "execute_result"
    }
   ],
   "source": [
    "b[-1] # fin de cadena"
   ]
  },
  {
   "cell_type": "code",
   "execution_count": 26,
   "id": "5abe80c5-88fc-454b-a4f3-8fff8983b71e",
   "metadata": {},
   "outputs": [
    {
     "data": {
      "text/plain": [
       "'la '"
      ]
     },
     "execution_count": 26,
     "metadata": {},
     "output_type": "execute_result"
    }
   ],
   "source": [
    "b[2:5]"
   ]
  },
  {
   "cell_type": "code",
   "execution_count": 27,
   "id": "7acb68cf-8577-474d-b1e4-8b67d1f65b32",
   "metadata": {},
   "outputs": [
    {
     "data": {
      "text/plain": [
       "'Hola '"
      ]
     },
     "execution_count": 27,
     "metadata": {},
     "output_type": "execute_result"
    }
   ],
   "source": [
    "b[:5]"
   ]
  },
  {
   "cell_type": "code",
   "execution_count": 28,
   "id": "a520c5c4-3184-458e-84b9-096d98f29ef4",
   "metadata": {},
   "outputs": [
    {
     "data": {
      "text/plain": [
       "'la mundo'"
      ]
     },
     "execution_count": 28,
     "metadata": {},
     "output_type": "execute_result"
    }
   ],
   "source": [
    "b[2:]"
   ]
  },
  {
   "cell_type": "markdown",
   "id": "3d109aee-cc37-4536-97c1-47c19e2ed043",
   "metadata": {},
   "source": [
    "## Operaciones con cadenas\n",
    "---"
   ]
  },
  {
   "cell_type": "code",
   "execution_count": 29,
   "id": "ba798d35-952e-473d-9d43-65c2e7735415",
   "metadata": {},
   "outputs": [
    {
     "data": {
      "text/plain": [
       "'Hola mundo'"
      ]
     },
     "execution_count": 29,
     "metadata": {},
     "output_type": "execute_result"
    }
   ],
   "source": [
    "# concatenación (+)\n",
    "'Hola' + ' ' + 'mundo'"
   ]
  },
  {
   "cell_type": "code",
   "execution_count": 30,
   "id": "8a4c1043-a204-42be-b267-ef7aa15343e2",
   "metadata": {},
   "outputs": [
    {
     "data": {
      "text/plain": [
       "10"
      ]
     },
     "execution_count": 30,
     "metadata": {},
     "output_type": "execute_result"
    }
   ],
   "source": [
    "# longitud\n",
    "len(b)"
   ]
  },
  {
   "cell_type": "code",
   "execution_count": 31,
   "id": "3ac87f0d-b2fb-4c12-87b6-39d9c3186540",
   "metadata": {},
   "outputs": [
    {
     "data": {
      "text/plain": [
       "True"
      ]
     },
     "execution_count": 31,
     "metadata": {},
     "output_type": "execute_result"
    }
   ],
   "source": [
    "# test de pertenencia (in, not in)\n",
    "'mun' in b"
   ]
  },
  {
   "cell_type": "code",
   "execution_count": 32,
   "id": "6d8d26b0-5833-4dba-9d92-72d619ee3b24",
   "metadata": {},
   "outputs": [
    {
     "data": {
      "text/plain": [
       "'HolaHolaHola'"
      ]
     },
     "execution_count": 32,
     "metadata": {},
     "output_type": "execute_result"
    }
   ],
   "source": [
    "# replicación\n",
    "'Hola' * 3"
   ]
  },
  {
   "cell_type": "markdown",
   "id": "ca3aae1d-a54a-4f02-a140-5d118eaa1903",
   "metadata": {},
   "source": [
    "## Métodos con cadenas\n",
    "---\n",
    "\n",
    "* Los strings son inmutables o de sólo lectura\n",
    "* Una vez creados, su valor no puede ser cambiado"
   ]
  },
  {
   "cell_type": "code",
   "execution_count": 33,
   "id": "3a97b79f-6376-45d1-87d6-156ab3a21ed4",
   "metadata": {},
   "outputs": [
    {
     "data": {
      "text/plain": [
       "'Hola'"
      ]
     },
     "execution_count": 33,
     "metadata": {},
     "output_type": "execute_result"
    }
   ],
   "source": [
    "# elimina espacios en blanco al inicio o al final\n",
    "' Hola   '.strip()"
   ]
  },
  {
   "cell_type": "code",
   "execution_count": 34,
   "id": "5b8566f6-c1c2-4731-abe1-f358e9d7400c",
   "metadata": {},
   "outputs": [
    {
     "data": {
      "text/plain": [
       "'HOLA MUNDO'"
      ]
     },
     "execution_count": 34,
     "metadata": {},
     "output_type": "execute_result"
    }
   ],
   "source": [
    "b.upper()"
   ]
  },
  {
   "cell_type": "code",
   "execution_count": 35,
   "id": "304010d1-0df1-4cb2-b68a-ea3080d2b77f",
   "metadata": {},
   "outputs": [
    {
     "data": {
      "text/plain": [
       "'hola mundo'"
      ]
     },
     "execution_count": 35,
     "metadata": {},
     "output_type": "execute_result"
    }
   ],
   "source": [
    "b.lower()"
   ]
  },
  {
   "cell_type": "code",
   "execution_count": 36,
   "id": "fedb3728-f476-4b0f-bcd3-34b028661ffe",
   "metadata": {},
   "outputs": [
    {
     "data": {
      "text/plain": [
       "'Hola mundo'"
      ]
     },
     "execution_count": 36,
     "metadata": {},
     "output_type": "execute_result"
    }
   ],
   "source": [
    "b.capitalize()"
   ]
  },
  {
   "cell_type": "code",
   "execution_count": 37,
   "id": "e857c07b-e3e7-4232-b4d6-8101c46dc4d6",
   "metadata": {},
   "outputs": [
    {
     "data": {
      "text/plain": [
       "'Hola Mundo'"
      ]
     },
     "execution_count": 37,
     "metadata": {},
     "output_type": "execute_result"
    }
   ],
   "source": [
    "b.title()"
   ]
  },
  {
   "cell_type": "code",
   "execution_count": 38,
   "id": "013c98df-138a-46e5-8602-85fc40391eee",
   "metadata": {},
   "outputs": [
    {
     "data": {
      "text/plain": [
       "'Hxla mundx'"
      ]
     },
     "execution_count": 38,
     "metadata": {},
     "output_type": "execute_result"
    }
   ],
   "source": [
    "b.replace('o', 'x')"
   ]
  },
  {
   "cell_type": "code",
   "execution_count": 39,
   "id": "8dcc5fe6-a054-4b32-9741-f4fbb1e13f3e",
   "metadata": {},
   "outputs": [
    {
     "data": {
      "text/plain": [
       "['Hol', ' mundo']"
      ]
     },
     "execution_count": 39,
     "metadata": {},
     "output_type": "execute_result"
    }
   ],
   "source": [
    "b.split('a')"
   ]
  },
  {
   "cell_type": "markdown",
   "id": "8e16cfa1-78af-404e-9cfc-dd0e08784b45",
   "metadata": {},
   "source": [
    "## f-strings\n",
    "---\n",
    "\n",
    "* Son cadenas en las que ciertas expresiones son reemplazadas (ej usando variables) o formateadas"
   ]
  },
  {
   "cell_type": "code",
   "execution_count": 41,
   "id": "ea97ff63-49d4-4648-ae11-4d6ee4bb9d93",
   "metadata": {},
   "outputs": [
    {
     "data": {
      "text/plain": [
       "'Estoy aprendiendo Python en la UNO.'"
      ]
     },
     "execution_count": 41,
     "metadata": {},
     "output_type": "execute_result"
    }
   ],
   "source": [
    "lenguaje = \"Python\"\n",
    "universidad = \"UNO\"\n",
    "f'Estoy aprendiendo {lenguaje} en la {universidad}.'"
   ]
  },
  {
   "cell_type": "markdown",
   "id": "bdf3f681-31cb-4fc5-bdcf-c7b2547ce9b5",
   "metadata": {},
   "source": [
    "## Otros métodos\n",
    "---\n",
    "\n",
    "s = \"String\"\n",
    "\n",
    "|                        |                                                    |\n",
    "| --                     | --                                                 |\n",
    "| s.endswith(sufijo)     | Verifica si termina con el sufijo                  |\n",
    "| s.find(t)              | Primera aparición de t en s (o -1 si no está)      |\n",
    "| s.index(t)             | Primera aparición de t en s (error si no está)     |\n",
    "| s.isalpha()            | Verifica si los caracteres son alfabéticos         |\n",
    "| s.isdigit()            | Verifica si los caracteres son numéricos           |\n",
    "| s.islower()            | Verifica si los caracteres son minúsculas          |\n",
    "| s.isupper()            | Verifica si los caracteres son mayúsculas          |\n",
    "| s.join(slist)          | Une una lista de cadenas usando s como delimitador |\n",
    "| s.lower()              | Convertir a minúsculas                             |\n",
    "| s.replace(viejo,nuevo) | Reemplaza texto                                    |\n",
    "| s.split([delim])       | Parte la cadena en subcadenas (devuelve una lista) |\n",
    "| s.startswith(prefijo)  | Verifica si comienza con un prefijo                |\n",
    "| s.strip()              | Elimina espacios en blanco al inicio o al final    |\n",
    "| s.upper()              | Convierte a mayúsculas                             |\n",
    "\n"
   ]
  },
  {
   "cell_type": "markdown",
   "id": "94cc64ec-c556-4e0f-afdb-0a80c2e9eed9",
   "metadata": {},
   "source": [
    "## Códigos de escape\n",
    "---\n",
    "\n",
    "* Son expresiones que comienzan con una barra invertida\n",
    "* Representan caracteres que no pueden ser fácilmente tipeados directamente con el teclado\n",
    "\n",
    "| Code | Representación          |\n",
    "| --   | --                      |\n",
    "| '\\n' | avanzar una línea       |\n",
    "| '\\r' | retorno de carro        |\n",
    "| '\\t' | tabulador               |\n",
    "| '\\'' | comilla literal         |\n",
    "| '\\\"' | comilla doble literal   |\n",
    "| '\\\\' | barra invertida literal |"
   ]
  }
 ],
 "metadata": {
  "kernelspec": {
   "display_name": "Python [conda env:base] *",
   "language": "python",
   "name": "conda-base-py"
  },
  "language_info": {
   "codemirror_mode": {
    "name": "ipython",
    "version": 3
   },
   "file_extension": ".py",
   "mimetype": "text/x-python",
   "name": "python",
   "nbconvert_exporter": "python",
   "pygments_lexer": "ipython3",
   "version": "3.12.7"
  }
 },
 "nbformat": 4,
 "nbformat_minor": 5
}
