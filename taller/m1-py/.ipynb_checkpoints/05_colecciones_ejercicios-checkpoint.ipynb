{
 "cells": [
  {
   "cell_type": "markdown",
   "id": "d7a1fe98-2e3b-4ae0-a503-0460c2f1f7c4",
   "metadata": {},
   "source": [
    "# Colecciones - Ejercicios\n",
    "---"
   ]
  },
  {
   "cell_type": "markdown",
   "id": "38575ae6-48e8-4305-bbf1-03d4a80b09b3",
   "metadata": {},
   "source": [
    "Escribir un programa que almacene las asignaturas de un curso (por ejemplo Matemática, Física, Química, Historia y Lengua) en una lista y la muestre por pantalla"
   ]
  },
  {
   "cell_type": "code",
   "execution_count": 2,
   "id": "e335291d-868e-46b4-9e93-d5dce37c2774",
   "metadata": {},
   "outputs": [
    {
     "name": "stdout",
     "output_type": "stream",
     "text": [
      "['Matemática', 'Física', 'Química', 'Historia', 'Lengua']\n"
     ]
    }
   ],
   "source": [
    "lista = ['Matemática', 'Física', 'Química', 'Historia', 'Lengua']\n",
    "print(lista)"
   ]
  },
  {
   "cell_type": "markdown",
   "id": "4c2f02b7-df7b-420e-9dd5-d2562cfc5ee9",
   "metadata": {},
   "source": [
    "Escribir un programa que almacene las asignaturas de un curso (por ejemplo Matemáticas, Física, Química, Historia y Lengua) en una lista, pregunte al usuario la nota que ha sacado en cada asignatura, y después las muestre por pantalla con el mensaje En \\<asignatura> has sacado \\<nota> donde \\<asignatura> es cada una de las asignaturas de la lista y \\<nota> cada una de las correspondientes notas introducidas por el usuario"
   ]
  },
  {
   "cell_type": "code",
   "execution_count": 3,
   "id": "409889ea-2549-427d-bae5-79443b75ca5e",
   "metadata": {},
   "outputs": [
    {
     "name": "stdin",
     "output_type": "stream",
     "text": [
      "Nota para Matemática :  5\n",
      "Nota para Física :  6\n",
      "Nota para Química :  7\n",
      "Nota para Historia :  8\n",
      "Nota para Lengua :  9\n"
     ]
    },
    {
     "name": "stdout",
     "output_type": "stream",
     "text": [
      "En Matemática has sacado 5\n",
      "En Física has sacado 6\n",
      "En Química has sacado 7\n",
      "En Historia has sacado 8\n",
      "En Lengua has sacado 9\n"
     ]
    }
   ],
   "source": [
    "materias = ['Matemática', 'Física', 'Química', 'Historia', 'Lengua']\n",
    "notas = []\n",
    "\n",
    "for i in range(0, len(materias)):\n",
    "    notas.append(int(input(f'Nota para {materias[i]} : ')))\n",
    "\n",
    "for i in range(0, len(materias)):\n",
    "    print(f'En {materias[i]} has sacado {notas[i]}')"
   ]
  },
  {
   "cell_type": "markdown",
   "id": "4d0de34a-0d11-40db-867d-c9866bfc2d8f",
   "metadata": {},
   "source": [
    "Escribir un programa que pregunte al usuario los números ganadores de la lotería y los almacene en una lista y los muestre por pantalla ordenados de menor a mayor"
   ]
  },
  {
   "cell_type": "code",
   "execution_count": 4,
   "id": "51a47c97-7a99-4bbd-806d-26849671b1bc",
   "metadata": {},
   "outputs": [
    {
     "name": "stdin",
     "output_type": "stream",
     "text": [
      "Número ganador de la lotería:  17\n",
      "Número ganador de la lotería:  5\n",
      "Número ganador de la lotería:  9\n",
      "Número ganador de la lotería:  25\n",
      "Número ganador de la lotería:  17\n",
      "Número ganador de la lotería:  -1\n"
     ]
    },
    {
     "name": "stdout",
     "output_type": "stream",
     "text": [
      "[5, 9, 17, 17, 25]\n"
     ]
    }
   ],
   "source": [
    "numero = int(input('Número ganador de la lotería: '))\n",
    "numeros = []\n",
    "while numero != -1:\n",
    "    numeros.append(numero)\n",
    "    numero = int(input('Número ganador de la lotería: '))\n",
    "numeros.sort()\n",
    "print(numeros)"
   ]
  },
  {
   "cell_type": "markdown",
   "id": "6026abcf-aa31-4fcd-a2f8-65c3728f5b3d",
   "metadata": {},
   "source": [
    "Escribir un programa que almacene en una lista los números del 1 al 10 y los muestre por pantalla en orden inverso separados por comas"
   ]
  },
  {
   "cell_type": "code",
   "execution_count": 5,
   "id": "accd7fc0-6697-4bc4-b53b-938d187f98c0",
   "metadata": {},
   "outputs": [
    {
     "name": "stdout",
     "output_type": "stream",
     "text": [
      "[10, 9, 8, 7, 6, 5, 4, 3, 2, 1]\n"
     ]
    }
   ],
   "source": [
    "lista = [1, 2, 3, 4, 5, 6, 7, 8, 9, 10]\n",
    "lista.reverse()\n",
    "print(lista)"
   ]
  },
  {
   "cell_type": "markdown",
   "id": "1e7e253d-829b-41a8-9fcc-659df152d16a",
   "metadata": {},
   "source": [
    "Escribir un programa que almacene las asignaturas de un curso (por ejemplo, Matemáticas, Física, Química, Historia y Lengua) en una lista, pregunte al usuario la nota que ha sacado en cada asignatura y elimine de la lista las asignaturas aprobadas. Al final el programa debe mostrar por pantalla las asignaturas que el usuario tiene que repetir"
   ]
  },
  {
   "cell_type": "code",
   "execution_count": 6,
   "id": "3da1d066-2003-4324-8d36-a9ae078f1023",
   "metadata": {},
   "outputs": [
    {
     "name": "stdin",
     "output_type": "stream",
     "text": [
      "Nota para Matemática :  2\n",
      "Nota para Física :  2\n",
      "Nota para Química :  4\n",
      "Nota para Historia :  8\n",
      "Nota para Lengua :  7\n"
     ]
    },
    {
     "name": "stdout",
     "output_type": "stream",
     "text": [
      "['Matemática', 'Física']\n"
     ]
    }
   ],
   "source": [
    "materias = ['Matemática', 'Física', 'Química', 'Historia', 'Lengua']\n",
    "notas = []\n",
    "materias2 = []\n",
    "\n",
    "for i in range(0, len(materias)):\n",
    "    notas.append(int(input(f'Nota para {materias[i]} : ')))\n",
    "    materias2.append(materias[i])\n",
    "\n",
    "\n",
    "for i in range(0, len(notas)):\n",
    "    if notas[i] >= 4:\n",
    "        materias.remove(materias2[i])\n",
    "\n",
    "print(materias)"
   ]
  },
  {
   "cell_type": "markdown",
   "id": "7af5d1e8-926a-4c00-b4d2-5ca4240e1b9f",
   "metadata": {},
   "source": [
    "Escribir un programa que pida al usuario una palabra y muestre por pantalla si es un palíndromo"
   ]
  },
  {
   "cell_type": "code",
   "execution_count": 7,
   "id": "dc7cc029-1464-41f5-b1f3-fc6971b6311a",
   "metadata": {},
   "outputs": [
    {
     "name": "stdin",
     "output_type": "stream",
     "text": [
      "Palabras:  neuquen\n"
     ]
    },
    {
     "name": "stdout",
     "output_type": "stream",
     "text": [
      "Palíndromo\n"
     ]
    }
   ],
   "source": [
    "palabra = input('Palabras: ')\n",
    "lista1 = []\n",
    "lista2 = []\n",
    "for i in range(0, len(palabra)):\n",
    "    lista1.append(palabra[i])\n",
    "    lista2.append(palabra[i])\n",
    "lista2.reverse()\n",
    "print('Palíndromo' if lista1.__eq__(lista2) else 'NO Palíndromo')"
   ]
  },
  {
   "cell_type": "markdown",
   "id": "74e901b6-d945-4393-abfc-fb0dcb95b75a",
   "metadata": {},
   "source": [
    "Escribir un programa que pida al usuario una palabra y muestre por pantalla el número de veces que contiene cada vocal"
   ]
  },
  {
   "cell_type": "code",
   "execution_count": 8,
   "id": "48edc003-b9ae-44fc-ae90-704da803ebda",
   "metadata": {},
   "outputs": [
    {
     "name": "stdin",
     "output_type": "stream",
     "text": [
      "Palabra:  portugues\n"
     ]
    },
    {
     "name": "stdout",
     "output_type": "stream",
     "text": [
      "Cant. de a = 0\n",
      "Cant. de e = 1\n",
      "Cant. de i = 0\n",
      "Cant. de o = 1\n",
      "Cant. de u = 2\n"
     ]
    }
   ],
   "source": [
    "palabra = input('Palabra: ')\n",
    "cant_a, cant_e, cant_i, cant_o, cant_u = 0, 0, 0, 0, 0\n",
    "for i in range(0, len(palabra)):\n",
    "    if palabra[i] == 'a':\n",
    "        cant_a += 1\n",
    "    elif palabra[i] == 'e':\n",
    "        cant_e += 1\n",
    "    elif palabra[i] == 'i':\n",
    "        cant_i += 1\n",
    "    elif palabra[i] == 'o':\n",
    "        cant_o += 1\n",
    "    elif palabra[i] == 'u':\n",
    "        cant_u += 1\n",
    "print(f'Cant. de a = {cant_a}')\n",
    "print(f'Cant. de e = {cant_e}')\n",
    "print(f'Cant. de i = {cant_i}')\n",
    "print(f'Cant. de o = {cant_o}')\n",
    "print(f'Cant. de u = {cant_u}')"
   ]
  },
  {
   "cell_type": "markdown",
   "id": "68e8607b-9763-4307-9ac9-d5187de48039",
   "metadata": {},
   "source": [
    "Escribir un programa que almacene en una lista los siguientes precios, 50, 75, 46, 22, 80, 65, 8, y muestre por pantalla el menor y el mayor de los precios"
   ]
  },
  {
   "cell_type": "code",
   "execution_count": 9,
   "id": "466d6ef1-84ef-41aa-a847-07e6eeb9ee1f",
   "metadata": {},
   "outputs": [
    {
     "name": "stdout",
     "output_type": "stream",
     "text": [
      "8 80\n"
     ]
    }
   ],
   "source": [
    "precios = [50, 75, 46, 22, 80, 65, 8]\n",
    "print(min(precios), max(precios))"
   ]
  },
  {
   "cell_type": "markdown",
   "id": "8222d4d7-0c7d-4c06-9054-1862eca1ff31",
   "metadata": {},
   "source": [
    "Escribir un programa que pregunte por una muestra de números, separados por comas, los guarde en una lista y muestre por pantalla su media y desviación típica"
   ]
  },
  {
   "cell_type": "code",
   "execution_count": 10,
   "id": "92a4c238-1828-41ee-81e5-f15aed56d7be",
   "metadata": {},
   "outputs": [
    {
     "name": "stdin",
     "output_type": "stream",
     "text": [
      "Número:  2\n",
      "Número:  4\n",
      "Número:  3\n",
      "Número:  6\n",
      "Número:  5\n",
      "Número:  -1\n"
     ]
    },
    {
     "name": "stdout",
     "output_type": "stream",
     "text": [
      "Media: 4.0\n",
      "Desviación típica: 2.5\n"
     ]
    }
   ],
   "source": [
    "lista = []\n",
    "numero = int(input('Número: '))\n",
    "acum, cont, cuadrados = 0, 0, 0\n",
    "while numero != -1:\n",
    "    lista.append(numero)\n",
    "    acum += numero\n",
    "    cont += 1\n",
    "    cuadrados += pow(numero, 2)\n",
    "    numero = int(input('Número: '))\n",
    "print(f'Media: {acum/cont}')\n",
    "print(f'Desviación típica: {(cuadrados - pow(acum, 2)/cont)/(cont-1)}')"
   ]
  },
  {
   "cell_type": "markdown",
   "id": "a334c508-2abf-47d8-bd59-962ee7d2eba6",
   "metadata": {},
   "source": [
    "Escribir un programa que guarde en una variable el diccionario {'Euro':'€', 'Dollar':'$','Yen':'¥'}, pregunte al usuario por una divisa y muestre su símbolo o un mensaje de aviso si la divisa no está en el diccionario"
   ]
  },
  {
   "cell_type": "code",
   "execution_count": 3,
   "id": "e09e329e-c25d-4255-922b-689a4860b874",
   "metadata": {},
   "outputs": [
    {
     "name": "stdin",
     "output_type": "stream",
     "text": [
      "Divisa:  Dollar\n"
     ]
    },
    {
     "name": "stdout",
     "output_type": "stream",
     "text": [
      "$\n"
     ]
    }
   ],
   "source": [
    "divisas = {'Euro':'€', 'Dollar':'$', 'Yen':'¥'}\n",
    "divisa = input('Divisa: ')\n",
    "simbolo = divisas.get(divisa) \n",
    "print('Divisa no esta en el diccionario' if simbolo is None else simbolo)"
   ]
  },
  {
   "cell_type": "markdown",
   "id": "4e311086-7f14-495c-a576-736f45b842ab",
   "metadata": {},
   "source": [
    "Escribir un programa que pregunte al usuario su nombre, edad, dirección y teléfono y lo guarde en un diccionario. Después debe mostrar por pantalla el mensaje \\<nombre> tiene \\<edad> años, vive en \\<dirección> y su número de teléfono es \\<teléfono>"
   ]
  },
  {
   "cell_type": "code",
   "execution_count": 4,
   "id": "9cd5152f-f0cb-4d1a-b921-b30b33a4fb19",
   "metadata": {},
   "outputs": [
    {
     "name": "stdin",
     "output_type": "stream",
     "text": [
      "Nombre:  Pablo\n",
      "Edad:  35\n",
      "Dirección:  Capilla del Señor\n",
      "Teléfono:  11111\n"
     ]
    },
    {
     "name": "stdout",
     "output_type": "stream",
     "text": [
      "Pablo tiene 35 años, vive en Capilla del Señor y su número de teléfono es 11111\n"
     ]
    }
   ],
   "source": [
    "nombre = input('Nombre: ')\n",
    "edad = int(input('Edad: '))\n",
    "direccion = input('Dirección: ')\n",
    "telefono = input('Teléfono: ')\n",
    "\n",
    "diccionario = {}\n",
    "diccionario['nombre'] = nombre\n",
    "diccionario['edad'] = edad\n",
    "diccionario['direccion'] = direccion\n",
    "diccionario['telefono'] = telefono\n",
    "\n",
    "print(f'{diccionario['nombre']} tiene {diccionario['edad']} años, vive en {diccionario['direccion']} y su número de teléfono es {diccionario['telefono']}')"
   ]
  },
  {
   "cell_type": "markdown",
   "id": "59137fb8-64ce-411a-9e60-bbdffcc232c3",
   "metadata": {},
   "source": [
    "Escribir un programa que guarde en un diccionario los precios de las frutas de la tabla, pregunte al usuario por una fruta, un número de kilos y muestre por pantalla el precio de ese número de kilos de fruta. Si la fruta no está en el diccionario debe mostrar un mensaje informando de ello\n",
    "\n",
    "| Fruta   | Precio |\n",
    "| --      | --     |\n",
    "| Plátano | 1.35   |\n",
    "| Manzana | 0.80   |\n",
    "| Pera    | 0.85   |\n",
    "| Naranja | 0.70   |"
   ]
  },
  {
   "cell_type": "code",
   "execution_count": 5,
   "id": "014ce706-98c9-4bd8-a027-9e7291819793",
   "metadata": {},
   "outputs": [
    {
     "name": "stdin",
     "output_type": "stream",
     "text": [
      "Fruta:  Pera\n",
      "Kilos:  2\n"
     ]
    },
    {
     "name": "stdout",
     "output_type": "stream",
     "text": [
      "1.7\n"
     ]
    }
   ],
   "source": [
    "frutas = {'Platano': 1.35, 'Manzana': 0.80, 'Pera': 0.85, 'Naranja': 0.70}\n",
    "fruta = input('Fruta: ')\n",
    "kilos = int(input('Kilos: '))\n",
    "print('No existe fruta' if fruta not in frutas else f'{frutas.get(fruta) * kilos}')"
   ]
  },
  {
   "cell_type": "markdown",
   "id": "d95a5ea6-284f-4556-af8a-f2c0ee81a1dc",
   "metadata": {},
   "source": [
    "Escribir un programa que pregunte una fecha en formato dd/mm/aaaa y muestre por pantalla la misma fecha en formato dd de \\<mes> de aaaa donde \\<mes> es el nombre del mes"
   ]
  },
  {
   "cell_type": "code",
   "execution_count": 6,
   "id": "ebae06b5-d14d-4e5a-ad83-2a874f293546",
   "metadata": {},
   "outputs": [
    {
     "name": "stdin",
     "output_type": "stream",
     "text": [
      "Fecha (dd/mm/aaaa):  09/11/1975\n"
     ]
    },
    {
     "name": "stdout",
     "output_type": "stream",
     "text": [
      "09 de Noviembre de 1975\n"
     ]
    }
   ],
   "source": [
    "meses = {'01': 'Enero', '02': 'Febrero', '03': 'Marzo', '04': 'Abril', '05': 'Mayo', '06': 'Junio', \n",
    "         '07': 'Julio', '08': 'Agosto', '09': 'Setiembre', '10': 'Octubre', '11': 'Noviembre', '12': 'Diciembre'}\n",
    "dia, mes, anio = input('Fecha (dd/mm/aaaa): ').split('/')\n",
    "print(f'{dia} de {meses.get(mes)} de {anio}')"
   ]
  },
  {
   "cell_type": "markdown",
   "id": "5bff8ff2-a7d1-4d38-829b-2a17b468ce51",
   "metadata": {},
   "source": [
    "Escribir un programa que almacene el diccionario con los créditos de las asignaturas de un curso {'Matemáticas': 6, 'Física': 4, 'Química': 5} y después muestre por pantalla los créditos de cada asignatura en el formato \\<asignatura> tiene <créditos> créditos, donde \\<asignatura> es cada una de las asignaturas del curso, y <créditos> son sus créditos. Al final debe mostrar también el número total de créditos del curso"
   ]
  },
  {
   "cell_type": "code",
   "execution_count": 7,
   "id": "61061621-d08d-474e-a4af-3c1ac76d9b48",
   "metadata": {},
   "outputs": [
    {
     "name": "stdout",
     "output_type": "stream",
     "text": [
      "Matemáticas tiene 6 créditos\n",
      "Física tiene 4 créditos\n",
      "Química tiene 5 créditos\n",
      "Total de créditos del curso: 15\n"
     ]
    }
   ],
   "source": [
    "creditos = {'Matemáticas': 6, 'Física': 4, 'Química': 5}\n",
    "total_creditos = 0\n",
    "for asignatura, credito in creditos.items():\n",
    "    print(f'{asignatura} tiene {credito} créditos')\n",
    "    total_creditos += credito\n",
    "print(f'Total de créditos del curso: {total_creditos}')"
   ]
  },
  {
   "cell_type": "markdown",
   "id": "a03fa7d7-2a61-47ab-a2b6-07e8e1901594",
   "metadata": {},
   "source": [
    "Escribir un programa que cree un diccionario vacío y lo vaya llenado con información sobre una persona (por ejemplo, nombre, edad, sexo, teléfono, correo electrónico, etc.) que se le pida al usuario. Cada vez que se añada un nuevo dato debe imprimirse el contenido del diccionario"
   ]
  },
  {
   "cell_type": "code",
   "execution_count": 8,
   "id": "9f3c5c9c-58fa-403f-b95d-a0d5458d1272",
   "metadata": {},
   "outputs": [
    {
     "name": "stdin",
     "output_type": "stream",
     "text": [
      "Nombre:  Pablo\n"
     ]
    },
    {
     "name": "stdout",
     "output_type": "stream",
     "text": [
      "{'nombre': 'Pablo'}\n"
     ]
    },
    {
     "name": "stdin",
     "output_type": "stream",
     "text": [
      "Edad:  35\n"
     ]
    },
    {
     "name": "stdout",
     "output_type": "stream",
     "text": [
      "{'nombre': 'Pablo', 'edad': 35}\n"
     ]
    },
    {
     "name": "stdin",
     "output_type": "stream",
     "text": [
      "Sexo:  Masculino\n"
     ]
    },
    {
     "name": "stdout",
     "output_type": "stream",
     "text": [
      "{'nombre': 'Pablo', 'edad': 35, 'sexo': 'Masculino'}\n"
     ]
    }
   ],
   "source": [
    "personas = {}\n",
    "personas['nombre'] = input('Nombre: ')\n",
    "print(personas)\n",
    "personas['edad'] = int(input('Edad: '))\n",
    "print(personas)\n",
    "personas['sexo'] = input('Sexo: ')\n",
    "print(personas)"
   ]
  },
  {
   "cell_type": "markdown",
   "id": "d0d15e81-fcb2-4c8a-abbd-18b03baea7d6",
   "metadata": {},
   "source": [
    "Escribir un programa que cree un diccionario simulando un carrito de compras. El programa debe preguntar el artículo y su precio y añadir el par al diccionario, hasta que el usuario decida terminar. Después se debe mostrar por pantalla la lista de la compra y el costo total, con el siguiente formato\n",
    "\n",
    "* Lista de la compra\n",
    "  * Artículo 1 Precio\n",
    "  * Artículo 2 Precio\n",
    "  * Artículo 3 Precio\n",
    "  * ...        ...\n",
    "  * Total Coste"
   ]
  },
  {
   "cell_type": "code",
   "execution_count": 9,
   "id": "95c3d1cb-0cf7-48ca-b8be-a21d8a68eefc",
   "metadata": {},
   "outputs": [
    {
     "name": "stdin",
     "output_type": "stream",
     "text": [
      "Artículo:  mate\n",
      "Precio $:  10000\n",
      "Continua (S/N):  S\n",
      "Artículo:  termo\n",
      "Precio $:  100000\n",
      "Continua (S/N):  N\n"
     ]
    },
    {
     "name": "stdout",
     "output_type": "stream",
     "text": [
      "Lista de la compra\n",
      "mate 10000.0\n",
      "termo 100000.0\n",
      "Total 110000.0\n"
     ]
    }
   ],
   "source": [
    "carrito = {}\n",
    "art = input('Artículo: ')\n",
    "carrito[art] = float(input('Precio $: '))\n",
    "opc = input('Continua (S/N): ')\n",
    "while opc == 'S':\n",
    "    art = input('Artículo: ')\n",
    "    carrito[art] = float(input('Precio $: '))\n",
    "    opc = input('Continua (S/N): ')\n",
    "print('Lista de la compra')\n",
    "total = 0\n",
    "for art, precio in carrito.items():\n",
    "    print(f'{art} {precio}')\n",
    "    total += precio\n",
    "print(f'Total {total}')"
   ]
  },
  {
   "cell_type": "markdown",
   "id": "49875513-d2d6-47f8-9ab8-597d0c9497b5",
   "metadata": {},
   "source": [
    "Escribir un programa que cree un diccionario de traducción español-inglés. El usuario introducirá las palabras en español e inglés separadas por dos puntos, y cada par \\<palabra>:<traducción> separados por comas. El programa debe crear un diccionario con las palabras y sus traducciones. Después pedirá una frase en español y utilizará el diccionario para traducirla palabra a palabra. Si una palabra no está en el diccionario debe dejarla sin traducir"
   ]
  },
  {
   "cell_type": "code",
   "execution_count": 11,
   "id": "eeb97e80-f4fb-4f04-bac9-6319cd318faa",
   "metadata": {},
   "outputs": [
    {
     "name": "stdin",
     "output_type": "stream",
     "text": [
      "Palabras (español:ingles,...):  casa:house,La:The,linda:pretty,es:is\n",
      "Frase:  La casa es linda\n"
     ]
    },
    {
     "name": "stdout",
     "output_type": "stream",
     "text": [
      "The house is pretty \n"
     ]
    }
   ],
   "source": [
    "diccionario = {}\n",
    "palabras_usuario = input('Palabras (español:ingles,...): ')\n",
    "palabras = palabras_usuario.split(',')\n",
    "for i in range(0, len(palabras)):\n",
    "    traduccion = palabras[i].split(':')\n",
    "    diccionario[traduccion[0]] = traduccion[1]\n",
    "frase = input('Frase: ')\n",
    "frase_parse = frase.split()\n",
    "frase_traducida = ''\n",
    "for i in range(0, len(frase_parse)):\n",
    "    if frase_parse[i] not in diccionario:\n",
    "        frase_traducida += f'{frase_parse[i]} '\n",
    "    else:\n",
    "        frase_traducida += f'{diccionario.get(frase_parse[i])} '\n",
    "print(frase_traducida)"
   ]
  },
  {
   "cell_type": "markdown",
   "id": "2d959c93-ba2b-4a4f-b092-c4cb028e930a",
   "metadata": {},
   "source": [
    "Escribir un programa que permita gestionar la base de datos de clientes de una empresa. Los clientes se guardarán en un diccionario en el que la clave de cada cliente será su DNI, y el valor será otro diccionario con los datos del cliente (nombre, dirección, teléfono, correo electrónico, preferente), donde preferente tendrá el valor True si se trata de un cliente preferente. El programa debe preguntar al usuario por una opción del siguiente menú: (1) Añadir cliente, (2) Eliminar cliente, (3) Mostrar cliente, (4) Listar todos los clientes, (5) Listar clientes preferentes, (6) Terminar. En función de la opción elegida el programa tendrá que hacer lo siguiente:\n",
    "\n",
    "1. Preguntar los datos del cliente, crear un diccionario con los datos y añadirlo a la base de datos.\n",
    "2. Preguntar por el DNI del cliente y eliminar sus datos de la base de datos.\n",
    "3. Preguntar por el DNI del cliente y mostrar sus datos.\n",
    "4. Mostrar lista de todos los clientes de la base datos con su DNI y nombre.\n",
    "5. Mostrar la lista de clientes preferentes de la base de datos con su DNI y nombre.\n",
    "6. Terminar el programa"
   ]
  },
  {
   "cell_type": "code",
   "execution_count": 14,
   "id": "1338eeb9-265a-4573-a49e-615ce7ca1c0d",
   "metadata": {},
   "outputs": [
    {
     "name": "stdout",
     "output_type": "stream",
     "text": [
      "\n",
      "--------MENU---------\n",
      "1. Agregar cliente\n",
      "2. Eliminar cliente\n",
      "3. Consultar cliente\n",
      "4. Listado clientes\n",
      "5. Clientes preferentes\n",
      "6. Salir\n",
      "\n"
     ]
    },
    {
     "name": "stdin",
     "output_type": "stream",
     "text": [
      "?-  4\n"
     ]
    },
    {
     "name": "stdout",
     "output_type": "stream",
     "text": [
      "123, Pablo, abc, 123, , True\n",
      "456, Ana, abc, 123, , False\n",
      "789, Maria, abc, 123, , True\n"
     ]
    },
    {
     "name": "stdin",
     "output_type": "stream",
     "text": [
      " \n"
     ]
    },
    {
     "name": "stdout",
     "output_type": "stream",
     "text": [
      "\n",
      "--------MENU---------\n",
      "1. Agregar cliente\n",
      "2. Eliminar cliente\n",
      "3. Consultar cliente\n",
      "4. Listado clientes\n",
      "5. Clientes preferentes\n",
      "6. Salir\n",
      "\n"
     ]
    },
    {
     "name": "stdin",
     "output_type": "stream",
     "text": [
      "?-  6\n"
     ]
    }
   ],
   "source": [
    "clientes = {'123': {'nom': 'Pablo', 'dir': 'abc', 'tel': '123', 'mail': '', 'pref': True}, \n",
    "            '456': {'nom': 'Ana', 'dir': 'abc', 'tel': '123', 'mail': '', 'pref': False}, \n",
    "            '789': {'nom': 'Maria', 'dir': 'abc', 'tel': '123', 'mail': '', 'pref': True}}\n",
    "\n",
    "def menu():\n",
    "    opc = 0\n",
    "    while (opc != 6):\n",
    "        if opc == 1:\n",
    "            agregar()\n",
    "        if opc == 2:\n",
    "            eliminar()\n",
    "        if opc == 3:\n",
    "            consultar()\n",
    "        if opc == 4:\n",
    "            listar()\n",
    "        if opc == 5:\n",
    "            listar_pref()\n",
    "        if opc != 0:\n",
    "            input()\n",
    "        print()\n",
    "        print('--------MENU---------')\n",
    "        print('1. Agregar cliente')\n",
    "        print('2. Eliminar cliente')\n",
    "        print('3. Consultar cliente')\n",
    "        print('4. Listado clientes')\n",
    "        print('5. Clientes preferentes')\n",
    "        print('6. Salir')\n",
    "        print()\n",
    "        opc = int(input('?- '))\n",
    "\n",
    "def agregar():\n",
    "    dni = input('DNI: ')\n",
    "    datos = {}\n",
    "    datos['nom'] = input('Nombre: ')\n",
    "    datos['dir'] = input('Dirección: ')\n",
    "    datos['tel'] = input('Tel. :')\n",
    "    datos['mail'] = input('Email: ')\n",
    "    datos['pref'] = True if input('Preferente (S/N): ') == 'S' else False\n",
    "    clientes[dni] = datos\n",
    "\n",
    "def eliminar():\n",
    "    dni = input('DNI: ')\n",
    "    if dni in clientes.keys():\n",
    "        clientes.pop(dni)\n",
    "    else:\n",
    "        print('Cliente no encontrado...')\n",
    "\n",
    "def consultar():\n",
    "    dni = input('DNI: ')\n",
    "    if dni in clientes.keys():\n",
    "        print(datos(dni, clientes[dni]))\n",
    "    else:\n",
    "        print('Cliente no encontrado...')\n",
    "\n",
    "def datos(dni, cliente):\n",
    "    return f\"{dni}, {cliente['nom']}, {cliente['dir']}, {cliente['tel']}, {cliente['mail']}, {cliente['pref']}\"\n",
    "\n",
    "def listar_pref():\n",
    "    for elem in clientes.items():\n",
    "        if elem[1]['pref']:\n",
    "            print(datos(elem[0], elem[1]))\n",
    "\n",
    "def listar():\n",
    "    for elem in clientes.items():\n",
    "        print(datos(elem[0], elem[1]))\n",
    "                \n",
    "menu()"
   ]
  },
  {
   "cell_type": "markdown",
   "id": "9538cc3a-eb3e-4bc9-bcb1-fcfbfd325889",
   "metadata": {},
   "source": [
    "El directorio de los clientes de una empresa está organizado en una cadena de texto como la de más abajo, donde cada línea contiene la información del nombre, email, teléfono, DNI, y el descuento que se le aplica. Las líneas se separan con el carácter de cambio de línea \\n y la primera línea contiene los nombres de los campos con la información contenida en el directorio.\n",
    "\"dni;nombre;email;teléfono;descuento\\n01234567L;Luis González;luisgonzalez@mail.com;656343576;12.5\\n71476342J;Macarena Ramírez;macarena@mail.com;692839321;8\\n63823376M;Juan José Martínez;juanjo@mail.com;664888233;5.2\\n98376547F;Carmen Sánchez;carmen@mail.com;667677855;15.7\"\n",
    "\n",
    "Escribir un programa que genere un diccionario con la información del directorio, donde cada elemento corresponda a un cliente y tenga por clave su DNI y por valor otro diccionario con el resto de la información del cliente. Los diccionarios con la información de cada cliente tendrán como claves los nombres de los campos y como valores la información de cada cliente correspondientes a los campos. Es decir, un diccionario como el siguiente\n",
    "\n",
    "{'01234567L': {'nombre': 'Luis González', 'email': 'luisgonzalez@mail.com', 'teléfono': '656343576', 'descuento': 12.5}, '71476342J': {'nombre': 'Macarena Ramírez', 'email': 'macarena@mail.com', 'teléfono': '692839321', 'descuento': 8.0}, '63823376M': {'nombre': 'Juan José Martínez', 'email': 'juanjo@mail.com', 'teléfono': '664888233', 'descuento': 5.2}, '98376547F': {'nombre': 'Carmen Sánchez', 'email': 'carmen@mail.com', 'teléfono': '667677855', 'descuento': 15.7}}"
   ]
  },
  {
   "cell_type": "code",
   "execution_count": 15,
   "id": "599d0a9c-ca81-44ed-9565-807a91389f0b",
   "metadata": {},
   "outputs": [
    {
     "name": "stdout",
     "output_type": "stream",
     "text": [
      "{'01234567L': {'nombre': 'Luis González', 'email': 'luisgonzalez@mail.com', 'telefono': '656343576', 'descuento': 12.5}, '71476342J': {'nombre': 'Macarena Ramírez', 'email': 'macarena@mail.com', 'telefono': '692839321', 'descuento': 8.0}, '63823376M': {'nombre': 'Juan José Martínez', 'email': 'juanjo@mail.com', 'telefono': '664888233', 'descuento': 5.2}, '98376547F': {'nombre': 'Carmen Sánchez', 'email': 'carmen@mail.com', 'telefono': '667677855', 'descuento': 15.7}}\n"
     ]
    }
   ],
   "source": [
    "directorio_clientes = \"dni;nombre;email;teléfono;descuento\\n\" \\\n",
    "\"01234567L;Luis González;luisgonzalez@mail.com;656343576;12.5\\n\" \\\n",
    "\"71476342J;Macarena Ramírez;macarena@mail.com;692839321;8\\n\" \\\n",
    "\"63823376M;Juan José Martínez;juanjo@mail.com;664888233;5.2\\n\" \\\n",
    "\"98376547F;Carmen Sánchez;carmen@mail.com;667677855;15.7\"\n",
    "\n",
    "diccionario_clientes = {}\n",
    "\n",
    "clientes = directorio_clientes.split('\\n')\n",
    "for i in range(1, len(clientes)):\n",
    "    datos = clientes[i].split(';')\n",
    "    diccionario_clientes[datos[0]] = {'nombre': datos[1], 'email': datos[2], 'telefono': datos[3], 'descuento': float(datos[4])}\n",
    "\n",
    "print(diccionario_clientes)"
   ]
  }
 ],
 "metadata": {
  "kernelspec": {
   "display_name": "Python [conda env:base] *",
   "language": "python",
   "name": "conda-base-py"
  },
  "language_info": {
   "codemirror_mode": {
    "name": "ipython",
    "version": 3
   },
   "file_extension": ".py",
   "mimetype": "text/x-python",
   "name": "python",
   "nbconvert_exporter": "python",
   "pygments_lexer": "ipython3",
   "version": "3.12.7"
  }
 },
 "nbformat": 4,
 "nbformat_minor": 5
}
