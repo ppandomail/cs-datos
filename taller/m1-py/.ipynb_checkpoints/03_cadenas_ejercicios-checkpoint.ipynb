{
 "cells": [
  {
   "cell_type": "markdown",
   "id": "2b9b46a6-c0c1-42c3-b25a-e6960fcfc9f8",
   "metadata": {},
   "source": [
    "# Cadenas - Ejercicios\n",
    "---"
   ]
  },
  {
   "cell_type": "markdown",
   "id": "e9deccba-fdf5-4966-9e91-204fd830c8ff",
   "metadata": {},
   "source": [
    "Escribir un programa que pregunte el nombre del usuario en la consola y un número entero e imprima por pantalla en líneas distintas el nombre del usuario tantas veces como el número introducido"
   ]
  },
  {
   "cell_type": "code",
   "execution_count": 2,
   "id": "ba4b8e4a-9062-4919-b68d-2c706f765376",
   "metadata": {},
   "outputs": [
    {
     "name": "stdin",
     "output_type": "stream",
     "text": [
      "Nombre de usuario:  ppando\n",
      "Número:  3\n"
     ]
    },
    {
     "name": "stdout",
     "output_type": "stream",
     "text": [
      "ppando\n",
      "ppando\n",
      "ppando\n"
     ]
    },
    {
     "data": {
      "text/plain": [
       "[None, None, None]"
      ]
     },
     "execution_count": 2,
     "metadata": {},
     "output_type": "execute_result"
    }
   ],
   "source": [
    "nom_usuario = input('Nombre de usuario: ')\n",
    "n = int(input('Número: '))\n",
    "[print(nom_usuario) for i in range(0, n)]"
   ]
  },
  {
   "cell_type": "markdown",
   "id": "a546e3fd-1497-49a3-ba0c-a02dd692f210",
   "metadata": {},
   "source": [
    "Escribir un programa que pregunte el nombre completo del usuario en la consola y después muestre por pantalla el nombre completo del usuario tres veces, una con todas las letras minúsculas, otra con todas las letras mayúsculas y otra solo con la primera letra del nombre y de los apellidos en mayúscula. El usuario puede introducir su nombre combinando mayúsculas y minúsculas como quiera"
   ]
  },
  {
   "cell_type": "code",
   "execution_count": 3,
   "id": "06bcab4a-ab2a-4f13-94ac-988a246558ad",
   "metadata": {},
   "outputs": [
    {
     "name": "stdin",
     "output_type": "stream",
     "text": [
      "Ingrese nombre completo:  Pablo Pandolfo\n"
     ]
    },
    {
     "name": "stdout",
     "output_type": "stream",
     "text": [
      "pablo pandolfo\n",
      "PABLO PANDOLFO\n",
      "Pablo Pandolfo\n"
     ]
    }
   ],
   "source": [
    "nombre = input('Ingrese nombre completo: ')\n",
    "print(nombre.lower(), nombre.upper(), nombre.title(), sep='\\n')"
   ]
  },
  {
   "cell_type": "markdown",
   "id": "dd14ef35-2171-4f1e-98ca-9826c44d3fae",
   "metadata": {},
   "source": [
    "Escribir un programa que pregunte el nombre del usuario en la consola y después de que el usuario lo introduzca muestre por pantalla \\<NOMBRE> tiene \\<n> letras, donde \\<NOMBRE> es el nombre de usuario en mayúsculas y \\<n> es el número de letras que tienen el nombre"
   ]
  },
  {
   "cell_type": "code",
   "execution_count": 4,
   "id": "a73c5130-ef0d-4152-8579-f69ac9cb0581",
   "metadata": {},
   "outputs": [
    {
     "name": "stdin",
     "output_type": "stream",
     "text": [
      "Nombre de usuario:  ppando\n"
     ]
    },
    {
     "name": "stdout",
     "output_type": "stream",
     "text": [
      "PPANDO tiene 6 letras\n"
     ]
    }
   ],
   "source": [
    "nom_usuario = input('Nombre de usuario: ')\n",
    "print(f'{nom_usuario.upper()} tiene {len(nom_usuario)} letras')"
   ]
  },
  {
   "cell_type": "markdown",
   "id": "5263be6a-8c67-497c-9762-642d97e446df",
   "metadata": {},
   "source": [
    "Los teléfonos de una empresa tienen el siguiente formato prefijo-número-extension donde el prefijo es el código del país +54, y la extensión tiene cuatro dígitos (por ejemplo +54-9115847-1056). Escribir un programa que pregunte por un número de teléfono con este formato y muestre por pantalla el número de teléfono sin el prefijo y la extensión"
   ]
  },
  {
   "cell_type": "code",
   "execution_count": 5,
   "id": "3708a368-cdba-4a0c-afcc-cf2ec9efcf9b",
   "metadata": {},
   "outputs": [
    {
     "name": "stdin",
     "output_type": "stream",
     "text": [
      "Número de teléfono (prefijo-número-extensión):  +54-9115847-1056\n"
     ]
    },
    {
     "name": "stdout",
     "output_type": "stream",
     "text": [
      "9115847\n"
     ]
    }
   ],
   "source": [
    "print(input('Número de teléfono (prefijo-número-extensión): ').split('-')[1])"
   ]
  },
  {
   "cell_type": "markdown",
   "id": "0effaefc-5e06-4ba4-bc36-0a7b09d66aef",
   "metadata": {},
   "source": [
    "Escribir un programa que pida al usuario que introduzca una frase en la consola y muestre por pantalla la frase invertida"
   ]
  },
  {
   "cell_type": "code",
   "execution_count": 7,
   "id": "87b22bb8-b38c-442b-941d-6b6ee575ba3c",
   "metadata": {},
   "outputs": [
    {
     "name": "stdin",
     "output_type": "stream",
     "text": [
      "Frase:  Oid mortales, el grito sagrado\n"
     ]
    },
    {
     "name": "stdout",
     "output_type": "stream",
     "text": [
      "odargas otirg le ,selatrom diO\n"
     ]
    }
   ],
   "source": [
    "print(input('Frase: ')[::-1])"
   ]
  },
  {
   "cell_type": "markdown",
   "id": "7796a6f0-de78-4b90-ad63-935b42971fb4",
   "metadata": {},
   "source": [
    "Escribir un programa que pida al usuario que introduzca una frase en la consola y una vocal, y después muestre por pantalla la misma frase, pero con la vocal introducida en mayúscula"
   ]
  },
  {
   "cell_type": "code",
   "execution_count": 8,
   "id": "08ec6aea-142e-4e33-ad2c-cdabe1122fc5",
   "metadata": {},
   "outputs": [
    {
     "name": "stdin",
     "output_type": "stream",
     "text": [
      "Frase:  Oid mortales, el grito sagrado\n",
      "Vocal:  o\n"
     ]
    },
    {
     "name": "stdout",
     "output_type": "stream",
     "text": [
      "Oid mOrtales, el gritO sagradO\n"
     ]
    }
   ],
   "source": [
    "frase = input('Frase: ')\n",
    "vocal = input('Vocal: ')\n",
    "print(frase.replace(vocal, vocal.upper()))"
   ]
  },
  {
   "cell_type": "markdown",
   "id": "c27aa0b2-b2ae-4fe4-a32c-bd4385cac30e",
   "metadata": {},
   "source": [
    "Escribir un programa que pregunte el correo electrónico del usuario en la consola y muestre por pantalla otro correo electrónico con el mismo nombre (la parte delante de la arroba @) pero con dominio argentina.ar"
   ]
  },
  {
   "cell_type": "code",
   "execution_count": 9,
   "id": "e8e90249-46ee-49e3-a28c-069f66d54334",
   "metadata": {},
   "outputs": [
    {
     "name": "stdin",
     "output_type": "stream",
     "text": [
      "Email:  ppandomail@gmail.com\n"
     ]
    },
    {
     "name": "stdout",
     "output_type": "stream",
     "text": [
      "ppandomail@argentina.ar\n"
     ]
    }
   ],
   "source": [
    "print(input('Email: ').split('@')[0] + '@argentina.ar')"
   ]
  },
  {
   "cell_type": "markdown",
   "id": "1ee860e3-a508-42a8-91f8-c43859744243",
   "metadata": {},
   "source": [
    "Escribir un programa que pregunte por consola el precio de un producto en pesos con dos decimales y muestre por pantalla el número de pesos y el número de centavos del precio introducido"
   ]
  },
  {
   "cell_type": "code",
   "execution_count": 11,
   "id": "ddc6511e-a9b7-47af-9e84-db81c5db6649",
   "metadata": {},
   "outputs": [
    {
     "name": "stdin",
     "output_type": "stream",
     "text": [
      "Precio producto: $  100.56\n"
     ]
    },
    {
     "name": "stdout",
     "output_type": "stream",
     "text": [
      "Pesos: 100\n",
      "Centavos: 56\n"
     ]
    }
   ],
   "source": [
    "precio_producto = round(float(input('Precio producto: $ ')), 2)\n",
    "pesos_centavos = str(precio_producto).split('.')\n",
    "print(f'Pesos: {pesos_centavos[0]}')\n",
    "print(f'Centavos: {pesos_centavos[1]}')"
   ]
  },
  {
   "cell_type": "markdown",
   "id": "79056a19-9611-4488-8a73-495b6a636c1a",
   "metadata": {},
   "source": [
    "Escribir un programa que pregunte al usuario la fecha de su nacimiento en formato dd/mm/aaaa y muestra por pantalla, el día, el mes y el año"
   ]
  },
  {
   "cell_type": "code",
   "execution_count": 12,
   "id": "539caf52-832f-4238-b51b-304ab946ffb9",
   "metadata": {},
   "outputs": [
    {
     "name": "stdin",
     "output_type": "stream",
     "text": [
      "Fecha de nacimiento (dd/mm/aaaa):  09/11/1975\n"
     ]
    },
    {
     "name": "stdout",
     "output_type": "stream",
     "text": [
      "Dia: 09\n",
      "Mes: 11\n",
      "Año: 1975\n"
     ]
    }
   ],
   "source": [
    "dia, mes, anio = input('Fecha de nacimiento (dd/mm/aaaa): ').split('/')\n",
    "print(f'Dia: {dia}', f'Mes: {mes}', f'Año: {anio}', sep='\\n')"
   ]
  },
  {
   "cell_type": "markdown",
   "id": "25927d08-9ca3-4f54-811d-96a3b2dca026",
   "metadata": {},
   "source": [
    "Escribir un programa que pregunte por consola por los productos de un carrito de compras, separados por comas, y muestre por pantalla cada uno de los productos en una línea distinta"
   ]
  },
  {
   "cell_type": "code",
   "execution_count": 13,
   "id": "4008b8ca-fef6-4895-b2d2-035bbca4d7c5",
   "metadata": {},
   "outputs": [
    {
     "name": "stdin",
     "output_type": "stream",
     "text": [
      "Productos (separados por ,):  leche,huevos,harina\n"
     ]
    },
    {
     "name": "stdout",
     "output_type": "stream",
     "text": [
      "leche\n",
      "huevos\n",
      "harina\n"
     ]
    },
    {
     "data": {
      "text/plain": [
       "[None, None, None]"
      ]
     },
     "execution_count": 13,
     "metadata": {},
     "output_type": "execute_result"
    }
   ],
   "source": [
    "[print(value.strip()) for value in input('Productos (separados por ,): ' ).split(',')]"
   ]
  },
  {
   "cell_type": "markdown",
   "id": "568d670f-e7f2-4a93-aa94-0afee4d14820",
   "metadata": {},
   "source": [
    "Escribir un programa que pregunte el nombre de un producto, su precio y un número de unidades y muestre por pantalla una cadena con el nombre del producto seguido de su precio unitario con 6 dígitos enteros y 2 decimales, el número de unidades con tres dígitos y el coste total con 8 dígitos enteros y 2 decimales"
   ]
  },
  {
   "cell_type": "code",
   "execution_count": 14,
   "id": "4641f0a1-ab8b-4650-bcd3-e6a2c91e99ad",
   "metadata": {},
   "outputs": [
    {
     "name": "stdin",
     "output_type": "stream",
     "text": [
      "Nombre de producto:  leche\n",
      "Precio de producto: $  1800\n",
      "Cant. de productos:  10\n"
     ]
    },
    {
     "name": "stdout",
     "output_type": "stream",
     "text": [
      "leche 001800.0 010 00018000.0\n"
     ]
    }
   ],
   "source": [
    "prod_nombre = input('Nombre de producto: ')\n",
    "prod_precio = round(float(input('Precio de producto: $ ')), 2)\n",
    "prod_cant = input('Cant. de productos: ')\n",
    "prod_total = round(prod_precio * int(prod_cant), 2)\n",
    "\n",
    "prod_precio = str(prod_precio).split('.')\n",
    "prod_total = str(prod_total).split('.')\n",
    "\n",
    "print(f'{prod_nombre} {prod_precio[0].zfill(6)}.{prod_precio[1]} {prod_cant.zfill(3)} {prod_total[0].zfill(8)}.{prod_total[1]}')"
   ]
  }
 ],
 "metadata": {
  "kernelspec": {
   "display_name": "Python [conda env:base] *",
   "language": "python",
   "name": "conda-base-py"
  },
  "language_info": {
   "codemirror_mode": {
    "name": "ipython",
    "version": 3
   },
   "file_extension": ".py",
   "mimetype": "text/x-python",
   "name": "python",
   "nbconvert_exporter": "python",
   "pygments_lexer": "ipython3",
   "version": "3.12.7"
  }
 },
 "nbformat": 4,
 "nbformat_minor": 5
}
