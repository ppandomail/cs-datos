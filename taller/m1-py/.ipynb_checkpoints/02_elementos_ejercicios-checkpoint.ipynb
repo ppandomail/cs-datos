{
 "cells": [
  {
   "cell_type": "markdown",
   "id": "c21b2143-228c-4c31-a7e9-5779c58ad5ab",
   "metadata": {},
   "source": [
    "# Elementos - Ejercicios\n",
    "---"
   ]
  },
  {
   "cell_type": "markdown",
   "id": "a54fa568-51f5-4a76-92ff-00635856eb9f",
   "metadata": {},
   "source": [
    "Crear 3 variables: una entera, una flotante y una cadena de texto"
   ]
  },
  {
   "cell_type": "code",
   "execution_count": 33,
   "id": "94baf392-4794-43c3-a6e3-6e164935bc9f",
   "metadata": {},
   "outputs": [],
   "source": [
    "variable_entera = 2\n",
    "variable_flotante = 3.14\n",
    "variable_cadena = 'Pablo'"
   ]
  },
  {
   "cell_type": "markdown",
   "id": "daa4dbf2-a395-47e3-9018-fd3711a7378a",
   "metadata": {},
   "source": [
    "Imprimir cada una de las variables en la consola"
   ]
  },
  {
   "cell_type": "code",
   "execution_count": 16,
   "id": "03064db7-9b6c-4311-ace3-83791dbeda95",
   "metadata": {},
   "outputs": [
    {
     "name": "stdout",
     "output_type": "stream",
     "text": [
      "2\n",
      "3.14\n",
      "Pablo\n"
     ]
    }
   ],
   "source": [
    "print(variable_entera)\n",
    "print(variable_flotante)\n",
    "print(variable_cadena)"
   ]
  },
  {
   "cell_type": "markdown",
   "id": "b3051c47-4417-4dd1-8971-e99f21151d1d",
   "metadata": {},
   "source": [
    "Crear una variable booleana y asignarle un valor"
   ]
  },
  {
   "cell_type": "code",
   "execution_count": 17,
   "id": "61d9ce7a-6d97-46d7-b3f0-b9229734fb94",
   "metadata": {},
   "outputs": [],
   "source": [
    "variable_booleana = True"
   ]
  },
  {
   "cell_type": "markdown",
   "id": "25f1e9dd-455c-47cb-b3c6-7dcd05fc1fd4",
   "metadata": {},
   "source": [
    "Imprimir la variable booleana en la consola"
   ]
  },
  {
   "cell_type": "code",
   "execution_count": 18,
   "id": "20cb578a-fbea-4e81-9dae-544c1055a14c",
   "metadata": {},
   "outputs": [
    {
     "data": {
      "text/plain": [
       "True"
      ]
     },
     "execution_count": 18,
     "metadata": {},
     "output_type": "execute_result"
    }
   ],
   "source": [
    "variable_booleana"
   ]
  },
  {
   "cell_type": "markdown",
   "id": "dfd9f779-8254-420f-8435-84ed28ee5354",
   "metadata": {},
   "source": [
    "Crear una variable entera llamada edad y asignarle un valor"
   ]
  },
  {
   "cell_type": "code",
   "execution_count": 19,
   "id": "fb76c4e4-d42f-4dfe-8a6a-d015164aaf86",
   "metadata": {},
   "outputs": [],
   "source": [
    "edad = 35"
   ]
  },
  {
   "cell_type": "markdown",
   "id": "74f0454b-a744-4c9e-87f9-3dfb27765f25",
   "metadata": {},
   "source": [
    "Crear una variable flotante llamada altura y asignarle un valor"
   ]
  },
  {
   "cell_type": "code",
   "execution_count": 20,
   "id": "c64661dd-5c39-4c55-be72-7c89fde02ec0",
   "metadata": {},
   "outputs": [],
   "source": [
    "altura = 1.75"
   ]
  },
  {
   "cell_type": "markdown",
   "id": "f1d40ee0-2204-4610-b262-28f268e66a92",
   "metadata": {},
   "source": [
    "Crear una variable de texto llamada nombre y asignarle un valor"
   ]
  },
  {
   "cell_type": "code",
   "execution_count": 21,
   "id": "a126a13c-4d45-4ef2-94d4-c5bb95ff4c80",
   "metadata": {},
   "outputs": [],
   "source": [
    "nombre = 'Pablo'"
   ]
  },
  {
   "cell_type": "markdown",
   "id": "0d8fea02-ca94-4ced-acfc-39f443abc3fe",
   "metadata": {},
   "source": [
    "Crear una variable booleana llamada soltero y asignarle un valor"
   ]
  },
  {
   "cell_type": "code",
   "execution_count": 22,
   "id": "6504cb6c-6be8-4949-b4e6-e79a124ebdeb",
   "metadata": {},
   "outputs": [],
   "source": [
    "soltero = False"
   ]
  },
  {
   "cell_type": "markdown",
   "id": "fe8c57ed-9e1c-4531-996a-a22100010c04",
   "metadata": {},
   "source": [
    "Imprimir en la consola la edad, la altura, el nombre y el estado civil (soltero o no soltero)"
   ]
  },
  {
   "cell_type": "code",
   "execution_count": 23,
   "id": "5229047a-c69a-4979-bea4-df0f665f3d36",
   "metadata": {},
   "outputs": [
    {
     "name": "stdout",
     "output_type": "stream",
     "text": [
      "Edad: 35\n",
      "Altura: 1.75\n",
      "Nombre: Pablo\n",
      "Estado civil: False\n"
     ]
    }
   ],
   "source": [
    "print('Edad:', edad)\n",
    "print('Altura:', altura)\n",
    "print('Nombre:', nombre)\n",
    "print('Estado civil:', soltero)"
   ]
  },
  {
   "cell_type": "markdown",
   "id": "16b329bb-42eb-4ace-ad40-d85aae0ebffd",
   "metadata": {},
   "source": [
    "Crear una variable llamada todos_datos que sea una lista que contenga la edad, la altura, el nombre y el estado civil"
   ]
  },
  {
   "cell_type": "code",
   "execution_count": 24,
   "id": "d4e37d65-76e6-49cc-be9a-fc3cecf21671",
   "metadata": {},
   "outputs": [],
   "source": [
    "todos_datos = [edad, altura, nombre, soltero]"
   ]
  },
  {
   "cell_type": "code",
   "execution_count": 25,
   "id": "0ac288ae-cb04-4496-a8c4-15e1b4c18e06",
   "metadata": {},
   "outputs": [
    {
     "data": {
      "text/plain": [
       "[35, 1.75, 'Pablo', False]"
      ]
     },
     "execution_count": 25,
     "metadata": {},
     "output_type": "execute_result"
    }
   ],
   "source": [
    "todos_datos"
   ]
  },
  {
   "cell_type": "markdown",
   "id": "d560a720-ca1f-4ead-86d7-8637757afa88",
   "metadata": {},
   "source": [
    "Escribir un programa que muestre por pantalla la cadena Hola Mundo"
   ]
  },
  {
   "cell_type": "code",
   "execution_count": 26,
   "id": "189a6dc3-dac3-4ce6-b1a4-70c4459433a6",
   "metadata": {},
   "outputs": [
    {
     "name": "stdout",
     "output_type": "stream",
     "text": [
      "Hola Mundo\n"
     ]
    }
   ],
   "source": [
    "print('Hola Mundo')"
   ]
  },
  {
   "cell_type": "markdown",
   "id": "8ca2fdec-508c-49c7-824c-9fdb3f14f59e",
   "metadata": {},
   "source": [
    "Escribir un programa que almacene la cadena Hola Mundo en una variable y luego muestre por pantalla el contenido de la variable"
   ]
  },
  {
   "cell_type": "code",
   "execution_count": 27,
   "id": "a93408d2-d593-4a53-b731-b85901b36692",
   "metadata": {},
   "outputs": [
    {
     "name": "stdout",
     "output_type": "stream",
     "text": [
      "Hola Mundo\n"
     ]
    }
   ],
   "source": [
    "variable = 'Hola Mundo'\n",
    "print(variable)"
   ]
  },
  {
   "cell_type": "markdown",
   "id": "e563d740-4a58-46dd-b6c3-1eafc5655106",
   "metadata": {},
   "source": [
    "Escribir un programa que pregunte el nombre del usuario en la consola y después de que el usuario lo introduzca muestre por pantalla la cadena ¡Hola \\<nombre>!, donde \\<nombre> es el nombre que el usuario haya introducido"
   ]
  },
  {
   "cell_type": "code",
   "execution_count": 31,
   "id": "62a5c368-663a-4262-8c69-c3dc13e70e72",
   "metadata": {},
   "outputs": [
    {
     "name": "stdin",
     "output_type": "stream",
     "text": [
      "Username:  pepe\n"
     ]
    },
    {
     "name": "stdout",
     "output_type": "stream",
     "text": [
      "¡Hola pepe!\n"
     ]
    }
   ],
   "source": [
    "print(f'¡Hola {input('Username: ')}!')"
   ]
  },
  {
   "cell_type": "markdown",
   "id": "73d44b18-2c54-4e72-85f9-6dbe2e85f676",
   "metadata": {},
   "source": [
    "Escribir un programa que muestre por pantalla el resultado de la siguiente operación aritmética:(3+2/2*5)^2"
   ]
  },
  {
   "cell_type": "code",
   "execution_count": 32,
   "id": "09e188d0-f172-4c33-9d58-52685866a80d",
   "metadata": {},
   "outputs": [
    {
     "name": "stdout",
     "output_type": "stream",
     "text": [
      "0.25\n"
     ]
    }
   ],
   "source": [
    "print(pow((3+2)/(2*5), 2))"
   ]
  },
  {
   "cell_type": "markdown",
   "id": "b4c9dab4-978a-41d8-850e-a6f48c592bf7",
   "metadata": {},
   "source": [
    "Escribir un programa que pregunte al usuario por el número de horas trabajadas y el coste por hora. Después debe mostrar por pantalla el pago que le corresponde"
   ]
  },
  {
   "cell_type": "code",
   "execution_count": 6,
   "id": "28615829-c9b9-4bce-9d8d-459c982691d8",
   "metadata": {},
   "outputs": [
    {
     "name": "stdin",
     "output_type": "stream",
     "text": [
      "Horas trabajadas:  8\n",
      "Coste por hora:  10\n"
     ]
    },
    {
     "name": "stdout",
     "output_type": "stream",
     "text": [
      "80.0\n"
     ]
    }
   ],
   "source": [
    "print(float(input('Horas trabajadas: ')) * float(input('Coste por hora: ')))"
   ]
  },
  {
   "cell_type": "markdown",
   "id": "a4b0eb10-f53e-4ddd-af9b-638f004b6919",
   "metadata": {},
   "source": [
    "Escribir un programa que lea un entero positivo, n, introducido por el usuario y después muestre en pantalla la suma de todos los enteros desde 1 hasta n. La suma de los n primeros enteros positivos puede ser calculada de la siguiente forma suma = n(n+1)/2"
   ]
  },
  {
   "cell_type": "code",
   "execution_count": 7,
   "id": "bde4116e-3c55-46c1-b354-9c23f8918698",
   "metadata": {},
   "outputs": [
    {
     "name": "stdin",
     "output_type": "stream",
     "text": [
      "n:  10\n"
     ]
    },
    {
     "name": "stdout",
     "output_type": "stream",
     "text": [
      "55.0\n"
     ]
    }
   ],
   "source": [
    "n = int(input('n: '))\n",
    "print(n * (n+1) / 2)"
   ]
  },
  {
   "cell_type": "markdown",
   "id": "44d2799f-3a01-45d4-9923-bc4807cc42a0",
   "metadata": {},
   "source": [
    "Escribir un programa que pida al usuario su peso (en kg) y estatura (en metros), calcule el índice de masa corporal y lo almacene en una variable, y muestre por pantalla la frase: Tu índice de masa corporal es \\<imc> donde \\<imc> es el índice de masa corporal calculado redondeado con dos decimales"
   ]
  },
  {
   "cell_type": "code",
   "execution_count": 8,
   "id": "1f8f178f-5614-40b3-a0d3-f2f1ca000735",
   "metadata": {},
   "outputs": [
    {
     "name": "stdin",
     "output_type": "stream",
     "text": [
      "Peso (en kg):  100\n",
      "Estatura (en metros):  1.65\n"
     ]
    },
    {
     "name": "stdout",
     "output_type": "stream",
     "text": [
      "Tu índice de masa corporal es 36.73\n"
     ]
    }
   ],
   "source": [
    "peso = float(input('Peso (en kg): '))\n",
    "estatura = float(input('Estatura (en metros): '))\n",
    "imc = round(peso / pow(estatura, 2), 2)\n",
    "print(f'Tu índice de masa corporal es {imc}')"
   ]
  },
  {
   "cell_type": "markdown",
   "id": "72be619e-1dfa-4b03-91ac-9b42bf6cafb9",
   "metadata": {},
   "source": [
    "Escribir un programa que pida al usuario dos números enteros y muestre por pantalla la \\<n> entre \\<m> da un cociente \\<c> y un resto \\<r> donde \\<n> y \\<m> son los números introducidos por el usuario, y \\<c> y \\<r> son el cociente y el resto de la división entera respectivamente"
   ]
  },
  {
   "cell_type": "code",
   "execution_count": 9,
   "id": "2a57d594-ca81-4af1-b6fe-b7e9f28fa6cd",
   "metadata": {},
   "outputs": [
    {
     "name": "stdin",
     "output_type": "stream",
     "text": [
      "n:  10\n",
      "m:  5\n"
     ]
    },
    {
     "name": "stdout",
     "output_type": "stream",
     "text": [
      "Cociente: 2.0\n",
      "Resto: 0\n"
     ]
    }
   ],
   "source": [
    "n = int(input('n: '))\n",
    "m = int(input('m: '))\n",
    "print(f'Cociente: {n/m}')\n",
    "print(f'Resto: {n%m}')"
   ]
  },
  {
   "cell_type": "markdown",
   "id": "d2b9c633-fe81-4f05-9f6b-d8f88b484f24",
   "metadata": {},
   "source": [
    "Escribir un programa que pregunte al usuario una cantidad a invertir, el interés anual y el número de años, y muestre por pantalla el capital obtenido en la inversión"
   ]
  },
  {
   "cell_type": "code",
   "execution_count": 10,
   "id": "326f41ef-86e0-4ee3-ba88-bbe5d30f7eb5",
   "metadata": {},
   "outputs": [
    {
     "name": "stdin",
     "output_type": "stream",
     "text": [
      "Cantidad a Invertir:  1000\n",
      "Interés anual:  15\n",
      "Número de años:  2\n"
     ]
    },
    {
     "name": "stdout",
     "output_type": "stream",
     "text": [
      "256000.0\n"
     ]
    }
   ],
   "source": [
    "cant_invertir = float(input('Cantidad a Invertir: '))\n",
    "interes_anual = float(input('Interés anual: '))\n",
    "num_años = int(input('Número de años: '))\n",
    "print(cant_invertir * pow(1 + interes_anual, num_años))"
   ]
  },
  {
   "cell_type": "markdown",
   "id": "f53c4d7f-c7c7-434e-8305-73cd99c52dbf",
   "metadata": {},
   "source": [
    "Una juguetería tiene mucho éxito en dos de sus productos: autos y muñecas. Suele hacer venta por correo y la empresa de logística les cobra por peso de cada paquete así que se debe calcular el peso de los autos y muñecas que saldrán en cada paquete a demanda. Cada auto pesa 112 g y cada muñeca 75 g. Escribir un programa que lea el número de autos y muñecas vendidos en el último pedido y calcule el peso total del paquete que será enviado"
   ]
  },
  {
   "cell_type": "code",
   "execution_count": 11,
   "id": "a04f675c-7897-46c5-9cdc-be8d83f61fb2",
   "metadata": {},
   "outputs": [
    {
     "name": "stdin",
     "output_type": "stream",
     "text": [
      "Cantidad de autos:  10\n",
      "Cantidad de muñecas:  5\n"
     ]
    },
    {
     "name": "stdout",
     "output_type": "stream",
     "text": [
      "1495\n"
     ]
    }
   ],
   "source": [
    "cant_autos = int(input('Cantidad de autos: '))\n",
    "cant_muñecas = int(input('Cantidad de muñecas: '))\n",
    "peso_auto = 112\n",
    "peso_muñeca = 75\n",
    "peso_total = cant_autos * peso_auto + cant_muñecas * peso_muñeca\n",
    "print(peso_total)"
   ]
  },
  {
   "cell_type": "markdown",
   "id": "ba207d5c-adc3-4217-8ff3-df5ca506b8ce",
   "metadata": {},
   "source": [
    "Imagina que acabas de abrir una nueva caja de ahorros en USD que te ofrece el 4% de interés al año. Estos ahorros debido a intereses, que no se cobran hasta finales de año, se te añaden al balance final de tu caja de ahorros. Escribir un programa que comience leyendo la cantidad de dinero depositada en la cuenta de ahorros, introducida por el usuario. Después el programa debe calcular y mostrar por pantalla la cantidad de ahorros tras el primer, segundo y tercer años. Redondear cada cantidad a dos decimales"
   ]
  },
  {
   "cell_type": "code",
   "execution_count": 12,
   "id": "685fb9ee-3eb1-463e-b7e0-779e194cb959",
   "metadata": {},
   "outputs": [
    {
     "name": "stdin",
     "output_type": "stream",
     "text": [
      "Cant. dinero depositada en caja de ahorro en U$S:  1000\n"
     ]
    },
    {
     "name": "stdout",
     "output_type": "stream",
     "text": [
      "Ahorro 1er año = 1040.0\n",
      "Ahorro 2do año = 1081.6\n",
      "Ahorro 3er año = 1124.86\n"
     ]
    }
   ],
   "source": [
    "dinero = float(input('Cant. dinero depositada en caja de ahorro en U$S: '))\n",
    "primer_año  = round(dinero + dinero * 4 / 100, 2)\n",
    "segundo_año = round(primer_año + primer_año * 4 / 100, 2)\n",
    "tercer_año  = round(segundo_año + segundo_año * 4 / 100, 2)\n",
    "print(f'Ahorro 1er año = {primer_año}')  \n",
    "print(f'Ahorro 2do año = {segundo_año}')  \n",
    "print(f'Ahorro 3er año = {tercer_año}')"
   ]
  },
  {
   "cell_type": "markdown",
   "id": "67e18b7e-269d-446c-99f2-e10da8a63caf",
   "metadata": {},
   "source": [
    "Una panadería vende bolsas de pan a ARS 2000 cada una. El pan que no es el día tiene un descuento del 60%. Escribir un programa que comience leyendo el número de bolsas vendidas que no son del día. Después el programa debe mostrar el precio\n",
    "habitual de una bolsa de pan, el descuento que se le hace por no ser fresca y el coste final total"
   ]
  },
  {
   "cell_type": "code",
   "execution_count": 13,
   "id": "bd305f6e-85dd-428d-a935-72e30258c507",
   "metadata": {},
   "outputs": [
    {
     "name": "stdin",
     "output_type": "stream",
     "text": [
      "Cant de bolsas vendidas que no son del día:  1000\n"
     ]
    },
    {
     "name": "stdout",
     "output_type": "stream",
     "text": [
      "Precio bolsa de pan: $ 2000\n",
      "Descuento por no ser fresca: 60%\n",
      "Costo total: $ 1200000.0\n"
     ]
    }
   ],
   "source": [
    "bolsas_vendidad_no_dia = int(input('Cant de bolsas vendidas que no son del día: '))\n",
    "precio_bolsa_pan = 2000\n",
    "print(f'Precio bolsa de pan: $ {precio_bolsa_pan}')\n",
    "print('Descuento por no ser fresca: 60%')\n",
    "print(f'Costo total: $ {bolsas_vendidad_no_dia * precio_bolsa_pan * 60 / 100}')"
   ]
  }
 ],
 "metadata": {
  "kernelspec": {
   "display_name": "Python [conda env:base] *",
   "language": "python",
   "name": "conda-base-py"
  },
  "language_info": {
   "codemirror_mode": {
    "name": "ipython",
    "version": 3
   },
   "file_extension": ".py",
   "mimetype": "text/x-python",
   "name": "python",
   "nbconvert_exporter": "python",
   "pygments_lexer": "ipython3",
   "version": "3.12.7"
  }
 },
 "nbformat": 4,
 "nbformat_minor": 5
}
